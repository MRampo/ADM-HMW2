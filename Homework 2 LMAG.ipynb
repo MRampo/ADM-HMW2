{
 "cells": [
  {
   "cell_type": "code",
   "execution_count": 2,
   "id": "b4eed3ae",
   "metadata": {},
   "outputs": [],
   "source": [
    "import pandas as pd\n",
    "import numpy as np\n",
    "import matplotlib.pyplot as plt\n",
    "import seaborn as sns\n",
    "from tqdm import tqdm\n",
    "from pandas_profiling import ProfileReport\n",
    "import seaborn as sns\n",
    "import math"
   ]
  },
  {
   "cell_type": "code",
   "execution_count": 2,
   "id": "1f41ec1a-07b6-4654-9755-14791dc9cb7a",
   "metadata": {},
   "outputs": [
    {
     "name": "stdout",
     "output_type": "stream",
     "text": [
      "Collecting pandas-profiling\n",
      "  Downloading pandas_profiling-3.3.0-py2.py3-none-any.whl (268 kB)\n",
      "Requirement already satisfied: pandas!=1.4.0,<1.5,>1.1 in c:\\users\\matteo\\anaconda3\\lib\\site-packages (from pandas-profiling) (1.4.2)\n",
      "Requirement already satisfied: joblib~=1.1.0 in c:\\users\\matteo\\anaconda3\\lib\\site-packages (from pandas-profiling) (1.1.0)\n",
      "Collecting htmlmin==0.1.12\n",
      "  Downloading htmlmin-0.1.12.tar.gz (19 kB)\n",
      "Requirement already satisfied: tqdm<4.65,>=4.48.2 in c:\\users\\matteo\\anaconda3\\lib\\site-packages (from pandas-profiling) (4.64.0)\n",
      "Requirement already satisfied: matplotlib<3.6,>=3.2 in c:\\users\\matteo\\anaconda3\\lib\\site-packages (from pandas-profiling) (3.5.1)\n",
      "Requirement already satisfied: scipy<1.10,>=1.4.1 in c:\\users\\matteo\\anaconda3\\lib\\site-packages (from pandas-profiling) (1.7.3)\n",
      "Requirement already satisfied: requests<2.29,>=2.24.0 in c:\\users\\matteo\\anaconda3\\lib\\site-packages (from pandas-profiling) (2.27.1)\n",
      "Requirement already satisfied: statsmodels<0.14,>=0.13.2 in c:\\users\\matteo\\anaconda3\\lib\\site-packages (from pandas-profiling) (0.13.2)\n",
      "Collecting phik<0.13,>=0.11.1\n",
      "  Downloading phik-0.12.2-cp39-cp39-win_amd64.whl (685 kB)\n",
      "Requirement already satisfied: jinja2<3.2,>=2.11.1 in c:\\users\\matteo\\anaconda3\\lib\\site-packages (from pandas-profiling) (2.11.3)\n",
      "Collecting pydantic<1.10,>=1.8.1\n",
      "  Downloading pydantic-1.9.2-cp39-cp39-win_amd64.whl (2.0 MB)\n",
      "Collecting missingno<0.6,>=0.4.2\n",
      "  Downloading missingno-0.5.1-py3-none-any.whl (8.7 kB)\n",
      "Requirement already satisfied: numpy<1.24,>=1.16.0 in c:\\users\\matteo\\anaconda3\\lib\\site-packages (from pandas-profiling) (1.21.5)\n",
      "Collecting tangled-up-in-unicode==0.2.0\n",
      "  Downloading tangled_up_in_unicode-0.2.0-py3-none-any.whl (4.7 MB)\n",
      "Collecting visions[type_image_path]==0.7.5\n",
      "  Downloading visions-0.7.5-py3-none-any.whl (102 kB)\n",
      "Requirement already satisfied: PyYAML<6.1,>=5.0.0 in c:\\users\\matteo\\anaconda3\\lib\\site-packages (from pandas-profiling) (6.0)\n",
      "Requirement already satisfied: seaborn<0.12,>=0.10.1 in c:\\users\\matteo\\anaconda3\\lib\\site-packages (from pandas-profiling) (0.11.2)\n",
      "Collecting multimethod<1.9,>=1.4\n",
      "  Downloading multimethod-1.8-py3-none-any.whl (9.8 kB)\n",
      "Requirement already satisfied: networkx>=2.4 in c:\\users\\matteo\\anaconda3\\lib\\site-packages (from visions[type_image_path]==0.7.5->pandas-profiling) (2.7.1)\n",
      "Requirement already satisfied: attrs>=19.3.0 in c:\\users\\matteo\\anaconda3\\lib\\site-packages (from visions[type_image_path]==0.7.5->pandas-profiling) (21.4.0)\n",
      "Collecting imagehash\n",
      "  Downloading ImageHash-4.3.1-py2.py3-none-any.whl (296 kB)\n",
      "Requirement already satisfied: Pillow in c:\\users\\matteo\\anaconda3\\lib\\site-packages (from visions[type_image_path]==0.7.5->pandas-profiling) (9.0.1)\n",
      "Requirement already satisfied: MarkupSafe>=0.23 in c:\\users\\matteo\\anaconda3\\lib\\site-packages (from jinja2<3.2,>=2.11.1->pandas-profiling) (2.0.1)\n",
      "Requirement already satisfied: packaging>=20.0 in c:\\users\\matteo\\anaconda3\\lib\\site-packages (from matplotlib<3.6,>=3.2->pandas-profiling) (21.3)\n",
      "Requirement already satisfied: fonttools>=4.22.0 in c:\\users\\matteo\\anaconda3\\lib\\site-packages (from matplotlib<3.6,>=3.2->pandas-profiling) (4.25.0)\n",
      "Requirement already satisfied: python-dateutil>=2.7 in c:\\users\\matteo\\anaconda3\\lib\\site-packages (from matplotlib<3.6,>=3.2->pandas-profiling) (2.8.2)\n",
      "Requirement already satisfied: pyparsing>=2.2.1 in c:\\users\\matteo\\anaconda3\\lib\\site-packages (from matplotlib<3.6,>=3.2->pandas-profiling) (3.0.4)\n",
      "Requirement already satisfied: cycler>=0.10 in c:\\users\\matteo\\anaconda3\\lib\\site-packages (from matplotlib<3.6,>=3.2->pandas-profiling) (0.11.0)\n",
      "Requirement already satisfied: kiwisolver>=1.0.1 in c:\\users\\matteo\\anaconda3\\lib\\site-packages (from matplotlib<3.6,>=3.2->pandas-profiling) (1.3.2)\n",
      "Requirement already satisfied: pytz>=2020.1 in c:\\users\\matteo\\anaconda3\\lib\\site-packages (from pandas!=1.4.0,<1.5,>1.1->pandas-profiling) (2021.3)\n",
      "Requirement already satisfied: typing-extensions>=3.7.4.3 in c:\\users\\matteo\\anaconda3\\lib\\site-packages (from pydantic<1.10,>=1.8.1->pandas-profiling) (4.1.1)\n",
      "Requirement already satisfied: six>=1.5 in c:\\users\\matteo\\anaconda3\\lib\\site-packages (from python-dateutil>=2.7->matplotlib<3.6,>=3.2->pandas-profiling) (1.16.0)\n",
      "Requirement already satisfied: urllib3<1.27,>=1.21.1 in c:\\users\\matteo\\anaconda3\\lib\\site-packages (from requests<2.29,>=2.24.0->pandas-profiling) (1.26.9)\n",
      "Requirement already satisfied: certifi>=2017.4.17 in c:\\users\\matteo\\anaconda3\\lib\\site-packages (from requests<2.29,>=2.24.0->pandas-profiling) (2021.10.8)\n",
      "Requirement already satisfied: charset-normalizer~=2.0.0 in c:\\users\\matteo\\anaconda3\\lib\\site-packages (from requests<2.29,>=2.24.0->pandas-profiling) (2.0.4)\n",
      "Requirement already satisfied: idna<4,>=2.5 in c:\\users\\matteo\\anaconda3\\lib\\site-packages (from requests<2.29,>=2.24.0->pandas-profiling) (3.3)\n",
      "Requirement already satisfied: patsy>=0.5.2 in c:\\users\\matteo\\anaconda3\\lib\\site-packages (from statsmodels<0.14,>=0.13.2->pandas-profiling) (0.5.2)\n",
      "Requirement already satisfied: colorama in c:\\users\\matteo\\anaconda3\\lib\\site-packages (from tqdm<4.65,>=4.48.2->pandas-profiling) (0.4.4)\n",
      "Requirement already satisfied: PyWavelets in c:\\users\\matteo\\anaconda3\\lib\\site-packages (from imagehash->visions[type_image_path]==0.7.5->pandas-profiling) (1.3.0)\n",
      "Building wheels for collected packages: htmlmin\n",
      "  Building wheel for htmlmin (setup.py): started\n",
      "  Building wheel for htmlmin (setup.py): finished with status 'done'\n",
      "  Created wheel for htmlmin: filename=htmlmin-0.1.12-py3-none-any.whl size=27096 sha256=95eb471a1130d72d528b5b2e3f1e39b6b0d2469aca7b14ab93b46f337ebcd79e\n",
      "  Stored in directory: c:\\users\\matteo\\appdata\\local\\pip\\cache\\wheels\\1d\\05\\04\\c6d7d3b66539d9e659ac6dfe81e2d0fd4c1a8316cc5a403300\n",
      "Successfully built htmlmin\n",
      "Installing collected packages: tangled-up-in-unicode, multimethod, visions, imagehash, pydantic, phik, missingno, htmlmin, pandas-profiling\n",
      "Successfully installed htmlmin-0.1.12 imagehash-4.3.1 missingno-0.5.1 multimethod-1.8 pandas-profiling-3.3.0 phik-0.12.2 pydantic-1.9.2 tangled-up-in-unicode-0.2.0 visions-0.7.5\n",
      "Note: you may need to restart the kernel to use updated packages.\n"
     ]
    }
   ],
   "source": [
    "#pip install pandas-profiling"
   ]
  },
  {
   "cell_type": "code",
   "execution_count": 5,
   "id": "b2da1725-5818-4b62-b2d2-898d3be83295",
   "metadata": {},
   "outputs": [],
   "source": [
    "posts=pd.read_csv('https://adm2022.s3.amazonaws.com/instagram_posts.zip', sep='\\t')"
   ]
  },
  {
   "cell_type": "code",
   "execution_count": 3,
   "id": "0a8873bb-91cb-40a5-a136-4a0cd584b120",
   "metadata": {
    "tags": []
   },
   "outputs": [],
   "source": [
    "profiles = pd.read_csv('https://adm2022.s3.amazonaws.com/instagram_profiles.zip', sep='\\t',compression='zip', header=0, quotechar='\"')"
   ]
  },
  {
   "cell_type": "code",
   "execution_count": null,
   "id": "1caa34b1-71c0-4b60-a2af-e4aee7cb729a",
   "metadata": {},
   "outputs": [],
   "source": [
    "locations= profiles = pd.read_csv('https://adm2022.s3.amazonaws.com/instagram_locations.zip', sep='\\t')"
   ]
  },
  {
   "cell_type": "markdown",
   "id": "8d0085fc",
   "metadata": {
    "jp-MarkdownHeadingCollapsed": true,
    "tags": []
   },
   "source": [
    "# [RQ1] After collecting information, the Data Scientists have to know what dataset they are dealing with, so let's start with an Exploratory Data Analysis (EDA). What can you say about our datasets? Please summarise its main characteristics with visual and tabular methods."
   ]
  },
  {
   "cell_type": "code",
   "execution_count": null,
   "id": "7808b302",
   "metadata": {},
   "outputs": [],
   "source": [
    "profiles=pd.read_csv('/Users/the_redd_/Desktop/ADM/instagram_profiles.csv', sep='\\t')"
   ]
  },
  {
   "cell_type": "code",
   "execution_count": null,
   "id": "2cef04ba-10e7-4729-ab89-84f8f8029402",
   "metadata": {
    "tags": []
   },
   "outputs": [
    {
     "data": {
      "text/html": [
       "<div>\n",
       "<style scoped>\n",
       "    .dataframe tbody tr th:only-of-type {\n",
       "        vertical-align: middle;\n",
       "    }\n",
       "\n",
       "    .dataframe tbody tr th {\n",
       "        vertical-align: top;\n",
       "    }\n",
       "\n",
       "    .dataframe thead th {\n",
       "        text-align: right;\n",
       "    }\n",
       "</style>\n",
       "<table border=\"1\" class=\"dataframe\">\n",
       "  <thead>\n",
       "    <tr style=\"text-align: right;\">\n",
       "      <th></th>\n",
       "      <th>sid</th>\n",
       "      <th>profile_id</th>\n",
       "      <th>profile_name</th>\n",
       "      <th>firstname_lastname</th>\n",
       "      <th>description</th>\n",
       "      <th>following</th>\n",
       "      <th>followers</th>\n",
       "      <th>n_posts</th>\n",
       "      <th>url</th>\n",
       "      <th>cts</th>\n",
       "      <th>is_business_account</th>\n",
       "    </tr>\n",
       "  </thead>\n",
       "  <tbody>\n",
       "    <tr>\n",
       "      <th>count</th>\n",
       "      <td>4.509586e+06</td>\n",
       "      <td>4.477139e+06</td>\n",
       "      <td>4509586</td>\n",
       "      <td>4221121</td>\n",
       "      <td>2453590</td>\n",
       "      <td>3.452771e+06</td>\n",
       "      <td>3.452771e+06</td>\n",
       "      <td>3.452771e+06</td>\n",
       "      <td>870274</td>\n",
       "      <td>4071098</td>\n",
       "      <td>3445323</td>\n",
       "    </tr>\n",
       "    <tr>\n",
       "      <th>unique</th>\n",
       "      <td>NaN</td>\n",
       "      <td>NaN</td>\n",
       "      <td>4508180</td>\n",
       "      <td>3526944</td>\n",
       "      <td>2376474</td>\n",
       "      <td>NaN</td>\n",
       "      <td>NaN</td>\n",
       "      <td>NaN</td>\n",
       "      <td>841652</td>\n",
       "      <td>4062921</td>\n",
       "      <td>2</td>\n",
       "    </tr>\n",
       "    <tr>\n",
       "      <th>top</th>\n",
       "      <td>NaN</td>\n",
       "      <td>NaN</td>\n",
       "      <td>chkanyc</td>\n",
       "      <td>Sarah</td>\n",
       "      <td>🖤</td>\n",
       "      <td>NaN</td>\n",
       "      <td>NaN</td>\n",
       "      <td>NaN</td>\n",
       "      <td>gmail.com</td>\n",
       "      <td>2019-07-01 02:26:35.268 -0400</td>\n",
       "      <td>False</td>\n",
       "    </tr>\n",
       "    <tr>\n",
       "      <th>freq</th>\n",
       "      <td>NaN</td>\n",
       "      <td>NaN</td>\n",
       "      <td>4</td>\n",
       "      <td>2340</td>\n",
       "      <td>868</td>\n",
       "      <td>NaN</td>\n",
       "      <td>NaN</td>\n",
       "      <td>NaN</td>\n",
       "      <td>3437</td>\n",
       "      <td>6</td>\n",
       "      <td>2590069</td>\n",
       "    </tr>\n",
       "    <tr>\n",
       "      <th>mean</th>\n",
       "      <td>2.255992e+06</td>\n",
       "      <td>3.083302e+09</td>\n",
       "      <td>NaN</td>\n",
       "      <td>NaN</td>\n",
       "      <td>NaN</td>\n",
       "      <td>1.405641e+03</td>\n",
       "      <td>4.739899e+03</td>\n",
       "      <td>4.095414e+02</td>\n",
       "      <td>NaN</td>\n",
       "      <td>NaN</td>\n",
       "      <td>NaN</td>\n",
       "    </tr>\n",
       "    <tr>\n",
       "      <th>std</th>\n",
       "      <td>1.301807e+06</td>\n",
       "      <td>4.266575e+10</td>\n",
       "      <td>NaN</td>\n",
       "      <td>NaN</td>\n",
       "      <td>NaN</td>\n",
       "      <td>8.113473e+03</td>\n",
       "      <td>1.939087e+05</td>\n",
       "      <td>1.041940e+03</td>\n",
       "      <td>NaN</td>\n",
       "      <td>NaN</td>\n",
       "      <td>NaN</td>\n",
       "    </tr>\n",
       "    <tr>\n",
       "      <th>min</th>\n",
       "      <td>1.186000e+03</td>\n",
       "      <td>4.000000e+00</td>\n",
       "      <td>NaN</td>\n",
       "      <td>NaN</td>\n",
       "      <td>NaN</td>\n",
       "      <td>0.000000e+00</td>\n",
       "      <td>0.000000e+00</td>\n",
       "      <td>0.000000e+00</td>\n",
       "      <td>NaN</td>\n",
       "      <td>NaN</td>\n",
       "      <td>NaN</td>\n",
       "    </tr>\n",
       "    <tr>\n",
       "      <th>25%</th>\n",
       "      <td>1.128596e+06</td>\n",
       "      <td>2.735177e+08</td>\n",
       "      <td>NaN</td>\n",
       "      <td>NaN</td>\n",
       "      <td>NaN</td>\n",
       "      <td>3.560000e+02</td>\n",
       "      <td>1.590000e+02</td>\n",
       "      <td>2.200000e+01</td>\n",
       "      <td>NaN</td>\n",
       "      <td>NaN</td>\n",
       "      <td>NaN</td>\n",
       "    </tr>\n",
       "    <tr>\n",
       "      <th>50%</th>\n",
       "      <td>2.255992e+06</td>\n",
       "      <td>1.649248e+09</td>\n",
       "      <td>NaN</td>\n",
       "      <td>NaN</td>\n",
       "      <td>NaN</td>\n",
       "      <td>7.540000e+02</td>\n",
       "      <td>4.060000e+02</td>\n",
       "      <td>1.200000e+02</td>\n",
       "      <td>NaN</td>\n",
       "      <td>NaN</td>\n",
       "      <td>NaN</td>\n",
       "    </tr>\n",
       "    <tr>\n",
       "      <th>75%</th>\n",
       "      <td>3.383389e+06</td>\n",
       "      <td>5.514691e+09</td>\n",
       "      <td>NaN</td>\n",
       "      <td>NaN</td>\n",
       "      <td>NaN</td>\n",
       "      <td>1.573000e+03</td>\n",
       "      <td>9.740000e+02</td>\n",
       "      <td>4.200000e+02</td>\n",
       "      <td>NaN</td>\n",
       "      <td>NaN</td>\n",
       "      <td>NaN</td>\n",
       "    </tr>\n",
       "    <tr>\n",
       "      <th>max</th>\n",
       "      <td>4.510785e+06</td>\n",
       "      <td>9.001013e+13</td>\n",
       "      <td>NaN</td>\n",
       "      <td>NaN</td>\n",
       "      <td>NaN</td>\n",
       "      <td>4.191080e+06</td>\n",
       "      <td>2.854576e+08</td>\n",
       "      <td>1.837300e+05</td>\n",
       "      <td>NaN</td>\n",
       "      <td>NaN</td>\n",
       "      <td>NaN</td>\n",
       "    </tr>\n",
       "  </tbody>\n",
       "</table>\n",
       "</div>"
      ],
      "text/plain": [
       "                 sid    profile_id profile_name firstname_lastname  \\\n",
       "count   4.509586e+06  4.477139e+06      4509586            4221121   \n",
       "unique           NaN           NaN      4508180            3526944   \n",
       "top              NaN           NaN      chkanyc              Sarah   \n",
       "freq             NaN           NaN            4               2340   \n",
       "mean    2.255992e+06  3.083302e+09          NaN                NaN   \n",
       "std     1.301807e+06  4.266575e+10          NaN                NaN   \n",
       "min     1.186000e+03  4.000000e+00          NaN                NaN   \n",
       "25%     1.128596e+06  2.735177e+08          NaN                NaN   \n",
       "50%     2.255992e+06  1.649248e+09          NaN                NaN   \n",
       "75%     3.383389e+06  5.514691e+09          NaN                NaN   \n",
       "max     4.510785e+06  9.001013e+13          NaN                NaN   \n",
       "\n",
       "       description     following     followers       n_posts        url  \\\n",
       "count      2453590  3.452771e+06  3.452771e+06  3.452771e+06     870274   \n",
       "unique     2376474           NaN           NaN           NaN     841652   \n",
       "top              🖤           NaN           NaN           NaN  gmail.com   \n",
       "freq           868           NaN           NaN           NaN       3437   \n",
       "mean           NaN  1.405641e+03  4.739899e+03  4.095414e+02        NaN   \n",
       "std            NaN  8.113473e+03  1.939087e+05  1.041940e+03        NaN   \n",
       "min            NaN  0.000000e+00  0.000000e+00  0.000000e+00        NaN   \n",
       "25%            NaN  3.560000e+02  1.590000e+02  2.200000e+01        NaN   \n",
       "50%            NaN  7.540000e+02  4.060000e+02  1.200000e+02        NaN   \n",
       "75%            NaN  1.573000e+03  9.740000e+02  4.200000e+02        NaN   \n",
       "max            NaN  4.191080e+06  2.854576e+08  1.837300e+05        NaN   \n",
       "\n",
       "                                  cts is_business_account  \n",
       "count                         4071098             3445323  \n",
       "unique                        4062921                   2  \n",
       "top     2019-07-01 02:26:35.268 -0400               False  \n",
       "freq                                6             2590069  \n",
       "mean                              NaN                 NaN  \n",
       "std                               NaN                 NaN  \n",
       "min                               NaN                 NaN  \n",
       "25%                               NaN                 NaN  \n",
       "50%                               NaN                 NaN  \n",
       "75%                               NaN                 NaN  \n",
       "max                               NaN                 NaN  "
      ]
     },
     "execution_count": 260,
     "metadata": {},
     "output_type": "execute_result"
    }
   ],
   "source": [
    "#profiles.dropna(inplace=True)\n",
    "profiles.describe(include='all')"
   ]
  },
  {
   "cell_type": "code",
   "execution_count": null,
   "id": "399b9696-2eb6-4224-9f36-7da25e8b5d99",
   "metadata": {},
   "outputs": [
    {
     "data": {
      "text/plain": [
       "0"
      ]
     },
     "execution_count": 261,
     "metadata": {},
     "output_type": "execute_result"
    }
   ],
   "source": [
    "#Find the duplicates\n",
    "profiles.duplicated().sum()"
   ]
  },
  {
   "cell_type": "code",
   "execution_count": null,
   "id": "7fb3b453-32f2-41a4-91a2-0004fbc5ef2f",
   "metadata": {},
   "outputs": [
    {
     "data": {
      "text/html": [
       "<div>\n",
       "<style scoped>\n",
       "    .dataframe tbody tr th:only-of-type {\n",
       "        vertical-align: middle;\n",
       "    }\n",
       "\n",
       "    .dataframe tbody tr th {\n",
       "        vertical-align: top;\n",
       "    }\n",
       "\n",
       "    .dataframe thead th {\n",
       "        text-align: right;\n",
       "    }\n",
       "</style>\n",
       "<table border=\"1\" class=\"dataframe\">\n",
       "  <thead>\n",
       "    <tr style=\"text-align: right;\">\n",
       "      <th></th>\n",
       "      <th>sid</th>\n",
       "      <th>profile_id</th>\n",
       "      <th>profile_name</th>\n",
       "      <th>firstname_lastname</th>\n",
       "      <th>description</th>\n",
       "      <th>following</th>\n",
       "      <th>followers</th>\n",
       "      <th>n_posts</th>\n",
       "      <th>url</th>\n",
       "      <th>cts</th>\n",
       "      <th>is_business_account</th>\n",
       "    </tr>\n",
       "  </thead>\n",
       "  <tbody>\n",
       "    <tr>\n",
       "      <th>0</th>\n",
       "      <td>4184446</td>\n",
       "      <td>4.721050e+09</td>\n",
       "      <td>jphillip033</td>\n",
       "      <td>John Pierce</td>\n",
       "      <td>\"Document Everything Always\"</td>\n",
       "      <td>250.0</td>\n",
       "      <td>146.0</td>\n",
       "      <td>170.0</td>\n",
       "      <td>NaN</td>\n",
       "      <td>2019-08-01 14:38:55.394 -0400</td>\n",
       "      <td>False</td>\n",
       "    </tr>\n",
       "    <tr>\n",
       "      <th>1</th>\n",
       "      <td>4184457</td>\n",
       "      <td>5.905830e+08</td>\n",
       "      <td>mama_haas</td>\n",
       "      <td>Deanna</td>\n",
       "      <td>Trying to enjoy the simple things in life. Kni...</td>\n",
       "      <td>534.0</td>\n",
       "      <td>1145.0</td>\n",
       "      <td>2878.0</td>\n",
       "      <td>www.etsy.com/shop/MamaHaas69</td>\n",
       "      <td>2019-08-01 14:39:36.526 -0400</td>\n",
       "      <td>False</td>\n",
       "    </tr>\n",
       "    <tr>\n",
       "      <th>2</th>\n",
       "      <td>4184460</td>\n",
       "      <td>1.074147e+09</td>\n",
       "      <td>yellowlightbreen</td>\n",
       "      <td>Eliza Gray</td>\n",
       "      <td>Maine is for Lovers</td>\n",
       "      <td>469.0</td>\n",
       "      <td>324.0</td>\n",
       "      <td>431.0</td>\n",
       "      <td>elizajanegray.com</td>\n",
       "      <td>2019-08-01 14:39:54.407 -0400</td>\n",
       "      <td>False</td>\n",
       "    </tr>\n",
       "    <tr>\n",
       "      <th>3</th>\n",
       "      <td>4184461</td>\n",
       "      <td>1.472039e+09</td>\n",
       "      <td>tec1025</td>\n",
       "      <td>Thomas Clark</td>\n",
       "      <td>NaN</td>\n",
       "      <td>NaN</td>\n",
       "      <td>NaN</td>\n",
       "      <td>NaN</td>\n",
       "      <td>NaN</td>\n",
       "      <td>2019-08-01 14:40:06.472 -0400</td>\n",
       "      <td>NaN</td>\n",
       "    </tr>\n",
       "    <tr>\n",
       "      <th>4</th>\n",
       "      <td>4184462</td>\n",
       "      <td>3.531421e+09</td>\n",
       "      <td>luckyfluff</td>\n",
       "      <td>NaN</td>\n",
       "      <td>NaN</td>\n",
       "      <td>NaN</td>\n",
       "      <td>NaN</td>\n",
       "      <td>NaN</td>\n",
       "      <td>NaN</td>\n",
       "      <td>2019-08-01 14:40:07.806 -0400</td>\n",
       "      <td>NaN</td>\n",
       "    </tr>\n",
       "    <tr>\n",
       "      <th>...</th>\n",
       "      <td>...</td>\n",
       "      <td>...</td>\n",
       "      <td>...</td>\n",
       "      <td>...</td>\n",
       "      <td>...</td>\n",
       "      <td>...</td>\n",
       "      <td>...</td>\n",
       "      <td>...</td>\n",
       "      <td>...</td>\n",
       "      <td>...</td>\n",
       "      <td>...</td>\n",
       "    </tr>\n",
       "    <tr>\n",
       "      <th>4509581</th>\n",
       "      <td>4184467</td>\n",
       "      <td>1.418322e+09</td>\n",
       "      <td>karenarkesteyn</td>\n",
       "      <td>Karen Arkesteyn</td>\n",
       "      <td>🙏🏻</td>\n",
       "      <td>468.0</td>\n",
       "      <td>481.0</td>\n",
       "      <td>497.0</td>\n",
       "      <td>NaN</td>\n",
       "      <td>2019-08-01 14:40:26.554 -0400</td>\n",
       "      <td>False</td>\n",
       "    </tr>\n",
       "    <tr>\n",
       "      <th>4509582</th>\n",
       "      <td>4184469</td>\n",
       "      <td>1.340704e+07</td>\n",
       "      <td>jornvlaeminck</td>\n",
       "      <td>Jorn Vlaeminck</td>\n",
       "      <td>NaN</td>\n",
       "      <td>NaN</td>\n",
       "      <td>NaN</td>\n",
       "      <td>NaN</td>\n",
       "      <td>NaN</td>\n",
       "      <td>2019-08-01 14:40:41.628 -0400</td>\n",
       "      <td>NaN</td>\n",
       "    </tr>\n",
       "    <tr>\n",
       "      <th>4509583</th>\n",
       "      <td>4184470</td>\n",
       "      <td>6.007354e+09</td>\n",
       "      <td>s_degol</td>\n",
       "      <td>Sanne Degol</td>\n",
       "      <td>NaN</td>\n",
       "      <td>NaN</td>\n",
       "      <td>NaN</td>\n",
       "      <td>NaN</td>\n",
       "      <td>NaN</td>\n",
       "      <td>2019-08-01 14:40:42.983 -0400</td>\n",
       "      <td>NaN</td>\n",
       "    </tr>\n",
       "    <tr>\n",
       "      <th>4509584</th>\n",
       "      <td>4184473</td>\n",
       "      <td>2.338990e+07</td>\n",
       "      <td>anwilms</td>\n",
       "      <td>An Wilms</td>\n",
       "      <td>Fashion - travel - photography ... that's me!👗...</td>\n",
       "      <td>504.0</td>\n",
       "      <td>153.0</td>\n",
       "      <td>183.0</td>\n",
       "      <td>NaN</td>\n",
       "      <td>2019-08-01 14:40:49.982 -0400</td>\n",
       "      <td>False</td>\n",
       "    </tr>\n",
       "    <tr>\n",
       "      <th>4509585</th>\n",
       "      <td>4184511</td>\n",
       "      <td>2.088094e+09</td>\n",
       "      <td>arnaubassols_</td>\n",
       "      <td>Arnau Bassols Noguer</td>\n",
       "      <td>NaN</td>\n",
       "      <td>NaN</td>\n",
       "      <td>NaN</td>\n",
       "      <td>NaN</td>\n",
       "      <td>NaN</td>\n",
       "      <td>2019-08-01 14:42:30.055 -0400</td>\n",
       "      <td>NaN</td>\n",
       "    </tr>\n",
       "  </tbody>\n",
       "</table>\n",
       "<p>4509586 rows × 11 columns</p>\n",
       "</div>"
      ],
      "text/plain": [
       "             sid    profile_id      profile_name    firstname_lastname  \\\n",
       "0        4184446  4.721050e+09       jphillip033           John Pierce   \n",
       "1        4184457  5.905830e+08         mama_haas                Deanna   \n",
       "2        4184460  1.074147e+09  yellowlightbreen            Eliza Gray   \n",
       "3        4184461  1.472039e+09           tec1025          Thomas Clark   \n",
       "4        4184462  3.531421e+09        luckyfluff                   NaN   \n",
       "...          ...           ...               ...                   ...   \n",
       "4509581  4184467  1.418322e+09    karenarkesteyn       Karen Arkesteyn   \n",
       "4509582  4184469  1.340704e+07     jornvlaeminck        Jorn Vlaeminck   \n",
       "4509583  4184470  6.007354e+09           s_degol           Sanne Degol   \n",
       "4509584  4184473  2.338990e+07           anwilms              An Wilms   \n",
       "4509585  4184511  2.088094e+09     arnaubassols_  Arnau Bassols Noguer   \n",
       "\n",
       "                                               description  following  \\\n",
       "0                             \"Document Everything Always\"      250.0   \n",
       "1        Trying to enjoy the simple things in life. Kni...      534.0   \n",
       "2                                      Maine is for Lovers      469.0   \n",
       "3                                                      NaN        NaN   \n",
       "4                                                      NaN        NaN   \n",
       "...                                                    ...        ...   \n",
       "4509581                                                 🙏🏻      468.0   \n",
       "4509582                                                NaN        NaN   \n",
       "4509583                                                NaN        NaN   \n",
       "4509584  Fashion - travel - photography ... that's me!👗...      504.0   \n",
       "4509585                                                NaN        NaN   \n",
       "\n",
       "         followers  n_posts                           url  \\\n",
       "0            146.0    170.0                           NaN   \n",
       "1           1145.0   2878.0  www.etsy.com/shop/MamaHaas69   \n",
       "2            324.0    431.0             elizajanegray.com   \n",
       "3              NaN      NaN                           NaN   \n",
       "4              NaN      NaN                           NaN   \n",
       "...            ...      ...                           ...   \n",
       "4509581      481.0    497.0                           NaN   \n",
       "4509582        NaN      NaN                           NaN   \n",
       "4509583        NaN      NaN                           NaN   \n",
       "4509584      153.0    183.0                           NaN   \n",
       "4509585        NaN      NaN                           NaN   \n",
       "\n",
       "                                   cts is_business_account  \n",
       "0        2019-08-01 14:38:55.394 -0400               False  \n",
       "1        2019-08-01 14:39:36.526 -0400               False  \n",
       "2        2019-08-01 14:39:54.407 -0400               False  \n",
       "3        2019-08-01 14:40:06.472 -0400                 NaN  \n",
       "4        2019-08-01 14:40:07.806 -0400                 NaN  \n",
       "...                                ...                 ...  \n",
       "4509581  2019-08-01 14:40:26.554 -0400               False  \n",
       "4509582  2019-08-01 14:40:41.628 -0400                 NaN  \n",
       "4509583  2019-08-01 14:40:42.983 -0400                 NaN  \n",
       "4509584  2019-08-01 14:40:49.982 -0400               False  \n",
       "4509585  2019-08-01 14:42:30.055 -0400                 NaN  \n",
       "\n",
       "[4509586 rows x 11 columns]"
      ]
     },
     "execution_count": 263,
     "metadata": {},
     "output_type": "execute_result"
    }
   ],
   "source": [
    "create_report(profiles)"
   ]
  },
  {
   "cell_type": "code",
   "execution_count": null,
   "id": "9c4e046d-78d1-4e36-a9c8-f08c4647ccd3",
   "metadata": {},
   "outputs": [],
   "source": [
    "sns.pairplot(profiles)"
   ]
  },
  {
   "cell_type": "code",
   "execution_count": null,
   "id": "167301d7-9460-431a-8042-e5a1bd156fc5",
   "metadata": {},
   "outputs": [],
   "source": [
    "\n",
    "corrmat = profiles.corr()\n",
    "hm = sns.heatmap(corrmat, \n",
    "                 cbar=True, \n",
    "                 annot=True, \n",
    "                 square=True, \n",
    "                 fmt='.2f', \n",
    "                 annot_kws={'size': 10}, \n",
    "                 yticklabels=profiles.columns, \n",
    "                 xticklabels=profiles.columns, \n",
    "                 cmap=\"Spectral_r\")\n",
    "plt.show()"
   ]
  },
  {
   "cell_type": "markdown",
   "id": "35c12b3f",
   "metadata": {
    "jp-MarkdownHeadingCollapsed": true,
    "tags": []
   },
   "source": [
    "# [RQ2] Let's explore the dataset by finding simple insights regarding the profile and posts."
   ]
  },
  {
   "cell_type": "markdown",
   "id": "2f8a4ac4",
   "metadata": {
    "jp-MarkdownHeadingCollapsed": true,
    "tags": []
   },
   "source": [
    "### Plot the number of posts for each profile in descending order.\n"
   ]
  },
  {
   "cell_type": "code",
   "execution_count": null,
   "id": "9572f936",
   "metadata": {},
   "outputs": [],
   "source": [
    "profiles2 = pd.read_csv('/Users/the_redd_/Desktop/ADM/instagram_profiles.csv', \n",
    "                    sep='\\t', usecols=['profile_name','n_posts'])"
   ]
  },
  {
   "cell_type": "code",
   "execution_count": null,
   "id": "13db70a9",
   "metadata": {},
   "outputs": [
    {
     "data": {
      "text/html": [
       "<div>\n",
       "<style scoped>\n",
       "    .dataframe tbody tr th:only-of-type {\n",
       "        vertical-align: middle;\n",
       "    }\n",
       "\n",
       "    .dataframe tbody tr th {\n",
       "        vertical-align: top;\n",
       "    }\n",
       "\n",
       "    .dataframe thead th {\n",
       "        text-align: right;\n",
       "    }\n",
       "</style>\n",
       "<table border=\"1\" class=\"dataframe\">\n",
       "  <thead>\n",
       "    <tr style=\"text-align: right;\">\n",
       "      <th></th>\n",
       "      <th>profile_id</th>\n",
       "      <th>profile_name</th>\n",
       "      <th>n_posts</th>\n",
       "    </tr>\n",
       "  </thead>\n",
       "  <tbody>\n",
       "    <tr>\n",
       "      <th>0</th>\n",
       "      <td>4.721050e+09</td>\n",
       "      <td>jphillip033</td>\n",
       "      <td>170.0</td>\n",
       "    </tr>\n",
       "    <tr>\n",
       "      <th>1</th>\n",
       "      <td>5.905830e+08</td>\n",
       "      <td>mama_haas</td>\n",
       "      <td>2878.0</td>\n",
       "    </tr>\n",
       "    <tr>\n",
       "      <th>2</th>\n",
       "      <td>1.074147e+09</td>\n",
       "      <td>yellowlightbreen</td>\n",
       "      <td>431.0</td>\n",
       "    </tr>\n",
       "    <tr>\n",
       "      <th>3</th>\n",
       "      <td>1.472039e+09</td>\n",
       "      <td>tec1025</td>\n",
       "      <td>NaN</td>\n",
       "    </tr>\n",
       "    <tr>\n",
       "      <th>4</th>\n",
       "      <td>3.531421e+09</td>\n",
       "      <td>luckyfluff</td>\n",
       "      <td>NaN</td>\n",
       "    </tr>\n",
       "    <tr>\n",
       "      <th>...</th>\n",
       "      <td>...</td>\n",
       "      <td>...</td>\n",
       "      <td>...</td>\n",
       "    </tr>\n",
       "    <tr>\n",
       "      <th>4509581</th>\n",
       "      <td>1.418322e+09</td>\n",
       "      <td>karenarkesteyn</td>\n",
       "      <td>497.0</td>\n",
       "    </tr>\n",
       "    <tr>\n",
       "      <th>4509582</th>\n",
       "      <td>1.340704e+07</td>\n",
       "      <td>jornvlaeminck</td>\n",
       "      <td>NaN</td>\n",
       "    </tr>\n",
       "    <tr>\n",
       "      <th>4509583</th>\n",
       "      <td>6.007354e+09</td>\n",
       "      <td>s_degol</td>\n",
       "      <td>NaN</td>\n",
       "    </tr>\n",
       "    <tr>\n",
       "      <th>4509584</th>\n",
       "      <td>2.338990e+07</td>\n",
       "      <td>anwilms</td>\n",
       "      <td>183.0</td>\n",
       "    </tr>\n",
       "    <tr>\n",
       "      <th>4509585</th>\n",
       "      <td>2.088094e+09</td>\n",
       "      <td>arnaubassols_</td>\n",
       "      <td>NaN</td>\n",
       "    </tr>\n",
       "  </tbody>\n",
       "</table>\n",
       "<p>4509586 rows × 3 columns</p>\n",
       "</div>"
      ],
      "text/plain": [
       "           profile_id      profile_name  n_posts\n",
       "0        4.721050e+09       jphillip033    170.0\n",
       "1        5.905830e+08         mama_haas   2878.0\n",
       "2        1.074147e+09  yellowlightbreen    431.0\n",
       "3        1.472039e+09           tec1025      NaN\n",
       "4        3.531421e+09        luckyfluff      NaN\n",
       "...               ...               ...      ...\n",
       "4509581  1.418322e+09    karenarkesteyn    497.0\n",
       "4509582  1.340704e+07     jornvlaeminck      NaN\n",
       "4509583  6.007354e+09           s_degol      NaN\n",
       "4509584  2.338990e+07           anwilms    183.0\n",
       "4509585  2.088094e+09     arnaubassols_      NaN\n",
       "\n",
       "[4509586 rows x 3 columns]"
      ]
     },
     "execution_count": 134,
     "metadata": {},
     "output_type": "execute_result"
    }
   ],
   "source": [
    "profiles2"
   ]
  },
  {
   "cell_type": "code",
   "execution_count": null,
   "id": "2cb62d42",
   "metadata": {},
   "outputs": [],
   "source": [
    "#Let's check for NA values\n",
    "profiles2['n_posts'].isnull().values.any()"
   ]
  },
  {
   "cell_type": "code",
   "execution_count": null,
   "id": "f70be934",
   "metadata": {},
   "outputs": [],
   "source": [
    "#So let's count them\n",
    "profiles2['n_posts'].isnull().sum()"
   ]
  },
  {
   "cell_type": "markdown",
   "id": "95983cf9",
   "metadata": {},
   "source": [
    "A lot, we must manage them"
   ]
  },
  {
   "cell_type": "code",
   "execution_count": null,
   "id": "19d5f59c",
   "metadata": {},
   "outputs": [],
   "source": [
    "#Let's drop all na values\n",
    "profiles2.dropna(inplace=True)"
   ]
  },
  {
   "cell_type": "code",
   "execution_count": null,
   "id": "f947e7f3",
   "metadata": {},
   "outputs": [],
   "source": [
    "# Let's check NAs again\n",
    "profiles2['n_posts'].isnull().values.any()"
   ]
  },
  {
   "cell_type": "code",
   "execution_count": null,
   "id": "7075e9a2",
   "metadata": {},
   "outputs": [],
   "source": [
    "profiles2"
   ]
  },
  {
   "cell_type": "markdown",
   "id": "f20f9150",
   "metadata": {},
   "source": [
    "Good, we can continue now"
   ]
  },
  {
   "cell_type": "code",
   "execution_count": null,
   "id": "65a46f96",
   "metadata": {},
   "outputs": [],
   "source": [
    "profiles2=profiles2.sort_values('n_posts', ascending=False)"
   ]
  },
  {
   "cell_type": "code",
   "execution_count": null,
   "id": "2e82415a",
   "metadata": {},
   "outputs": [
    {
     "data": {
      "text/html": [
       "<div>\n",
       "<style scoped>\n",
       "    .dataframe tbody tr th:only-of-type {\n",
       "        vertical-align: middle;\n",
       "    }\n",
       "\n",
       "    .dataframe tbody tr th {\n",
       "        vertical-align: top;\n",
       "    }\n",
       "\n",
       "    .dataframe thead th {\n",
       "        text-align: right;\n",
       "    }\n",
       "</style>\n",
       "<table border=\"1\" class=\"dataframe\">\n",
       "  <thead>\n",
       "    <tr style=\"text-align: right;\">\n",
       "      <th></th>\n",
       "      <th>profile_id</th>\n",
       "      <th>profile_name</th>\n",
       "      <th>n_posts</th>\n",
       "    </tr>\n",
       "  </thead>\n",
       "  <tbody>\n",
       "    <tr>\n",
       "      <th>3820091</th>\n",
       "      <td>4.0</td>\n",
       "      <td>mikeyk</td>\n",
       "      <td>1997.0</td>\n",
       "    </tr>\n",
       "    <tr>\n",
       "      <th>4237697</th>\n",
       "      <td>18.0</td>\n",
       "      <td>mila</td>\n",
       "      <td>NaN</td>\n",
       "    </tr>\n",
       "    <tr>\n",
       "      <th>3111361</th>\n",
       "      <td>19.0</td>\n",
       "      <td>chris</td>\n",
       "      <td>2719.0</td>\n",
       "    </tr>\n",
       "    <tr>\n",
       "      <th>3819947</th>\n",
       "      <td>28.0</td>\n",
       "      <td>mgsiegler</td>\n",
       "      <td>3004.0</td>\n",
       "    </tr>\n",
       "    <tr>\n",
       "      <th>4202142</th>\n",
       "      <td>33.0</td>\n",
       "      <td>josh</td>\n",
       "      <td>NaN</td>\n",
       "    </tr>\n",
       "    <tr>\n",
       "      <th>...</th>\n",
       "      <td>...</td>\n",
       "      <td>...</td>\n",
       "      <td>...</td>\n",
       "    </tr>\n",
       "    <tr>\n",
       "      <th>2550307</th>\n",
       "      <td>NaN</td>\n",
       "      <td>moonbeamchatz</td>\n",
       "      <td>NaN</td>\n",
       "    </tr>\n",
       "    <tr>\n",
       "      <th>4200100</th>\n",
       "      <td>NaN</td>\n",
       "      <td>hungrygirl_blog</td>\n",
       "      <td>NaN</td>\n",
       "    </tr>\n",
       "    <tr>\n",
       "      <th>4203708</th>\n",
       "      <td>NaN</td>\n",
       "      <td>serephina_belli</td>\n",
       "      <td>NaN</td>\n",
       "    </tr>\n",
       "    <tr>\n",
       "      <th>4438594</th>\n",
       "      <td>NaN</td>\n",
       "      <td>blue_chitta</td>\n",
       "      <td>NaN</td>\n",
       "    </tr>\n",
       "    <tr>\n",
       "      <th>4505906</th>\n",
       "      <td>NaN</td>\n",
       "      <td>stellaaffleck</td>\n",
       "      <td>NaN</td>\n",
       "    </tr>\n",
       "  </tbody>\n",
       "</table>\n",
       "<p>4509586 rows × 3 columns</p>\n",
       "</div>"
      ],
      "text/plain": [
       "         profile_id     profile_name  n_posts\n",
       "3820091         4.0           mikeyk   1997.0\n",
       "4237697        18.0             mila      NaN\n",
       "3111361        19.0            chris   2719.0\n",
       "3819947        28.0        mgsiegler   3004.0\n",
       "4202142        33.0             josh      NaN\n",
       "...             ...              ...      ...\n",
       "2550307         NaN    moonbeamchatz      NaN\n",
       "4200100         NaN  hungrygirl_blog      NaN\n",
       "4203708         NaN  serephina_belli      NaN\n",
       "4438594         NaN      blue_chitta      NaN\n",
       "4505906         NaN    stellaaffleck      NaN\n",
       "\n",
       "[4509586 rows x 3 columns]"
      ]
     },
     "execution_count": 143,
     "metadata": {},
     "output_type": "execute_result"
    }
   ],
   "source": [
    "profiles2"
   ]
  },
  {
   "cell_type": "code",
   "execution_count": null,
   "id": "39b7e956",
   "metadata": {},
   "outputs": [],
   "source": [
    "count_post=profiles2.groupby('n_posts').count()\n",
    "count_post"
   ]
  },
  {
   "cell_type": "code",
   "execution_count": null,
   "id": "1e3e07e3",
   "metadata": {},
   "outputs": [],
   "source": [
    "count_post.iloc[1:].sum()"
   ]
  },
  {
   "cell_type": "code",
   "execution_count": null,
   "id": "f59dc79d",
   "metadata": {},
   "outputs": [],
   "source": [
    "h=profiles['n_posts']\n",
    "plt.hist(h,log=True)\n",
    "plt.show()"
   ]
  },
  {
   "cell_type": "markdown",
   "id": "119d0a20",
   "metadata": {},
   "source": [
    "##### What can we say about this result?\n",
    "\n",
    "As we can see, the majority of the instagram profiles have no posts, meanwhile only a small proportion have posted more than 125.000 posts."
   ]
  },
  {
   "cell_type": "markdown",
   "id": "8166b900",
   "metadata": {
    "jp-MarkdownHeadingCollapsed": true,
    "tags": []
   },
   "source": [
    "### What posts have the highest number of \"likes\"?"
   ]
  },
  {
   "cell_type": "markdown",
   "id": "b9a41c4a",
   "metadata": {},
   "source": [
    "This is the top 10 of most liked posts"
   ]
  },
  {
   "cell_type": "code",
   "execution_count": null,
   "id": "fd975116-7e83-41de-85fa-879e5e1d35d4",
   "metadata": {},
   "outputs": [
    {
     "name": "stderr",
     "output_type": "stream",
     "text": [
      "86it [02:16,  1.59s/it]\n"
     ]
    },
    {
     "data": {
      "text/html": [
       "<div>\n",
       "<style scoped>\n",
       "    .dataframe tbody tr th:only-of-type {\n",
       "        vertical-align: middle;\n",
       "    }\n",
       "\n",
       "    .dataframe tbody tr th {\n",
       "        vertical-align: top;\n",
       "    }\n",
       "\n",
       "    .dataframe thead th {\n",
       "        text-align: right;\n",
       "    }\n",
       "</style>\n",
       "<table border=\"1\" class=\"dataframe\">\n",
       "  <thead>\n",
       "    <tr style=\"text-align: right;\">\n",
       "      <th></th>\n",
       "      <th>post_id</th>\n",
       "      <th>numbr_likes</th>\n",
       "    </tr>\n",
       "  </thead>\n",
       "  <tbody>\n",
       "    <tr>\n",
       "      <th>Post 1</th>\n",
       "      <td>Bt3yaXmAM0d</td>\n",
       "      <td>8822952.0</td>\n",
       "    </tr>\n",
       "    <tr>\n",
       "      <th>Post 2</th>\n",
       "      <td>BuwffB7g8cK</td>\n",
       "      <td>5447066.0</td>\n",
       "    </tr>\n",
       "    <tr>\n",
       "      <th>Post 3</th>\n",
       "      <td>Buc1gyZAaMQ</td>\n",
       "      <td>5116398.0</td>\n",
       "    </tr>\n",
       "    <tr>\n",
       "      <th>Post 4</th>\n",
       "      <td>BvcukE8AMuG</td>\n",
       "      <td>4271466.0</td>\n",
       "    </tr>\n",
       "    <tr>\n",
       "      <th>Post 5</th>\n",
       "      <td>BqSLFVBFLfq</td>\n",
       "      <td>4264745</td>\n",
       "    </tr>\n",
       "    <tr>\n",
       "      <th>Post 6</th>\n",
       "      <td>BwTSXBKg7gN</td>\n",
       "      <td>3586546</td>\n",
       "    </tr>\n",
       "    <tr>\n",
       "      <th>Post 7</th>\n",
       "      <td>Btw8pFXAvQm</td>\n",
       "      <td>3558599.0</td>\n",
       "    </tr>\n",
       "    <tr>\n",
       "      <th>Post 8</th>\n",
       "      <td>BvC3n6_gqin</td>\n",
       "      <td>3533326.0</td>\n",
       "    </tr>\n",
       "    <tr>\n",
       "      <th>Post 9</th>\n",
       "      <td>Bw7vqLrFkHi</td>\n",
       "      <td>3340297</td>\n",
       "    </tr>\n",
       "    <tr>\n",
       "      <th>Post 10</th>\n",
       "      <td>Bw2gTH1AiDA</td>\n",
       "      <td>3311246</td>\n",
       "    </tr>\n",
       "  </tbody>\n",
       "</table>\n",
       "</div>"
      ],
      "text/plain": [
       "             post_id numbr_likes\n",
       "Post 1   Bt3yaXmAM0d   8822952.0\n",
       "Post 2   BuwffB7g8cK   5447066.0\n",
       "Post 3   Buc1gyZAaMQ   5116398.0\n",
       "Post 4   BvcukE8AMuG   4271466.0\n",
       "Post 5   BqSLFVBFLfq     4264745\n",
       "Post 6   BwTSXBKg7gN     3586546\n",
       "Post 7   Btw8pFXAvQm   3558599.0\n",
       "Post 8   BvC3n6_gqin   3533326.0\n",
       "Post 9   Bw7vqLrFkHi     3340297\n",
       "Post 10  Bw2gTH1AiDA     3311246"
      ]
     },
     "execution_count": 14,
     "metadata": {},
     "output_type": "execute_result"
    }
   ],
   "source": [
    "df=pd.DataFrame(columns=['post_id','numbr_likes'])\n",
    "for chunk in tqdm(pd.read_csv('/Users/the_redd_/Desktop/ADM/instagram_posts.csv', \n",
    "                                          usecols=['post_id','numbr_likes'], delimiter='\\t', chunksize=500000)):\n",
    "    df=pd.concat([df,(chunk.sort_values(by='numbr_likes', ascending=False).head(10))])\n",
    "    \n",
    "df=df.sort_values(by='numbr_likes', ascending=False).head(10)\n",
    "df.index=['Post '+str(i+1) for i in range(10)]\n",
    "df\n",
    "\n",
    "#Time run: around 2 min\n",
    "#Check why some \"numbr_likes\" are float while others are int"
   ]
  },
  {
   "cell_type": "markdown",
   "id": "c72b071a",
   "metadata": {
    "jp-MarkdownHeadingCollapsed": true,
    "tags": []
   },
   "source": [
    "### What posts have the most and the least number of comments?"
   ]
  },
  {
   "cell_type": "code",
   "execution_count": null,
   "id": "d7acbc64",
   "metadata": {},
   "outputs": [
    {
     "name": "stderr",
     "output_type": "stream",
     "text": [
      "86it [02:18,  1.61s/it]\n"
     ]
    }
   ],
   "source": [
    "df_top=pd.DataFrame(columns=['post_id','number_comments'])\n",
    "df_last=pd.DataFrame(columns=['post_id','number_comments'])\n",
    "\n",
    "\n",
    "\n",
    "for chunk in tqdm(pd.read_csv('/Users/the_redd_/Desktop/ADM/instagram_posts.csv', \n",
    "                                          usecols=['post_id','number_comments'], delimiter='\\t', chunksize=500000)):\n",
    "    df_top=pd.concat([df_top,(chunk.sort_values(by='number_comments', ascending=False).head(10))])\n",
    "    df_last=pd.concat([df_last,(chunk.sort_values(by='number_comments', ascending=True).head(10))])\n",
    "    \n",
    "#We sort the value with \"sort_values\" and print the first 10 rows\n",
    "df_top=df_top.sort_values(by='number_comments', ascending=False).head(10)\n",
    "df_last=df_last.sort_values(by='number_comments', ascending=True).head(10)\n",
    "\n",
    "#Time run: around 2 min"
   ]
  },
  {
   "cell_type": "code",
   "execution_count": null,
   "id": "f13bc551",
   "metadata": {},
   "outputs": [
    {
     "data": {
      "text/html": [
       "<div>\n",
       "<style scoped>\n",
       "    .dataframe tbody tr th:only-of-type {\n",
       "        vertical-align: middle;\n",
       "    }\n",
       "\n",
       "    .dataframe tbody tr th {\n",
       "        vertical-align: top;\n",
       "    }\n",
       "\n",
       "    .dataframe thead th {\n",
       "        text-align: right;\n",
       "    }\n",
       "</style>\n",
       "<table border=\"1\" class=\"dataframe\">\n",
       "  <thead>\n",
       "    <tr style=\"text-align: right;\">\n",
       "      <th></th>\n",
       "      <th>post_id</th>\n",
       "      <th>number_comments</th>\n",
       "    </tr>\n",
       "  </thead>\n",
       "  <tbody>\n",
       "    <tr>\n",
       "      <th>41873060</th>\n",
       "      <td>Bx2sPAjHviO</td>\n",
       "      <td>488953</td>\n",
       "    </tr>\n",
       "    <tr>\n",
       "      <th>12164781</th>\n",
       "      <td>BuGjhWAhAW5</td>\n",
       "      <td>313997</td>\n",
       "    </tr>\n",
       "    <tr>\n",
       "      <th>33261751</th>\n",
       "      <td>BJ-rkpTgn1N</td>\n",
       "      <td>257488</td>\n",
       "    </tr>\n",
       "    <tr>\n",
       "      <th>11149127</th>\n",
       "      <td>BMtisIxjhtT</td>\n",
       "      <td>214365</td>\n",
       "    </tr>\n",
       "    <tr>\n",
       "      <th>9383817</th>\n",
       "      <td>BzOOWj3DfZK</td>\n",
       "      <td>189888</td>\n",
       "    </tr>\n",
       "    <tr>\n",
       "      <th>5427268</th>\n",
       "      <td>BoQoM-JFkPA</td>\n",
       "      <td>180635</td>\n",
       "    </tr>\n",
       "    <tr>\n",
       "      <th>25257169</th>\n",
       "      <td>Bwarws1lCok</td>\n",
       "      <td>173988</td>\n",
       "    </tr>\n",
       "    <tr>\n",
       "      <th>6220011</th>\n",
       "      <td>Bt4qlVDAZMH</td>\n",
       "      <td>170836</td>\n",
       "    </tr>\n",
       "    <tr>\n",
       "      <th>31689573</th>\n",
       "      <td>Bs9NhQkAcJA</td>\n",
       "      <td>166919</td>\n",
       "    </tr>\n",
       "    <tr>\n",
       "      <th>14257307</th>\n",
       "      <td>Bzqb95QI_1E</td>\n",
       "      <td>166198</td>\n",
       "    </tr>\n",
       "  </tbody>\n",
       "</table>\n",
       "</div>"
      ],
      "text/plain": [
       "              post_id number_comments\n",
       "41873060  Bx2sPAjHviO          488953\n",
       "12164781  BuGjhWAhAW5          313997\n",
       "33261751  BJ-rkpTgn1N          257488\n",
       "11149127  BMtisIxjhtT          214365\n",
       "9383817   BzOOWj3DfZK          189888\n",
       "5427268   BoQoM-JFkPA          180635\n",
       "25257169  Bwarws1lCok          173988\n",
       "6220011   Bt4qlVDAZMH          170836\n",
       "31689573  Bs9NhQkAcJA          166919\n",
       "14257307  Bzqb95QI_1E          166198"
      ]
     },
     "execution_count": 23,
     "metadata": {},
     "output_type": "execute_result"
    }
   ],
   "source": [
    "#This is the top 10 of posts which have the most number of comments\n",
    "df_top"
   ]
  },
  {
   "cell_type": "code",
   "execution_count": null,
   "id": "78a2c506",
   "metadata": {},
   "outputs": [
    {
     "data": {
      "text/html": [
       "<div>\n",
       "<style scoped>\n",
       "    .dataframe tbody tr th:only-of-type {\n",
       "        vertical-align: middle;\n",
       "    }\n",
       "\n",
       "    .dataframe tbody tr th {\n",
       "        vertical-align: top;\n",
       "    }\n",
       "\n",
       "    .dataframe thead th {\n",
       "        text-align: right;\n",
       "    }\n",
       "</style>\n",
       "<table border=\"1\" class=\"dataframe\">\n",
       "  <thead>\n",
       "    <tr style=\"text-align: right;\">\n",
       "      <th></th>\n",
       "      <th>post_id</th>\n",
       "      <th>number_comments</th>\n",
       "    </tr>\n",
       "  </thead>\n",
       "  <tbody>\n",
       "    <tr>\n",
       "      <th>0</th>\n",
       "      <td>BXdjjUlgcgq</td>\n",
       "      <td>0</td>\n",
       "    </tr>\n",
       "    <tr>\n",
       "      <th>28246768</th>\n",
       "      <td>Bvio_PvFC93</td>\n",
       "      <td>0</td>\n",
       "    </tr>\n",
       "    <tr>\n",
       "      <th>28246769</th>\n",
       "      <td>Bu_k7oLlFjJ</td>\n",
       "      <td>0</td>\n",
       "    </tr>\n",
       "    <tr>\n",
       "      <th>28246770</th>\n",
       "      <td>Bu83azpHRKl</td>\n",
       "      <td>0</td>\n",
       "    </tr>\n",
       "    <tr>\n",
       "      <th>28749999</th>\n",
       "      <td>Bb3Z94ZDuYD</td>\n",
       "      <td>0</td>\n",
       "    </tr>\n",
       "    <tr>\n",
       "      <th>28929591</th>\n",
       "      <td>BvMl1dmAxhy</td>\n",
       "      <td>0</td>\n",
       "    </tr>\n",
       "    <tr>\n",
       "      <th>28740653</th>\n",
       "      <td>WI8nUqlajy</td>\n",
       "      <td>0</td>\n",
       "    </tr>\n",
       "    <tr>\n",
       "      <th>28929589</th>\n",
       "      <td>BvUR__8gBpq</td>\n",
       "      <td>0</td>\n",
       "    </tr>\n",
       "    <tr>\n",
       "      <th>28624588</th>\n",
       "      <td>BxQL8A_geH8</td>\n",
       "      <td>0</td>\n",
       "    </tr>\n",
       "    <tr>\n",
       "      <th>28929587</th>\n",
       "      <td>BvyuHsUA5KL</td>\n",
       "      <td>0</td>\n",
       "    </tr>\n",
       "  </tbody>\n",
       "</table>\n",
       "</div>"
      ],
      "text/plain": [
       "              post_id number_comments\n",
       "0         BXdjjUlgcgq               0\n",
       "28246768  Bvio_PvFC93               0\n",
       "28246769  Bu_k7oLlFjJ               0\n",
       "28246770  Bu83azpHRKl               0\n",
       "28749999  Bb3Z94ZDuYD               0\n",
       "28929591  BvMl1dmAxhy               0\n",
       "28740653   WI8nUqlajy               0\n",
       "28929589  BvUR__8gBpq               0\n",
       "28624588  BxQL8A_geH8               0\n",
       "28929587  BvyuHsUA5KL               0"
      ]
     },
     "execution_count": 24,
     "metadata": {},
     "output_type": "execute_result"
    }
   ],
   "source": [
    "#These are the 10 posts which have the least number of comments\n",
    "df_last\n",
    "\n",
    "\n",
    "#There are many posts with zero comment, these are only ten of them, randomly"
   ]
  },
  {
   "cell_type": "markdown",
   "id": "999148ab",
   "metadata": {
    "jp-MarkdownHeadingCollapsed": true,
    "tags": []
   },
   "source": [
    "### How many posts include tagged locations, and how many do not? Show it using an appropriate chart and comment your results."
   ]
  },
  {
   "cell_type": "code",
   "execution_count": null,
   "id": "112738b1",
   "metadata": {},
   "outputs": [
    {
     "name": "stderr",
     "output_type": "stream",
     "text": [
      "86it [24:11, 16.87s/it] \n"
     ]
    }
   ],
   "source": [
    "df_yes=pd.DataFrame(columns=['post_id','location_id'])\n",
    "df_not=pd.DataFrame(columns=['post_id','location_id'])\n",
    "\n",
    "\n",
    "for chunk in tqdm(pd.read_csv('/Users/the_redd_/Desktop/ADM/instagram_posts.csv', usecols=['post_id','location_id'],delimiter='\\t', chunksize=500000)):    \n",
    "    \n",
    "    #we check if inside the location_id there is a NAN value, if it does then the post does not include the location\n",
    "    location_yes=chunk[np.isnan(chunk['location_id']) == False]\n",
    "    df_yes=pd.concat([df_yes,location_yes])\n",
    "    \n",
    "    location_not=chunk[np.isnan(chunk['location_id']) == True]\n",
    "    df_not=pd.concat([df_not,location_not])\n",
    "\n",
    "#Time run: around 8 min\n"
   ]
  },
  {
   "cell_type": "code",
   "execution_count": null,
   "id": "1a0136a3-3c21-4085-8148-84c276d7c47e",
   "metadata": {},
   "outputs": [
    {
     "data": {
      "text/html": [
       "<div>\n",
       "<style scoped>\n",
       "    .dataframe tbody tr th:only-of-type {\n",
       "        vertical-align: middle;\n",
       "    }\n",
       "\n",
       "    .dataframe tbody tr th {\n",
       "        vertical-align: top;\n",
       "    }\n",
       "\n",
       "    .dataframe thead th {\n",
       "        text-align: right;\n",
       "    }\n",
       "</style>\n",
       "<table border=\"1\" class=\"dataframe\">\n",
       "  <thead>\n",
       "    <tr style=\"text-align: right;\">\n",
       "      <th></th>\n",
       "      <th>post_id</th>\n",
       "      <th>location_id</th>\n",
       "    </tr>\n",
       "  </thead>\n",
       "  <tbody>\n",
       "    <tr>\n",
       "      <th>0</th>\n",
       "      <td>BXdjjUlgcgq</td>\n",
       "      <td>1.022366e+15</td>\n",
       "    </tr>\n",
       "    <tr>\n",
       "      <th>1</th>\n",
       "      <td>BVg0pbolYBC</td>\n",
       "      <td>4.574268e+14</td>\n",
       "    </tr>\n",
       "    <tr>\n",
       "      <th>2</th>\n",
       "      <td>BRgkjcXFp3Q</td>\n",
       "      <td>4.574268e+14</td>\n",
       "    </tr>\n",
       "    <tr>\n",
       "      <th>3</th>\n",
       "      <td>BKTKeNhjEA7</td>\n",
       "      <td>4.574268e+14</td>\n",
       "    </tr>\n",
       "    <tr>\n",
       "      <th>4</th>\n",
       "      <td>8-NQrvoYLX</td>\n",
       "      <td>4.574268e+14</td>\n",
       "    </tr>\n",
       "    <tr>\n",
       "      <th>...</th>\n",
       "      <td>...</td>\n",
       "      <td>...</td>\n",
       "    </tr>\n",
       "    <tr>\n",
       "      <th>42710192</th>\n",
       "      <td>BcpWMWGBfxh</td>\n",
       "      <td>4.574268e+14</td>\n",
       "    </tr>\n",
       "    <tr>\n",
       "      <th>42710193</th>\n",
       "      <td>Ba6LZWwlCl8</td>\n",
       "      <td>4.574268e+14</td>\n",
       "    </tr>\n",
       "    <tr>\n",
       "      <th>42710194</th>\n",
       "      <td>BPN0kM1hYUw</td>\n",
       "      <td>4.574268e+14</td>\n",
       "    </tr>\n",
       "    <tr>\n",
       "      <th>42710195</th>\n",
       "      <td>BxsZ8nDBr-L</td>\n",
       "      <td>4.267235e+06</td>\n",
       "    </tr>\n",
       "    <tr>\n",
       "      <th>42710196</th>\n",
       "      <td>BgNJ4EzHQwQ</td>\n",
       "      <td>4.574268e+14</td>\n",
       "    </tr>\n",
       "  </tbody>\n",
       "</table>\n",
       "<p>29737425 rows × 2 columns</p>\n",
       "</div>"
      ],
      "text/plain": [
       "              post_id   location_id\n",
       "0         BXdjjUlgcgq  1.022366e+15\n",
       "1         BVg0pbolYBC  4.574268e+14\n",
       "2         BRgkjcXFp3Q  4.574268e+14\n",
       "3         BKTKeNhjEA7  4.574268e+14\n",
       "4          8-NQrvoYLX  4.574268e+14\n",
       "...               ...           ...\n",
       "42710192  BcpWMWGBfxh  4.574268e+14\n",
       "42710193  Ba6LZWwlCl8  4.574268e+14\n",
       "42710194  BPN0kM1hYUw  4.574268e+14\n",
       "42710195  BxsZ8nDBr-L  4.267235e+06\n",
       "42710196  BgNJ4EzHQwQ  4.574268e+14\n",
       "\n",
       "[29737425 rows x 2 columns]"
      ]
     },
     "execution_count": 49,
     "metadata": {},
     "output_type": "execute_result"
    }
   ],
   "source": [
    "#Let's find all the posts with no tagged locatio\n",
    "df_not"
   ]
  },
  {
   "cell_type": "code",
   "execution_count": null,
   "id": "bc8263d4-42a0-4e25-a7ae-a0331faa4519",
   "metadata": {},
   "outputs": [
    {
     "data": {
      "text/html": [
       "<div>\n",
       "<style scoped>\n",
       "    .dataframe tbody tr th:only-of-type {\n",
       "        vertical-align: middle;\n",
       "    }\n",
       "\n",
       "    .dataframe tbody tr th {\n",
       "        vertical-align: top;\n",
       "    }\n",
       "\n",
       "    .dataframe thead th {\n",
       "        text-align: right;\n",
       "    }\n",
       "</style>\n",
       "<table border=\"1\" class=\"dataframe\">\n",
       "  <thead>\n",
       "    <tr style=\"text-align: right;\">\n",
       "      <th></th>\n",
       "      <th>post_id</th>\n",
       "      <th>location_id</th>\n",
       "    </tr>\n",
       "  </thead>\n",
       "  <tbody>\n",
       "    <tr>\n",
       "      <th>104582</th>\n",
       "      <td>Bx-LwWNBLY8</td>\n",
       "      <td>NaN</td>\n",
       "    </tr>\n",
       "    <tr>\n",
       "      <th>192242</th>\n",
       "      <td>BxpEcKvgA09</td>\n",
       "      <td>NaN</td>\n",
       "    </tr>\n",
       "    <tr>\n",
       "      <th>203531</th>\n",
       "      <td>BrbQ-9bHxwb</td>\n",
       "      <td>NaN</td>\n",
       "    </tr>\n",
       "    <tr>\n",
       "      <th>212616</th>\n",
       "      <td>Bx6f1tdgNfh</td>\n",
       "      <td>NaN</td>\n",
       "    </tr>\n",
       "    <tr>\n",
       "      <th>230339</th>\n",
       "      <td>BvMPlOgjhIS</td>\n",
       "      <td>NaN</td>\n",
       "    </tr>\n",
       "    <tr>\n",
       "      <th>...</th>\n",
       "      <td>...</td>\n",
       "      <td>...</td>\n",
       "    </tr>\n",
       "    <tr>\n",
       "      <th>42480557</th>\n",
       "      <td>BxYEucsB7pII5o7N_f17yCZCB02ZvUA8XdupLM0</td>\n",
       "      <td>NaN</td>\n",
       "    </tr>\n",
       "    <tr>\n",
       "      <th>42480558</th>\n",
       "      <td>ByAHgYfnVpMAfNjVWMXPOHtDF5lv4du5qYe5QA0</td>\n",
       "      <td>NaN</td>\n",
       "    </tr>\n",
       "    <tr>\n",
       "      <th>42482801</th>\n",
       "      <td>BxdI7lZnFum5m5hd5f6IZ1r7TF7mnPmkKfn2sw0</td>\n",
       "      <td>NaN</td>\n",
       "    </tr>\n",
       "    <tr>\n",
       "      <th>42482802</th>\n",
       "      <td>BuQ_IuaHJoutSlyNYTxk7cv_x1i2qMFaGxYqf40</td>\n",
       "      <td>NaN</td>\n",
       "    </tr>\n",
       "    <tr>\n",
       "      <th>42602627</th>\n",
       "      <td>BsA5fb2n_7v</td>\n",
       "      <td>NaN</td>\n",
       "    </tr>\n",
       "  </tbody>\n",
       "</table>\n",
       "<p>12972772 rows × 2 columns</p>\n",
       "</div>"
      ],
      "text/plain": [
       "                                          post_id location_id\n",
       "104582                                Bx-LwWNBLY8         NaN\n",
       "192242                                BxpEcKvgA09         NaN\n",
       "203531                                BrbQ-9bHxwb         NaN\n",
       "212616                                Bx6f1tdgNfh         NaN\n",
       "230339                                BvMPlOgjhIS         NaN\n",
       "...                                           ...         ...\n",
       "42480557  BxYEucsB7pII5o7N_f17yCZCB02ZvUA8XdupLM0         NaN\n",
       "42480558  ByAHgYfnVpMAfNjVWMXPOHtDF5lv4du5qYe5QA0         NaN\n",
       "42482801  BxdI7lZnFum5m5hd5f6IZ1r7TF7mnPmkKfn2sw0         NaN\n",
       "42482802  BuQ_IuaHJoutSlyNYTxk7cv_x1i2qMFaGxYqf40         NaN\n",
       "42602627                              BsA5fb2n_7v         NaN\n",
       "\n",
       "[12972772 rows x 2 columns]"
      ]
     },
     "execution_count": 50,
     "metadata": {},
     "output_type": "execute_result"
    }
   ],
   "source": [
    "#Now the same procedure for the posts with tagged location \n",
    "df_yes"
   ]
  },
  {
   "cell_type": "code",
   "execution_count": null,
   "id": "00803fe3",
   "metadata": {},
   "outputs": [
    {
     "data": {
      "text/plain": [
       "12972772"
      ]
     },
     "execution_count": 51,
     "metadata": {},
     "output_type": "execute_result"
    }
   ],
   "source": [
    "#Now let's count\n",
    "no_location=len(df_not.index)\n",
    "no_location"
   ]
  },
  {
   "cell_type": "code",
   "execution_count": null,
   "id": "4fc6ec9f",
   "metadata": {},
   "outputs": [],
   "source": [
    "#Now the same procedure for the posts with tagged location \n"
   ]
  },
  {
   "cell_type": "code",
   "execution_count": null,
   "id": "08da8d9e",
   "metadata": {},
   "outputs": [
    {
     "data": {
      "text/plain": [
       "29737425"
      ]
     },
     "execution_count": 52,
     "metadata": {},
     "output_type": "execute_result"
    }
   ],
   "source": [
    "#Now let's count\n",
    "yes_location=len(df_yes.index)\n",
    "yes_location\n",
    "#{:,}'.format(len(no_loc.index))"
   ]
  },
  {
   "cell_type": "code",
   "execution_count": null,
   "id": "0df04499",
   "metadata": {},
   "outputs": [
    {
     "data": {
      "image/png": "[encoded data removed]",
      "text/plain": [
       "<Figure size 1080x1080 with 2 Axes>"
      ]
     },
     "metadata": {},
     "output_type": "display_data"
    }
   ],
   "source": [
    "#Showing the result using a pie chart, which is very usefull to catch the difference between the \n",
    "total_posts=yes_location+no_location\n",
    "yes_perc='{:.1%}'.format(yes_location/total_posts)\n",
    "no_perc='{:.1%}'.format(no_location/total_posts)\n",
    "myexplode=[0.0,0.1]\n",
    "\n",
    "#The plots\n",
    "fig, axs = plt.subplots(1,2)\n",
    "axs[0].pie([yes_location,no_location], \n",
    "                labels=[yes_perc,no_perc], \n",
    "                labeldistance=1.15, \n",
    "                colors=['steelblue','goldenrod'], \n",
    "                explode=myexplode)\n",
    "\n",
    "axs[1].pie([yes_location,no_location], \n",
    "                labels=['{:,}'.format(yes_location),\n",
    "                '{:,}'.format(no_location)], \n",
    "                labeldistance=1.15, \n",
    "                colors=['steelblue','goldenrod'], \n",
    "                explode=myexplode)\n",
    "                \n",
    "plt.legend(['yes_location','no_location'], bbox_to_anchor=(0.85,1.025), loc=\"upper left\")\n",
    "\n",
    "# Some cool features\n",
    "fig.tight_layout(pad=2.0)\n",
    "fig.set_figheight(15)\n",
    "fig.set_figwidth(15)\n",
    "plt.show() #remove the annoying text"
   ]
  },
  {
   "cell_type": "markdown",
   "id": "48ab522c",
   "metadata": {},
   "source": [
    "#### What did we get?"
   ]
  },
  {
   "cell_type": "markdown",
   "id": "0f821ac2",
   "metadata": {},
   "source": [
    "As we can see, the pie chart hightlights how small is the percentage of posts that do not include a tagged position. On the other side, the majority of the analyzed posts include tagged location."
   ]
  },
  {
   "cell_type": "markdown",
   "id": "2a1784b9",
   "metadata": {
    "jp-MarkdownHeadingCollapsed": true,
    "tags": []
   },
   "source": [
    "### How many posts include only photos? How many also have videos?"
   ]
  },
  {
   "cell_type": "code",
   "execution_count": null,
   "id": "901a8edd-6423-4b52-9a75-b70639ec6d2b",
   "metadata": {},
   "outputs": [
    {
     "name": "stderr",
     "output_type": "stream",
     "text": [
      "86it [02:14,  1.56s/it]\n"
     ]
    }
   ],
   "source": [
    "#TODO Rewrite it\n",
    "photos= 0\n",
    "photos_and_videos= 0\n",
    "for chunk in tqdm(pd.read_csv('/Users/the_redd_/Desktop/ADM/instagram_posts.csv', usecols=['post_id','post_type'],delimiter='\\t', chunksize=500000)):    \n",
    "    \n",
    "    total=chunk.groupby('post_type').count()\n",
    "    photos+=int(total.values[0])\n",
    "    photos_and_videos+=int(total.values[-1])"
   ]
  },
  {
   "cell_type": "code",
   "execution_count": null,
   "id": "9f35c3b8-da89-4023-ac47-dd4fe317467e",
   "metadata": {},
   "outputs": [
    {
     "name": "stdout",
     "output_type": "stream",
     "text": [
      "The posts that include only photos are:  41,534,486\n"
     ]
    }
   ],
   "source": [
    "print('The posts that include only photos are: ','{:,}'.format(photos))"
   ]
  },
  {
   "cell_type": "code",
   "execution_count": null,
   "id": "abf55822-af16-47e4-9218-54a65c397526",
   "metadata": {},
   "outputs": [
    {
     "name": "stdout",
     "output_type": "stream",
     "text": [
      "The posts that include both photos and videos are:  540,655\n"
     ]
    }
   ],
   "source": [
    "print('The posts that include both photos and videos are: ','{:,}'.format(photos_and_videos))"
   ]
  },
  {
   "cell_type": "markdown",
   "id": "67348cb3",
   "metadata": {
    "jp-MarkdownHeadingCollapsed": true,
    "tags": []
   },
   "source": [
    "### What's the percentage of business accounts vs non-business? What can you interpret regarding that percentage?"
   ]
  },
  {
   "cell_type": "code",
   "execution_count": null,
   "id": "73a14936",
   "metadata": {},
   "outputs": [],
   "source": [
    "profiles = pd.read_csv('/Users/the_redd_/Desktop/ADM/instagram_profiles.csv', \n",
    "                    sep='\\t', usecols=['is_business_account','profile_name'])"
   ]
  },
  {
   "cell_type": "code",
   "execution_count": null,
   "id": "af140d4d",
   "metadata": {},
   "outputs": [
    {
     "data": {
      "text/html": [
       "<div>\n",
       "<style scoped>\n",
       "    .dataframe tbody tr th:only-of-type {\n",
       "        vertical-align: middle;\n",
       "    }\n",
       "\n",
       "    .dataframe tbody tr th {\n",
       "        vertical-align: top;\n",
       "    }\n",
       "\n",
       "    .dataframe thead th {\n",
       "        text-align: right;\n",
       "    }\n",
       "</style>\n",
       "<table border=\"1\" class=\"dataframe\">\n",
       "  <thead>\n",
       "    <tr style=\"text-align: right;\">\n",
       "      <th></th>\n",
       "      <th>profile_name</th>\n",
       "      <th>is_business_account</th>\n",
       "    </tr>\n",
       "  </thead>\n",
       "  <tbody>\n",
       "    <tr>\n",
       "      <th>0</th>\n",
       "      <td>jphillip033</td>\n",
       "      <td>False</td>\n",
       "    </tr>\n",
       "    <tr>\n",
       "      <th>1</th>\n",
       "      <td>mama_haas</td>\n",
       "      <td>False</td>\n",
       "    </tr>\n",
       "    <tr>\n",
       "      <th>2</th>\n",
       "      <td>yellowlightbreen</td>\n",
       "      <td>False</td>\n",
       "    </tr>\n",
       "    <tr>\n",
       "      <th>3</th>\n",
       "      <td>tec1025</td>\n",
       "      <td>NaN</td>\n",
       "    </tr>\n",
       "    <tr>\n",
       "      <th>4</th>\n",
       "      <td>luckyfluff</td>\n",
       "      <td>NaN</td>\n",
       "    </tr>\n",
       "    <tr>\n",
       "      <th>...</th>\n",
       "      <td>...</td>\n",
       "      <td>...</td>\n",
       "    </tr>\n",
       "    <tr>\n",
       "      <th>4509581</th>\n",
       "      <td>karenarkesteyn</td>\n",
       "      <td>False</td>\n",
       "    </tr>\n",
       "    <tr>\n",
       "      <th>4509582</th>\n",
       "      <td>jornvlaeminck</td>\n",
       "      <td>NaN</td>\n",
       "    </tr>\n",
       "    <tr>\n",
       "      <th>4509583</th>\n",
       "      <td>s_degol</td>\n",
       "      <td>NaN</td>\n",
       "    </tr>\n",
       "    <tr>\n",
       "      <th>4509584</th>\n",
       "      <td>anwilms</td>\n",
       "      <td>False</td>\n",
       "    </tr>\n",
       "    <tr>\n",
       "      <th>4509585</th>\n",
       "      <td>arnaubassols_</td>\n",
       "      <td>NaN</td>\n",
       "    </tr>\n",
       "  </tbody>\n",
       "</table>\n",
       "<p>4509586 rows × 2 columns</p>\n",
       "</div>"
      ],
      "text/plain": [
       "             profile_name is_business_account\n",
       "0             jphillip033               False\n",
       "1               mama_haas               False\n",
       "2        yellowlightbreen               False\n",
       "3                 tec1025                 NaN\n",
       "4              luckyfluff                 NaN\n",
       "...                   ...                 ...\n",
       "4509581    karenarkesteyn               False\n",
       "4509582     jornvlaeminck                 NaN\n",
       "4509583           s_degol                 NaN\n",
       "4509584           anwilms               False\n",
       "4509585     arnaubassols_                 NaN\n",
       "\n",
       "[4509586 rows x 2 columns]"
      ]
     },
     "execution_count": 121,
     "metadata": {},
     "output_type": "execute_result"
    }
   ],
   "source": [
    "# Let's give a look to the dataset\n",
    "profiles"
   ]
  },
  {
   "cell_type": "code",
   "execution_count": null,
   "id": "7916c7bd",
   "metadata": {},
   "outputs": [
    {
     "data": {
      "text/plain": [
       "True"
      ]
     },
     "execution_count": 122,
     "metadata": {},
     "output_type": "execute_result"
    }
   ],
   "source": [
    "#Let's check for NaN\n",
    "profiles['is_business_account'].isnull().values.any()"
   ]
  },
  {
   "cell_type": "markdown",
   "id": "6e123ea7",
   "metadata": {},
   "source": [
    "In order to find a meaningfull percentage of business accounts vs non-business, we drop all the NaN values"
   ]
  },
  {
   "cell_type": "code",
   "execution_count": null,
   "id": "922b295d",
   "metadata": {},
   "outputs": [],
   "source": [
    "profiles.dropna(inplace=True)"
   ]
  },
  {
   "cell_type": "code",
   "execution_count": null,
   "id": "d7dba9ea",
   "metadata": {},
   "outputs": [
    {
     "data": {
      "text/plain": [
       "False"
      ]
     },
     "execution_count": 124,
     "metadata": {},
     "output_type": "execute_result"
    }
   ],
   "source": [
    "#Now let's check again if it worked\n",
    "profiles['is_business_account'].isnull().values.any()"
   ]
  },
  {
   "cell_type": "code",
   "execution_count": null,
   "id": "f498d62c",
   "metadata": {},
   "outputs": [
    {
     "data": {
      "text/plain": [
       "855254"
      ]
     },
     "execution_count": 125,
     "metadata": {},
     "output_type": "execute_result"
    }
   ],
   "source": [
    "# Cool, now let's count how many business account\n",
    "Business_account=len(profiles[profiles['is_business_account'] == True])\n",
    "Business_account"
   ]
  },
  {
   "cell_type": "code",
   "execution_count": null,
   "id": "9ab95948",
   "metadata": {},
   "outputs": [
    {
     "data": {
      "text/plain": [
       "2590069"
      ]
     },
     "execution_count": 126,
     "metadata": {},
     "output_type": "execute_result"
    }
   ],
   "source": [
    "# Now let's count how many NOT business account\n",
    "Not_business_account= len(profiles[profiles['is_business_account'] == False])\n",
    "Not_business_account"
   ]
  },
  {
   "cell_type": "code",
   "execution_count": null,
   "id": "671af3db",
   "metadata": {},
   "outputs": [
    {
     "data": {
      "text/plain": [
       "'24.8%'"
      ]
     },
     "execution_count": 127,
     "metadata": {},
     "output_type": "execute_result"
    }
   ],
   "source": [
    "#Now let's give a look at the percentage of Business Account on the total amount of accounts\n",
    "'{:.1%}'.format(Business_account/(Business_account+Not_business_account))"
   ]
  },
  {
   "cell_type": "code",
   "execution_count": null,
   "id": "0d1e7055",
   "metadata": {},
   "outputs": [],
   "source": [
    "#TODO Plot it!"
   ]
  },
  {
   "cell_type": "markdown",
   "id": "60393275",
   "metadata": {},
   "source": [
    "Since the percentage of business account on the total account is 24.8%, it means that for 3 non-business account there is a business account on our dataset."
   ]
  },
  {
   "cell_type": "markdown",
   "id": "561dedea",
   "metadata": {
    "jp-MarkdownHeadingCollapsed": true,
    "tags": []
   },
   "source": [
    "# [RQ3] Now it's important to understand the most common times in which users publish their posts"
   ]
  },
  {
   "cell_type": "markdown",
   "id": "104aa503",
   "metadata": {
    "tags": []
   },
   "source": [
    "### What is the most common time in which users publish their posts?"
   ]
  },
  {
   "cell_type": "code",
   "execution_count": null,
   "id": "10bc4a6a",
   "metadata": {},
   "outputs": [],
   "source": []
  },
  {
   "cell_type": "markdown",
   "id": "f447338b",
   "metadata": {},
   "source": [
    "### Create a function that receives a time intervals list as a parameter and returns a plot with the number of posts for each given interval."
   ]
  },
  {
   "cell_type": "code",
   "execution_count": null,
   "id": "ef819a2e",
   "metadata": {},
   "outputs": [],
   "source": []
  },
  {
   "cell_type": "markdown",
   "id": "e1af4a66",
   "metadata": {},
   "source": [
    "### Use the function that you created in the previous literal to plot the number of posts between the following time intervals:\n",
    "| Initial time | Final time   |\n",
    "|--------------|--------------|\n",
    "|   06:00:00   |    10:59:59  |\n",
    "|   11:00:00   |    13:59:59  |\n",
    "|   14:00:00   |    16:59:59  |\n",
    "|   17:00:00   |    19:59:59  |\n",
    "|   20:00:00   |    23:59:59  |\n",
    "|   00:00:00   |    02:59:59  |\n",
    "|   03:00:00   |    05:59:59  |\n",
    "\n"
   ]
  },
  {
   "cell_type": "markdown",
   "id": "864e220e",
   "metadata": {
    "tags": []
   },
   "source": [
    "# [RQ4] In most cases, we will not have a consistent dataset, and the one we are dealing with is not an exception (ex. in the given datasets, you may not find the information of the profiles for some of the posts). So let’s enhance our analysis."
   ]
  },
  {
   "cell_type": "markdown",
   "id": "cb0b545d",
   "metadata": {
    "jp-MarkdownHeadingCollapsed": true,
    "tags": []
   },
   "source": [
    "### Write a function that, given a profile_id, will be able to return the posts that belong to the given profile_id."
   ]
  },
  {
   "cell_type": "code",
   "execution_count": null,
   "id": "98d3740a",
   "metadata": {},
   "outputs": [],
   "source": [
    "def searchpost(profile_id):\n",
    "    df=pd.DataFrame(columns=['post_id','profile_id'])\n",
    "    for chunk in tqdm(pd.read_csv('/Users/the_redd_/Desktop/ADM/instagram_posts.csv', \n",
    "                                          usecols=['post_id','profile_id'], delimiter='\\t', chunksize=500000)):\n",
    "    \n",
    "        #chunk[chunk.profile_id == profile_id]\n",
    "        df=pd.concat([df,chunk[chunk.profile_id == profile_id]])\n",
    "    return df "
   ]
  },
  {
   "cell_type": "code",
   "execution_count": null,
   "id": "0817ff04-4cae-4820-99f8-eb7627a5c3e4",
   "metadata": {},
   "outputs": [
    {
     "name": "stderr",
     "output_type": "stream",
     "text": [
      "86it [02:13,  1.55s/it]\n"
     ]
    },
    {
     "data": {
      "text/html": [
       "<div>\n",
       "<style scoped>\n",
       "    .dataframe tbody tr th:only-of-type {\n",
       "        vertical-align: middle;\n",
       "    }\n",
       "\n",
       "    .dataframe tbody tr th {\n",
       "        vertical-align: top;\n",
       "    }\n",
       "\n",
       "    .dataframe thead th {\n",
       "        text-align: right;\n",
       "    }\n",
       "</style>\n",
       "<table border=\"1\" class=\"dataframe\">\n",
       "  <thead>\n",
       "    <tr style=\"text-align: right;\">\n",
       "      <th></th>\n",
       "      <th>post_id</th>\n",
       "      <th>profile_id</th>\n",
       "    </tr>\n",
       "  </thead>\n",
       "  <tbody>\n",
       "    <tr>\n",
       "      <th>1781533</th>\n",
       "      <td>EQltd</td>\n",
       "      <td>3.0</td>\n",
       "    </tr>\n",
       "    <tr>\n",
       "      <th>1939650</th>\n",
       "      <td>vY</td>\n",
       "      <td>3.0</td>\n",
       "    </tr>\n",
       "    <tr>\n",
       "      <th>2665638</th>\n",
       "      <td>QK72l</td>\n",
       "      <td>3.0</td>\n",
       "    </tr>\n",
       "    <tr>\n",
       "      <th>3111012</th>\n",
       "      <td>SYx-3pABAy</td>\n",
       "      <td>3.0</td>\n",
       "    </tr>\n",
       "    <tr>\n",
       "      <th>4225968</th>\n",
       "      <td>cz</td>\n",
       "      <td>3.0</td>\n",
       "    </tr>\n",
       "    <tr>\n",
       "      <th>7017554</th>\n",
       "      <td>TxM22</td>\n",
       "      <td>3.0</td>\n",
       "    </tr>\n",
       "    <tr>\n",
       "      <th>7042626</th>\n",
       "      <td>NQD4KAABKF</td>\n",
       "      <td>3.0</td>\n",
       "    </tr>\n",
       "    <tr>\n",
       "      <th>30920283</th>\n",
       "      <td>L-RzGwgBFZ</td>\n",
       "      <td>3.0</td>\n",
       "    </tr>\n",
       "    <tr>\n",
       "      <th>32570511</th>\n",
       "      <td>J5pNU</td>\n",
       "      <td>3.0</td>\n",
       "    </tr>\n",
       "    <tr>\n",
       "      <th>33906912</th>\n",
       "      <td>NLGU6</td>\n",
       "      <td>3.0</td>\n",
       "    </tr>\n",
       "    <tr>\n",
       "      <th>35149671</th>\n",
       "      <td>m</td>\n",
       "      <td>3.0</td>\n",
       "    </tr>\n",
       "    <tr>\n",
       "      <th>38385252</th>\n",
       "      <td>VPjQeqgBBy</td>\n",
       "      <td>3.0</td>\n",
       "    </tr>\n",
       "    <tr>\n",
       "      <th>39158080</th>\n",
       "      <td>0vQf</td>\n",
       "      <td>3.0</td>\n",
       "    </tr>\n",
       "    <tr>\n",
       "      <th>39517938</th>\n",
       "      <td>xI</td>\n",
       "      <td>3.0</td>\n",
       "    </tr>\n",
       "  </tbody>\n",
       "</table>\n",
       "</div>"
      ],
      "text/plain": [
       "             post_id  profile_id\n",
       "1781533        EQltd         3.0\n",
       "1939650           vY         3.0\n",
       "2665638        QK72l         3.0\n",
       "3111012   SYx-3pABAy         3.0\n",
       "4225968           cz         3.0\n",
       "7017554        TxM22         3.0\n",
       "7042626   NQD4KAABKF         3.0\n",
       "30920283  L-RzGwgBFZ         3.0\n",
       "32570511       J5pNU         3.0\n",
       "33906912       NLGU6         3.0\n",
       "35149671           m         3.0\n",
       "38385252  VPjQeqgBBy         3.0\n",
       "39158080        0vQf         3.0\n",
       "39517938          xI         3.0"
      ]
     },
     "execution_count": 163,
     "metadata": {},
     "output_type": "execute_result"
    }
   ],
   "source": [
    "searchpost(profile_id=3.0)"
   ]
  },
  {
   "cell_type": "markdown",
   "id": "1b4caa77",
   "metadata": {
    "tags": []
   },
   "source": [
    "### Write another function that, given an input n (an integer), will return the posts that belong to the n top posted profiles (top n profiles that have posted the highest number of posts) that their data is available in the profile.csv using the previously written function."
   ]
  },
  {
   "cell_type": "code",
   "execution_count": null,
   "id": "e4311c2f",
   "metadata": {},
   "outputs": [],
   "source": [
    "#TODO check this function\n",
    "def top_posts(n):\n",
    "    profiles = pd.read_csv('/Users/the_redd_/Desktop/ADM/instagram_profiles.csv', \n",
    "                    sep='\\t', usecols=['profile_name','n_posts', 'profile_id'])\n",
    "    df=pd.DataFrame(columns=['profile_id','post_id'])\n",
    "    top=profiles.sort_values('n_posts', ascending=False).head(n)\n",
    "    for profile_id in top.profile_id.values:\n",
    "        df=pd.concat([df,searchpost(profile_id)])\n",
    "    return df"
   ]
  },
  {
   "cell_type": "code",
   "execution_count": null,
   "id": "6eb7d5e2-e912-4925-8756-b5166ae588c1",
   "metadata": {},
   "outputs": [
    {
     "name": "stderr",
     "output_type": "stream",
     "text": [
      "86it [02:15,  1.58s/it]\n",
      "86it [02:16,  1.58s/it]\n"
     ]
    },
    {
     "data": {
      "text/html": [
       "<div>\n",
       "<style scoped>\n",
       "    .dataframe tbody tr th:only-of-type {\n",
       "        vertical-align: middle;\n",
       "    }\n",
       "\n",
       "    .dataframe tbody tr th {\n",
       "        vertical-align: top;\n",
       "    }\n",
       "\n",
       "    .dataframe thead th {\n",
       "        text-align: right;\n",
       "    }\n",
       "</style>\n",
       "<table border=\"1\" class=\"dataframe\">\n",
       "  <thead>\n",
       "    <tr style=\"text-align: right;\">\n",
       "      <th></th>\n",
       "      <th>profile_id</th>\n",
       "      <th>post_id</th>\n",
       "    </tr>\n",
       "  </thead>\n",
       "  <tbody>\n",
       "    <tr>\n",
       "      <th>9592952</th>\n",
       "      <td>1.996648e+08</td>\n",
       "      <td>Bq3hP3Khp8J</td>\n",
       "    </tr>\n",
       "    <tr>\n",
       "      <th>9592953</th>\n",
       "      <td>1.996648e+08</td>\n",
       "      <td>Bq3hN53hUsD</td>\n",
       "    </tr>\n",
       "    <tr>\n",
       "      <th>9592954</th>\n",
       "      <td>1.996648e+08</td>\n",
       "      <td>BCqCe9LypeF</td>\n",
       "    </tr>\n",
       "    <tr>\n",
       "      <th>9592955</th>\n",
       "      <td>1.996648e+08</td>\n",
       "      <td>20Wu4zypd2</td>\n",
       "    </tr>\n",
       "    <tr>\n",
       "      <th>9592956</th>\n",
       "      <td>1.996648e+08</td>\n",
       "      <td>BrKq76AhadU</td>\n",
       "    </tr>\n",
       "    <tr>\n",
       "      <th>9592957</th>\n",
       "      <td>1.996648e+08</td>\n",
       "      <td>Bq_MjFzB_Wt</td>\n",
       "    </tr>\n",
       "    <tr>\n",
       "      <th>9592958</th>\n",
       "      <td>1.996648e+08</td>\n",
       "      <td>Bq_MiKhhP05</td>\n",
       "    </tr>\n",
       "    <tr>\n",
       "      <th>9592959</th>\n",
       "      <td>1.996648e+08</td>\n",
       "      <td>BpQ2cmKF-W0</td>\n",
       "    </tr>\n",
       "    <tr>\n",
       "      <th>9592960</th>\n",
       "      <td>1.996648e+08</td>\n",
       "      <td>3V4OeXypTT</td>\n",
       "    </tr>\n",
       "    <tr>\n",
       "      <th>9592961</th>\n",
       "      <td>1.996648e+08</td>\n",
       "      <td>BzUmjr2pgni</td>\n",
       "    </tr>\n",
       "    <tr>\n",
       "      <th>9592962</th>\n",
       "      <td>1.996648e+08</td>\n",
       "      <td>BzUmictJSO1</td>\n",
       "    </tr>\n",
       "    <tr>\n",
       "      <th>9592963</th>\n",
       "      <td>1.996648e+08</td>\n",
       "      <td>BzUmhW0pjrN</td>\n",
       "    </tr>\n",
       "    <tr>\n",
       "      <th>9592964</th>\n",
       "      <td>1.996648e+08</td>\n",
       "      <td>BzUmgscJEK4</td>\n",
       "    </tr>\n",
       "    <tr>\n",
       "      <th>9592965</th>\n",
       "      <td>1.996648e+08</td>\n",
       "      <td>BzUmgBYJzoS</td>\n",
       "    </tr>\n",
       "    <tr>\n",
       "      <th>9592966</th>\n",
       "      <td>1.996648e+08</td>\n",
       "      <td>BzUmfZspDqA</td>\n",
       "    </tr>\n",
       "    <tr>\n",
       "      <th>9592967</th>\n",
       "      <td>1.996648e+08</td>\n",
       "      <td>BzUmejDptYx</td>\n",
       "    </tr>\n",
       "    <tr>\n",
       "      <th>9592968</th>\n",
       "      <td>1.996648e+08</td>\n",
       "      <td>BzUmdnupYxW</td>\n",
       "    </tr>\n",
       "    <tr>\n",
       "      <th>9592969</th>\n",
       "      <td>1.996648e+08</td>\n",
       "      <td>BzUmcZRpTTn</td>\n",
       "    </tr>\n",
       "    <tr>\n",
       "      <th>9593158</th>\n",
       "      <td>1.996648e+08</td>\n",
       "      <td>BzScUjhJiwK</td>\n",
       "    </tr>\n",
       "    <tr>\n",
       "      <th>9593159</th>\n",
       "      <td>1.996648e+08</td>\n",
       "      <td>BzRkojLJBMQ</td>\n",
       "    </tr>\n",
       "    <tr>\n",
       "      <th>9593160</th>\n",
       "      <td>1.996648e+08</td>\n",
       "      <td>BzRkmb3JXea</td>\n",
       "    </tr>\n",
       "    <tr>\n",
       "      <th>24956847</th>\n",
       "      <td>8.563367e+09</td>\n",
       "      <td>BxJpvMrpl0n</td>\n",
       "    </tr>\n",
       "    <tr>\n",
       "      <th>24978956</th>\n",
       "      <td>8.563367e+09</td>\n",
       "      <td>BxJpeX2pXeN</td>\n",
       "    </tr>\n",
       "    <tr>\n",
       "      <th>24979865</th>\n",
       "      <td>8.563367e+09</td>\n",
       "      <td>BxJptNSpk6g</td>\n",
       "    </tr>\n",
       "    <tr>\n",
       "      <th>24979875</th>\n",
       "      <td>8.563367e+09</td>\n",
       "      <td>BxJpzW4J6Aq</td>\n",
       "    </tr>\n",
       "    <tr>\n",
       "      <th>24979879</th>\n",
       "      <td>8.563367e+09</td>\n",
       "      <td>BxJpgQMJa66</td>\n",
       "    </tr>\n",
       "    <tr>\n",
       "      <th>24979938</th>\n",
       "      <td>8.563367e+09</td>\n",
       "      <td>BxJp2qgpVJo</td>\n",
       "    </tr>\n",
       "    <tr>\n",
       "      <th>24979946</th>\n",
       "      <td>8.563367e+09</td>\n",
       "      <td>BxJpxSLp4rB</td>\n",
       "    </tr>\n",
       "    <tr>\n",
       "      <th>24979961</th>\n",
       "      <td>8.563367e+09</td>\n",
       "      <td>BxJpcZ0JRqN</td>\n",
       "    </tr>\n",
       "    <tr>\n",
       "      <th>24979983</th>\n",
       "      <td>8.563367e+09</td>\n",
       "      <td>BxJp4i3pArJ</td>\n",
       "    </tr>\n",
       "    <tr>\n",
       "      <th>24980045</th>\n",
       "      <td>8.563367e+09</td>\n",
       "      <td>BxJpq3dppxY</td>\n",
       "    </tr>\n",
       "    <tr>\n",
       "      <th>24980073</th>\n",
       "      <td>8.563367e+09</td>\n",
       "      <td>BxJp6dVJvtO</td>\n",
       "    </tr>\n",
       "    <tr>\n",
       "      <th>24980074</th>\n",
       "      <td>8.563367e+09</td>\n",
       "      <td>BxJposzpeA7</td>\n",
       "    </tr>\n",
       "    <tr>\n",
       "      <th>24980075</th>\n",
       "      <td>8.563367e+09</td>\n",
       "      <td>BxJpmohpwK2</td>\n",
       "    </tr>\n",
       "    <tr>\n",
       "      <th>24980076</th>\n",
       "      <td>8.563367e+09</td>\n",
       "      <td>BxJpkrrJ0b3</td>\n",
       "    </tr>\n",
       "    <tr>\n",
       "      <th>24980077</th>\n",
       "      <td>8.563367e+09</td>\n",
       "      <td>BxJpijSJd_f</td>\n",
       "    </tr>\n",
       "  </tbody>\n",
       "</table>\n",
       "</div>"
      ],
      "text/plain": [
       "            profile_id      post_id\n",
       "9592952   1.996648e+08  Bq3hP3Khp8J\n",
       "9592953   1.996648e+08  Bq3hN53hUsD\n",
       "9592954   1.996648e+08  BCqCe9LypeF\n",
       "9592955   1.996648e+08   20Wu4zypd2\n",
       "9592956   1.996648e+08  BrKq76AhadU\n",
       "9592957   1.996648e+08  Bq_MjFzB_Wt\n",
       "9592958   1.996648e+08  Bq_MiKhhP05\n",
       "9592959   1.996648e+08  BpQ2cmKF-W0\n",
       "9592960   1.996648e+08   3V4OeXypTT\n",
       "9592961   1.996648e+08  BzUmjr2pgni\n",
       "9592962   1.996648e+08  BzUmictJSO1\n",
       "9592963   1.996648e+08  BzUmhW0pjrN\n",
       "9592964   1.996648e+08  BzUmgscJEK4\n",
       "9592965   1.996648e+08  BzUmgBYJzoS\n",
       "9592966   1.996648e+08  BzUmfZspDqA\n",
       "9592967   1.996648e+08  BzUmejDptYx\n",
       "9592968   1.996648e+08  BzUmdnupYxW\n",
       "9592969   1.996648e+08  BzUmcZRpTTn\n",
       "9593158   1.996648e+08  BzScUjhJiwK\n",
       "9593159   1.996648e+08  BzRkojLJBMQ\n",
       "9593160   1.996648e+08  BzRkmb3JXea\n",
       "24956847  8.563367e+09  BxJpvMrpl0n\n",
       "24978956  8.563367e+09  BxJpeX2pXeN\n",
       "24979865  8.563367e+09  BxJptNSpk6g\n",
       "24979875  8.563367e+09  BxJpzW4J6Aq\n",
       "24979879  8.563367e+09  BxJpgQMJa66\n",
       "24979938  8.563367e+09  BxJp2qgpVJo\n",
       "24979946  8.563367e+09  BxJpxSLp4rB\n",
       "24979961  8.563367e+09  BxJpcZ0JRqN\n",
       "24979983  8.563367e+09  BxJp4i3pArJ\n",
       "24980045  8.563367e+09  BxJpq3dppxY\n",
       "24980073  8.563367e+09  BxJp6dVJvtO\n",
       "24980074  8.563367e+09  BxJposzpeA7\n",
       "24980075  8.563367e+09  BxJpmohpwK2\n",
       "24980076  8.563367e+09  BxJpkrrJ0b3\n",
       "24980077  8.563367e+09  BxJpijSJd_f"
      ]
     },
     "execution_count": 192,
     "metadata": {},
     "output_type": "execute_result"
    }
   ],
   "source": [
    "top_posts(2)"
   ]
  },
  {
   "cell_type": "markdown",
   "id": "fd682ad2",
   "metadata": {
    "jp-MarkdownHeadingCollapsed": true,
    "tags": []
   },
   "source": [
    "### What is the average number of \"likes\" and comments of the top 10 profiles with the highest number of posts which their information is available in profile.csv?"
   ]
  },
  {
   "cell_type": "code",
   "execution_count": null,
   "id": "b73eaccb",
   "metadata": {},
   "outputs": [],
   "source": [
    "likes=[]\n",
    "comments=[]\n",
    "for chunk in tqdm(pd.read_csv('/Users/the_redd_/Desktop/ADM/instagram_posts.csv', \n",
    "                                        usecols=['post_id','numbr_likes','number_comments'], delimiter='\\t', chunksize=500000)):\n",
    "    for post in range(len(top_posts(10).post_id.values)):\n",
    "        if chunk.post_id.values[post] == top_posts(10).post_id.values[post]:\n",
    "            likes.append(chunk.numbr_likes.values[post])\n",
    "            comments.append(chunk.number_comments.values[post])"
   ]
  },
  {
   "cell_type": "code",
   "execution_count": null,
   "id": "fa65c1d4-f4af-4056-b7f4-ed1b3a6836aa",
   "metadata": {},
   "outputs": [
    {
     "name": "stderr",
     "output_type": "stream",
     "text": [
      "86it [04:24,  3.07s/it]\n",
      "86it [04:24,  3.08s/it]\n",
      "86it [04:23,  3.06s/it]\n",
      "86it [04:18,  3.01s/it]\n",
      "86it [04:20,  3.03s/it]\n",
      "86it [04:22,  3.05s/it]\n",
      "86it [04:22,  3.05s/it]\n",
      "86it [04:20,  3.03s/it]\n",
      "86it [04:20,  3.03s/it]\n",
      "86it [04:22,  3.05s/it]\n"
     ]
    }
   ],
   "source": [
    "likes=[]\n",
    "comments=[]\n",
    "df=pd.DataFrame(columns=['post_id','numbr_likes','number_comments'])\n",
    "profiles = pd.read_csv('/Users/the_redd_/Desktop/ADM/instagram_profiles.csv', \n",
    "                       sep='\\t', usecols=['profile_name','n_posts', 'profile_id'])\n",
    "top=profiles.sort_values('n_posts', ascending=False).head(10)\n",
    "for i in top.profile_id.values:\n",
    "    for chunk in tqdm(pd.read_csv('/Users/the_redd_/Desktop/ADM/instagram_posts.csv', \n",
    "                                        usecols=['post_id','numbr_likes','number_comments'], delimiter='\\t', chunksize=500000)):\n",
    "        row=chunk[chunk.post_id == i]\n",
    "        df=pd.concat([df,row])"
   ]
  },
  {
   "cell_type": "code",
   "execution_count": null,
   "id": "9226eed9-45f1-4168-8e56-e09eaea7f323",
   "metadata": {},
   "outputs": [
    {
     "data": {
      "text/html": [
       "<div>\n",
       "<style scoped>\n",
       "    .dataframe tbody tr th:only-of-type {\n",
       "        vertical-align: middle;\n",
       "    }\n",
       "\n",
       "    .dataframe tbody tr th {\n",
       "        vertical-align: top;\n",
       "    }\n",
       "\n",
       "    .dataframe thead th {\n",
       "        text-align: right;\n",
       "    }\n",
       "</style>\n",
       "<table border=\"1\" class=\"dataframe\">\n",
       "  <thead>\n",
       "    <tr style=\"text-align: right;\">\n",
       "      <th></th>\n",
       "      <th>post_id</th>\n",
       "      <th>numbr_likes</th>\n",
       "      <th>number_comments</th>\n",
       "    </tr>\n",
       "  </thead>\n",
       "  <tbody>\n",
       "  </tbody>\n",
       "</table>\n",
       "</div>"
      ],
      "text/plain": [
       "Empty DataFrame\n",
       "Columns: [post_id, numbr_likes, number_comments]\n",
       "Index: []"
      ]
     },
     "execution_count": 233,
     "metadata": {},
     "output_type": "execute_result"
    }
   ],
   "source": [
    "df"
   ]
  },
  {
   "cell_type": "markdown",
   "id": "a5003107",
   "metadata": {
    "jp-MarkdownHeadingCollapsed": true,
    "tags": []
   },
   "source": [
    "### Plot the number of posts that these top 10 profiles have sent on Instagram in the given interval in question RQ3. Interpret the resulting chart."
   ]
  },
  {
   "cell_type": "code",
   "execution_count": null,
   "id": "7c7b3876",
   "metadata": {},
   "outputs": [
    {
     "data": {
      "text/html": [
       "<div>\n",
       "<style scoped>\n",
       "    .dataframe tbody tr th:only-of-type {\n",
       "        vertical-align: middle;\n",
       "    }\n",
       "\n",
       "    .dataframe tbody tr th {\n",
       "        vertical-align: top;\n",
       "    }\n",
       "\n",
       "    .dataframe thead th {\n",
       "        text-align: right;\n",
       "    }\n",
       "</style>\n",
       "<table border=\"1\" class=\"dataframe\">\n",
       "  <thead>\n",
       "    <tr style=\"text-align: right;\">\n",
       "      <th></th>\n",
       "      <th>X</th>\n",
       "      <th>Y</th>\n",
       "      <th>Z</th>\n",
       "    </tr>\n",
       "  </thead>\n",
       "  <tbody>\n",
       "    <tr>\n",
       "      <th>0</th>\n",
       "      <td>78</td>\n",
       "      <td>84</td>\n",
       "      <td>86</td>\n",
       "    </tr>\n",
       "    <tr>\n",
       "      <th>1</th>\n",
       "      <td>85</td>\n",
       "      <td>94</td>\n",
       "      <td>97</td>\n",
       "    </tr>\n",
       "    <tr>\n",
       "      <th>2</th>\n",
       "      <td>96</td>\n",
       "      <td>89</td>\n",
       "      <td>96</td>\n",
       "    </tr>\n",
       "    <tr>\n",
       "      <th>3</th>\n",
       "      <td>85</td>\n",
       "      <td>83</td>\n",
       "      <td>72</td>\n",
       "    </tr>\n",
       "    <tr>\n",
       "      <th>4</th>\n",
       "      <td>86</td>\n",
       "      <td>86</td>\n",
       "      <td>83</td>\n",
       "    </tr>\n",
       "  </tbody>\n",
       "</table>\n",
       "</div>"
      ],
      "text/plain": [
       "    X   Y   Z\n",
       "0  78  84  86\n",
       "1  85  94  97\n",
       "2  96  89  96\n",
       "3  85  83  72\n",
       "4  86  86  83"
      ]
     },
     "execution_count": 219,
     "metadata": {},
     "output_type": "execute_result"
    }
   ],
   "source": [
    "df = pd.DataFrame({'X':[78,85,96,85,86], 'Y':[84,94,89,83,86], 'Z':[86,97,96,72,83]})\n",
    "df"
   ]
  },
  {
   "cell_type": "code",
   "execution_count": null,
   "id": "c6a0ee71-b9b6-438f-a1da-80800cb6ce6e",
   "metadata": {},
   "outputs": [
    {
     "name": "stdout",
     "output_type": "stream",
     "text": [
      "[97, 72]\n"
     ]
    }
   ],
   "source": [
    "a=[]\n",
    "for i in range(len(df.X.values)):\n",
    "    if df.X.values[i] == 85:\n",
    "        a.append(df.Z.values[i])\n",
    "print(a)"
   ]
  },
  {
   "cell_type": "markdown",
   "id": "3623b58f",
   "metadata": {},
   "source": [
    "### [RQ5] The most influential users are the ones with the highest number of “followers\", you can now look more into their activity."
   ]
  },
  {
   "cell_type": "code",
   "execution_count": null,
   "id": "b792b671",
   "metadata": {},
   "outputs": [],
   "source": []
  },
  {
   "cell_type": "markdown",
   "id": "9b43997c",
   "metadata": {},
   "source": [
    "### Plot the top 10 most popular users in terms of followers and their number of posts."
   ]
  },
  {
   "cell_type": "code",
   "execution_count": null,
   "id": "cf0f74de",
   "metadata": {},
   "outputs": [],
   "source": []
  },
  {
   "cell_type": "markdown",
   "id": "43feb501",
   "metadata": {},
   "source": [
    "### Who is the most influential user?"
   ]
  },
  {
   "cell_type": "code",
   "execution_count": null,
   "id": "76846afc",
   "metadata": {},
   "outputs": [],
   "source": []
  },
  {
   "cell_type": "markdown",
   "id": "a6e82743",
   "metadata": {},
   "source": [
    "### Have they posted anything with tagged locations? Extract the most frequent areas on their posts and plot the number of times each city has been visited."
   ]
  },
  {
   "cell_type": "code",
   "execution_count": null,
   "id": "b89a5251",
   "metadata": {},
   "outputs": [],
   "source": []
  },
  {
   "cell_type": "markdown",
   "id": "ff47ea5f",
   "metadata": {},
   "source": [
    "### How many pictures-only posts have they published? How many reels? (only videos) and how many with both contents? Provide the number as percentages and interpret those figures."
   ]
  },
  {
   "cell_type": "code",
   "execution_count": null,
   "id": "7596df9f",
   "metadata": {},
   "outputs": [],
   "source": []
  },
  {
   "cell_type": "markdown",
   "id": "3b0425c4",
   "metadata": {},
   "source": [
    "### How many \"likes\" and comments did posts with only pictures receive? How about videos and mixed posts? Try to provide the average numbers and confront them with their followers amount, explaining what you can say from that comparison."
   ]
  },
  {
   "cell_type": "code",
   "execution_count": null,
   "id": "04b7c2b9",
   "metadata": {},
   "outputs": [],
   "source": []
  },
  {
   "cell_type": "markdown",
   "id": "47c5f739",
   "metadata": {},
   "source": []
  },
  {
   "cell_type": "code",
   "execution_count": null,
   "id": "0bc73e97",
   "metadata": {},
   "outputs": [],
   "source": []
  }
 ],
 "metadata": {
  "kernelspec": {
   "display_name": "Python 3.9.12 ('base')",
   "language": "python",
   "name": "python3"
  },
  "language_info": {
   "codemirror_mode": {
    "name": "ipython",
    "version": 3
   },
   "file_extension": ".py",
   "mimetype": "text/x-python",
   "name": "python",
   "nbconvert_exporter": "python",
   "pygments_lexer": "ipython3",
   "version": "3.9.12"
  },
  "vscode": {
   "interpreter": {
    "hash": "cd94c265d0cd8d4c5ed894c320907f0fc1771c221568605f48fbe0110aecbb76"
   }
  }
 },
 "nbformat": 4,
 "nbformat_minor": 5
}
