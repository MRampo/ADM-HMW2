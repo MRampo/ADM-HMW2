{
 "cells": [
  {
   "cell_type": "code",
   "execution_count": null,
   "id": "b4eed3ae",
   "metadata": {},
   "outputs": [],
   "source": [
    "import pandas as pd\n",
    "import numpy as np\n",
    "import matplotlib.pyplot as plt\n",
    "import seaborn as sns\n",
    "from tqdm import tqdm\n",
    "from pandas_profiling import ProfileReport\n",
    "import seaborn as sns\n",
    "import math\n",
    "import datatable as dt\n",
    "from datatable import sort, f, rowall"
   ]
  },
  {
   "cell_type": "markdown",
   "id": "97c2faff-6abe-408c-a246-1594b162790d",
   "metadata": {
    "tags": []
   },
   "source": [
    "# Import dataframes"
   ]
  },
  {
   "cell_type": "markdown",
   "id": "09e0398c-6bae-4d43-a914-46f9626f4ce6",
   "metadata": {
    "jp-MarkdownHeadingCollapsed": true,
    "tags": []
   },
   "source": [
    "### Posts"
   ]
  },
  {
   "cell_type": "code",
<<<<<<< HEAD
   "execution_count": null,
   "id": "3f54f40f-bad5-4476-92e4-dd18d2db7989",
=======
   "execution_count": 2,
   "id": "1f41ec1a-07b6-4654-9755-14791dc9cb7a",
>>>>>>> 683ed17eff6ce786006604e559354cd467a94b8f
   "metadata": {},
   "outputs": [
    {
     "name": "stdout",
     "output_type": "stream",
     "text": [
      "Collecting pandas-profiling\n",
      "  Downloading pandas_profiling-3.3.0-py2.py3-none-any.whl (268 kB)\n",
      "Requirement already satisfied: pandas!=1.4.0,<1.5,>1.1 in c:\\users\\matteo\\anaconda3\\lib\\site-packages (from pandas-profiling) (1.4.2)\n",
      "Requirement already satisfied: joblib~=1.1.0 in c:\\users\\matteo\\anaconda3\\lib\\site-packages (from pandas-profiling) (1.1.0)\n",
      "Collecting htmlmin==0.1.12\n",
      "  Downloading htmlmin-0.1.12.tar.gz (19 kB)\n",
      "Requirement already satisfied: tqdm<4.65,>=4.48.2 in c:\\users\\matteo\\anaconda3\\lib\\site-packages (from pandas-profiling) (4.64.0)\n",
      "Requirement already satisfied: matplotlib<3.6,>=3.2 in c:\\users\\matteo\\anaconda3\\lib\\site-packages (from pandas-profiling) (3.5.1)\n",
      "Requirement already satisfied: scipy<1.10,>=1.4.1 in c:\\users\\matteo\\anaconda3\\lib\\site-packages (from pandas-profiling) (1.7.3)\n",
      "Requirement already satisfied: requests<2.29,>=2.24.0 in c:\\users\\matteo\\anaconda3\\lib\\site-packages (from pandas-profiling) (2.27.1)\n",
      "Requirement already satisfied: statsmodels<0.14,>=0.13.2 in c:\\users\\matteo\\anaconda3\\lib\\site-packages (from pandas-profiling) (0.13.2)\n",
      "Collecting phik<0.13,>=0.11.1\n",
      "  Downloading phik-0.12.2-cp39-cp39-win_amd64.whl (685 kB)\n",
      "Requirement already satisfied: jinja2<3.2,>=2.11.1 in c:\\users\\matteo\\anaconda3\\lib\\site-packages (from pandas-profiling) (2.11.3)\n",
      "Collecting pydantic<1.10,>=1.8.1\n",
      "  Downloading pydantic-1.9.2-cp39-cp39-win_amd64.whl (2.0 MB)\n",
      "Collecting missingno<0.6,>=0.4.2\n",
      "  Downloading missingno-0.5.1-py3-none-any.whl (8.7 kB)\n",
      "Requirement already satisfied: numpy<1.24,>=1.16.0 in c:\\users\\matteo\\anaconda3\\lib\\site-packages (from pandas-profiling) (1.21.5)\n",
      "Collecting tangled-up-in-unicode==0.2.0\n",
      "  Downloading tangled_up_in_unicode-0.2.0-py3-none-any.whl (4.7 MB)\n",
      "Collecting visions[type_image_path]==0.7.5\n",
      "  Downloading visions-0.7.5-py3-none-any.whl (102 kB)\n",
      "Requirement already satisfied: PyYAML<6.1,>=5.0.0 in c:\\users\\matteo\\anaconda3\\lib\\site-packages (from pandas-profiling) (6.0)\n",
      "Requirement already satisfied: seaborn<0.12,>=0.10.1 in c:\\users\\matteo\\anaconda3\\lib\\site-packages (from pandas-profiling) (0.11.2)\n",
      "Collecting multimethod<1.9,>=1.4\n",
      "  Downloading multimethod-1.8-py3-none-any.whl (9.8 kB)\n",
      "Requirement already satisfied: networkx>=2.4 in c:\\users\\matteo\\anaconda3\\lib\\site-packages (from visions[type_image_path]==0.7.5->pandas-profiling) (2.7.1)\n",
      "Requirement already satisfied: attrs>=19.3.0 in c:\\users\\matteo\\anaconda3\\lib\\site-packages (from visions[type_image_path]==0.7.5->pandas-profiling) (21.4.0)\n",
      "Collecting imagehash\n",
      "  Downloading ImageHash-4.3.1-py2.py3-none-any.whl (296 kB)\n",
      "Requirement already satisfied: Pillow in c:\\users\\matteo\\anaconda3\\lib\\site-packages (from visions[type_image_path]==0.7.5->pandas-profiling) (9.0.1)\n",
      "Requirement already satisfied: MarkupSafe>=0.23 in c:\\users\\matteo\\anaconda3\\lib\\site-packages (from jinja2<3.2,>=2.11.1->pandas-profiling) (2.0.1)\n",
      "Requirement already satisfied: packaging>=20.0 in c:\\users\\matteo\\anaconda3\\lib\\site-packages (from matplotlib<3.6,>=3.2->pandas-profiling) (21.3)\n",
      "Requirement already satisfied: fonttools>=4.22.0 in c:\\users\\matteo\\anaconda3\\lib\\site-packages (from matplotlib<3.6,>=3.2->pandas-profiling) (4.25.0)\n",
      "Requirement already satisfied: python-dateutil>=2.7 in c:\\users\\matteo\\anaconda3\\lib\\site-packages (from matplotlib<3.6,>=3.2->pandas-profiling) (2.8.2)\n",
      "Requirement already satisfied: pyparsing>=2.2.1 in c:\\users\\matteo\\anaconda3\\lib\\site-packages (from matplotlib<3.6,>=3.2->pandas-profiling) (3.0.4)\n",
      "Requirement already satisfied: cycler>=0.10 in c:\\users\\matteo\\anaconda3\\lib\\site-packages (from matplotlib<3.6,>=3.2->pandas-profiling) (0.11.0)\n",
      "Requirement already satisfied: kiwisolver>=1.0.1 in c:\\users\\matteo\\anaconda3\\lib\\site-packages (from matplotlib<3.6,>=3.2->pandas-profiling) (1.3.2)\n",
      "Requirement already satisfied: pytz>=2020.1 in c:\\users\\matteo\\anaconda3\\lib\\site-packages (from pandas!=1.4.0,<1.5,>1.1->pandas-profiling) (2021.3)\n",
      "Requirement already satisfied: typing-extensions>=3.7.4.3 in c:\\users\\matteo\\anaconda3\\lib\\site-packages (from pydantic<1.10,>=1.8.1->pandas-profiling) (4.1.1)\n",
      "Requirement already satisfied: six>=1.5 in c:\\users\\matteo\\anaconda3\\lib\\site-packages (from python-dateutil>=2.7->matplotlib<3.6,>=3.2->pandas-profiling) (1.16.0)\n",
      "Requirement already satisfied: urllib3<1.27,>=1.21.1 in c:\\users\\matteo\\anaconda3\\lib\\site-packages (from requests<2.29,>=2.24.0->pandas-profiling) (1.26.9)\n",
      "Requirement already satisfied: certifi>=2017.4.17 in c:\\users\\matteo\\anaconda3\\lib\\site-packages (from requests<2.29,>=2.24.0->pandas-profiling) (2021.10.8)\n",
      "Requirement already satisfied: charset-normalizer~=2.0.0 in c:\\users\\matteo\\anaconda3\\lib\\site-packages (from requests<2.29,>=2.24.0->pandas-profiling) (2.0.4)\n",
      "Requirement already satisfied: idna<4,>=2.5 in c:\\users\\matteo\\anaconda3\\lib\\site-packages (from requests<2.29,>=2.24.0->pandas-profiling) (3.3)\n",
      "Requirement already satisfied: patsy>=0.5.2 in c:\\users\\matteo\\anaconda3\\lib\\site-packages (from statsmodels<0.14,>=0.13.2->pandas-profiling) (0.5.2)\n",
      "Requirement already satisfied: colorama in c:\\users\\matteo\\anaconda3\\lib\\site-packages (from tqdm<4.65,>=4.48.2->pandas-profiling) (0.4.4)\n",
      "Requirement already satisfied: PyWavelets in c:\\users\\matteo\\anaconda3\\lib\\site-packages (from imagehash->visions[type_image_path]==0.7.5->pandas-profiling) (1.3.0)\n",
      "Building wheels for collected packages: htmlmin\n",
      "  Building wheel for htmlmin (setup.py): started\n",
      "  Building wheel for htmlmin (setup.py): finished with status 'done'\n",
      "  Created wheel for htmlmin: filename=htmlmin-0.1.12-py3-none-any.whl size=27096 sha256=95eb471a1130d72d528b5b2e3f1e39b6b0d2469aca7b14ab93b46f337ebcd79e\n",
      "  Stored in directory: c:\\users\\matteo\\appdata\\local\\pip\\cache\\wheels\\1d\\05\\04\\c6d7d3b66539d9e659ac6dfe81e2d0fd4c1a8316cc5a403300\n",
      "Successfully built htmlmin\n",
      "Installing collected packages: tangled-up-in-unicode, multimethod, visions, imagehash, pydantic, phik, missingno, htmlmin, pandas-profiling\n",
      "Successfully installed htmlmin-0.1.12 imagehash-4.3.1 missingno-0.5.1 multimethod-1.8 pandas-profiling-3.3.0 phik-0.12.2 pydantic-1.9.2 tangled-up-in-unicode-0.2.0 visions-0.7.5\n",
      "Note: you may need to restart the kernel to use updated packages.\n"
     ]
    }
   ],
   "source": [
    "%%time\n",
    "\n",
    "posts_datatable = dt.fread(\"/Users/the_redd_/Desktop/ADM/instagram_posts.csv\")"
   ]
  },
  {
   "cell_type": "code",
<<<<<<< HEAD
   "execution_count": null,
   "id": "3cff0742-5c63-4f75-bbe7-bc737ee1eca7",
=======
   "execution_count": 5,
   "id": "b2da1725-5818-4b62-b2d2-898d3be83295",
>>>>>>> 683ed17eff6ce786006604e559354cd467a94b8f
   "metadata": {},
   "outputs": [],
   "source": [
    "posts_datatable"
   ]
  },
  {
   "cell_type": "code",
   "execution_count": null,
   "id": "b3cd311d-8360-42f6-887e-900ff45d2512",
   "metadata": {},
   "outputs": [],
   "source": [
    "%%time\n",
    "\n",
    "posts=posts_datatable.to_pandas()\n",
    "posts"
   ]
  },
  {
   "cell_type": "markdown",
   "id": "094330fa-ecaa-464a-889a-872f3780f5d3",
   "metadata": {
    "jp-MarkdownHeadingCollapsed": true,
    "tags": []
   },
   "source": [
    "### Profiles"
   ]
  },
  {
   "cell_type": "code",
   "execution_count": 3,
   "id": "0a8873bb-91cb-40a5-a136-4a0cd584b120",
   "metadata": {
    "tags": []
   },
   "outputs": [],
   "source": [
    "profiles = pd.read_csv('/Users/the_redd_/Desktop/ADM/instagram_profiles.csv', delimiter='\\t')\n",
    "profiles.head()"
   ]
  },
  {
   "cell_type": "markdown",
   "id": "612ca5af-0a6c-46c0-a9d4-2a7d091ff4b0",
   "metadata": {
    "jp-MarkdownHeadingCollapsed": true,
    "tags": []
   },
   "source": [
    "### Locations"
   ]
  },
  {
   "cell_type": "code",
   "execution_count": null,
   "id": "1caa34b1-71c0-4b60-a2af-e4aee7cb729a",
   "metadata": {},
   "outputs": [],
   "source": [
    "locations= profiles = pd.read_csv('/Users/the_redd_/Desktop/ADM/instagram_profiles.csv', delimiter='\\t')\n",
    "locations.head()"
   ]
  },
  {
   "cell_type": "markdown",
   "id": "8d0085fc",
   "metadata": {
    "tags": []
   },
   "source": [
    "# [RQ1] After collecting information, the Data Scientists have to know what dataset they are dealing with, so let's start with an Exploratory Data Analysis (EDA). What can you say about our datasets? Please summarise its main characteristics with visual and tabular methods."
   ]
  },
  {
   "cell_type": "code",
<<<<<<< HEAD
=======
   "execution_count": null,
   "id": "7808b302",
   "metadata": {},
   "outputs": [],
   "source": [
    "profiles=pd.read_csv('/Users/the_redd_/Desktop/ADM/instagram_profiles.csv', sep='\\t')"
   ]
  },
  {
   "cell_type": "code",
   "execution_count": null,
   "id": "2cef04ba-10e7-4729-ab89-84f8f8029402",
   "metadata": {
    "tags": []
   },
   "outputs": [
    {
     "data": {
      "text/html": [
       "<div>\n",
       "<style scoped>\n",
       "    .dataframe tbody tr th:only-of-type {\n",
       "        vertical-align: middle;\n",
       "    }\n",
       "\n",
       "    .dataframe tbody tr th {\n",
       "        vertical-align: top;\n",
       "    }\n",
       "\n",
       "    .dataframe thead th {\n",
       "        text-align: right;\n",
       "    }\n",
       "</style>\n",
       "<table border=\"1\" class=\"dataframe\">\n",
       "  <thead>\n",
       "    <tr style=\"text-align: right;\">\n",
       "      <th></th>\n",
       "      <th>sid</th>\n",
       "      <th>profile_id</th>\n",
       "      <th>profile_name</th>\n",
       "      <th>firstname_lastname</th>\n",
       "      <th>description</th>\n",
       "      <th>following</th>\n",
       "      <th>followers</th>\n",
       "      <th>n_posts</th>\n",
       "      <th>url</th>\n",
       "      <th>cts</th>\n",
       "      <th>is_business_account</th>\n",
       "    </tr>\n",
       "  </thead>\n",
       "  <tbody>\n",
       "    <tr>\n",
       "      <th>count</th>\n",
       "      <td>4.509586e+06</td>\n",
       "      <td>4.477139e+06</td>\n",
       "      <td>4509586</td>\n",
       "      <td>4221121</td>\n",
       "      <td>2453590</td>\n",
       "      <td>3.452771e+06</td>\n",
       "      <td>3.452771e+06</td>\n",
       "      <td>3.452771e+06</td>\n",
       "      <td>870274</td>\n",
       "      <td>4071098</td>\n",
       "      <td>3445323</td>\n",
       "    </tr>\n",
       "    <tr>\n",
       "      <th>unique</th>\n",
       "      <td>NaN</td>\n",
       "      <td>NaN</td>\n",
       "      <td>4508180</td>\n",
       "      <td>3526944</td>\n",
       "      <td>2376474</td>\n",
       "      <td>NaN</td>\n",
       "      <td>NaN</td>\n",
       "      <td>NaN</td>\n",
       "      <td>841652</td>\n",
       "      <td>4062921</td>\n",
       "      <td>2</td>\n",
       "    </tr>\n",
       "    <tr>\n",
       "      <th>top</th>\n",
       "      <td>NaN</td>\n",
       "      <td>NaN</td>\n",
       "      <td>chkanyc</td>\n",
       "      <td>Sarah</td>\n",
       "      <td>🖤</td>\n",
       "      <td>NaN</td>\n",
       "      <td>NaN</td>\n",
       "      <td>NaN</td>\n",
       "      <td>gmail.com</td>\n",
       "      <td>2019-07-01 02:26:35.268 -0400</td>\n",
       "      <td>False</td>\n",
       "    </tr>\n",
       "    <tr>\n",
       "      <th>freq</th>\n",
       "      <td>NaN</td>\n",
       "      <td>NaN</td>\n",
       "      <td>4</td>\n",
       "      <td>2340</td>\n",
       "      <td>868</td>\n",
       "      <td>NaN</td>\n",
       "      <td>NaN</td>\n",
       "      <td>NaN</td>\n",
       "      <td>3437</td>\n",
       "      <td>6</td>\n",
       "      <td>2590069</td>\n",
       "    </tr>\n",
       "    <tr>\n",
       "      <th>mean</th>\n",
       "      <td>2.255992e+06</td>\n",
       "      <td>3.083302e+09</td>\n",
       "      <td>NaN</td>\n",
       "      <td>NaN</td>\n",
       "      <td>NaN</td>\n",
       "      <td>1.405641e+03</td>\n",
       "      <td>4.739899e+03</td>\n",
       "      <td>4.095414e+02</td>\n",
       "      <td>NaN</td>\n",
       "      <td>NaN</td>\n",
       "      <td>NaN</td>\n",
       "    </tr>\n",
       "    <tr>\n",
       "      <th>std</th>\n",
       "      <td>1.301807e+06</td>\n",
       "      <td>4.266575e+10</td>\n",
       "      <td>NaN</td>\n",
       "      <td>NaN</td>\n",
       "      <td>NaN</td>\n",
       "      <td>8.113473e+03</td>\n",
       "      <td>1.939087e+05</td>\n",
       "      <td>1.041940e+03</td>\n",
       "      <td>NaN</td>\n",
       "      <td>NaN</td>\n",
       "      <td>NaN</td>\n",
       "    </tr>\n",
       "    <tr>\n",
       "      <th>min</th>\n",
       "      <td>1.186000e+03</td>\n",
       "      <td>4.000000e+00</td>\n",
       "      <td>NaN</td>\n",
       "      <td>NaN</td>\n",
       "      <td>NaN</td>\n",
       "      <td>0.000000e+00</td>\n",
       "      <td>0.000000e+00</td>\n",
       "      <td>0.000000e+00</td>\n",
       "      <td>NaN</td>\n",
       "      <td>NaN</td>\n",
       "      <td>NaN</td>\n",
       "    </tr>\n",
       "    <tr>\n",
       "      <th>25%</th>\n",
       "      <td>1.128596e+06</td>\n",
       "      <td>2.735177e+08</td>\n",
       "      <td>NaN</td>\n",
       "      <td>NaN</td>\n",
       "      <td>NaN</td>\n",
       "      <td>3.560000e+02</td>\n",
       "      <td>1.590000e+02</td>\n",
       "      <td>2.200000e+01</td>\n",
       "      <td>NaN</td>\n",
       "      <td>NaN</td>\n",
       "      <td>NaN</td>\n",
       "    </tr>\n",
       "    <tr>\n",
       "      <th>50%</th>\n",
       "      <td>2.255992e+06</td>\n",
       "      <td>1.649248e+09</td>\n",
       "      <td>NaN</td>\n",
       "      <td>NaN</td>\n",
       "      <td>NaN</td>\n",
       "      <td>7.540000e+02</td>\n",
       "      <td>4.060000e+02</td>\n",
       "      <td>1.200000e+02</td>\n",
       "      <td>NaN</td>\n",
       "      <td>NaN</td>\n",
       "      <td>NaN</td>\n",
       "    </tr>\n",
       "    <tr>\n",
       "      <th>75%</th>\n",
       "      <td>3.383389e+06</td>\n",
       "      <td>5.514691e+09</td>\n",
       "      <td>NaN</td>\n",
       "      <td>NaN</td>\n",
       "      <td>NaN</td>\n",
       "      <td>1.573000e+03</td>\n",
       "      <td>9.740000e+02</td>\n",
       "      <td>4.200000e+02</td>\n",
       "      <td>NaN</td>\n",
       "      <td>NaN</td>\n",
       "      <td>NaN</td>\n",
       "    </tr>\n",
       "    <tr>\n",
       "      <th>max</th>\n",
       "      <td>4.510785e+06</td>\n",
       "      <td>9.001013e+13</td>\n",
       "      <td>NaN</td>\n",
       "      <td>NaN</td>\n",
       "      <td>NaN</td>\n",
       "      <td>4.191080e+06</td>\n",
       "      <td>2.854576e+08</td>\n",
       "      <td>1.837300e+05</td>\n",
       "      <td>NaN</td>\n",
       "      <td>NaN</td>\n",
       "      <td>NaN</td>\n",
       "    </tr>\n",
       "  </tbody>\n",
       "</table>\n",
       "</div>"
      ],
      "text/plain": [
       "                 sid    profile_id profile_name firstname_lastname  \\\n",
       "count   4.509586e+06  4.477139e+06      4509586            4221121   \n",
       "unique           NaN           NaN      4508180            3526944   \n",
       "top              NaN           NaN      chkanyc              Sarah   \n",
       "freq             NaN           NaN            4               2340   \n",
       "mean    2.255992e+06  3.083302e+09          NaN                NaN   \n",
       "std     1.301807e+06  4.266575e+10          NaN                NaN   \n",
       "min     1.186000e+03  4.000000e+00          NaN                NaN   \n",
       "25%     1.128596e+06  2.735177e+08          NaN                NaN   \n",
       "50%     2.255992e+06  1.649248e+09          NaN                NaN   \n",
       "75%     3.383389e+06  5.514691e+09          NaN                NaN   \n",
       "max     4.510785e+06  9.001013e+13          NaN                NaN   \n",
       "\n",
       "       description     following     followers       n_posts        url  \\\n",
       "count      2453590  3.452771e+06  3.452771e+06  3.452771e+06     870274   \n",
       "unique     2376474           NaN           NaN           NaN     841652   \n",
       "top              🖤           NaN           NaN           NaN  gmail.com   \n",
       "freq           868           NaN           NaN           NaN       3437   \n",
       "mean           NaN  1.405641e+03  4.739899e+03  4.095414e+02        NaN   \n",
       "std            NaN  8.113473e+03  1.939087e+05  1.041940e+03        NaN   \n",
       "min            NaN  0.000000e+00  0.000000e+00  0.000000e+00        NaN   \n",
       "25%            NaN  3.560000e+02  1.590000e+02  2.200000e+01        NaN   \n",
       "50%            NaN  7.540000e+02  4.060000e+02  1.200000e+02        NaN   \n",
       "75%            NaN  1.573000e+03  9.740000e+02  4.200000e+02        NaN   \n",
       "max            NaN  4.191080e+06  2.854576e+08  1.837300e+05        NaN   \n",
       "\n",
       "                                  cts is_business_account  \n",
       "count                         4071098             3445323  \n",
       "unique                        4062921                   2  \n",
       "top     2019-07-01 02:26:35.268 -0400               False  \n",
       "freq                                6             2590069  \n",
       "mean                              NaN                 NaN  \n",
       "std                               NaN                 NaN  \n",
       "min                               NaN                 NaN  \n",
       "25%                               NaN                 NaN  \n",
       "50%                               NaN                 NaN  \n",
       "75%                               NaN                 NaN  \n",
       "max                               NaN                 NaN  "
      ]
     },
     "execution_count": 260,
     "metadata": {},
     "output_type": "execute_result"
    }
   ],
   "source": [
    "#profiles.dropna(inplace=True)\n",
    "profiles.describe(include='all')"
   ]
  },
  {
   "cell_type": "code",
   "execution_count": null,
   "id": "399b9696-2eb6-4224-9f36-7da25e8b5d99",
   "metadata": {},
   "outputs": [
    {
     "data": {
      "text/plain": [
       "0"
      ]
     },
     "execution_count": 261,
     "metadata": {},
     "output_type": "execute_result"
    }
   ],
   "source": [
    "#Find the duplicates\n",
    "profiles.duplicated().sum()"
   ]
  },
  {
   "cell_type": "code",
   "execution_count": null,
   "id": "7fb3b453-32f2-41a4-91a2-0004fbc5ef2f",
   "metadata": {},
   "outputs": [
    {
     "data": {
      "text/html": [
       "<div>\n",
       "<style scoped>\n",
       "    .dataframe tbody tr th:only-of-type {\n",
       "        vertical-align: middle;\n",
       "    }\n",
       "\n",
       "    .dataframe tbody tr th {\n",
       "        vertical-align: top;\n",
       "    }\n",
       "\n",
       "    .dataframe thead th {\n",
       "        text-align: right;\n",
       "    }\n",
       "</style>\n",
       "<table border=\"1\" class=\"dataframe\">\n",
       "  <thead>\n",
       "    <tr style=\"text-align: right;\">\n",
       "      <th></th>\n",
       "      <th>sid</th>\n",
       "      <th>profile_id</th>\n",
       "      <th>profile_name</th>\n",
       "      <th>firstname_lastname</th>\n",
       "      <th>description</th>\n",
       "      <th>following</th>\n",
       "      <th>followers</th>\n",
       "      <th>n_posts</th>\n",
       "      <th>url</th>\n",
       "      <th>cts</th>\n",
       "      <th>is_business_account</th>\n",
       "    </tr>\n",
       "  </thead>\n",
       "  <tbody>\n",
       "    <tr>\n",
       "      <th>0</th>\n",
       "      <td>4184446</td>\n",
       "      <td>4.721050e+09</td>\n",
       "      <td>jphillip033</td>\n",
       "      <td>John Pierce</td>\n",
       "      <td>\"Document Everything Always\"</td>\n",
       "      <td>250.0</td>\n",
       "      <td>146.0</td>\n",
       "      <td>170.0</td>\n",
       "      <td>NaN</td>\n",
       "      <td>2019-08-01 14:38:55.394 -0400</td>\n",
       "      <td>False</td>\n",
       "    </tr>\n",
       "    <tr>\n",
       "      <th>1</th>\n",
       "      <td>4184457</td>\n",
       "      <td>5.905830e+08</td>\n",
       "      <td>mama_haas</td>\n",
       "      <td>Deanna</td>\n",
       "      <td>Trying to enjoy the simple things in life. Kni...</td>\n",
       "      <td>534.0</td>\n",
       "      <td>1145.0</td>\n",
       "      <td>2878.0</td>\n",
       "      <td>www.etsy.com/shop/MamaHaas69</td>\n",
       "      <td>2019-08-01 14:39:36.526 -0400</td>\n",
       "      <td>False</td>\n",
       "    </tr>\n",
       "    <tr>\n",
       "      <th>2</th>\n",
       "      <td>4184460</td>\n",
       "      <td>1.074147e+09</td>\n",
       "      <td>yellowlightbreen</td>\n",
       "      <td>Eliza Gray</td>\n",
       "      <td>Maine is for Lovers</td>\n",
       "      <td>469.0</td>\n",
       "      <td>324.0</td>\n",
       "      <td>431.0</td>\n",
       "      <td>elizajanegray.com</td>\n",
       "      <td>2019-08-01 14:39:54.407 -0400</td>\n",
       "      <td>False</td>\n",
       "    </tr>\n",
       "    <tr>\n",
       "      <th>3</th>\n",
       "      <td>4184461</td>\n",
       "      <td>1.472039e+09</td>\n",
       "      <td>tec1025</td>\n",
       "      <td>Thomas Clark</td>\n",
       "      <td>NaN</td>\n",
       "      <td>NaN</td>\n",
       "      <td>NaN</td>\n",
       "      <td>NaN</td>\n",
       "      <td>NaN</td>\n",
       "      <td>2019-08-01 14:40:06.472 -0400</td>\n",
       "      <td>NaN</td>\n",
       "    </tr>\n",
       "    <tr>\n",
       "      <th>4</th>\n",
       "      <td>4184462</td>\n",
       "      <td>3.531421e+09</td>\n",
       "      <td>luckyfluff</td>\n",
       "      <td>NaN</td>\n",
       "      <td>NaN</td>\n",
       "      <td>NaN</td>\n",
       "      <td>NaN</td>\n",
       "      <td>NaN</td>\n",
       "      <td>NaN</td>\n",
       "      <td>2019-08-01 14:40:07.806 -0400</td>\n",
       "      <td>NaN</td>\n",
       "    </tr>\n",
       "    <tr>\n",
       "      <th>...</th>\n",
       "      <td>...</td>\n",
       "      <td>...</td>\n",
       "      <td>...</td>\n",
       "      <td>...</td>\n",
       "      <td>...</td>\n",
       "      <td>...</td>\n",
       "      <td>...</td>\n",
       "      <td>...</td>\n",
       "      <td>...</td>\n",
       "      <td>...</td>\n",
       "      <td>...</td>\n",
       "    </tr>\n",
       "    <tr>\n",
       "      <th>4509581</th>\n",
       "      <td>4184467</td>\n",
       "      <td>1.418322e+09</td>\n",
       "      <td>karenarkesteyn</td>\n",
       "      <td>Karen Arkesteyn</td>\n",
       "      <td>🙏🏻</td>\n",
       "      <td>468.0</td>\n",
       "      <td>481.0</td>\n",
       "      <td>497.0</td>\n",
       "      <td>NaN</td>\n",
       "      <td>2019-08-01 14:40:26.554 -0400</td>\n",
       "      <td>False</td>\n",
       "    </tr>\n",
       "    <tr>\n",
       "      <th>4509582</th>\n",
       "      <td>4184469</td>\n",
       "      <td>1.340704e+07</td>\n",
       "      <td>jornvlaeminck</td>\n",
       "      <td>Jorn Vlaeminck</td>\n",
       "      <td>NaN</td>\n",
       "      <td>NaN</td>\n",
       "      <td>NaN</td>\n",
       "      <td>NaN</td>\n",
       "      <td>NaN</td>\n",
       "      <td>2019-08-01 14:40:41.628 -0400</td>\n",
       "      <td>NaN</td>\n",
       "    </tr>\n",
       "    <tr>\n",
       "      <th>4509583</th>\n",
       "      <td>4184470</td>\n",
       "      <td>6.007354e+09</td>\n",
       "      <td>s_degol</td>\n",
       "      <td>Sanne Degol</td>\n",
       "      <td>NaN</td>\n",
       "      <td>NaN</td>\n",
       "      <td>NaN</td>\n",
       "      <td>NaN</td>\n",
       "      <td>NaN</td>\n",
       "      <td>2019-08-01 14:40:42.983 -0400</td>\n",
       "      <td>NaN</td>\n",
       "    </tr>\n",
       "    <tr>\n",
       "      <th>4509584</th>\n",
       "      <td>4184473</td>\n",
       "      <td>2.338990e+07</td>\n",
       "      <td>anwilms</td>\n",
       "      <td>An Wilms</td>\n",
       "      <td>Fashion - travel - photography ... that's me!👗...</td>\n",
       "      <td>504.0</td>\n",
       "      <td>153.0</td>\n",
       "      <td>183.0</td>\n",
       "      <td>NaN</td>\n",
       "      <td>2019-08-01 14:40:49.982 -0400</td>\n",
       "      <td>False</td>\n",
       "    </tr>\n",
       "    <tr>\n",
       "      <th>4509585</th>\n",
       "      <td>4184511</td>\n",
       "      <td>2.088094e+09</td>\n",
       "      <td>arnaubassols_</td>\n",
       "      <td>Arnau Bassols Noguer</td>\n",
       "      <td>NaN</td>\n",
       "      <td>NaN</td>\n",
       "      <td>NaN</td>\n",
       "      <td>NaN</td>\n",
       "      <td>NaN</td>\n",
       "      <td>2019-08-01 14:42:30.055 -0400</td>\n",
       "      <td>NaN</td>\n",
       "    </tr>\n",
       "  </tbody>\n",
       "</table>\n",
       "<p>4509586 rows × 11 columns</p>\n",
       "</div>"
      ],
      "text/plain": [
       "             sid    profile_id      profile_name    firstname_lastname  \\\n",
       "0        4184446  4.721050e+09       jphillip033           John Pierce   \n",
       "1        4184457  5.905830e+08         mama_haas                Deanna   \n",
       "2        4184460  1.074147e+09  yellowlightbreen            Eliza Gray   \n",
       "3        4184461  1.472039e+09           tec1025          Thomas Clark   \n",
       "4        4184462  3.531421e+09        luckyfluff                   NaN   \n",
       "...          ...           ...               ...                   ...   \n",
       "4509581  4184467  1.418322e+09    karenarkesteyn       Karen Arkesteyn   \n",
       "4509582  4184469  1.340704e+07     jornvlaeminck        Jorn Vlaeminck   \n",
       "4509583  4184470  6.007354e+09           s_degol           Sanne Degol   \n",
       "4509584  4184473  2.338990e+07           anwilms              An Wilms   \n",
       "4509585  4184511  2.088094e+09     arnaubassols_  Arnau Bassols Noguer   \n",
       "\n",
       "                                               description  following  \\\n",
       "0                             \"Document Everything Always\"      250.0   \n",
       "1        Trying to enjoy the simple things in life. Kni...      534.0   \n",
       "2                                      Maine is for Lovers      469.0   \n",
       "3                                                      NaN        NaN   \n",
       "4                                                      NaN        NaN   \n",
       "...                                                    ...        ...   \n",
       "4509581                                                 🙏🏻      468.0   \n",
       "4509582                                                NaN        NaN   \n",
       "4509583                                                NaN        NaN   \n",
       "4509584  Fashion - travel - photography ... that's me!👗...      504.0   \n",
       "4509585                                                NaN        NaN   \n",
       "\n",
       "         followers  n_posts                           url  \\\n",
       "0            146.0    170.0                           NaN   \n",
       "1           1145.0   2878.0  www.etsy.com/shop/MamaHaas69   \n",
       "2            324.0    431.0             elizajanegray.com   \n",
       "3              NaN      NaN                           NaN   \n",
       "4              NaN      NaN                           NaN   \n",
       "...            ...      ...                           ...   \n",
       "4509581      481.0    497.0                           NaN   \n",
       "4509582        NaN      NaN                           NaN   \n",
       "4509583        NaN      NaN                           NaN   \n",
       "4509584      153.0    183.0                           NaN   \n",
       "4509585        NaN      NaN                           NaN   \n",
       "\n",
       "                                   cts is_business_account  \n",
       "0        2019-08-01 14:38:55.394 -0400               False  \n",
       "1        2019-08-01 14:39:36.526 -0400               False  \n",
       "2        2019-08-01 14:39:54.407 -0400               False  \n",
       "3        2019-08-01 14:40:06.472 -0400                 NaN  \n",
       "4        2019-08-01 14:40:07.806 -0400                 NaN  \n",
       "...                                ...                 ...  \n",
       "4509581  2019-08-01 14:40:26.554 -0400               False  \n",
       "4509582  2019-08-01 14:40:41.628 -0400                 NaN  \n",
       "4509583  2019-08-01 14:40:42.983 -0400                 NaN  \n",
       "4509584  2019-08-01 14:40:49.982 -0400               False  \n",
       "4509585  2019-08-01 14:42:30.055 -0400                 NaN  \n",
       "\n",
       "[4509586 rows x 11 columns]"
      ]
     },
     "execution_count": 263,
     "metadata": {},
     "output_type": "execute_result"
    }
   ],
   "source": [
    "create_report(profiles)"
   ]
  },
  {
   "cell_type": "code",
   "execution_count": null,
   "id": "9c4e046d-78d1-4e36-a9c8-f08c4647ccd3",
   "metadata": {},
   "outputs": [],
   "source": [
    "sns.pairplot(profiles)"
   ]
  },
  {
   "cell_type": "code",
>>>>>>> 683ed17eff6ce786006604e559354cd467a94b8f
   "execution_count": null,
   "id": "167301d7-9460-431a-8042-e5a1bd156fc5",
   "metadata": {},
   "outputs": [],
   "source": []
  },
  {
   "cell_type": "markdown",
   "id": "35c12b3f",
   "metadata": {
    "tags": []
   },
   "source": [
    "# [RQ2] Let's explore the dataset by finding simple insights regarding the profile and posts."
   ]
  },
  {
   "cell_type": "markdown",
   "id": "2f8a4ac4",
   "metadata": {
    "tags": []
   },
   "source": [
    "### Plot the number of posts for each profile in descending order.\n"
   ]
  },
  {
   "cell_type": "code",
   "execution_count": null,
   "id": "9572f936",
   "metadata": {},
   "outputs": [],
   "source": [
    "profiles2 = profiles[['profile_name','n_posts']]"
   ]
  },
  {
   "cell_type": "code",
   "execution_count": null,
   "id": "13db70a9",
   "metadata": {},
   "outputs": [],
   "source": [
    "profiles2"
   ]
  },
  {
   "cell_type": "code",
   "execution_count": null,
   "id": "2cb62d42",
   "metadata": {},
   "outputs": [],
   "source": [
    "#Let's check for NA values\n",
    "profiles2['n_posts'].isnull().values.any()"
   ]
  },
  {
   "cell_type": "code",
   "execution_count": null,
   "id": "f70be934",
   "metadata": {},
   "outputs": [],
   "source": [
    "#So let's count them\n",
    "profiles2['n_posts'].isnull().sum()"
   ]
  },
  {
   "cell_type": "markdown",
   "id": "95983cf9",
   "metadata": {},
   "source": [
    "A lot, we must manage them"
   ]
  },
  {
   "cell_type": "code",
   "execution_count": null,
   "id": "19d5f59c",
   "metadata": {},
   "outputs": [],
   "source": [
    "#Let's drop all na values\n",
    "profiles2.dropna(inplace=True)"
   ]
  },
  {
   "cell_type": "code",
   "execution_count": null,
   "id": "f947e7f3",
   "metadata": {},
   "outputs": [],
   "source": [
    "# Let's check NAs again\n",
    "profiles2['n_posts'].isnull().values.any()"
   ]
  },
  {
   "cell_type": "code",
   "execution_count": null,
   "id": "7075e9a2",
   "metadata": {},
   "outputs": [],
   "source": [
    "profiles2"
   ]
  },
  {
   "cell_type": "markdown",
   "id": "f20f9150",
   "metadata": {},
   "source": [
    "Good, we can continue now"
   ]
  },
  {
   "cell_type": "code",
   "execution_count": null,
   "id": "65a46f96",
   "metadata": {},
   "outputs": [],
   "source": [
    "profiles2=profiles2.sort_values('n_posts', ascending=False)"
   ]
  },
  {
   "cell_type": "code",
   "execution_count": null,
   "id": "2e82415a",
   "metadata": {},
   "outputs": [],
   "source": [
    "profiles2"
   ]
  },
  {
   "cell_type": "code",
   "execution_count": null,
   "id": "39b7e956",
   "metadata": {},
   "outputs": [],
   "source": [
    "count_post=profiles2.groupby('n_posts').count()\n",
    "count_post"
   ]
  },
  {
   "cell_type": "code",
   "execution_count": null,
   "id": "1e3e07e3",
   "metadata": {},
   "outputs": [],
   "source": [
    "count_post.iloc[1:].sum()"
   ]
  },
  {
   "cell_type": "code",
   "execution_count": null,
   "id": "f59dc79d",
   "metadata": {},
   "outputs": [],
   "source": [
    "h=profiles2['n_posts']\n",
    "plt.hist(h,log=True)\n",
    "plt.show()"
   ]
  },
  {
   "cell_type": "markdown",
   "id": "119d0a20",
   "metadata": {},
   "source": [
    "##### What can we say about this result?\n",
    "\n",
    "As we can see, the majority of the instagram profiles have no posts, meanwhile only a small proportion have posted more than 125.000 posts."
   ]
  },
  {
   "cell_type": "markdown",
   "id": "8166b900",
   "metadata": {
    "tags": []
   },
   "source": [
    "### What posts have the highest number of \"likes\"?"
   ]
  },
  {
   "cell_type": "markdown",
   "id": "b9a41c4a",
   "metadata": {},
   "source": [
    "This is the top 10 of most liked posts"
   ]
  },
  {
   "cell_type": "code",
   "execution_count": null,
<<<<<<< HEAD
   "id": "ee15398a-cb50-4af2-a2ef-aeae1d958d55",
=======
   "id": "fd975116-7e83-41de-85fa-879e5e1d35d4",
>>>>>>> 683ed17eff6ce786006604e559354cd467a94b8f
   "metadata": {},
   "outputs": [],
   "source": [
    "%%time\n",
    "\n",
    "df=posts[['post_id','numbr_likes']].sort_values(by='numbr_likes', ascending=False).head(10)\n",
    "\n",
    "df.index=['Post '+str(i+1) for i in range(10)]\n",
    "\n",
    "df"
   ]
  },
  {
   "cell_type": "markdown",
   "id": "c72b071a",
   "metadata": {
    "tags": []
   },
   "source": [
    "### What posts have the most and the least number of comments?"
   ]
  },
  {
   "cell_type": "code",
   "execution_count": null,
<<<<<<< HEAD
   "id": "e9e03fd8-5725-4aa5-a702-6ae0e931f0a3",
=======
   "id": "d7acbc64",
>>>>>>> 683ed17eff6ce786006604e559354cd467a94b8f
   "metadata": {},
   "outputs": [],
   "source": [
    "%%time\n",
    "\n",
    "comments=posts[['post_id','number_comments']]\n",
    "\n",
    "top_comm=comments.sort_values(by='number_comments', ascending=False)\n",
    "least_comm=comments.sort_values(by='number_comments', ascending=True)"
   ]
  },
  {
   "cell_type": "code",
   "execution_count": null,
   "id": "f13bc551",
   "metadata": {},
   "outputs": [],
   "source": [
    "#This is the top 10 of posts which have the most number of comments\n",
    "top_comm.head(10)"
   ]
  },
  {
   "cell_type": "code",
   "execution_count": null,
   "id": "78a2c506",
   "metadata": {},
   "outputs": [],
   "source": [
    "#These are the 10 posts which have the least number of comments\n",
    "least_comm.head(10)\n",
    "\n",
    "\n",
    "#There are many posts with zero comment, these are only ten of them, randomly"
   ]
  },
  {
   "cell_type": "markdown",
   "id": "999148ab",
   "metadata": {
    "tags": []
   },
   "source": [
    "### How many posts include tagged locations, and how many do not? Show it using an appropriate chart and comment your results."
   ]
  },
  {
   "cell_type": "code",
   "execution_count": null,
<<<<<<< HEAD
   "id": "f3dbd58b-9c8b-4fa8-b189-d93cafaa175d",
=======
   "id": "112738b1",
>>>>>>> 683ed17eff6ce786006604e559354cd467a94b8f
   "metadata": {},
   "outputs": [],
   "source": [
    "posts2=posts[['location_id','post_id']]\n",
    "\n",
    "yes_location=len(posts2[np.isnan(posts2['location_id']) == False])\n",
    "yes_location"
   ]
  },
  {
   "cell_type": "code",
   "execution_count": null,
<<<<<<< HEAD
   "id": "2b8a7be9-fa31-4789-9c85-4fd23fc71dfa",
=======
   "id": "1a0136a3-3c21-4085-8148-84c276d7c47e",
>>>>>>> 683ed17eff6ce786006604e559354cd467a94b8f
   "metadata": {},
   "outputs": [],
   "source": [
<<<<<<< HEAD
    "no_location=len(posts2[np.isnan(posts2['location_id']) == True])\n",
=======
    "#Let's find all the posts with no tagged locatio\n",
    "df_not"
   ]
  },
  {
   "cell_type": "code",
   "execution_count": null,
   "id": "bc8263d4-42a0-4e25-a7ae-a0331faa4519",
   "metadata": {},
   "outputs": [
    {
     "data": {
      "text/html": [
       "<div>\n",
       "<style scoped>\n",
       "    .dataframe tbody tr th:only-of-type {\n",
       "        vertical-align: middle;\n",
       "    }\n",
       "\n",
       "    .dataframe tbody tr th {\n",
       "        vertical-align: top;\n",
       "    }\n",
       "\n",
       "    .dataframe thead th {\n",
       "        text-align: right;\n",
       "    }\n",
       "</style>\n",
       "<table border=\"1\" class=\"dataframe\">\n",
       "  <thead>\n",
       "    <tr style=\"text-align: right;\">\n",
       "      <th></th>\n",
       "      <th>post_id</th>\n",
       "      <th>location_id</th>\n",
       "    </tr>\n",
       "  </thead>\n",
       "  <tbody>\n",
       "    <tr>\n",
       "      <th>104582</th>\n",
       "      <td>Bx-LwWNBLY8</td>\n",
       "      <td>NaN</td>\n",
       "    </tr>\n",
       "    <tr>\n",
       "      <th>192242</th>\n",
       "      <td>BxpEcKvgA09</td>\n",
       "      <td>NaN</td>\n",
       "    </tr>\n",
       "    <tr>\n",
       "      <th>203531</th>\n",
       "      <td>BrbQ-9bHxwb</td>\n",
       "      <td>NaN</td>\n",
       "    </tr>\n",
       "    <tr>\n",
       "      <th>212616</th>\n",
       "      <td>Bx6f1tdgNfh</td>\n",
       "      <td>NaN</td>\n",
       "    </tr>\n",
       "    <tr>\n",
       "      <th>230339</th>\n",
       "      <td>BvMPlOgjhIS</td>\n",
       "      <td>NaN</td>\n",
       "    </tr>\n",
       "    <tr>\n",
       "      <th>...</th>\n",
       "      <td>...</td>\n",
       "      <td>...</td>\n",
       "    </tr>\n",
       "    <tr>\n",
       "      <th>42480557</th>\n",
       "      <td>BxYEucsB7pII5o7N_f17yCZCB02ZvUA8XdupLM0</td>\n",
       "      <td>NaN</td>\n",
       "    </tr>\n",
       "    <tr>\n",
       "      <th>42480558</th>\n",
       "      <td>ByAHgYfnVpMAfNjVWMXPOHtDF5lv4du5qYe5QA0</td>\n",
       "      <td>NaN</td>\n",
       "    </tr>\n",
       "    <tr>\n",
       "      <th>42482801</th>\n",
       "      <td>BxdI7lZnFum5m5hd5f6IZ1r7TF7mnPmkKfn2sw0</td>\n",
       "      <td>NaN</td>\n",
       "    </tr>\n",
       "    <tr>\n",
       "      <th>42482802</th>\n",
       "      <td>BuQ_IuaHJoutSlyNYTxk7cv_x1i2qMFaGxYqf40</td>\n",
       "      <td>NaN</td>\n",
       "    </tr>\n",
       "    <tr>\n",
       "      <th>42602627</th>\n",
       "      <td>BsA5fb2n_7v</td>\n",
       "      <td>NaN</td>\n",
       "    </tr>\n",
       "  </tbody>\n",
       "</table>\n",
       "<p>12972772 rows × 2 columns</p>\n",
       "</div>"
      ],
      "text/plain": [
       "                                          post_id location_id\n",
       "104582                                Bx-LwWNBLY8         NaN\n",
       "192242                                BxpEcKvgA09         NaN\n",
       "203531                                BrbQ-9bHxwb         NaN\n",
       "212616                                Bx6f1tdgNfh         NaN\n",
       "230339                                BvMPlOgjhIS         NaN\n",
       "...                                           ...         ...\n",
       "42480557  BxYEucsB7pII5o7N_f17yCZCB02ZvUA8XdupLM0         NaN\n",
       "42480558  ByAHgYfnVpMAfNjVWMXPOHtDF5lv4du5qYe5QA0         NaN\n",
       "42482801  BxdI7lZnFum5m5hd5f6IZ1r7TF7mnPmkKfn2sw0         NaN\n",
       "42482802  BuQ_IuaHJoutSlyNYTxk7cv_x1i2qMFaGxYqf40         NaN\n",
       "42602627                              BsA5fb2n_7v         NaN\n",
       "\n",
       "[12972772 rows x 2 columns]"
      ]
     },
     "execution_count": 50,
     "metadata": {},
     "output_type": "execute_result"
    }
   ],
   "source": [
    "#Now the same procedure for the posts with tagged location \n",
    "df_yes"
   ]
  },
  {
   "cell_type": "code",
   "execution_count": null,
   "id": "00803fe3",
   "metadata": {},
   "outputs": [
    {
     "data": {
      "text/plain": [
       "12972772"
      ]
     },
     "execution_count": 51,
     "metadata": {},
     "output_type": "execute_result"
    }
   ],
   "source": [
    "#Now let's count\n",
    "no_location=len(df_not.index)\n",
>>>>>>> 683ed17eff6ce786006604e559354cd467a94b8f
    "no_location"
   ]
  },
  {
   "cell_type": "code",
   "execution_count": null,
<<<<<<< HEAD
=======
   "id": "4fc6ec9f",
   "metadata": {},
   "outputs": [],
   "source": [
    "#Now the same procedure for the posts with tagged location \n"
   ]
  },
  {
   "cell_type": "code",
   "execution_count": null,
   "id": "08da8d9e",
   "metadata": {},
   "outputs": [
    {
     "data": {
      "text/plain": [
       "29737425"
      ]
     },
     "execution_count": 52,
     "metadata": {},
     "output_type": "execute_result"
    }
   ],
   "source": [
    "#Now let's count\n",
    "yes_location=len(df_yes.index)\n",
    "yes_location\n",
    "#{:,}'.format(len(no_loc.index))"
   ]
  },
  {
   "cell_type": "code",
   "execution_count": null,
>>>>>>> 683ed17eff6ce786006604e559354cd467a94b8f
   "id": "0df04499",
   "metadata": {},
   "outputs": [],
   "source": [
    "#Showing the result using a pie chart, which is very usefull to catch the difference between the \n",
    "total_posts=yes_location+no_location\n",
    "yes_perc='{:.1%}'.format(yes_location/total_posts)\n",
    "no_perc='{:.1%}'.format(no_location/total_posts)\n",
    "myexplode=[0.0,0.1]\n",
    "\n",
    "#The plots\n",
    "fig, axs = plt.subplots(1,2)\n",
<<<<<<< HEAD
    "axs[0].pie([yes_location,no_location], labels=[yes_perc,no_perc], \n",
    "        labeldistance=1.15, colors=['steelblue','chocolate'], \n",
    "           explode=myexplode)\n",
    "axs[1].pie([yes_location,no_location], labels=['{:,}'.format(yes_location),'{:,}'.format(no_location)], \n",
    "        labeldistance=1.15, colors=['steelblue','chocolate'], explode=myexplode)\n",
=======
    "axs[0].pie([yes_location,no_location], \n",
    "                labels=[yes_perc,no_perc], \n",
    "                labeldistance=1.15, \n",
    "                colors=['steelblue','goldenrod'], \n",
    "                explode=myexplode)\n",
    "\n",
    "axs[1].pie([yes_location,no_location], \n",
    "                labels=['{:,}'.format(yes_location),\n",
    "                '{:,}'.format(no_location)], \n",
    "                labeldistance=1.15, \n",
    "                colors=['steelblue','goldenrod'], \n",
    "                explode=myexplode)\n",
    "                \n",
>>>>>>> 683ed17eff6ce786006604e559354cd467a94b8f
    "plt.legend(['yes_location','no_location'], bbox_to_anchor=(0.85,1.025), loc=\"upper left\")\n",
    "\n",
    "# Some cool features\n",
    "fig.tight_layout(pad=2.0)\n",
    "fig.set_figheight(15)\n",
    "fig.set_figwidth(15)\n",
    "plt.show() #remove the annoying text"
   ]
  },
  {
   "cell_type": "markdown",
   "id": "48ab522c",
   "metadata": {},
   "source": [
    "#### What did we get?"
   ]
  },
  {
   "cell_type": "markdown",
   "id": "0f821ac2",
   "metadata": {},
   "source": [
    "As we can see, the pie chart hightlights how small is the percentage of posts that do not include a tagged position. On the other side, the majority of the analyzed posts include tagged location."
   ]
  },
  {
   "cell_type": "markdown",
   "id": "2a1784b9",
   "metadata": {
    "tags": []
   },
   "source": [
    "### How many posts include only photos? How many also have videos?"
   ]
  },
  {
   "cell_type": "code",
   "execution_count": null,
<<<<<<< HEAD
   "id": "f963b2d1-035c-4aea-b32b-9588a9c91fae",
=======
   "id": "901a8edd-6423-4b52-9a75-b70639ec6d2b",
>>>>>>> 683ed17eff6ce786006604e559354cd467a94b8f
   "metadata": {},
   "outputs": [],
   "source": [
<<<<<<< HEAD
    "%%time \n",
    "\n",
    "total=posts[['post_type','post_id']].groupby('post_type').count()\n",
    "\n",
    "photos=int(total.values[0])\n",
    "\n",
    "photos_and_videos=int(total.values[2])\n",
    "\n",
    "total"
=======
    "#TODO Rewrite it\n",
    "photos= 0\n",
    "photos_and_videos= 0\n",
    "for chunk in tqdm(pd.read_csv('/Users/the_redd_/Desktop/ADM/instagram_posts.csv', usecols=['post_id','post_type'],delimiter='\\t', chunksize=500000)):    \n",
    "    \n",
    "    total=chunk.groupby('post_type').count()\n",
    "    photos+=int(total.values[0])\n",
    "    photos_and_videos+=int(total.values[-1])"
>>>>>>> 683ed17eff6ce786006604e559354cd467a94b8f
   ]
  },
  {
   "cell_type": "code",
   "execution_count": null,
   "id": "9f35c3b8-da89-4023-ac47-dd4fe317467e",
   "metadata": {},
   "outputs": [],
   "source": [
    "print('The posts that include only photos are: ','{:,}'.format(photos))"
   ]
  },
  {
   "cell_type": "code",
   "execution_count": null,
   "id": "abf55822-af16-47e4-9218-54a65c397526",
   "metadata": {},
   "outputs": [],
   "source": [
    "print('The posts that include both photos and videos are: ','{:,}'.format(photos_and_videos))"
   ]
  },
  {
   "cell_type": "markdown",
   "id": "67348cb3",
   "metadata": {
    "tags": []
   },
   "source": [
    "### What's the percentage of business accounts vs non-business? What can you interpret regarding that percentage?"
   ]
  },
  {
   "cell_type": "code",
   "execution_count": null,
   "id": "73a14936",
   "metadata": {},
   "outputs": [],
   "source": [
    "profiles2 = profiles[['is_business_account','profile_name']]"
   ]
  },
  {
   "cell_type": "code",
   "execution_count": null,
   "id": "af140d4d",
   "metadata": {},
   "outputs": [],
   "source": [
    "# Let's give a look to the dataset\n",
    "profiles2"
   ]
  },
  {
   "cell_type": "code",
   "execution_count": null,
   "id": "7916c7bd",
   "metadata": {},
   "outputs": [],
   "source": [
    "#We can already see some NaN, let's do a proper check \n",
    "profiles['is_business_account'].isnull().values.any()"
   ]
  },
  {
   "cell_type": "markdown",
   "id": "6e123ea7",
   "metadata": {},
   "source": [
    "In order to find a meaningfull percentage of business accounts vs non-business, we drop all the NaN values"
   ]
  },
  {
   "cell_type": "code",
   "execution_count": null,
   "id": "922b295d",
   "metadata": {},
   "outputs": [],
   "source": [
    "profiles2.dropna(inplace=True)"
   ]
  },
  {
   "cell_type": "code",
   "execution_count": null,
   "id": "d7dba9ea",
   "metadata": {},
   "outputs": [],
   "source": [
    "#Now let's check again if it worked\n",
    "profiles2['is_business_account'].isnull().values.any()"
   ]
  },
  {
   "cell_type": "code",
   "execution_count": null,
   "id": "f498d62c",
   "metadata": {},
   "outputs": [],
   "source": [
    "# Cool, now let's count how many business account\n",
    "Business_account=len(profiles2[profiles2['is_business_account'] == True])\n",
    "Business_account"
   ]
  },
  {
   "cell_type": "code",
   "execution_count": null,
   "id": "9ab95948",
   "metadata": {},
   "outputs": [],
   "source": [
    "# Now let's count how many NOT business account\n",
    "Not_business_account= len(profiles[profiles['is_business_account'] == False])\n",
    "Not_business_account"
   ]
  },
  {
   "cell_type": "code",
   "execution_count": null,
   "id": "671af3db",
   "metadata": {},
   "outputs": [],
   "source": [
    "#Now let's give a look at the percentage of Business Account on the total amount of accounts\n",
    "'{:.1%}'.format(Business_account/(Business_account+Not_business_account))"
   ]
  },
  {
   "cell_type": "code",
   "execution_count": null,
   "id": "0d1e7055",
   "metadata": {},
   "outputs": [],
   "source": [
    "#Showing the result using a pie chart, which is very usefull to catch the difference between the \n",
    "total_account=Business_account+Not_business_account\n",
    "yes_perc='{:.1%}'.format(Business_account/total_account)\n",
    "no_perc='{:.1%}'.format(Not_business_account/total_account)\n",
    "myexplode=[0.0,0.1]\n",
    "\n",
    "#The plots\n",
    "fig, axs = plt.subplots(1,2, figsize=(8,8))\n",
    "axs[0].pie([Business_account,Not_business_account], labels=[yes_perc,no_perc], \n",
    "        labeldistance=1.15, colors=['steelblue','chocolate'], \n",
    "           explode=myexplode)\n",
    "axs[1].pie([Business_account,Not_business_account], labels=['{:,}'.format(Business_account),'{:,}'.format(Not_business_account)], \n",
    "        labeldistance=1.15, colors=['steelblue','chocolate'], explode=myexplode)\n",
    "plt.legend(['Business_account','Not_business_account'], bbox_to_anchor=(1.25,1.125), loc=\"upper left\")\n",
    "\n",
    "# Some cool features\n",
    "fig.tight_layout(pad=2.0)\n",
    "fig.set_figheight(15)\n",
    "fig.set_figwidth(15)\n",
    "plt.show() #remove the annoying text"
   ]
  },
  {
   "cell_type": "markdown",
   "id": "60393275",
   "metadata": {},
   "source": [
    "Since the percentage of business account on the total account is 24.8%, it means that for 3 non-business account there is a business account on our dataset. "
   ]
  },
  {
   "cell_type": "markdown",
   "id": "561dedea",
   "metadata": {
    "tags": []
   },
   "source": [
    "# [RQ3] Now it's important to understand the most common times in which users publish their posts"
   ]
  },
  {
   "cell_type": "markdown",
   "id": "104aa503",
   "metadata": {
    "tags": []
   },
   "source": [
    "### What is the most common time in which users publish their posts?"
   ]
  },
  {
   "cell_type": "code",
   "execution_count": null,
   "id": "10bc4a6a",
   "metadata": {},
   "outputs": [],
   "source": []
  },
  {
   "cell_type": "markdown",
   "id": "f447338b",
   "metadata": {},
   "source": [
    "### Create a function that receives a time intervals list as a parameter and returns a plot with the number of posts for each given interval."
   ]
  },
  {
   "cell_type": "code",
   "execution_count": null,
   "id": "ef819a2e",
   "metadata": {},
   "outputs": [],
   "source": []
  },
  {
   "cell_type": "markdown",
   "id": "e1af4a66",
   "metadata": {},
   "source": [
    "### Use the function that you created in the previous literal to plot the number of posts between the following time intervals:\n",
    "| Initial time | Final time   |\n",
    "|--------------|--------------|\n",
    "|   06:00:00   |    10:59:59  |\n",
    "|   11:00:00   |    13:59:59  |\n",
    "|   14:00:00   |    16:59:59  |\n",
    "|   17:00:00   |    19:59:59  |\n",
    "|   20:00:00   |    23:59:59  |\n",
    "|   00:00:00   |    02:59:59  |\n",
    "|   03:00:00   |    05:59:59  |\n",
    "\n"
   ]
  },
  {
   "cell_type": "markdown",
   "id": "864e220e",
   "metadata": {
    "tags": []
   },
   "source": [
    "# [RQ4] In most cases, we will not have a consistent dataset, and the one we are dealing with is not an exception (ex. in the given datasets, you may not find the information of the profiles for some of the posts). So let’s enhance our analysis."
   ]
  },
  {
   "cell_type": "markdown",
   "id": "cb0b545d",
   "metadata": {
    "tags": []
   },
   "source": [
    "### Write a function that, given a profile_id, will be able to return the posts that belong to the given profile_id."
   ]
  },
  {
   "cell_type": "code",
   "execution_count": null,
<<<<<<< HEAD
   "id": "b4b6824d-98a1-42f7-a563-62a79a2ce3f3",
=======
   "id": "98d3740a",
>>>>>>> 683ed17eff6ce786006604e559354cd467a94b8f
   "metadata": {},
   "outputs": [],
   "source": [
    "def searchpost(profile_id):\n",
    "    df=posts[posts.profile_id == profile_id]\n",
    "    return df[['post_id','profile_id','numbr_likes','number_comments']]"
   ]
  },
  {
   "cell_type": "code",
   "execution_count": null,
   "id": "0817ff04-4cae-4820-99f8-eb7627a5c3e4",
   "metadata": {},
   "outputs": [],
   "source": [
    "searchpost(profile_id=3.0)"
   ]
  },
  {
   "cell_type": "markdown",
   "id": "1b4caa77",
   "metadata": {
    "tags": []
   },
   "source": [
    "### Write another function that, given an input n (an integer), will return the posts that belong to the n top posted profiles (top n profiles that have posted the highest number of posts) that their data is available in the profile.csv using the previously written function."
   ]
  },
  {
   "cell_type": "code",
   "execution_count": null,
<<<<<<< HEAD
   "id": "de706f3f-0a78-4963-8d73-602240258678",
=======
   "id": "e4311c2f",
>>>>>>> 683ed17eff6ce786006604e559354cd467a94b8f
   "metadata": {},
   "outputs": [],
   "source": [
    "def top_posts(n):\n",
    "    df=pd.DataFrame(columns=['profile_id','post_id'])\n",
    "    top=profiles.sort_values(by='n_posts', ascending=False).head(n)\n",
    "    for profile_id in top.profile_id.values:\n",
    "        df=pd.concat([df,searchpost(profile_id)])\n",
    "    return df"
   ]
  },
  {
   "cell_type": "code",
   "execution_count": null,
<<<<<<< HEAD
   "id": "29005b20-5811-4437-b010-1334a7d08de0",
=======
   "id": "6eb7d5e2-e912-4925-8756-b5166ae588c1",
>>>>>>> 683ed17eff6ce786006604e559354cd467a94b8f
   "metadata": {},
   "outputs": [],
   "source": [
    "top_posts(2)"
   ]
  },
  {
   "cell_type": "markdown",
   "id": "fd682ad2",
   "metadata": {
    "tags": []
   },
   "source": [
    "### What is the average number of \"likes\" and comments of the top 10 profiles with the highest number of posts which their information is available in profile.csv?"
   ]
  },
  {
   "cell_type": "code",
   "execution_count": null,
   "id": "7fc3a8e4-b796-4205-9f0b-c2c0de06005d",
   "metadata": {},
   "outputs": [],
   "source": [
    "top_ten=top_posts(10)\n",
    "top_ten"
   ]
  },
  {
   "cell_type": "code",
   "execution_count": null,
   "id": "96b3036a-aae8-4c9d-aa97-91a1bf3e2107",
   "metadata": {},
   "outputs": [],
   "source": [
    "#Let's see the distribution of likes \n",
    "plt.hist(top_ten['numbr_likes'])\n",
    "plt.show()"
   ]
  },
  {
   "cell_type": "code",
   "execution_count": null,
   "id": "511e4520-3d5f-4817-bf0e-0e12f3680361",
   "metadata": {},
   "outputs": [],
   "source": [
    "#The average of \"likes\" of the top 10 profiles with the highest number of posts\n",
    "top_ten['numbr_likes'].mean()"
   ]
  },
  {
   "cell_type": "code",
   "execution_count": null,
   "id": "b9cdc667-b4ee-44f1-96cc-b66f8c59a14d",
   "metadata": {},
   "outputs": [],
   "source": [
    "#Let's check the median in order to know moe about our distribution\n",
    "top_ten['numbr_likes'].median()"
   ]
  },
  {
   "cell_type": "markdown",
   "id": "a2f0616e-026a-42ab-a955-30f8e2640f2d",
   "metadata": {},
   "source": [
    "Since the median (2.0) is smaller than the average (3.17), it means that our distribution is asymmetric due to some posts which have a huge amount of likes, as matter of fact, the mean is a statistic influenced by exteme observations. On the other hand, the median is a **robust statistic** because it is not affected by outliers. In our case, we can see that half of the posts have less than 2 likes, while the other half have more than 2 likes."
   ]
  },
  {
   "cell_type": "code",
   "execution_count": null,
   "id": "b4be80c2-76b4-468a-8cd7-a364e45665fc",
   "metadata": {},
   "outputs": [],
   "source": [
    "#Let's see the distribution of likes \n",
    "plt.hist(top_ten['number_comments'])\n",
    "plt.show()"
   ]
  },
  {
   "cell_type": "code",
   "execution_count": null,
   "id": "193e1050-aaeb-4b24-9189-1d0ab9c53760",
   "metadata": {},
   "outputs": [],
   "source": [
    "#The average of \"comments\" of the top 10 profiles with the highest number of posts\n",
    "top_ten['number_comments'].mean()"
   ]
  },
  {
   "cell_type": "code",
   "execution_count": null,
   "id": "b73eaccb",
   "metadata": {},
   "outputs": [],
   "source": [
    "top_ten['number_comments'].median()"
   ]
  },
  {
<<<<<<< HEAD
   "cell_type": "markdown",
   "id": "cf838c48-d3c0-4486-a16d-fab399f92602",
=======
   "cell_type": "code",
   "execution_count": null,
   "id": "fa65c1d4-f4af-4056-b7f4-ed1b3a6836aa",
>>>>>>> 683ed17eff6ce786006604e559354cd467a94b8f
   "metadata": {},
   "source": [
<<<<<<< HEAD
    "Taking into account the comments of the top 10 profiles with the highest number of posts, we can see how, on average, the posts show no comments, except for some posts which have less than 3. "
=======
    "likes=[]\n",
    "comments=[]\n",
    "df=pd.DataFrame(columns=['post_id','numbr_likes','number_comments'])\n",
    "profiles = pd.read_csv('/Users/the_redd_/Desktop/ADM/instagram_profiles.csv', \n",
    "                       sep='\\t', usecols=['profile_name','n_posts', 'profile_id'])\n",
    "top=profiles.sort_values('n_posts', ascending=False).head(10)\n",
    "for i in top.profile_id.values:\n",
    "    for chunk in tqdm(pd.read_csv('/Users/the_redd_/Desktop/ADM/instagram_posts.csv', \n",
    "                                        usecols=['post_id','numbr_likes','number_comments'], delimiter='\\t', chunksize=500000)):\n",
    "        row=chunk[chunk.post_id == i]\n",
    "        df=pd.concat([df,row])"
   ]
  },
  {
   "cell_type": "code",
   "execution_count": null,
   "id": "9226eed9-45f1-4168-8e56-e09eaea7f323",
   "metadata": {},
   "outputs": [
    {
     "data": {
      "text/html": [
       "<div>\n",
       "<style scoped>\n",
       "    .dataframe tbody tr th:only-of-type {\n",
       "        vertical-align: middle;\n",
       "    }\n",
       "\n",
       "    .dataframe tbody tr th {\n",
       "        vertical-align: top;\n",
       "    }\n",
       "\n",
       "    .dataframe thead th {\n",
       "        text-align: right;\n",
       "    }\n",
       "</style>\n",
       "<table border=\"1\" class=\"dataframe\">\n",
       "  <thead>\n",
       "    <tr style=\"text-align: right;\">\n",
       "      <th></th>\n",
       "      <th>post_id</th>\n",
       "      <th>numbr_likes</th>\n",
       "      <th>number_comments</th>\n",
       "    </tr>\n",
       "  </thead>\n",
       "  <tbody>\n",
       "  </tbody>\n",
       "</table>\n",
       "</div>"
      ],
      "text/plain": [
       "Empty DataFrame\n",
       "Columns: [post_id, numbr_likes, number_comments]\n",
       "Index: []"
      ]
     },
     "execution_count": 233,
     "metadata": {},
     "output_type": "execute_result"
    }
   ],
   "source": [
    "df"
>>>>>>> 683ed17eff6ce786006604e559354cd467a94b8f
   ]
  },
  {
   "cell_type": "markdown",
   "id": "a5003107",
   "metadata": {
    "tags": []
   },
   "source": [
    "### Plot the number of posts that these top 10 profiles have sent on Instagram in the given interval in question RQ3. Interpret the resulting chart."
   ]
  },
  {
   "cell_type": "code",
<<<<<<< HEAD
=======
   "execution_count": null,
   "id": "7c7b3876",
   "metadata": {},
   "outputs": [
    {
     "data": {
      "text/html": [
       "<div>\n",
       "<style scoped>\n",
       "    .dataframe tbody tr th:only-of-type {\n",
       "        vertical-align: middle;\n",
       "    }\n",
       "\n",
       "    .dataframe tbody tr th {\n",
       "        vertical-align: top;\n",
       "    }\n",
       "\n",
       "    .dataframe thead th {\n",
       "        text-align: right;\n",
       "    }\n",
       "</style>\n",
       "<table border=\"1\" class=\"dataframe\">\n",
       "  <thead>\n",
       "    <tr style=\"text-align: right;\">\n",
       "      <th></th>\n",
       "      <th>X</th>\n",
       "      <th>Y</th>\n",
       "      <th>Z</th>\n",
       "    </tr>\n",
       "  </thead>\n",
       "  <tbody>\n",
       "    <tr>\n",
       "      <th>0</th>\n",
       "      <td>78</td>\n",
       "      <td>84</td>\n",
       "      <td>86</td>\n",
       "    </tr>\n",
       "    <tr>\n",
       "      <th>1</th>\n",
       "      <td>85</td>\n",
       "      <td>94</td>\n",
       "      <td>97</td>\n",
       "    </tr>\n",
       "    <tr>\n",
       "      <th>2</th>\n",
       "      <td>96</td>\n",
       "      <td>89</td>\n",
       "      <td>96</td>\n",
       "    </tr>\n",
       "    <tr>\n",
       "      <th>3</th>\n",
       "      <td>85</td>\n",
       "      <td>83</td>\n",
       "      <td>72</td>\n",
       "    </tr>\n",
       "    <tr>\n",
       "      <th>4</th>\n",
       "      <td>86</td>\n",
       "      <td>86</td>\n",
       "      <td>83</td>\n",
       "    </tr>\n",
       "  </tbody>\n",
       "</table>\n",
       "</div>"
      ],
      "text/plain": [
       "    X   Y   Z\n",
       "0  78  84  86\n",
       "1  85  94  97\n",
       "2  96  89  96\n",
       "3  85  83  72\n",
       "4  86  86  83"
      ]
     },
     "execution_count": 219,
     "metadata": {},
     "output_type": "execute_result"
    }
   ],
   "source": [
    "df = pd.DataFrame({'X':[78,85,96,85,86], 'Y':[84,94,89,83,86], 'Z':[86,97,96,72,83]})\n",
    "df"
   ]
  },
  {
   "cell_type": "code",
   "execution_count": null,
   "id": "c6a0ee71-b9b6-438f-a1da-80800cb6ce6e",
   "metadata": {},
   "outputs": [
    {
     "name": "stdout",
     "output_type": "stream",
     "text": [
      "[97, 72]\n"
     ]
    }
   ],
   "source": [
    "a=[]\n",
    "for i in range(len(df.X.values)):\n",
    "    if df.X.values[i] == 85:\n",
    "        a.append(df.Z.values[i])\n",
    "print(a)"
   ]
  },
  {
   "cell_type": "markdown",
   "id": "3623b58f",
   "metadata": {},
   "source": [
    "### [RQ5] The most influential users are the ones with the highest number of “followers\", you can now look more into their activity."
   ]
  },
  {
   "cell_type": "code",
>>>>>>> 683ed17eff6ce786006604e559354cd467a94b8f
   "execution_count": null,
   "id": "c6a0ee71-b9b6-438f-a1da-80800cb6ce6e",
   "metadata": {},
   "outputs": [],
   "source": []
  },
  {
   "cell_type": "markdown",
   "id": "3623b58f",
   "metadata": {
    "tags": []
   },
   "source": [
    "# [RQ5] The most influential users are the ones with the highest number of “followers\", you can now look more into their activity."
   ]
  },
  {
   "cell_type": "markdown",
   "id": "9b43997c",
   "metadata": {
    "tags": []
   },
   "source": [
    "### Plot the top 10 most popular users in terms of followers and their number of posts."
   ]
  },
  {
   "cell_type": "code",
   "execution_count": null,
   "id": "cf0f74de",
   "metadata": {},
   "outputs": [],
   "source": [
    "profiles2 = profiles[['profile_name','n_posts', 'followers']]"
   ]
  },
  {
   "cell_type": "code",
   "execution_count": null,
   "id": "3ea2c6ad-2da8-4fdf-9e56-b5254127ae03",
   "metadata": {},
   "outputs": [],
   "source": [
    "#Let's check for NaN values in 'n_posts'\n",
    "profiles2['n_posts'].isnull().sum()"
   ]
  },
  {
   "cell_type": "code",
   "execution_count": null,
   "id": "49c63342-cf3c-4d29-b8b0-833c6a007fc0",
   "metadata": {},
   "outputs": [],
   "source": [
    "#Let's check for NaN values in 'follower'\n",
    "profiles2['followers'].isnull().sum()"
   ]
  },
  {
   "cell_type": "code",
   "execution_count": null,
   "id": "20b5c5f2-7e80-4cc4-9ab2-adebe7cbadde",
   "metadata": {},
   "outputs": [],
   "source": [
    "#Let's drop them\n",
    "profiles2.dropna(inplace=True)"
   ]
  },
  {
   "cell_type": "code",
   "execution_count": null,
   "id": "da70b194-9638-4077-a331-a200395f5006",
   "metadata": {},
   "outputs": [],
   "source": [
    "#Verify it\n",
    "profiles2['n_posts'].isnull().sum() == profiles2['followers'].isnull().sum() == 0"
   ]
  },
  {
   "cell_type": "code",
   "execution_count": null,
   "id": "8f4e942b-e2f2-4c5e-a321-a624513be4c0",
   "metadata": {},
   "outputs": [],
   "source": [
    "#Let's sort profiles in ascending order by followers and n_posts\n",
    "top_profiles=profiles2.sort_values(by=['followers','n_posts'], ascending=False).head(10)\n",
    "top_profiles"
   ]
  },
  {
   "cell_type": "code",
   "execution_count": null,
   "id": "b9b82c2e-ca3e-4690-82a8-ebded2dc3767",
   "metadata": {},
   "outputs": [],
   "source": [
    "#Now let's plot it\n",
    "fig, ax1 = plt.subplots(figsize=(15, 5))\n",
    "ax1.set_xlabel('Profile name')\n",
    "# plot line chart on axis #1\n",
    "ax1.bar(top_profiles['profile_name'], top_profiles['followers'], width=0.5, alpha=0.5, color='Blue')\n",
    "ax1.set_ylabel('Number of followers')\n",
    "plt.xticks(top_profiles['profile_name'], top_profiles['profile_name'], rotation='vertical')\n",
    "#ax1.set_ylim(0, 25)\n",
    "# set up the 2nd axis\n",
    "ax2 = ax1.twinx()\n",
    "\n",
    "# plot bar chart on axis #2\n",
    "ax2.bar(top_profiles['profile_name'], top_profiles['n_posts'], width=0.5, alpha=0.5, color='darkgreen', align='edge')\n",
    "ax2.grid(False) # turn off grid #2\n",
    "ax2.set_ylabel('Number of posts')\n",
    "#ax2.set_ylim(0, 90)\n",
    "fig.legend(['Followers','Posts'], loc=\"upper center\",bbox_to_anchor=(0.5, 0.3, 0.65, 0.5),fontsize='large')\n",
    "plt.show()"
   ]
  },
  {
   "cell_type": "markdown",
   "id": "43feb501",
   "metadata": {
    "tags": []
   },
   "source": [
    "### Who is the most influential user?"
   ]
  },
  {
   "cell_type": "code",
   "execution_count": null,
   "id": "76846afc",
   "metadata": {},
   "outputs": [],
   "source": [
    "profiles2 = profiles[['profile_name', 'followers', 'profile_id']]"
   ]
  },
  {
   "cell_type": "code",
   "execution_count": null,
   "id": "fb03bb18-f161-4d71-a996-b94e1d4d23d6",
   "metadata": {},
   "outputs": [],
   "source": [
    "#Let's check for NaN values in 'n_posts'\n",
    "profiles2['followers'].isnull().sum()"
   ]
  },
  {
   "cell_type": "code",
   "execution_count": null,
   "id": "842df3fe-7b31-4e72-aa18-076fa41b5a1c",
   "metadata": {},
   "outputs": [],
   "source": [
    "#Let's drop them\n",
    "profiles2.dropna(inplace=True)"
   ]
  },
  {
   "cell_type": "code",
   "execution_count": null,
   "id": "acc09bdf-62a4-44c1-8fc2-6cb35ba88c3e",
   "metadata": {},
   "outputs": [],
   "source": [
    "#Let's check for NaN values in 'follower' again\n",
    "profiles2['followers'].isnull().sum()"
   ]
  },
  {
   "cell_type": "code",
   "execution_count": null,
   "id": "6553ec75-9a26-4469-b970-8fd69d772c53",
   "metadata": {},
   "outputs": [],
   "source": [
    "#Verify it\n",
    "profiles2['followers'].isnull().sum() == 0"
   ]
  },
  {
   "cell_type": "code",
   "execution_count": null,
   "id": "8d0cc32e-dbe7-4b52-9fff-9e129a777b06",
   "metadata": {},
   "outputs": [],
   "source": [
    "#Let's sort\n",
    "sorted_profile=profiles2.sort_values(by='followers', ascending=False)"
   ]
  },
  {
   "cell_type": "code",
   "execution_count": null,
   "id": "c07f18b5-25f0-4a71-ad5b-f2052ad252f0",
   "metadata": {},
   "outputs": [],
   "source": [
    "# Let's see the result\n",
    "print('The most influential user is \"',sorted_profile.head(1)['profile_name'].values[0], \n",
    "      '\" with ','{:,}'.format(int(sorted_profile.head(1)['followers'])), ' followers')"
   ]
  },
  {
   "cell_type": "markdown",
   "id": "a6e82743",
   "metadata": {
    "tags": []
   },
   "source": [
    "### Have they posted anything with tagged locations? Extract the most frequent areas on their posts and plot the number of times each city has been visited."
   ]
  },
  {
   "cell_type": "code",
   "execution_count": null,
   "id": "3435d0d0-f42c-4d61-b863-ad0bffdb96b1",
   "metadata": {},
   "outputs": [],
   "source": [
    "locations.head()"
   ]
  },
  {
   "cell_type": "code",
   "execution_count": null,
   "id": "b89a5251",
   "metadata": {},
   "outputs": [],
   "source": [
    "#Saving the most influential user's ID\n",
    "top_user_id=float(sorted_profile.head(1)['profile_id'])\n",
    "top_user_id"
   ]
  },
  {
   "cell_type": "code",
   "execution_count": null,
   "id": "169e6b1b-b5da-4925-9148-411d1b640973",
   "metadata": {},
   "outputs": [],
   "source": [
    "#Applying the function we already created to find all the posts of such ID\n",
    "posts_of_top_id=searchpost(top_user_id)"
   ]
  },
  {
   "cell_type": "code",
   "execution_count": null,
   "id": "653a0273-26e8-4dea-a617-95bb43e3405a",
   "metadata": {},
   "outputs": [],
   "source": [
    "posts_of_top_id.head()"
   ]
  },
  {
   "cell_type": "code",
   "execution_count": null,
   "id": "f2dc3206-6aa1-4fe9-924f-0c5febc972c3",
   "metadata": {},
   "outputs": [],
   "source": [
    "list_of_locations=[]\n",
    "df_posts_of_most_influential=pd.DataFrame(columns=['post_id','location_id'])\n",
    "for id_top in tqdm(posts_of_top_id['post_id']):\n",
    "    df_posts_of_most_influential=pd.concat([df,posts[posts.post_id == id_top]])"
   ]
  },
  {
   "cell_type": "code",
   "execution_count": null,
   "id": "95156644-c8f9-430e-b1f7-75fee290aa58",
   "metadata": {},
   "outputs": [],
   "source": [
    "df_posts_of_most_influential.head(10)"
   ]
  },
  {
   "cell_type": "code",
   "execution_count": null,
   "id": "323021fe-8b93-4f71-bc1d-626c9ab91d6e",
   "metadata": {},
   "outputs": [],
   "source": [
    "#Find locations and plot it\n"
   ]
  },
  {
   "cell_type": "code",
   "execution_count": null,
   "id": "565a1401-c7f4-499f-aa93-cd12e68c13d2",
   "metadata": {},
   "outputs": [],
   "source": []
  },
  {
   "cell_type": "markdown",
   "id": "ff47ea5f",
   "metadata": {
    "jp-MarkdownHeadingCollapsed": true,
    "tags": []
   },
   "source": [
    "### How many pictures-only posts have they published? How many reels? (only videos) and how many with both contents? Provide the number as percentages and interpret those figures."
   ]
  },
  {
   "cell_type": "code",
   "execution_count": null,
   "id": "1ef133fb-0c13-4985-b582-bf9d986086d3",
   "metadata": {},
   "outputs": [],
   "source": [
    "#We already have:\n",
    "posts_of_top_id"
   ]
  },
  {
   "cell_type": "code",
   "execution_count": null,
   "id": "7596df9f",
   "metadata": {},
   "outputs": [],
   "source": [
    "df=pd.DataFrame(columns=['post_id','post_type'])\n",
    "for id_top in posts_of_top_id['post_id'][:5]:\n",
    "    for chunk in tqdm(pd.read_csv('/Users/the_redd_/Desktop/ADM/instagram_posts.csv', \n",
    "                                    usecols=['post_id','location_id'], delimiter='\\t', chunksize=1000000)):\n",
    "        df=pd.concat([df,chunk[chunk.post_id == id_top]])\n",
    "        "
   ]
  },
  {
   "cell_type": "code",
   "execution_count": null,
   "id": "2e460a10-6468-45ac-9e9f-c4329aa66faf",
   "metadata": {},
   "outputs": [],
   "source": [
    "df"
   ]
  },
  {
   "cell_type": "markdown",
   "id": "3b0425c4",
   "metadata": {},
   "source": [
    "### How many \"likes\" and comments did posts with only pictures receive? How about videos and mixed posts? Try to provide the average numbers and confront them with their followers amount, explaining what you can say from that comparison."
   ]
  },
  {
   "cell_type": "code",
   "execution_count": null,
   "id": "3383806a-873d-414e-92ca-8ceda5a9d336",
   "metadata": {},
   "outputs": [],
   "source": []
  },
  {
   "cell_type": "markdown",
   "id": "9a3106b4-a8a9-4f23-867d-d2009744b685",
   "metadata": {
    "jp-MarkdownHeadingCollapsed": true,
    "tags": []
   },
   "source": [
    "# [RQ6] It's time to get information from the user posting effectiveness."
   ]
  },
  {
   "cell_type": "markdown",
   "id": "48c8c87d-6b12-4200-967c-291ed8dd329a",
   "metadata": {
    "tags": []
   },
   "source": [
    "### What is the average time (days and minutes) a user lets pass before publishing another post? Plot the top 3 users that publish posts more frequently (calculate the average time that passes between posts), including their amount of followers and following. Provide insights from that chart.\n"
   ]
  },
  {
   "cell_type": "code",
   "execution_count": null,
   "id": "efc0d814-c5fb-40ff-9f11-73ce4e10db04",
   "metadata": {},
   "outputs": [],
   "source": []
  },
  {
   "cell_type": "markdown",
   "id": "ae468ebf-25d7-4e46-bd70-3d1294ebcb00",
   "metadata": {},
   "source": [
    "### Using the function you previously coded, plot the time intervals with the highest average number of “likes” and the ones with the highest average number of comments on posts."
   ]
  },
  {
   "cell_type": "code",
   "execution_count": null,
   "id": "acf1f7fd-a9c3-46eb-a05d-3c69a0d0e4b7",
   "metadata": {},
   "outputs": [],
   "source": []
  },
  {
   "cell_type": "markdown",
   "id": "88e0b162-73b4-48cc-aa8f-f91088d0af28",
   "metadata": {
    "jp-MarkdownHeadingCollapsed": true,
    "tags": []
   },
   "source": [
    "# [RQ7] Of course, calculating probabilities is a job that any Data Scientist must know. So let's compute some engaging figures"
   ]
  },
  {
   "cell_type": "markdown",
   "id": "0d9a44a1-6ee3-4a12-a51e-384468834add",
   "metadata": {},
   "source": [
    "### What's the probability that a post receives more than 20% \"likes\" of the number of followers a user has?"
   ]
  },
  {
   "cell_type": "code",
   "execution_count": null,
   "id": "14a40413-858a-4e9a-9c91-0c2a9bdd870f",
   "metadata": {},
   "outputs": [],
   "source": []
  },
  {
   "cell_type": "markdown",
   "id": "eb3f9075-9f8d-4730-8316-d444a3f440e6",
   "metadata": {},
   "source": [
    "### Do users usually return to locations? Extract the probability that a user returns to a site after having posted it in the past. Does that probability make sense to you? Explain why or why not."
   ]
  },
  {
   "cell_type": "code",
   "execution_count": null,
   "id": "41d9c296-de1d-41c1-8c08-6f22474df26b",
   "metadata": {},
   "outputs": [],
   "source": []
  },
  {
   "cell_type": "markdown",
   "id": "ae542edc-9141-4055-b33e-0d0c4c2547ec",
   "metadata": {
    "tags": []
   },
   "source": [
    "# [RQ8] Every decision you take in a data-based environment should be reinforced with charts, statistical tests and analysis methods to check whether a hypothesis is correct or not."
   ]
  },
  {
   "cell_type": "markdown",
   "id": "fe1c49d7-6d67-4a3c-a98e-90b8111e7037",
   "metadata": {},
   "source": [
    "### Does more “likes” also mean more comments? Plot a scatter plot of “likes” vs comments for posts?"
   ]
  },
  {
   "cell_type": "code",
   "execution_count": null,
   "id": "bb9de521-1789-4a67-8984-d90e096a447f",
   "metadata": {},
   "outputs": [],
   "source": []
  },
  {
   "cell_type": "markdown",
   "id": "26bddbe6-9ec6-4adf-900b-4af29f6adbb6",
   "metadata": {},
   "source": [
    "### Can you find any significant relationship between the time a user publishes a post and the number of comments and “likes”? Use an appropriate statistical test or technique and support your choice."
   ]
  },
  {
   "cell_type": "code",
   "execution_count": null,
   "id": "32531663-cfad-462a-ad15-835014e22ef1",
   "metadata": {},
   "outputs": [],
   "source": []
  },
  {
   "cell_type": "markdown",
   "id": "e849c0ab-0a3e-4fd0-bbb3-fb9e16df9801",
   "metadata": {},
   "source": [
    "### What’s the distribution of followers? Plot the empirical distribution of followers amongst all users and extract the mean, mode, and quantiles. Interpret those figures."
   ]
  },
  {
   "cell_type": "code",
   "execution_count": null,
   "id": "a74a5433-b13a-4336-80a7-a0ba26a25d29",
   "metadata": {},
   "outputs": [],
   "source": []
  },
  {
   "cell_type": "markdown",
   "id": "fb3f6060-5454-4b14-9464-655144c891d9",
   "metadata": {},
   "source": [
    "### What are histograms, bar plots, scatterplots and pie charts used for?"
   ]
  },
  {
   "cell_type": "code",
   "execution_count": null,
   "id": "b063e5f8-b3b5-4505-a724-d9c2b3d23b11",
   "metadata": {},
   "outputs": [],
   "source": []
  },
  {
   "cell_type": "markdown",
   "id": "7517f4e7-b342-498e-853b-71b8a5ef8da3",
   "metadata": {},
   "source": [
    "### What insights can you extract from a Box Plot?"
   ]
  },
  {
   "cell_type": "code",
   "execution_count": null,
   "id": "4e2238c5-6fb7-44b2-86c3-97366a42d640",
   "metadata": {},
   "outputs": [],
   "source": []
  }
 ],
 "metadata": {
  "kernelspec": {
   "display_name": "Python 3.9.12 ('base')",
   "language": "python",
   "name": "python3"
  },
  "language_info": {
   "codemirror_mode": {
    "name": "ipython",
    "version": 3
   },
   "file_extension": ".py",
   "mimetype": "text/x-python",
   "name": "python",
   "nbconvert_exporter": "python",
   "pygments_lexer": "ipython3",
   "version": "3.9.12"
  },
  "vscode": {
   "interpreter": {
    "hash": "cd94c265d0cd8d4c5ed894c320907f0fc1771c221568605f48fbe0110aecbb76"
   }
  }
 },
 "nbformat": 4,
 "nbformat_minor": 5
}
