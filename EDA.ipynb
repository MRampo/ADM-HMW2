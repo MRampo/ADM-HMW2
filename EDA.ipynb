{
 "cells": [
  {
   "cell_type": "code",
   "execution_count": 7,
   "metadata": {},
   "outputs": [],
   "source": [
    "import pandas as pd\n",
    "import matplotlib.pyplot as plt"
   ]
  },
  {
   "cell_type": "markdown",
   "metadata": {},
   "source": [
    "### Let's first import all the csv files... the \"instagram_posts.csv\" file is too big, so we will read it by chunks.\n",
    "### We will also see if we can lighten the memory a bit by defining the data types of the csv file in andvance, but first we need to analyze the content of a portion of the whole file"
   ]
  },
  {
   "cell_type": "code",
   "execution_count": 2,
   "metadata": {},
   "outputs": [
    {
     "name": "stdout",
     "output_type": "stream",
     "text": [
      "Wall time: 18 ms\n"
     ]
    }
   ],
   "source": [
    "%%time\n",
    "post = pd.read_csv(\"instagram_posts.csv\", delimiter=\"\\t\", chunksize=2000000)"
   ]
  },
  {
   "cell_type": "code",
   "execution_count": 3,
   "metadata": {},
   "outputs": [
    {
     "name": "stdout",
     "output_type": "stream",
     "text": [
      "Wall time: 16.2 s\n"
     ]
    }
   ],
   "source": [
    "\n",
    "%%time\n",
    "profiles = pd.read_csv(\"instagram_profiles.csv\", delimiter=\"\\t\")"
   ]
  },
  {
   "cell_type": "code",
   "execution_count": 4,
   "metadata": {},
   "outputs": [
    {
     "name": "stdout",
     "output_type": "stream",
     "text": [
      "Wall time: 6.8 s\n"
     ]
    }
   ],
   "source": [
    "%%time\n",
    "location = pd.read_csv(\"instagram_locations.csv\", delimiter = \"\\t\")"
   ]
  },
  {
   "cell_type": "markdown",
   "metadata": {},
   "source": [
    "## PreProcessing Instagram Posts"
   ]
  },
  {
   "cell_type": "code",
   "execution_count": 5,
   "metadata": {},
   "outputs": [],
   "source": [
    "p = post.get_chunk(2000000)"
   ]
  },
  {
   "cell_type": "code",
   "execution_count": 31,
   "metadata": {},
   "outputs": [
    {
     "name": "stdout",
     "output_type": "stream",
     "text": [
      "<class 'pandas.core.frame.DataFrame'>\n",
      "RangeIndex: 2000000 entries, 1 to 2000000\n",
      "Data columns (total 10 columns):\n",
      " #   Column           Dtype  \n",
      "---  ------           -----  \n",
      " 0   sid              int64  \n",
      " 1   sid_profile      int64  \n",
      " 2   post_id          object \n",
      " 3   profile_id       float64\n",
      " 4   location_id      float64\n",
      " 5   cts              object \n",
      " 6   post_type        int64  \n",
      " 7   description      object \n",
      " 8   numbr_likes      int64  \n",
      " 9   number_comments  int64  \n",
      "dtypes: float64(2), int64(5), object(3)\n",
      "memory usage: 152.6+ MB\n"
     ]
    }
   ],
   "source": [
    "#p1 without any dtype setting\n",
    "p.info()"
   ]
  },
  {
   "cell_type": "code",
   "execution_count": 30,
   "metadata": {},
   "outputs": [
    {
     "data": {
      "text/plain": [
       "(0, 10)"
      ]
     },
     "execution_count": 30,
     "metadata": {},
     "output_type": "execute_result"
    }
   ],
   "source": [
    "#check to see if there are any duplicated rows!\n",
    "duplicate_row_p1 = p[p.duplicated()]\n",
    "duplicate_row_p1.shape"
   ]
  },
  {
   "cell_type": "markdown",
   "metadata": {},
   "source": [
    "### Find all the unique value of each row"
   ]
  },
  {
   "cell_type": "code",
   "execution_count": 40,
   "metadata": {},
   "outputs": [
    {
     "name": "stdout",
     "output_type": "stream",
     "text": [
      "sid  :  (2000000,) max:  30419436 min:  6025\n",
      "sid_profile  :  (99813,) max:  4510554 min:  -1\n",
      "post_id  :  (2000000,) max:  zzv4K5vNWp min:  ---dcJLfEG\n",
      "profile_id  :  (1486596,) max:  nan min:  nan\n",
      "location_id  :  (89578,) max:  nan min:  nan\n",
      "cts  :  (1797406,) max:  2019-06-02 15:31:49.000 min:  2010-09-05 21:48:24.000\n",
      "post_type  :  (3,) max:  3 min:  1\n",
      "numbr_likes  :  (14469,) max:  2212264 min:  0\n",
      "number_comments  :  (1513,) max:  135221 min:  0\n"
     ]
    }
   ],
   "source": [
    "#TODO: redo with appropriate function\n",
    "for columns in p:\n",
    "    if columns != 'description':\n",
    "        print(columns, \" : \", p[columns].unique().shape, \"max: \", p1[columns].unique().max(), \"min: \", p1[columns].unique().min())\n",
    "\n"
   ]
  },
  {
   "cell_type": "markdown",
   "metadata": {},
   "source": [
    "As you can see we have some Na in the profile_id columsn, and the location_id.\n",
    "While the value \"Na\" in the location_id might simply suggest the absense of it in the post, one post should't have a missing \"profile_id\".\n",
    "To solve this dirty data we decided to drop every post who has not a valid profile_id "
   ]
  },
  {
   "cell_type": "code",
   "execution_count": 50,
   "metadata": {},
   "outputs": [
    {
     "name": "stdout",
     "output_type": "stream",
     "text": [
      "sid  :  (1999863,) max:  30419436 min:  6025\n",
      "sid_profile  :  (99813,) max:  4510554 min:  -1\n",
      "post_id  :  (1999863,) max:  zzv4K5vNWp min:  ---dcJLfEG\n",
      "profile_id  :  (1486595,) max:  14445760345.0 min:  3.0\n",
      "location_id  :  (89575,) max:  nan min:  nan\n",
      "cts  :  (1797288,) max:  2019-06-02 15:31:49.000 min:  2010-09-05 21:48:24.000\n",
      "post_type  :  (3,) max:  3 min:  1\n",
      "numbr_likes  :  (14468,) max:  2212264 min:  0\n",
      "number_comments  :  (1513,) max:  135221 min:  0\n"
     ]
    }
   ],
   "source": [
    "#We drop all the na in the column 'profile_id'\n",
    "p = p.dropna(subset= ['profile_id'])\n",
    "#We print the min and the max of all the attributes\n",
    "for columns in p:\n",
    "    if columns != 'description':\n",
    "        print(columns, \" : \", p[columns].unique().shape, \"max: \", p[columns].unique().max(), \"min: \", p[columns].unique().min())"
   ]
  },
  {
   "cell_type": "markdown",
   "metadata": {},
   "source": [
    "As we can see, we can modify the memory of a few columns, in particular:\n",
    "- number_comments has a range going from 0 to 135221 so we can use the int32\n",
    "- numbr_likes has a range going from 0 to 135221 so we can use the int32\n",
    "- post_likes rappresents only 3 possibility, so a categorical feature should be good enough\n",
    "- sid_profile has a range going from -1 to 4510554 so we can use the int32\n",
    "- sid has a range going from 6025 to 30419436 so we can use the int 32"
   ]
  },
  {
   "cell_type": "code",
   "execution_count": 71,
   "metadata": {},
   "outputs": [
    {
     "name": "stdout",
     "output_type": "stream",
     "text": [
      "<class 'pandas.core.frame.DataFrame'>\n",
      "RangeIndex: 2000000 entries, 0 to 1999999\n",
      "Data columns (total 10 columns):\n",
      " #   Column           Dtype   \n",
      "---  ------           -----   \n",
      " 0   sid              int32   \n",
      " 1   sid_profile      int32   \n",
      " 2   post_id          object  \n",
      " 3   profile_id       float64 \n",
      " 4   location_id      float64 \n",
      " 5   cts              object  \n",
      " 6   post_type        category\n",
      " 7   description      object  \n",
      " 8   numbr_likes      int32   \n",
      " 9   number_comments  int32   \n",
      "dtypes: category(1), float64(2), int32(4), object(3)\n",
      "memory usage: 108.7+ MB\n"
     ]
    }
   ],
   "source": [
    "dtypes = {\n",
    "    'sid': 'int32',\n",
    "    'sid_profile': 'int32',\n",
    "    'post_id':'object',\n",
    "    'profile_id': 'float64',\n",
    "    'location_id': 'float64',\n",
    "    'cts' : 'object',\n",
    "    'post_type' : 'category',\n",
    "    'numbr_likes': 'int32',\n",
    "    'number_comments':'int32'\n",
    "}\n",
    "\n",
    "post = pd.read_csv(\"instagram_posts.csv\", delimiter=\"\\t\", chunksize=2000000, dtype=dtypes)\n",
    "p_clean = post.get_chunk(2000000)\n",
    "p_clean.info()"
   ]
  },
  {
   "cell_type": "markdown",
   "metadata": {},
   "source": [
    "We went from 152MB to 109 MB for the same chunk. But we can do better by managing the Na Values!"
   ]
  },
  {
   "cell_type": "code",
   "execution_count": 72,
   "metadata": {},
   "outputs": [],
   "source": [
    "#Managing the Na value in the \"profile_id\" column and the \"location_id\"\n",
    "#as we said before, we are gonna drop all the na in the \"profile_id\" column\n",
    "p_clean = p_clean.dropna(subset= ['profile_id'])\n",
    "#and we are gonna replace all the missing values from location_id to 0\n",
    "p_clean['location_id'] = p_clean['location_id'].fillna(0)"
   ]
  },
  {
   "cell_type": "code",
   "execution_count": 73,
   "metadata": {},
   "outputs": [
    {
     "name": "stdout",
     "output_type": "stream",
     "text": [
      "<class 'pandas.core.frame.DataFrame'>\n",
      "Int64Index: 1999863 entries, 0 to 1999999\n",
      "Data columns (total 10 columns):\n",
      " #   Column           Dtype   \n",
      "---  ------           -----   \n",
      " 0   sid              int32   \n",
      " 1   sid_profile      int32   \n",
      " 2   post_id          object  \n",
      " 3   profile_id       int64   \n",
      " 4   location_id      int64   \n",
      " 5   cts              object  \n",
      " 6   post_type        category\n",
      " 7   description      object  \n",
      " 8   numbr_likes      int32   \n",
      " 9   number_comments  int32   \n",
      "dtypes: category(1), int32(4), int64(2), object(3)\n",
      "memory usage: 124.0+ MB\n"
     ]
    }
   ],
   "source": [
    "\n",
    "p_clean = p_clean.astype({'location_id': 'int64', 'profile_id': 'int64'})\n",
    "p_clean.info()"
   ]
  },
  {
   "cell_type": "markdown",
   "metadata": {},
   "source": [
    "## Preprocessing Profiles"
   ]
  },
  {
   "cell_type": "code",
   "execution_count": 25,
   "metadata": {},
   "outputs": [
    {
     "data": {
      "text/html": [
       "<div>\n",
       "<style scoped>\n",
       "    .dataframe tbody tr th:only-of-type {\n",
       "        vertical-align: middle;\n",
       "    }\n",
       "\n",
       "    .dataframe tbody tr th {\n",
       "        vertical-align: top;\n",
       "    }\n",
       "\n",
       "    .dataframe thead th {\n",
       "        text-align: right;\n",
       "    }\n",
       "</style>\n",
       "<table border=\"1\" class=\"dataframe\">\n",
       "  <thead>\n",
       "    <tr style=\"text-align: right;\">\n",
       "      <th></th>\n",
       "      <th>sid</th>\n",
       "      <th>profile_id</th>\n",
       "      <th>profile_name</th>\n",
       "      <th>firstname_lastname</th>\n",
       "      <th>description</th>\n",
       "      <th>following</th>\n",
       "      <th>followers</th>\n",
       "      <th>n_posts</th>\n",
       "      <th>url</th>\n",
       "      <th>cts</th>\n",
       "      <th>is_business_account</th>\n",
       "    </tr>\n",
       "  </thead>\n",
       "  <tbody>\n",
       "    <tr>\n",
       "      <th>0</th>\n",
       "      <td>4184446</td>\n",
       "      <td>4.721050e+09</td>\n",
       "      <td>jphillip033</td>\n",
       "      <td>John Pierce</td>\n",
       "      <td>\"Document Everything Always\"</td>\n",
       "      <td>250.0</td>\n",
       "      <td>146.0</td>\n",
       "      <td>170.0</td>\n",
       "      <td>NaN</td>\n",
       "      <td>2019-08-01 14:38:55.394 -0400</td>\n",
       "      <td>False</td>\n",
       "    </tr>\n",
       "    <tr>\n",
       "      <th>1</th>\n",
       "      <td>4184457</td>\n",
       "      <td>5.905830e+08</td>\n",
       "      <td>mama_haas</td>\n",
       "      <td>Deanna</td>\n",
       "      <td>Trying to enjoy the simple things in life. Kni...</td>\n",
       "      <td>534.0</td>\n",
       "      <td>1145.0</td>\n",
       "      <td>2878.0</td>\n",
       "      <td>www.etsy.com/shop/MamaHaas69</td>\n",
       "      <td>2019-08-01 14:39:36.526 -0400</td>\n",
       "      <td>False</td>\n",
       "    </tr>\n",
       "    <tr>\n",
       "      <th>2</th>\n",
       "      <td>4184460</td>\n",
       "      <td>1.074147e+09</td>\n",
       "      <td>yellowlightbreen</td>\n",
       "      <td>Eliza Gray</td>\n",
       "      <td>Maine is for Lovers</td>\n",
       "      <td>469.0</td>\n",
       "      <td>324.0</td>\n",
       "      <td>431.0</td>\n",
       "      <td>elizajanegray.com</td>\n",
       "      <td>2019-08-01 14:39:54.407 -0400</td>\n",
       "      <td>False</td>\n",
       "    </tr>\n",
       "    <tr>\n",
       "      <th>3</th>\n",
       "      <td>4184461</td>\n",
       "      <td>1.472039e+09</td>\n",
       "      <td>tec1025</td>\n",
       "      <td>Thomas Clark</td>\n",
       "      <td>NaN</td>\n",
       "      <td>NaN</td>\n",
       "      <td>NaN</td>\n",
       "      <td>NaN</td>\n",
       "      <td>NaN</td>\n",
       "      <td>2019-08-01 14:40:06.472 -0400</td>\n",
       "      <td>NaN</td>\n",
       "    </tr>\n",
       "    <tr>\n",
       "      <th>4</th>\n",
       "      <td>4184462</td>\n",
       "      <td>3.531421e+09</td>\n",
       "      <td>luckyfluff</td>\n",
       "      <td>NaN</td>\n",
       "      <td>NaN</td>\n",
       "      <td>NaN</td>\n",
       "      <td>NaN</td>\n",
       "      <td>NaN</td>\n",
       "      <td>NaN</td>\n",
       "      <td>2019-08-01 14:40:07.806 -0400</td>\n",
       "      <td>NaN</td>\n",
       "    </tr>\n",
       "  </tbody>\n",
       "</table>\n",
       "</div>"
      ],
      "text/plain": [
       "       sid    profile_id      profile_name firstname_lastname  \\\n",
       "0  4184446  4.721050e+09       jphillip033        John Pierce   \n",
       "1  4184457  5.905830e+08         mama_haas             Deanna   \n",
       "2  4184460  1.074147e+09  yellowlightbreen         Eliza Gray   \n",
       "3  4184461  1.472039e+09           tec1025       Thomas Clark   \n",
       "4  4184462  3.531421e+09        luckyfluff                NaN   \n",
       "\n",
       "                                         description  following  followers  \\\n",
       "0                       \"Document Everything Always\"      250.0      146.0   \n",
       "1  Trying to enjoy the simple things in life. Kni...      534.0     1145.0   \n",
       "2                                Maine is for Lovers      469.0      324.0   \n",
       "3                                                NaN        NaN        NaN   \n",
       "4                                                NaN        NaN        NaN   \n",
       "\n",
       "   n_posts                           url                            cts  \\\n",
       "0    170.0                           NaN  2019-08-01 14:38:55.394 -0400   \n",
       "1   2878.0  www.etsy.com/shop/MamaHaas69  2019-08-01 14:39:36.526 -0400   \n",
       "2    431.0             elizajanegray.com  2019-08-01 14:39:54.407 -0400   \n",
       "3      NaN                           NaN  2019-08-01 14:40:06.472 -0400   \n",
       "4      NaN                           NaN  2019-08-01 14:40:07.806 -0400   \n",
       "\n",
       "  is_business_account  \n",
       "0               False  \n",
       "1               False  \n",
       "2               False  \n",
       "3                 NaN  \n",
       "4                 NaN  "
      ]
     },
     "execution_count": 25,
     "metadata": {},
     "output_type": "execute_result"
    }
   ],
   "source": [
    "profiles.head()"
   ]
  },
  {
   "cell_type": "code",
   "execution_count": 4,
   "metadata": {},
   "outputs": [
    {
     "name": "stdout",
     "output_type": "stream",
     "text": [
      "<class 'pandas.core.frame.DataFrame'>\n",
      "RangeIndex: 4509586 entries, 0 to 4509585\n",
      "Data columns (total 11 columns):\n",
      " #   Column               Dtype  \n",
      "---  ------               -----  \n",
      " 0   sid                  int64  \n",
      " 1   profile_id           float64\n",
      " 2   profile_name         object \n",
      " 3   firstname_lastname   object \n",
      " 4   description          object \n",
      " 5   following            float64\n",
      " 6   followers            float64\n",
      " 7   n_posts              float64\n",
      " 8   url                  object \n",
      " 9   cts                  object \n",
      " 10  is_business_account  object \n",
      "dtypes: float64(4), int64(1), object(6)\n",
      "memory usage: 378.5+ MB\n"
     ]
    }
   ],
   "source": [
    "profiles.info()"
   ]
  },
  {
   "cell_type": "markdown",
   "metadata": {},
   "source": [
    "I check in order:\n",
    "- If there are any duplicates\n",
    "- If there are any Na Values\n",
    "- If the dataset can be stored in a more efficient way"
   ]
  },
  {
   "cell_type": "markdown",
   "metadata": {},
   "source": [
    "## Check for duplicates"
   ]
  },
  {
   "cell_type": "code",
   "execution_count": 6,
   "metadata": {},
   "outputs": [
    {
     "name": "stdout",
     "output_type": "stream",
     "text": [
      "(0, 11)\n"
     ]
    }
   ],
   "source": [
    "#checking for duplicates\n",
    "profiles_dup = profiles[profiles.duplicated()]\n",
    "print(profiles_dup.shape)\n"
   ]
  },
  {
   "cell_type": "markdown",
   "metadata": {},
   "source": [
    "## Check and Deal with Na values"
   ]
  },
  {
   "cell_type": "markdown",
   "metadata": {},
   "source": [
    "11 columns and 0 rows, it means there are no duplicates"
   ]
  },
  {
   "cell_type": "code",
   "execution_count": 11,
   "metadata": {},
   "outputs": [
    {
     "name": "stdout",
     "output_type": "stream",
     "text": [
      "sid  : 0\n",
      "profile_id  : 32447\n",
      "profile_name  : 0\n",
      "firstname_lastname  : 288465\n",
      "description  : 2055996\n",
      "following  : 1056815\n",
      "followers  : 1056815\n",
      "n_posts  : 1056815\n",
      "url  : 3639312\n",
      "cts  : 438488\n",
      "is_business_account  : 1064263\n"
     ]
    }
   ],
   "source": [
    "#check for Na inside the dataframe\n",
    "#the Na values can be \"stored\" only in float64 dtype, so i will need to check only the float64\n",
    "for column in profiles:\n",
    "    print(column, \" :\", profiles[column].isnull().values.sum())\n"
   ]
  },
  {
   "cell_type": "code",
   "execution_count": 34,
   "metadata": {},
   "outputs": [
    {
     "data": {
      "text/html": [
       "<div>\n",
       "<style scoped>\n",
       "    .dataframe tbody tr th:only-of-type {\n",
       "        vertical-align: middle;\n",
       "    }\n",
       "\n",
       "    .dataframe tbody tr th {\n",
       "        vertical-align: top;\n",
       "    }\n",
       "\n",
       "    .dataframe thead th {\n",
       "        text-align: right;\n",
       "    }\n",
       "</style>\n",
       "<table border=\"1\" class=\"dataframe\">\n",
       "  <thead>\n",
       "    <tr style=\"text-align: right;\">\n",
       "      <th></th>\n",
       "      <th>sid</th>\n",
       "      <th>profile_id</th>\n",
       "      <th>profile_name</th>\n",
       "      <th>firstname_lastname</th>\n",
       "      <th>description</th>\n",
       "      <th>following</th>\n",
       "      <th>followers</th>\n",
       "      <th>n_posts</th>\n",
       "      <th>url</th>\n",
       "      <th>cts</th>\n",
       "      <th>is_business_account</th>\n",
       "    </tr>\n",
       "  </thead>\n",
       "  <tbody>\n",
       "    <tr>\n",
       "      <th>4</th>\n",
       "      <td>4184462</td>\n",
       "      <td>3.531421e+09</td>\n",
       "      <td>luckyfluff</td>\n",
       "      <td>NaN</td>\n",
       "      <td>NaN</td>\n",
       "      <td>NaN</td>\n",
       "      <td>NaN</td>\n",
       "      <td>NaN</td>\n",
       "      <td>NaN</td>\n",
       "      <td>2019-08-01 14:40:07.806 -0400</td>\n",
       "      <td>NaN</td>\n",
       "    </tr>\n",
       "    <tr>\n",
       "      <th>39</th>\n",
       "      <td>4184499</td>\n",
       "      <td>5.134539e+08</td>\n",
       "      <td>na3ir_lowlif3</td>\n",
       "      <td>NaN</td>\n",
       "      <td>NaN</td>\n",
       "      <td>NaN</td>\n",
       "      <td>NaN</td>\n",
       "      <td>NaN</td>\n",
       "      <td>NaN</td>\n",
       "      <td>2019-08-01 14:42:12.370 -0400</td>\n",
       "      <td>NaN</td>\n",
       "    </tr>\n",
       "    <tr>\n",
       "      <th>83</th>\n",
       "      <td>4184533</td>\n",
       "      <td>2.940533e+09</td>\n",
       "      <td>bertanooguera__</td>\n",
       "      <td>NaN</td>\n",
       "      <td>NaN</td>\n",
       "      <td>NaN</td>\n",
       "      <td>NaN</td>\n",
       "      <td>NaN</td>\n",
       "      <td>NaN</td>\n",
       "      <td>2019-08-01 14:43:15.857 -0400</td>\n",
       "      <td>NaN</td>\n",
       "    </tr>\n",
       "    <tr>\n",
       "      <th>95</th>\n",
       "      <td>4184552</td>\n",
       "      <td>1.112121e+10</td>\n",
       "      <td>fhs_fbla2019</td>\n",
       "      <td>NaN</td>\n",
       "      <td>Fulton High School FBLA🐝</td>\n",
       "      <td>0.0</td>\n",
       "      <td>17.0</td>\n",
       "      <td>9.0</td>\n",
       "      <td>NaN</td>\n",
       "      <td>2019-08-01 14:44:36.516 -0400</td>\n",
       "      <td>False</td>\n",
       "    </tr>\n",
       "    <tr>\n",
       "      <th>121</th>\n",
       "      <td>4184579</td>\n",
       "      <td>1.464425e+09</td>\n",
       "      <td>evgray_baseball3</td>\n",
       "      <td>NaN</td>\n",
       "      <td>NaN</td>\n",
       "      <td>NaN</td>\n",
       "      <td>NaN</td>\n",
       "      <td>NaN</td>\n",
       "      <td>NaN</td>\n",
       "      <td>2019-08-01 14:46:12.921 -0400</td>\n",
       "      <td>NaN</td>\n",
       "    </tr>\n",
       "  </tbody>\n",
       "</table>\n",
       "</div>"
      ],
      "text/plain": [
       "         sid    profile_id      profile_name firstname_lastname  \\\n",
       "4    4184462  3.531421e+09        luckyfluff                NaN   \n",
       "39   4184499  5.134539e+08     na3ir_lowlif3                NaN   \n",
       "83   4184533  2.940533e+09   bertanooguera__                NaN   \n",
       "95   4184552  1.112121e+10      fhs_fbla2019                NaN   \n",
       "121  4184579  1.464425e+09  evgray_baseball3                NaN   \n",
       "\n",
       "                  description  following  followers  n_posts  url  \\\n",
       "4                         NaN        NaN        NaN      NaN  NaN   \n",
       "39                        NaN        NaN        NaN      NaN  NaN   \n",
       "83                        NaN        NaN        NaN      NaN  NaN   \n",
       "95   Fulton High School FBLA🐝        0.0       17.0      9.0  NaN   \n",
       "121                       NaN        NaN        NaN      NaN  NaN   \n",
       "\n",
       "                               cts is_business_account  \n",
       "4    2019-08-01 14:40:07.806 -0400                 NaN  \n",
       "39   2019-08-01 14:42:12.370 -0400                 NaN  \n",
       "83   2019-08-01 14:43:15.857 -0400                 NaN  \n",
       "95   2019-08-01 14:44:36.516 -0400               False  \n",
       "121  2019-08-01 14:46:12.921 -0400                 NaN  "
      ]
     },
     "execution_count": 34,
     "metadata": {},
     "output_type": "execute_result"
    }
   ],
   "source": [
    "Na = profiles[profiles['firstname_lastname'].isna()]\n",
    "Na.head()"
   ]
  },
  {
   "cell_type": "markdown",
   "metadata": {},
   "source": [
    "## Check for differente data types"
   ]
  },
  {
   "cell_type": "code",
   "execution_count": 39,
   "metadata": {},
   "outputs": [
    {
     "data": {
      "text/html": [
       "<div>\n",
       "<style scoped>\n",
       "    .dataframe tbody tr th:only-of-type {\n",
       "        vertical-align: middle;\n",
       "    }\n",
       "\n",
       "    .dataframe tbody tr th {\n",
       "        vertical-align: top;\n",
       "    }\n",
       "\n",
       "    .dataframe thead th {\n",
       "        text-align: right;\n",
       "    }\n",
       "</style>\n",
       "<table border=\"1\" class=\"dataframe\">\n",
       "  <thead>\n",
       "    <tr style=\"text-align: right;\">\n",
       "      <th></th>\n",
       "      <th>count</th>\n",
       "      <th>mean</th>\n",
       "      <th>std</th>\n",
       "      <th>min</th>\n",
       "      <th>25%</th>\n",
       "      <th>50%</th>\n",
       "      <th>75%</th>\n",
       "      <th>max</th>\n",
       "    </tr>\n",
       "  </thead>\n",
       "  <tbody>\n",
       "    <tr>\n",
       "      <th>sid</th>\n",
       "      <td>4509586.0</td>\n",
       "      <td>2.255992e+06</td>\n",
       "      <td>1.301807e+06</td>\n",
       "      <td>1186.0</td>\n",
       "      <td>1.128596e+06</td>\n",
       "      <td>2.255992e+06</td>\n",
       "      <td>3.383389e+06</td>\n",
       "      <td>4.510785e+06</td>\n",
       "    </tr>\n",
       "    <tr>\n",
       "      <th>profile_id</th>\n",
       "      <td>4477139.0</td>\n",
       "      <td>3.083302e+09</td>\n",
       "      <td>4.266575e+10</td>\n",
       "      <td>4.0</td>\n",
       "      <td>2.735177e+08</td>\n",
       "      <td>1.649248e+09</td>\n",
       "      <td>5.514691e+09</td>\n",
       "      <td>9.001013e+13</td>\n",
       "    </tr>\n",
       "    <tr>\n",
       "      <th>following</th>\n",
       "      <td>3452771.0</td>\n",
       "      <td>1.405641e+03</td>\n",
       "      <td>8.113473e+03</td>\n",
       "      <td>0.0</td>\n",
       "      <td>3.560000e+02</td>\n",
       "      <td>7.540000e+02</td>\n",
       "      <td>1.573000e+03</td>\n",
       "      <td>4.191080e+06</td>\n",
       "    </tr>\n",
       "    <tr>\n",
       "      <th>followers</th>\n",
       "      <td>3452771.0</td>\n",
       "      <td>4.739899e+03</td>\n",
       "      <td>1.939087e+05</td>\n",
       "      <td>0.0</td>\n",
       "      <td>1.590000e+02</td>\n",
       "      <td>4.060000e+02</td>\n",
       "      <td>9.740000e+02</td>\n",
       "      <td>2.854576e+08</td>\n",
       "    </tr>\n",
       "    <tr>\n",
       "      <th>n_posts</th>\n",
       "      <td>3452771.0</td>\n",
       "      <td>4.095414e+02</td>\n",
       "      <td>1.041940e+03</td>\n",
       "      <td>0.0</td>\n",
       "      <td>2.200000e+01</td>\n",
       "      <td>1.200000e+02</td>\n",
       "      <td>4.200000e+02</td>\n",
       "      <td>1.837300e+05</td>\n",
       "    </tr>\n",
       "  </tbody>\n",
       "</table>\n",
       "</div>"
      ],
      "text/plain": [
       "                count          mean           std     min           25%  \\\n",
       "sid         4509586.0  2.255992e+06  1.301807e+06  1186.0  1.128596e+06   \n",
       "profile_id  4477139.0  3.083302e+09  4.266575e+10     4.0  2.735177e+08   \n",
       "following   3452771.0  1.405641e+03  8.113473e+03     0.0  3.560000e+02   \n",
       "followers   3452771.0  4.739899e+03  1.939087e+05     0.0  1.590000e+02   \n",
       "n_posts     3452771.0  4.095414e+02  1.041940e+03     0.0  2.200000e+01   \n",
       "\n",
       "                     50%           75%           max  \n",
       "sid         2.255992e+06  3.383389e+06  4.510785e+06  \n",
       "profile_id  1.649248e+09  5.514691e+09  9.001013e+13  \n",
       "following   7.540000e+02  1.573000e+03  4.191080e+06  \n",
       "followers   4.060000e+02  9.740000e+02  2.854576e+08  \n",
       "n_posts     1.200000e+02  4.200000e+02  1.837300e+05  "
      ]
     },
     "execution_count": 39,
     "metadata": {},
     "output_type": "execute_result"
    }
   ],
   "source": [
    "profiles.describe().T"
   ]
  },
  {
   "cell_type": "code",
   "execution_count": 19,
   "metadata": {},
   "outputs": [
    {
     "name": "stdout",
     "output_type": "stream",
     "text": [
      "<class 'pandas.core.frame.DataFrame'>\n",
      "RangeIndex: 1022658 entries, 0 to 1022657\n",
      "Data columns (total 23 columns):\n",
      " #   Column                  Non-Null Count    Dtype  \n",
      "---  ------                  --------------    -----  \n",
      " 0   sid                     1022658 non-null  int64  \n",
      " 1   id                      1022658 non-null  int64  \n",
      " 2   name                    1022658 non-null  object \n",
      " 3   street                  715704 non-null   object \n",
      " 4   zip                     715579 non-null   object \n",
      " 5   city                    937166 non-null   object \n",
      " 6   region                  1760 non-null     object \n",
      " 7   cd                      939010 non-null   object \n",
      " 8   phone                   601688 non-null   object \n",
      " 9   aj_exact_city_match     1000510 non-null  object \n",
      " 10  aj_exact_country_match  1000510 non-null  object \n",
      " 11  blurb                   406705 non-null   object \n",
      " 12  dir_city_id             495698 non-null   object \n",
      " 13  dir_city_name           495698 non-null   object \n",
      " 14  dir_city_slug           495221 non-null   object \n",
      " 15  dir_country_id          495628 non-null   object \n",
      " 16  dir_country_name        495698 non-null   object \n",
      " 17  lat                     1016495 non-null  float64\n",
      " 18  lng                     1016495 non-null  float64\n",
      " 19  primary_alias_on_fb     425531 non-null   object \n",
      " 20  slug                    941668 non-null   object \n",
      " 21  website                 623262 non-null   object \n",
      " 22  cts                     1022658 non-null  object \n",
      "dtypes: float64(2), int64(2), object(19)\n",
      "memory usage: 179.5+ MB\n"
     ]
    }
   ],
   "source": [
    "location.info()"
   ]
  },
  {
   "cell_type": "markdown",
   "metadata": {},
   "source": [
    "## Data Visualizzation"
   ]
  },
  {
   "cell_type": "code",
   "execution_count": 20,
   "metadata": {},
   "outputs": [
    {
     "data": {
      "text/html": [
       "<div>\n",
       "<style scoped>\n",
       "    .dataframe tbody tr th:only-of-type {\n",
       "        vertical-align: middle;\n",
       "    }\n",
       "\n",
       "    .dataframe tbody tr th {\n",
       "        vertical-align: top;\n",
       "    }\n",
       "\n",
       "    .dataframe thead th {\n",
       "        text-align: right;\n",
       "    }\n",
       "</style>\n",
       "<table border=\"1\" class=\"dataframe\">\n",
       "  <thead>\n",
       "    <tr style=\"text-align: right;\">\n",
       "      <th></th>\n",
       "      <th>sid</th>\n",
       "      <th>sid_profile</th>\n",
       "      <th>post_id</th>\n",
       "      <th>profile_id</th>\n",
       "      <th>location_id</th>\n",
       "      <th>cts</th>\n",
       "      <th>post_type</th>\n",
       "      <th>description</th>\n",
       "      <th>numbr_likes</th>\n",
       "      <th>number_comments</th>\n",
       "    </tr>\n",
       "  </thead>\n",
       "  <tbody>\n",
       "    <tr>\n",
       "      <th>0</th>\n",
       "      <td>28370919</td>\n",
       "      <td>3496776</td>\n",
       "      <td>BXdjjUlgcgq</td>\n",
       "      <td>2.237948e+09</td>\n",
       "      <td>1.022366e+15</td>\n",
       "      <td>2017-08-06 20:06:57.000</td>\n",
       "      <td>2</td>\n",
       "      <td>Wreckloose! Deevalley bike park laps on the @i...</td>\n",
       "      <td>80</td>\n",
       "      <td>0</td>\n",
       "    </tr>\n",
       "    <tr>\n",
       "      <th>1</th>\n",
       "      <td>28370932</td>\n",
       "      <td>-1</td>\n",
       "      <td>BVg0pbolYBC</td>\n",
       "      <td>5.579335e+09</td>\n",
       "      <td>4.574268e+14</td>\n",
       "      <td>2017-06-19 09:31:16.000</td>\n",
       "      <td>1</td>\n",
       "      <td>🙌🏼 believe in ya dreams 🙌🏼 just like I believe...</td>\n",
       "      <td>25</td>\n",
       "      <td>1</td>\n",
       "    </tr>\n",
       "    <tr>\n",
       "      <th>2</th>\n",
       "      <td>28370933</td>\n",
       "      <td>-1</td>\n",
       "      <td>BRgkjcXFp3Q</td>\n",
       "      <td>3.134296e+08</td>\n",
       "      <td>4.574268e+14</td>\n",
       "      <td>2017-03-11 20:05:03.000</td>\n",
       "      <td>1</td>\n",
       "      <td>#meraviglia #incensi #the #candele #profumo #a...</td>\n",
       "      <td>9</td>\n",
       "      <td>0</td>\n",
       "    </tr>\n",
       "    <tr>\n",
       "      <th>3</th>\n",
       "      <td>28370934</td>\n",
       "      <td>-1</td>\n",
       "      <td>BKTKeNhjEA7</td>\n",
       "      <td>1.837593e+09</td>\n",
       "      <td>4.574268e+14</td>\n",
       "      <td>2016-09-13 16:27:16.000</td>\n",
       "      <td>1</td>\n",
       "      <td>#teatime #scorpion #friends #love #mountains #...</td>\n",
       "      <td>4</td>\n",
       "      <td>0</td>\n",
       "    </tr>\n",
       "    <tr>\n",
       "      <th>4</th>\n",
       "      <td>28370935</td>\n",
       "      <td>-1</td>\n",
       "      <td>8-NQrvoYLX</td>\n",
       "      <td>1.131527e+09</td>\n",
       "      <td>4.574268e+14</td>\n",
       "      <td>2015-10-18 10:19:27.000</td>\n",
       "      <td>1</td>\n",
       "      <td>thE sky gavE mE a #constEllation</td>\n",
       "      <td>8</td>\n",
       "      <td>0</td>\n",
       "    </tr>\n",
       "    <tr>\n",
       "      <th>...</th>\n",
       "      <td>...</td>\n",
       "      <td>...</td>\n",
       "      <td>...</td>\n",
       "      <td>...</td>\n",
       "      <td>...</td>\n",
       "      <td>...</td>\n",
       "      <td>...</td>\n",
       "      <td>...</td>\n",
       "      <td>...</td>\n",
       "      <td>...</td>\n",
       "    </tr>\n",
       "    <tr>\n",
       "      <th>1999995</th>\n",
       "      <td>30401422</td>\n",
       "      <td>-1</td>\n",
       "      <td>Bv4gjUCAWx9</td>\n",
       "      <td>3.913883e+09</td>\n",
       "      <td>3.307338e+14</td>\n",
       "      <td>2019-04-05 19:53:41.000</td>\n",
       "      <td>1</td>\n",
       "      <td>Empieza otra de esas noches de producto en Res...</td>\n",
       "      <td>81</td>\n",
       "      <td>1</td>\n",
       "    </tr>\n",
       "    <tr>\n",
       "      <th>1999996</th>\n",
       "      <td>30401423</td>\n",
       "      <td>-1</td>\n",
       "      <td>Bv11KOwga_E</td>\n",
       "      <td>3.264045e+08</td>\n",
       "      <td>3.307338e+14</td>\n",
       "      <td>2019-04-04 18:56:02.000</td>\n",
       "      <td>1</td>\n",
       "      <td>Rodaballo espectacular de 5 kg. A Disfrutar en...</td>\n",
       "      <td>49</td>\n",
       "      <td>0</td>\n",
       "    </tr>\n",
       "    <tr>\n",
       "      <th>1999997</th>\n",
       "      <td>30401424</td>\n",
       "      <td>-1</td>\n",
       "      <td>BvzfR-MjqLZ</td>\n",
       "      <td>3.356828e+08</td>\n",
       "      <td>3.307338e+14</td>\n",
       "      <td>2019-04-03 21:06:22.000</td>\n",
       "      <td>1</td>\n",
       "      <td>Impecable el codillo limpito y preparao en un ...</td>\n",
       "      <td>44</td>\n",
       "      <td>5</td>\n",
       "    </tr>\n",
       "    <tr>\n",
       "      <th>1999998</th>\n",
       "      <td>30401425</td>\n",
       "      <td>-1</td>\n",
       "      <td>Bvg6eyOgJs9</td>\n",
       "      <td>3.913883e+09</td>\n",
       "      <td>3.307338e+14</td>\n",
       "      <td>2019-03-27 14:58:29.000</td>\n",
       "      <td>1</td>\n",
       "      <td>Cuchara Power en Restaurante albalat! Hoy Lent...</td>\n",
       "      <td>55</td>\n",
       "      <td>0</td>\n",
       "    </tr>\n",
       "    <tr>\n",
       "      <th>1999999</th>\n",
       "      <td>30401460</td>\n",
       "      <td>-1</td>\n",
       "      <td>Blb5yNNF6g1</td>\n",
       "      <td>3.214949e+08</td>\n",
       "      <td>1.950154e+15</td>\n",
       "      <td>2018-07-20 04:02:15.000</td>\n",
       "      <td>1</td>\n",
       "      <td>cash me ousside girl &amp; i’s first normal pic</td>\n",
       "      <td>301</td>\n",
       "      <td>7</td>\n",
       "    </tr>\n",
       "  </tbody>\n",
       "</table>\n",
       "<p>2000000 rows × 10 columns</p>\n",
       "</div>"
      ],
      "text/plain": [
       "              sid  sid_profile      post_id    profile_id   location_id  \\\n",
       "0        28370919      3496776  BXdjjUlgcgq  2.237948e+09  1.022366e+15   \n",
       "1        28370932           -1  BVg0pbolYBC  5.579335e+09  4.574268e+14   \n",
       "2        28370933           -1  BRgkjcXFp3Q  3.134296e+08  4.574268e+14   \n",
       "3        28370934           -1  BKTKeNhjEA7  1.837593e+09  4.574268e+14   \n",
       "4        28370935           -1   8-NQrvoYLX  1.131527e+09  4.574268e+14   \n",
       "...           ...          ...          ...           ...           ...   \n",
       "1999995  30401422           -1  Bv4gjUCAWx9  3.913883e+09  3.307338e+14   \n",
       "1999996  30401423           -1  Bv11KOwga_E  3.264045e+08  3.307338e+14   \n",
       "1999997  30401424           -1  BvzfR-MjqLZ  3.356828e+08  3.307338e+14   \n",
       "1999998  30401425           -1  Bvg6eyOgJs9  3.913883e+09  3.307338e+14   \n",
       "1999999  30401460           -1  Blb5yNNF6g1  3.214949e+08  1.950154e+15   \n",
       "\n",
       "                             cts  post_type  \\\n",
       "0        2017-08-06 20:06:57.000          2   \n",
       "1        2017-06-19 09:31:16.000          1   \n",
       "2        2017-03-11 20:05:03.000          1   \n",
       "3        2016-09-13 16:27:16.000          1   \n",
       "4        2015-10-18 10:19:27.000          1   \n",
       "...                          ...        ...   \n",
       "1999995  2019-04-05 19:53:41.000          1   \n",
       "1999996  2019-04-04 18:56:02.000          1   \n",
       "1999997  2019-04-03 21:06:22.000          1   \n",
       "1999998  2019-03-27 14:58:29.000          1   \n",
       "1999999  2018-07-20 04:02:15.000          1   \n",
       "\n",
       "                                               description  numbr_likes  \\\n",
       "0        Wreckloose! Deevalley bike park laps on the @i...           80   \n",
       "1        🙌🏼 believe in ya dreams 🙌🏼 just like I believe...           25   \n",
       "2        #meraviglia #incensi #the #candele #profumo #a...            9   \n",
       "3        #teatime #scorpion #friends #love #mountains #...            4   \n",
       "4                         thE sky gavE mE a #constEllation            8   \n",
       "...                                                    ...          ...   \n",
       "1999995  Empieza otra de esas noches de producto en Res...           81   \n",
       "1999996  Rodaballo espectacular de 5 kg. A Disfrutar en...           49   \n",
       "1999997  Impecable el codillo limpito y preparao en un ...           44   \n",
       "1999998  Cuchara Power en Restaurante albalat! Hoy Lent...           55   \n",
       "1999999        cash me ousside girl & i’s first normal pic          301   \n",
       "\n",
       "         number_comments  \n",
       "0                      0  \n",
       "1                      1  \n",
       "2                      0  \n",
       "3                      0  \n",
       "4                      0  \n",
       "...                  ...  \n",
       "1999995                1  \n",
       "1999996                0  \n",
       "1999997                5  \n",
       "1999998                0  \n",
       "1999999                7  \n",
       "\n",
       "[2000000 rows x 10 columns]"
      ]
     },
     "execution_count": 20,
     "metadata": {},
     "output_type": "execute_result"
    }
   ],
   "source": []
  },
  {
   "cell_type": "code",
   "execution_count": 12,
   "metadata": {},
   "outputs": [
    {
     "data": {
      "text/plain": [
       "1    1877778\n",
       "2     122216\n",
       "3          6\n",
       "Name: post_type, dtype: int64"
      ]
     },
     "execution_count": 12,
     "metadata": {},
     "output_type": "execute_result"
    }
   ],
   "source": [
    "c = p['post_type'].value_counts()\n"
   ]
  },
  {
   "cell_type": "markdown",
   "metadata": {},
   "source": [
    "Let's display the different types of posts"
   ]
  },
  {
   "cell_type": "code",
   "execution_count": 19,
   "metadata": {},
   "outputs": [
    {
     "data": {
      "text/plain": [
       "([<matplotlib.patches.Wedge at 0x23a2531cb20>,\n",
       "  <matplotlib.patches.Wedge at 0x23a2531cfd0>,\n",
       "  <matplotlib.patches.Wedge at 0x23a25328490>],\n",
       " [Text(-1.079789992625052, 0.2098894276203312, 'Photo'),\n",
       "  Text(1.0797880323641327, -0.2098995120604019, 'Video'),\n",
       "  Text(1.0999999999529024, -1.0179135715872946e-05, 'dont_remember')])"
      ]
     },
     "execution_count": 19,
     "metadata": {},
     "output_type": "execute_result"
    },
    {
     "data": {
      "image/png": "[encoded data removed]",
      "text/plain": [
       "<Figure size 720x504 with 1 Axes>"
      ]
     },
     "metadata": {},
     "output_type": "display_data"
    }
   ],
   "source": [
    "fig = plt.figure(figsize =(10, 7))\n",
    "plt.title(\"Number of different type of posts\")\n",
    "plt.pie(c, labels=['Photo', 'Video', 'dont_remember'])"
   ]
  },
  {
   "cell_type": "markdown",
   "metadata": {},
   "source": [
    "Lets plot the number of post with the same number of likes"
   ]
  },
  {
   "cell_type": "code",
   "execution_count": 35,
   "metadata": {},
   "outputs": [],
   "source": [
    "same_likes = p['numbr_likes'].value_counts()"
   ]
  },
  {
   "cell_type": "code",
   "execution_count": 36,
   "metadata": {},
   "outputs": [
    {
     "data": {
      "text/plain": [
       "(array([1.4144e+04, 7.8000e+01, 4.2000e+01, 3.9000e+01, 1.3000e+01,\n",
       "        1.4000e+01, 1.1000e+01, 1.6000e+01, 1.5000e+01, 1.0000e+01,\n",
       "        1.3000e+01, 4.0000e+00, 3.0000e+00, 4.0000e+00, 3.0000e+00,\n",
       "        3.0000e+00, 2.0000e+00, 2.0000e+00, 3.0000e+00, 2.0000e+00,\n",
       "        2.0000e+00, 2.0000e+00, 1.0000e+00, 1.0000e+00, 3.0000e+00,\n",
       "        1.0000e+00, 2.0000e+00, 1.0000e+00, 1.0000e+00, 2.0000e+00,\n",
       "        1.0000e+00, 2.0000e+00, 0.0000e+00, 1.0000e+00, 3.0000e+00,\n",
       "        0.0000e+00, 1.0000e+00, 2.0000e+00, 0.0000e+00, 2.0000e+00,\n",
       "        2.0000e+00, 0.0000e+00, 3.0000e+00, 1.0000e+00, 0.0000e+00,\n",
       "        3.0000e+00, 1.0000e+00, 2.0000e+00, 2.0000e+00, 6.0000e+00]),\n",
       " array([1.000000e+00, 5.839800e+02, 1.166960e+03, 1.749940e+03,\n",
       "        2.332920e+03, 2.915900e+03, 3.498880e+03, 4.081860e+03,\n",
       "        4.664840e+03, 5.247820e+03, 5.830800e+03, 6.413780e+03,\n",
       "        6.996760e+03, 7.579740e+03, 8.162720e+03, 8.745700e+03,\n",
       "        9.328680e+03, 9.911660e+03, 1.049464e+04, 1.107762e+04,\n",
       "        1.166060e+04, 1.224358e+04, 1.282656e+04, 1.340954e+04,\n",
       "        1.399252e+04, 1.457550e+04, 1.515848e+04, 1.574146e+04,\n",
       "        1.632444e+04, 1.690742e+04, 1.749040e+04, 1.807338e+04,\n",
       "        1.865636e+04, 1.923934e+04, 1.982232e+04, 2.040530e+04,\n",
       "        2.098828e+04, 2.157126e+04, 2.215424e+04, 2.273722e+04,\n",
       "        2.332020e+04, 2.390318e+04, 2.448616e+04, 2.506914e+04,\n",
       "        2.565212e+04, 2.623510e+04, 2.681808e+04, 2.740106e+04,\n",
       "        2.798404e+04, 2.856702e+04, 2.915000e+04]),\n",
       " <BarContainer object of 50 artists>)"
      ]
     },
     "execution_count": 36,
     "metadata": {},
     "output_type": "execute_result"
    },
    {
     "data": {
      "image/png": "[encoded data removed]",
      "text/plain": [
       "<Figure size 720x504 with 1 Axes>"
      ]
     },
     "metadata": {
      "needs_background": "light"
     },
     "output_type": "display_data"
    }
   ],
   "source": [
    "fig = plt.figure(figsize =(10, 7))\n",
    "plt.title(\"Number of post with same number of likes\")\n",
    "plt.xlabel(\"Number of likes\")\n",
    "plt.ylabel(\"Number of post with the same number of likes\")\n",
    "plt.hist(same_likes, bins = 50)"
   ]
  },
  {
   "cell_type": "markdown",
   "metadata": {},
   "source": [
    "Scatterplot between the number of likes and the number of comments"
   ]
  },
  {
   "cell_type": "code",
   "execution_count": 54,
   "metadata": {},
   "outputs": [
    {
     "data": {
      "image/png": "[encoded data removed]",
      "text/plain": [
       "<Figure size 1440x1008 with 1 Axes>"
      ]
     },
     "metadata": {
      "needs_background": "light"
     },
     "output_type": "display_data"
    }
   ],
   "source": [
    "fig = plt.figure(figsize =(20, 14))\n",
    "plt.scatter(p['numbr_likes'], p['number_comments'],s=30, alpha=0.5)\n",
    "plt.xlabel(\"Number of likes\")\n",
    "plt.ylabel(\"Number of Comments\")\n",
    "plt.title(\"Correlation Between Number of Likes and Number of Comments\")\n",
    "plt.show()"
   ]
  },
  {
   "cell_type": "code",
   "execution_count": 39,
   "metadata": {},
   "outputs": [
    {
     "data": {
      "text/html": [
       "<div>\n",
       "<style scoped>\n",
       "    .dataframe tbody tr th:only-of-type {\n",
       "        vertical-align: middle;\n",
       "    }\n",
       "\n",
       "    .dataframe tbody tr th {\n",
       "        vertical-align: top;\n",
       "    }\n",
       "\n",
       "    .dataframe thead th {\n",
       "        text-align: right;\n",
       "    }\n",
       "</style>\n",
       "<table border=\"1\" class=\"dataframe\">\n",
       "  <thead>\n",
       "    <tr style=\"text-align: right;\">\n",
       "      <th></th>\n",
       "      <th>sid</th>\n",
       "      <th>profile_id</th>\n",
       "      <th>profile_name</th>\n",
       "      <th>firstname_lastname</th>\n",
       "      <th>description</th>\n",
       "      <th>following</th>\n",
       "      <th>followers</th>\n",
       "      <th>n_posts</th>\n",
       "      <th>url</th>\n",
       "      <th>cts</th>\n",
       "      <th>is_business_account</th>\n",
       "    </tr>\n",
       "  </thead>\n",
       "  <tbody>\n",
       "    <tr>\n",
       "      <th>0</th>\n",
       "      <td>4184446</td>\n",
       "      <td>4.721050e+09</td>\n",
       "      <td>jphillip033</td>\n",
       "      <td>John Pierce</td>\n",
       "      <td>\"Document Everything Always\"</td>\n",
       "      <td>250.0</td>\n",
       "      <td>146.0</td>\n",
       "      <td>170.0</td>\n",
       "      <td>NaN</td>\n",
       "      <td>2019-08-01 14:38:55.394 -0400</td>\n",
       "      <td>False</td>\n",
       "    </tr>\n",
       "    <tr>\n",
       "      <th>1</th>\n",
       "      <td>4184457</td>\n",
       "      <td>5.905830e+08</td>\n",
       "      <td>mama_haas</td>\n",
       "      <td>Deanna</td>\n",
       "      <td>Trying to enjoy the simple things in life. Kni...</td>\n",
       "      <td>534.0</td>\n",
       "      <td>1145.0</td>\n",
       "      <td>2878.0</td>\n",
       "      <td>www.etsy.com/shop/MamaHaas69</td>\n",
       "      <td>2019-08-01 14:39:36.526 -0400</td>\n",
       "      <td>False</td>\n",
       "    </tr>\n",
       "    <tr>\n",
       "      <th>2</th>\n",
       "      <td>4184460</td>\n",
       "      <td>1.074147e+09</td>\n",
       "      <td>yellowlightbreen</td>\n",
       "      <td>Eliza Gray</td>\n",
       "      <td>Maine is for Lovers</td>\n",
       "      <td>469.0</td>\n",
       "      <td>324.0</td>\n",
       "      <td>431.0</td>\n",
       "      <td>elizajanegray.com</td>\n",
       "      <td>2019-08-01 14:39:54.407 -0400</td>\n",
       "      <td>False</td>\n",
       "    </tr>\n",
       "    <tr>\n",
       "      <th>3</th>\n",
       "      <td>4184461</td>\n",
       "      <td>1.472039e+09</td>\n",
       "      <td>tec1025</td>\n",
       "      <td>Thomas Clark</td>\n",
       "      <td>NaN</td>\n",
       "      <td>NaN</td>\n",
       "      <td>NaN</td>\n",
       "      <td>NaN</td>\n",
       "      <td>NaN</td>\n",
       "      <td>2019-08-01 14:40:06.472 -0400</td>\n",
       "      <td>NaN</td>\n",
       "    </tr>\n",
       "    <tr>\n",
       "      <th>4</th>\n",
       "      <td>4184462</td>\n",
       "      <td>3.531421e+09</td>\n",
       "      <td>luckyfluff</td>\n",
       "      <td>NaN</td>\n",
       "      <td>NaN</td>\n",
       "      <td>NaN</td>\n",
       "      <td>NaN</td>\n",
       "      <td>NaN</td>\n",
       "      <td>NaN</td>\n",
       "      <td>2019-08-01 14:40:07.806 -0400</td>\n",
       "      <td>NaN</td>\n",
       "    </tr>\n",
       "    <tr>\n",
       "      <th>...</th>\n",
       "      <td>...</td>\n",
       "      <td>...</td>\n",
       "      <td>...</td>\n",
       "      <td>...</td>\n",
       "      <td>...</td>\n",
       "      <td>...</td>\n",
       "      <td>...</td>\n",
       "      <td>...</td>\n",
       "      <td>...</td>\n",
       "      <td>...</td>\n",
       "      <td>...</td>\n",
       "    </tr>\n",
       "    <tr>\n",
       "      <th>4509581</th>\n",
       "      <td>4184467</td>\n",
       "      <td>1.418322e+09</td>\n",
       "      <td>karenarkesteyn</td>\n",
       "      <td>Karen Arkesteyn</td>\n",
       "      <td>🙏🏻</td>\n",
       "      <td>468.0</td>\n",
       "      <td>481.0</td>\n",
       "      <td>497.0</td>\n",
       "      <td>NaN</td>\n",
       "      <td>2019-08-01 14:40:26.554 -0400</td>\n",
       "      <td>False</td>\n",
       "    </tr>\n",
       "    <tr>\n",
       "      <th>4509582</th>\n",
       "      <td>4184469</td>\n",
       "      <td>1.340704e+07</td>\n",
       "      <td>jornvlaeminck</td>\n",
       "      <td>Jorn Vlaeminck</td>\n",
       "      <td>NaN</td>\n",
       "      <td>NaN</td>\n",
       "      <td>NaN</td>\n",
       "      <td>NaN</td>\n",
       "      <td>NaN</td>\n",
       "      <td>2019-08-01 14:40:41.628 -0400</td>\n",
       "      <td>NaN</td>\n",
       "    </tr>\n",
       "    <tr>\n",
       "      <th>4509583</th>\n",
       "      <td>4184470</td>\n",
       "      <td>6.007354e+09</td>\n",
       "      <td>s_degol</td>\n",
       "      <td>Sanne Degol</td>\n",
       "      <td>NaN</td>\n",
       "      <td>NaN</td>\n",
       "      <td>NaN</td>\n",
       "      <td>NaN</td>\n",
       "      <td>NaN</td>\n",
       "      <td>2019-08-01 14:40:42.983 -0400</td>\n",
       "      <td>NaN</td>\n",
       "    </tr>\n",
       "    <tr>\n",
       "      <th>4509584</th>\n",
       "      <td>4184473</td>\n",
       "      <td>2.338990e+07</td>\n",
       "      <td>anwilms</td>\n",
       "      <td>An Wilms</td>\n",
       "      <td>Fashion - travel - photography ... that's me!👗...</td>\n",
       "      <td>504.0</td>\n",
       "      <td>153.0</td>\n",
       "      <td>183.0</td>\n",
       "      <td>NaN</td>\n",
       "      <td>2019-08-01 14:40:49.982 -0400</td>\n",
       "      <td>False</td>\n",
       "    </tr>\n",
       "    <tr>\n",
       "      <th>4509585</th>\n",
       "      <td>4184511</td>\n",
       "      <td>2.088094e+09</td>\n",
       "      <td>arnaubassols_</td>\n",
       "      <td>Arnau Bassols Noguer</td>\n",
       "      <td>NaN</td>\n",
       "      <td>NaN</td>\n",
       "      <td>NaN</td>\n",
       "      <td>NaN</td>\n",
       "      <td>NaN</td>\n",
       "      <td>2019-08-01 14:42:30.055 -0400</td>\n",
       "      <td>NaN</td>\n",
       "    </tr>\n",
       "  </tbody>\n",
       "</table>\n",
       "<p>4509586 rows × 11 columns</p>\n",
       "</div>"
      ],
      "text/plain": [
       "             sid    profile_id      profile_name    firstname_lastname  \\\n",
       "0        4184446  4.721050e+09       jphillip033           John Pierce   \n",
       "1        4184457  5.905830e+08         mama_haas                Deanna   \n",
       "2        4184460  1.074147e+09  yellowlightbreen            Eliza Gray   \n",
       "3        4184461  1.472039e+09           tec1025          Thomas Clark   \n",
       "4        4184462  3.531421e+09        luckyfluff                   NaN   \n",
       "...          ...           ...               ...                   ...   \n",
       "4509581  4184467  1.418322e+09    karenarkesteyn       Karen Arkesteyn   \n",
       "4509582  4184469  1.340704e+07     jornvlaeminck        Jorn Vlaeminck   \n",
       "4509583  4184470  6.007354e+09           s_degol           Sanne Degol   \n",
       "4509584  4184473  2.338990e+07           anwilms              An Wilms   \n",
       "4509585  4184511  2.088094e+09     arnaubassols_  Arnau Bassols Noguer   \n",
       "\n",
       "                                               description  following  \\\n",
       "0                             \"Document Everything Always\"      250.0   \n",
       "1        Trying to enjoy the simple things in life. Kni...      534.0   \n",
       "2                                      Maine is for Lovers      469.0   \n",
       "3                                                      NaN        NaN   \n",
       "4                                                      NaN        NaN   \n",
       "...                                                    ...        ...   \n",
       "4509581                                                 🙏🏻      468.0   \n",
       "4509582                                                NaN        NaN   \n",
       "4509583                                                NaN        NaN   \n",
       "4509584  Fashion - travel - photography ... that's me!👗...      504.0   \n",
       "4509585                                                NaN        NaN   \n",
       "\n",
       "         followers  n_posts                           url  \\\n",
       "0            146.0    170.0                           NaN   \n",
       "1           1145.0   2878.0  www.etsy.com/shop/MamaHaas69   \n",
       "2            324.0    431.0             elizajanegray.com   \n",
       "3              NaN      NaN                           NaN   \n",
       "4              NaN      NaN                           NaN   \n",
       "...            ...      ...                           ...   \n",
       "4509581      481.0    497.0                           NaN   \n",
       "4509582        NaN      NaN                           NaN   \n",
       "4509583        NaN      NaN                           NaN   \n",
       "4509584      153.0    183.0                           NaN   \n",
       "4509585        NaN      NaN                           NaN   \n",
       "\n",
       "                                   cts is_business_account  \n",
       "0        2019-08-01 14:38:55.394 -0400               False  \n",
       "1        2019-08-01 14:39:36.526 -0400               False  \n",
       "2        2019-08-01 14:39:54.407 -0400               False  \n",
       "3        2019-08-01 14:40:06.472 -0400                 NaN  \n",
       "4        2019-08-01 14:40:07.806 -0400                 NaN  \n",
       "...                                ...                 ...  \n",
       "4509581  2019-08-01 14:40:26.554 -0400               False  \n",
       "4509582  2019-08-01 14:40:41.628 -0400                 NaN  \n",
       "4509583  2019-08-01 14:40:42.983 -0400                 NaN  \n",
       "4509584  2019-08-01 14:40:49.982 -0400               False  \n",
       "4509585  2019-08-01 14:42:30.055 -0400                 NaN  \n",
       "\n",
       "[4509586 rows x 11 columns]"
      ]
     },
     "execution_count": 39,
     "metadata": {},
     "output_type": "execute_result"
    }
   ],
   "source": [
    "profiles"
   ]
  },
  {
   "cell_type": "markdown",
   "metadata": {},
   "source": [
    "Correlation Between the number of followers and the number of following"
   ]
  },
  {
   "cell_type": "code",
   "execution_count": 53,
   "metadata": {},
   "outputs": [
    {
     "data": {
      "image/png": "[encoded data removed]",
      "text/plain": [
       "<Figure size 1440x1008 with 1 Axes>"
      ]
     },
     "metadata": {
      "needs_background": "light"
     },
     "output_type": "display_data"
    }
   ],
   "source": [
    "fig = plt.figure(figsize =(20, 14))\n",
    "plt.scatter(profiles['n_posts'], profiles['followers'],s=30, alpha=0.5)\n",
    "plt.xlabel(\"Number of posts\")\n",
    "plt.ylabel(\"Number of followers\")\n",
    "plt.title(\"Correlation Between Number of posts and Number of number of followers\")\n",
    "plt.show()"
   ]
  },
  {
   "cell_type": "code",
   "execution_count": null,
   "metadata": {},
   "outputs": [],
   "source": []
  }
 ],
 "metadata": {
  "kernelspec": {
   "display_name": "Python 3.8.3 ('base')",
   "language": "python",
   "name": "python3"
  },
  "language_info": {
   "codemirror_mode": {
    "name": "ipython",
    "version": 3
   },
   "file_extension": ".py",
   "mimetype": "text/x-python",
   "name": "python",
   "nbconvert_exporter": "python",
   "pygments_lexer": "ipython3",
   "version": "3.8.3"
  },
  "orig_nbformat": 4,
  "vscode": {
   "interpreter": {
    "hash": "673b3a28213e3c597c6fa49b945d6bcb4c24a69618c6cbd1a3b12a5f14d6b7d7"
   }
  }
 },
 "nbformat": 4,
 "nbformat_minor": 2
}
