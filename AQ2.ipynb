{
 "cells": [
  {
   "cell_type": "markdown",
   "metadata": {},
   "source": [
    "## AQ2 : Alex has a ribbon of length N. He wants to cut the ribbon in a way that fulfils the following three conditions:\n",
    "\n",
    "- Each piece of the cut should have an integer length\n",
    "- He should at least cut the ribbon once\n",
    "- The multiplication of the length of all the pieces be the maximum possible\n"
   ]
  },
  {
   "cell_type": "code",
   "execution_count": 143,
   "metadata": {},
   "outputs": [],
   "source": [
    "#TODO demonstration of AQ2.2\n",
    "#TODO maybe remove global variable from functions?"
   ]
  },
  {
   "cell_type": "markdown",
   "metadata": {},
   "source": [
    "## AQ2.1: Implement a recursive algorithm to help Alex find the maximum possible value after multiplying the length of the pieces. Explain your algorithm in detail."
   ]
  },
  {
   "cell_type": "markdown",
   "metadata": {},
   "source": [
    "This algorithm follows the same principle as the algorithm in the exercise AQ1. For every possible permutation of numbers in a range from i to n+1 i append it in an array and then i call the recursive function. \n",
    "In this way i will obtain every possible combination of subset that sum up to n. For every iteration of the recursive call i also compute the product of the value inside the array, and if it's greater than what i already have in the\n",
    "global variable MAX, then i change the value of max to the new greater product."
   ]
  },
  {
   "cell_type": "code",
   "execution_count": 1,
   "metadata": {},
   "outputs": [],
   "source": [
    "import math\n",
    "\n",
    "def findmax(n):              \n",
    "    max = c([], 1, n)                       #1\n",
    "    return max                              #1\n",
    "\n",
    "def c(arr,i,n):\n",
    "    global counter\n",
    "    global m\n",
    "    counter+=1\n",
    "    if (n==0) and len(arr)>1:               #1\n",
    "        product = math.prod(arr)            #len(arr) ---> (at most N)\n",
    "        if product > m:                     #1\n",
    "            m = product                     #1\n",
    "    for j in range(i, n+1):                 #N\n",
    "        counter+=1\n",
    "        arr.append(j)                       #1\n",
    "        c(arr, j, n-j)                      #1\n",
    "        counter+=1\n",
    "        arr.pop()                           #1\n",
    "    return m                                #1\n",
    "    "
   ]
  },
  {
   "cell_type": "code",
   "execution_count": 3,
   "metadata": {},
   "outputs": [
    {
     "data": {
      "text/plain": [
       "12"
      ]
     },
     "execution_count": 3,
     "metadata": {},
     "output_type": "execute_result"
    }
   ],
   "source": [
    "counter = 0\n",
    "m = 0\n",
    "findmax(7)"
   ]
  },
  {
   "cell_type": "markdown",
   "metadata": {},
   "source": [
    "## AQ2.2: Show that the algorithm has exponential running time"
   ]
  },
  {
   "cell_type": "markdown",
   "metadata": {},
   "source": [
    "To show that the algorithm above has an exponential running time, we will do a demonstration but first we will plot the counters for the recursive part of the algorithm related to the value of n.\n",
    "\n",
    "We did an example with n going from 2 to 25 "
   ]
  },
  {
   "cell_type": "code",
   "execution_count": 18,
   "metadata": {},
   "outputs": [
    {
     "name": "stdout",
     "output_type": "stream",
     "text": [
      "2 : 1\n",
      "3 : 2\n",
      "4 : 4\n",
      "5 : 6\n",
      "6 : 9\n",
      "7 : 12\n",
      "8 : 18\n",
      "9 : 27\n",
      "10 : 36\n",
      "11 : 54\n",
      "12 : 81\n",
      "13 : 108\n",
      "14 : 162\n",
      "15 : 243\n",
      "16 : 324\n",
      "17 : 486\n",
      "18 : 729\n",
      "19 : 972\n",
      "20 : 1458\n",
      "21 : 2187\n",
      "22 : 2916\n",
      "23 : 4374\n",
      "24 : 6561\n"
     ]
    }
   ],
   "source": [
    " arrRecursive = []\n",
    " for n in range(2, 25):\n",
    "     counter = 0\n",
    "     m = 0\n",
    "     arrRecursive.append(findmax(n))\n",
    "     print(n, \":\", m)\n",
    "     #print(\"counter for \", n, \": \", counter)\n"
   ]
  },
  {
   "cell_type": "code",
   "execution_count": 6,
   "metadata": {},
   "outputs": [],
   "source": [
    "exponential = []\n",
    "def expo(n):\n",
    "    return 2**n\n",
    "\n",
    "for x in range(2,25):\n",
    "    exponential.append(expo(x))"
   ]
  },
  {
   "cell_type": "code",
   "execution_count": 19,
   "metadata": {},
   "outputs": [
    {
     "data": {
      "image/png": "[encoded data removed]",
      "text/plain": [
       "<Figure size 432x288 with 1 Axes>"
      ]
     },
     "metadata": {
      "needs_background": "light"
     },
     "output_type": "display_data"
    }
   ],
   "source": [
    "import matplotlib.pyplot as plt\n",
    "plt.plot(arrRecursive)\n",
    "plt.xlabel(\"The value of n\")\n",
    "plt.ylabel(\"Counter used for the recursive calls\")\n",
    "plt.show()"
   ]
  },
  {
   "cell_type": "markdown",
   "metadata": {},
   "source": [
    "Demostration: (It should be O(2^N) )"
   ]
  },
  {
   "cell_type": "markdown",
   "metadata": {},
   "source": [
    "## AQ2.3: Now provide a polynomial solution, based on dynamic programming, and compute its running-time complexity."
   ]
  },
  {
   "cell_type": "code",
   "execution_count": 9,
   "metadata": {},
   "outputs": [],
   "source": [
    "def dynProg(n):\n",
    "    #base case\n",
    "    arr = [-1,-1]\n",
    "    arr.append(1)\n",
    "    counter = 1\n",
    "    for x in range(3, n+1):\n",
    "        counter += 1\n",
    "        arr.append(x//2 * (x//2+ x%2))\n",
    "        for y in range(x-1, 2, -1):\n",
    "            counter += 1\n",
    "            if arr[x] < (arr[y])*(x-y):\n",
    "                arr[x] = arr[y]*(x-y)\n",
    "    return arr[n], counter\n"
   ]
  },
  {
   "cell_type": "markdown",
   "metadata": {},
   "source": [
    "The Polynomial solution has a double foor loop with max n repetition, so the it's running time complexity shoud be O(N**2)"
   ]
  },
  {
   "cell_type": "code",
   "execution_count": 10,
   "metadata": {},
   "outputs": [
    {
     "data": {
      "text/plain": [
       "(18, 22)"
      ]
     },
     "execution_count": 10,
     "metadata": {},
     "output_type": "execute_result"
    }
   ],
   "source": [
    "dynProg(8)"
   ]
  },
  {
   "cell_type": "markdown",
   "metadata": {},
   "source": [
    "## AQ2.4 Evaluate the running time of your algorithm for the sizes (Ns) in the range of [2, 25], plot the results, and interpret it (if you have implemented two algorithms, please include both in the plot and compare them)."
   ]
  },
  {
   "cell_type": "markdown",
   "metadata": {},
   "source": [
    "arr = []\n",
    "for n in range(2, 25):"
   ]
  },
  {
   "cell_type": "code",
   "execution_count": 106,
   "metadata": {},
   "outputs": [],
   "source": [
    "arrDynProg = []\n",
    "for n in range(2, 25):\n",
    "    arrDynProg.append(dynProg(n)[1])\n",
    "    "
   ]
  },
  {
   "cell_type": "code",
   "execution_count": 107,
   "metadata": {},
   "outputs": [
    {
     "data": {
      "image/png": "[encoded data removed]",
      "text/plain": [
       "<Figure size 640x480 with 1 Axes>"
      ]
     },
     "metadata": {},
     "output_type": "display_data"
    }
   ],
   "source": [
    "import matplotlib.pyplot as plt\n",
    "plt.plot(arrDynProg)\n",
    "plt.plot(arrRecursive)\n",
    "#plt.plot(range(1,50))\n",
    "plt.xlabel(\"The value of n\")\n",
    "plt.ylabel(\"Counter used for the recursive calls\")\n",
    "plt.show()"
   ]
  },
  {
   "cell_type": "markdown",
   "metadata": {},
   "source": [
    "## AQ2.5 (Optional, mini bonus) Is the algorithm of question 3 optimal? If you belive it, can you prove it? If not, can you find a faster algorithm? In case you found a faster algorithm implement it and explain your algorithm in detail."
   ]
  },
  {
   "cell_type": "markdown",
   "metadata": {},
   "source": [
    "The dynamic programming algorithm is not the optimal one, as this problem can be solved only by solving an equation.\n",
    "\n",
    "The idea behind the following algorithm is that the max product of subpart of n is the product obtain with pieces of lenght 3 and 2. \n",
    "So the only check that we need to do, is to see if the number is divided by 3 and if not we need to do small fixes to the original formula"
   ]
  },
  {
   "cell_type": "code",
   "execution_count": 26,
   "metadata": {},
   "outputs": [],
   "source": [
    "def optimal(n):\n",
    "    r = n%3\n",
    "    #original formula\n",
    "    if r == 0:\n",
    "        return 3**(n//3)\n",
    "    #if the rest of the division is 1, then we need to remove one \"3\" from the final product and sum 3 with the rest of the divison, in this way we will have 3+1=4, that becomes 2 x 2 x 3^((n%3)-1)\n",
    "    elif r == 1:\n",
    "        return 3**((n//3)-1)*4\n",
    "    #if the rest is 2, then we only need to add *2 at the end of the formula\n",
    "    elif r == 2:\n",
    "        return 3**((n//3))*2\n"
   ]
  },
  {
   "cell_type": "code",
   "execution_count": 31,
   "metadata": {},
   "outputs": [
    {
     "name": "stdout",
     "output_type": "stream",
     "text": [
      "2  : 2\n",
      "3  : 3\n",
      "4  : 4\n",
      "5  : 6\n",
      "6  : 9\n",
      "7  : 12\n",
      "8  : 18\n",
      "9  : 27\n",
      "10  : 36\n",
      "11  : 54\n",
      "12  : 81\n",
      "13  : 108\n",
      "14  : 162\n",
      "15  : 243\n",
      "16  : 324\n",
      "17  : 486\n",
      "18  : 729\n",
      "19  : 972\n",
      "20  : 1458\n",
      "21  : 2187\n",
      "22  : 2916\n",
      "23  : 4374\n",
      "24  : 6561\n"
     ]
    }
   ],
   "source": [
    "for x in range(2,25):\n",
    "     print(x, \" :\", optimal(x))"
   ]
  },
  {
   "cell_type": "code",
   "execution_count": null,
   "metadata": {},
   "outputs": [],
   "source": []
  }
 ],
 "metadata": {
  "kernelspec": {
   "display_name": "Python 3.8.3 ('base')",
   "language": "python",
   "name": "python3"
  },
  "language_info": {
   "codemirror_mode": {
    "name": "ipython",
    "version": 3
   },
   "file_extension": ".py",
   "mimetype": "text/x-python",
   "name": "python",
   "nbconvert_exporter": "python",
   "pygments_lexer": "ipython3",
   "version": "3.8.3"
  },
  "orig_nbformat": 4,
  "vscode": {
   "interpreter": {
    "hash": "673b3a28213e3c597c6fa49b945d6bcb4c24a69618c6cbd1a3b12a5f14d6b7d7"
   }
  }
 },
 "nbformat": 4,
 "nbformat_minor": 2
}
