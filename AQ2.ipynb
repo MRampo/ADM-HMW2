{
 "cells": [
  {
   "cell_type": "markdown",
   "metadata": {},
   "source": [
    "## AQ2 : Alex has a ribbon of length N. He wants to cut the ribbon in a way that fulfils the following three conditions:\n",
    "\n",
    "- Each piece of the cut should have an integer length\n",
    "- He should at least cut the ribbon once\n",
    "- The multiplication of the length of all the pieces be the maximum possible\n"
   ]
  },
  {
   "cell_type": "code",
   "execution_count": 143,
   "metadata": {},
   "outputs": [],
   "source": [
    "#TODO demonstration of AQ2.2\n",
    "#TODO maybe remove global variable from functions?"
   ]
  },
  {
   "cell_type": "markdown",
   "metadata": {},
   "source": [
    "## AQ2.1: Implement a recursive algorithm to help Alex find the maximum possible value after multiplying the length of the pieces. Explain your algorithm in detail."
   ]
  },
  {
   "cell_type": "code",
   "execution_count": 157,
   "metadata": {},
   "outputs": [],
   "source": [
    "import math\n",
    "from typing import Counter\n",
    "\n",
    "def findmax(n):              \n",
    "    max = c([], 1, n)                       #1\n",
    "    return max                              #1\n",
    "\n",
    "def c(arr,i,n):\n",
    "    global counter\n",
    "    global m\n",
    "    if (n==0) and len(arr)>1:               #1\n",
    "        product = math.prod(arr)            #len(arr) ---> (at most N)\n",
    "        if product > m:                     #1\n",
    "            m = product                     #1\n",
    "    for j in range(i, n+1):                 #N\n",
    "        counter+=1\n",
    "        arr.append(j)                       #1\n",
    "        c(arr, j, n-j)                      #1\n",
    "        arr.pop()                           #1\n",
    "    return m                                #1\n",
    "    "
   ]
  },
  {
   "cell_type": "code",
   "execution_count": 158,
   "metadata": {},
   "outputs": [
    {
     "data": {
      "text/plain": [
       "9"
      ]
     },
     "execution_count": 158,
     "metadata": {},
     "output_type": "execute_result"
    }
   ],
   "source": [
    "counter = 0\n",
    "m = 0\n",
    "findmax(6)"
   ]
  },
  {
   "cell_type": "markdown",
   "metadata": {},
   "source": [
    "## AQ2.2: Show that the algorithm has exponential running time"
   ]
  },
  {
   "cell_type": "markdown",
   "metadata": {},
   "source": [
    "To show that the algorithm above has an exponential running time, we will do a demonstration but first we will plot the counters for the recursive part of the algorithm related to the value of n.\n",
    "\n",
    "We did an example with n going from 2 to 25 "
   ]
  },
  {
   "cell_type": "code",
   "execution_count": 162,
   "metadata": {},
   "outputs": [
    {
     "name": "stdout",
     "output_type": "stream",
     "text": [
      "2 : 1\n",
      "3 : 2\n",
      "4 : 4\n",
      "5 : 6\n",
      "6 : 9\n",
      "7 : 12\n",
      "8 : 18\n",
      "9 : 27\n",
      "10 : 36\n",
      "11 : 54\n",
      "12 : 81\n",
      "13 : 108\n",
      "14 : 162\n",
      "15 : 243\n",
      "16 : 324\n",
      "17 : 486\n",
      "18 : 729\n",
      "19 : 972\n",
      "20 : 1458\n",
      "21 : 2187\n",
      "22 : 2916\n",
      "23 : 4374\n",
      "24 : 6561\n"
     ]
    }
   ],
   "source": [
    "arr = []\n",
    "for n in range(2, 25):\n",
    "    counter = 0\n",
    "    m = 0\n",
    "    arr.append(findmax(n))\n",
    "    print(n, \":\", m)\n",
    "    #print(\"counter for \", n, \": \", counter)"
   ]
  },
  {
   "cell_type": "code",
   "execution_count": 156,
   "metadata": {},
   "outputs": [
    {
     "data": {
      "image/png": "[encoded data removed]",
      "text/plain": [
       "<Figure size 640x480 with 1 Axes>"
      ]
     },
     "metadata": {},
     "output_type": "display_data"
    }
   ],
   "source": [
    "import matplotlib.pyplot as plt\n",
    "plt.plot(arr)\n",
    "plt.plot(range(1,50))\n",
    "plt.xlabel(\"The value of n\")\n",
    "plt.ylabel(\"Counter used for the recursive calls\")\n",
    "plt.show()"
   ]
  },
  {
   "cell_type": "markdown",
   "metadata": {},
   "source": [
    "Demostration: (It should be O(2^N) )"
   ]
  },
  {
   "cell_type": "markdown",
   "metadata": {},
   "source": [
    "## AQ2.3: Now provide a polynomial solution, based on dynamic programming, and compute its running-time complexity."
   ]
  },
  {
   "cell_type": "code",
   "execution_count": null,
   "metadata": {},
   "outputs": [],
   "source": []
  },
  {
   "cell_type": "markdown",
   "metadata": {},
   "source": [
    "## AQ2.4 Evaluate the running time of your algorithm for the sizes (Ns) in the range of [2, 25], plot the results, and interpret it (if you have implemented two algorithms, please include both in the plot and compare them)."
   ]
  },
  {
   "cell_type": "markdown",
   "metadata": {},
   "source": []
  },
  {
   "cell_type": "markdown",
   "metadata": {},
   "source": [
    "## AQ2.5 (Optional, mini bonus) Is the algorithm of question 3 optimal? If you belive it, can you prove it? If not, can you find a faster algorithm? In case you found a faster algorithm implement it and explain your algorithm in detail."
   ]
  },
  {
   "cell_type": "code",
   "execution_count": null,
   "metadata": {},
   "outputs": [],
   "source": []
  }
 ],
 "metadata": {
  "kernelspec": {
   "display_name": "Python 3.10.7 64-bit (microsoft store)",
   "language": "python",
   "name": "python3"
  },
  "language_info": {
   "codemirror_mode": {
    "name": "ipython",
    "version": 3
   },
   "file_extension": ".py",
   "mimetype": "text/x-python",
   "name": "python",
   "nbconvert_exporter": "python",
   "pygments_lexer": "ipython3",
   "version": "3.10.8"
  },
  "orig_nbformat": 4,
  "vscode": {
   "interpreter": {
    "hash": "ff0d027b96371b0f455967accd7ba1c31740e00cbcb7b1159d79229d4ca7da2d"
   }
  }
 },
 "nbformat": 4,
 "nbformat_minor": 2
}
