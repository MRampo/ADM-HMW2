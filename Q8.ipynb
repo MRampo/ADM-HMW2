{
 "cells": [
  {
   "cell_type": "code",
   "execution_count": 2,
   "metadata": {},
   "outputs": [
    {
     "data": {
      "text/html": [
       "<style type='text/css'>\n",
       ".datatable table.frame { margin-bottom: 0; }\n",
       ".datatable table.frame thead { border-bottom: none; }\n",
       ".datatable table.frame tr.coltypes td {  color: #FFFFFF;  line-height: 6px;  padding: 0 0.5em;}\n",
       ".datatable .bool    { background: #DDDD99; }\n",
       ".datatable .object  { background: #565656; }\n",
       ".datatable .int     { background: #5D9E5D; }\n",
       ".datatable .float   { background: #4040CC; }\n",
       ".datatable .str     { background: #CC4040; }\n",
       ".datatable .time    { background: #40CC40; }\n",
       ".datatable .row_index {  background: var(--jp-border-color3);  border-right: 1px solid var(--jp-border-color0);  color: var(--jp-ui-font-color3);  font-size: 9px;}\n",
       ".datatable .frame tbody td { text-align: left; }\n",
       ".datatable .frame tr.coltypes .row_index {  background: var(--jp-border-color0);}\n",
       ".datatable th:nth-child(2) { padding-left: 12px; }\n",
       ".datatable .hellipsis {  color: var(--jp-cell-editor-border-color);}\n",
       ".datatable .vellipsis {  background: var(--jp-layout-color0);  color: var(--jp-cell-editor-border-color);}\n",
       ".datatable .na {  color: var(--jp-cell-editor-border-color);  font-size: 80%;}\n",
       ".datatable .sp {  opacity: 0.25;}\n",
       ".datatable .footer { font-size: 9px; }\n",
       ".datatable .frame_dimensions {  background: var(--jp-border-color3);  border-top: 1px solid var(--jp-border-color0);  color: var(--jp-ui-font-color3);  display: inline-block;  opacity: 0.6;  padding: 1px 10px 1px 5px;}\n",
       "</style>\n"
      ],
      "text/plain": [
       "<IPython.core.display.HTML object>"
      ]
     },
     "metadata": {},
     "output_type": "display_data"
    }
   ],
   "source": [
    "import pandas as pd\n",
    "import datatable as dt\n",
    "import matplotlib.pyplot as plt\n",
    "import datashader as ds\n",
    "import colorcet as cc\n",
    "import seaborn as sns\n",
    "import numpy as np"
   ]
  },
  {
   "cell_type": "code",
   "execution_count": 13,
   "metadata": {},
   "outputs": [],
   "source": [
    "#TODO fix the graph\n",
    "#TODO interphet the results\n",
    "#TODO find outliers in scatterplot"
   ]
  },
  {
   "cell_type": "code",
   "execution_count": 3,
   "metadata": {},
   "outputs": [
    {
     "name": "stdout",
     "output_type": "stream",
     "text": [
      "CPU times: total: 3min 23s\n",
      "Wall time: 53.2 s\n"
     ]
    }
   ],
   "source": [
    "%%time\n",
    "\n",
    "posts = dt.fread(\"instagram_posts.csv\", columns={\"post_id\", \"numbr_likes\", \"number_comments\", \"cts\"}).to_pandas()"
   ]
  },
  {
   "cell_type": "markdown",
   "metadata": {},
   "source": [
    "## Q8.1 Does more “likes” also mean more comments? Plot a scatter plot of “likes” vs comments for posts."
   ]
  },
  {
   "cell_type": "markdown",
   "metadata": {},
   "source": [
    "After reading the right column that we need for this exercises we plot the scatterplot"
   ]
  },
  {
   "cell_type": "code",
   "execution_count": 3,
   "metadata": {},
   "outputs": [
    {
     "data": {
      "text/html": [
       "<div>\n",
       "<style scoped>\n",
       "    .dataframe tbody tr th:only-of-type {\n",
       "        vertical-align: middle;\n",
       "    }\n",
       "\n",
       "    .dataframe tbody tr th {\n",
       "        vertical-align: top;\n",
       "    }\n",
       "\n",
       "    .dataframe thead th {\n",
       "        text-align: right;\n",
       "    }\n",
       "</style>\n",
       "<table border=\"1\" class=\"dataframe\">\n",
       "  <thead>\n",
       "    <tr style=\"text-align: right;\">\n",
       "      <th></th>\n",
       "      <th>post_id</th>\n",
       "      <th>numbr_likes</th>\n",
       "      <th>number_comments</th>\n",
       "    </tr>\n",
       "  </thead>\n",
       "  <tbody>\n",
       "    <tr>\n",
       "      <th>0</th>\n",
       "      <td>BXdjjUlgcgq</td>\n",
       "      <td>80.0</td>\n",
       "      <td>0.0</td>\n",
       "    </tr>\n",
       "    <tr>\n",
       "      <th>1</th>\n",
       "      <td>BVg0pbolYBC</td>\n",
       "      <td>25.0</td>\n",
       "      <td>1.0</td>\n",
       "    </tr>\n",
       "    <tr>\n",
       "      <th>2</th>\n",
       "      <td>BRgkjcXFp3Q</td>\n",
       "      <td>9.0</td>\n",
       "      <td>0.0</td>\n",
       "    </tr>\n",
       "    <tr>\n",
       "      <th>3</th>\n",
       "      <td>BKTKeNhjEA7</td>\n",
       "      <td>4.0</td>\n",
       "      <td>0.0</td>\n",
       "    </tr>\n",
       "    <tr>\n",
       "      <th>4</th>\n",
       "      <td>8-NQrvoYLX</td>\n",
       "      <td>8.0</td>\n",
       "      <td>0.0</td>\n",
       "    </tr>\n",
       "  </tbody>\n",
       "</table>\n",
       "</div>"
      ],
      "text/plain": [
       "       post_id  numbr_likes  number_comments\n",
       "0  BXdjjUlgcgq         80.0              0.0\n",
       "1  BVg0pbolYBC         25.0              1.0\n",
       "2  BRgkjcXFp3Q          9.0              0.0\n",
       "3  BKTKeNhjEA7          4.0              0.0\n",
       "4   8-NQrvoYLX          8.0              0.0"
      ]
     },
     "execution_count": 3,
     "metadata": {},
     "output_type": "execute_result"
    }
   ],
   "source": [
    "posts.head()"
   ]
  },
  {
   "cell_type": "code",
   "execution_count": 4,
   "metadata": {},
   "outputs": [
    {
     "data": {
      "text/plain": [
       "(42710197, 3)"
      ]
     },
     "execution_count": 4,
     "metadata": {},
     "output_type": "execute_result"
    }
   ],
   "source": [
    "posts.shape"
   ]
  },
  {
   "cell_type": "code",
   "execution_count": 5,
   "metadata": {},
   "outputs": [],
   "source": [
    "posts = posts.dropna()"
   ]
  },
  {
   "cell_type": "code",
   "execution_count": 10,
   "metadata": {},
   "outputs": [
    {
     "data": {
      "image/png": "[encoded data removed]",
      "text/plain": [
       "<Figure size 432x288 with 1 Axes>"
      ]
     },
     "metadata": {
      "needs_background": "light"
     },
     "output_type": "display_data"
    }
   ],
   "source": [
    "plt.scatter(posts['numbr_likes'], posts['number_comments'],s=3, alpha=0.5)\n",
    "plt.show()"
   ]
  },
  {
   "cell_type": "markdown",
   "metadata": {},
   "source": [
    "To have a better understanding of what we are trying to find (the correlation) we are gonna calculate the pearson correlation coefficient"
   ]
  },
  {
   "cell_type": "code",
   "execution_count": 11,
   "metadata": {},
   "outputs": [
    {
     "data": {
      "text/plain": [
       "0.3744527992482446"
      ]
     },
     "execution_count": 11,
     "metadata": {},
     "output_type": "execute_result"
    }
   ],
   "source": [
    "posts.number_comments.corr(posts.numbr_likes)"
   ]
  },
  {
   "cell_type": "markdown",
   "metadata": {},
   "source": [
    "As we can see from the scatterplot above and the result value from the pearson correlation coefficient. If the number of likes were related to the number of comments then we would be seeing a proportional increase of both value, while from the scatterplot we see that at the increase of the number of likes, the number of comments doesnt increase."
   ]
  },
  {
   "cell_type": "code",
   "execution_count": 14,
   "metadata": {},
   "outputs": [],
   "source": [
    "#n_likes = posts.numbr_likes.apply(lambda x: x+1)\n",
    "#n_likes_log = n_likes.apply(np.log)\n",
    "#n_c = posts.number_comments.apply(lambda x: x+1)\n",
    "#n_co = n_c.apply(np.log)\n",
    "#plt.scatter(n_co, n_likes_log,s=3, alpha=0.5)\n",
    "#plt.show()"
   ]
  },
  {
   "cell_type": "markdown",
   "metadata": {},
   "source": [
    "## Let's try seaborn"
   ]
  },
  {
   "cell_type": "code",
   "execution_count": 12,
   "metadata": {},
   "outputs": [
    {
     "data": {
      "image/png": "[encoded data removed]",
      "text/plain": [
       "<Figure size 432x288 with 1 Axes>"
      ]
     },
     "metadata": {
      "needs_background": "light"
     },
     "output_type": "display_data"
    }
   ],
   "source": [
    "sns.scatterplot(data=posts, x = posts['numbr_likes'], y=posts['number_comments'])\n",
    "plt.show()"
   ]
  },
  {
   "cell_type": "markdown",
   "metadata": {},
   "source": [
    "## Q8.2 Can you find any significant relationship between the time a user publishes a post and the number of comments and “likes”? Use an appropriate statistical test or technique and support your choice."
   ]
  },
  {
   "cell_type": "code",
   "execution_count": 10,
   "metadata": {},
   "outputs": [],
   "source": [
    "\n",
    "from datetime import datetime"
   ]
  },
  {
   "cell_type": "code",
   "execution_count": 4,
   "metadata": {},
   "outputs": [
    {
     "data": {
      "text/plain": [
       "post_id                    object\n",
       "cts                datetime64[ns]\n",
       "numbr_likes               float64\n",
       "number_comments           float64\n",
       "dtype: object"
      ]
     },
     "execution_count": 4,
     "metadata": {},
     "output_type": "execute_result"
    }
   ],
   "source": [
    "posts.dtypes"
   ]
  },
  {
   "cell_type": "code",
   "execution_count": 17,
   "metadata": {},
   "outputs": [
    {
     "data": {
      "text/plain": [
       "[(0, 0, 0),\n",
       " (2, 0, 0),\n",
       " (4, 0, 0),\n",
       " (6, 0, 0),\n",
       " (8, 0, 0),\n",
       " (10, 0, 0),\n",
       " (12, 0, 0),\n",
       " (14, 0, 0),\n",
       " (16, 0, 0),\n",
       " (18, 0, 0),\n",
       " (20, 0, 0),\n",
       " (22, 0, 0)]"
      ]
     },
     "execution_count": 17,
     "metadata": {},
     "output_type": "execute_result"
    }
   ],
   "source": [
    "range = []\n",
    "timestamp_list = pd.date_range(\"00:00:00\", \"23:59:59\", freq='2h')\n",
    "for i in timestamp_list:\n",
    "    range.append((i.hour, i.minute, i.second))\n",
    "range"
   ]
  },
  {
   "cell_type": "code",
   "execution_count": 37,
   "metadata": {},
   "outputs": [
    {
     "data": {
      "text/html": [
       "<div>\n",
       "<style scoped>\n",
       "    .dataframe tbody tr th:only-of-type {\n",
       "        vertical-align: middle;\n",
       "    }\n",
       "\n",
       "    .dataframe tbody tr th {\n",
       "        vertical-align: top;\n",
       "    }\n",
       "\n",
       "    .dataframe thead th {\n",
       "        text-align: right;\n",
       "    }\n",
       "</style>\n",
       "<table border=\"1\" class=\"dataframe\">\n",
       "  <thead>\n",
       "    <tr style=\"text-align: right;\">\n",
       "      <th></th>\n",
       "      <th>cts</th>\n",
       "      <th>number_comments</th>\n",
       "      <th>numbr_likes</th>\n",
       "    </tr>\n",
       "  </thead>\n",
       "  <tbody>\n",
       "    <tr>\n",
       "      <th>0</th>\n",
       "      <td>2017-08-06 20:06:57</td>\n",
       "      <td>0.0</td>\n",
       "      <td>80.0</td>\n",
       "    </tr>\n",
       "    <tr>\n",
       "      <th>1</th>\n",
       "      <td>2017-06-19 09:31:16</td>\n",
       "      <td>1.0</td>\n",
       "      <td>25.0</td>\n",
       "    </tr>\n",
       "    <tr>\n",
       "      <th>2</th>\n",
       "      <td>2017-03-11 20:05:03</td>\n",
       "      <td>0.0</td>\n",
       "      <td>9.0</td>\n",
       "    </tr>\n",
       "    <tr>\n",
       "      <th>3</th>\n",
       "      <td>2016-09-13 16:27:16</td>\n",
       "      <td>0.0</td>\n",
       "      <td>4.0</td>\n",
       "    </tr>\n",
       "    <tr>\n",
       "      <th>4</th>\n",
       "      <td>2015-10-18 10:19:27</td>\n",
       "      <td>0.0</td>\n",
       "      <td>8.0</td>\n",
       "    </tr>\n",
       "  </tbody>\n",
       "</table>\n",
       "</div>"
      ],
      "text/plain": [
       "                  cts  number_comments  numbr_likes\n",
       "0 2017-08-06 20:06:57              0.0         80.0\n",
       "1 2017-06-19 09:31:16              1.0         25.0\n",
       "2 2017-03-11 20:05:03              0.0          9.0\n",
       "3 2016-09-13 16:27:16              0.0          4.0\n",
       "4 2015-10-18 10:19:27              0.0          8.0"
      ]
     },
     "execution_count": 37,
     "metadata": {},
     "output_type": "execute_result"
    }
   ],
   "source": [
    "\n",
    "prova = posts[['cts', 'number_comments', 'numbr_likes']]\n",
    "prova.set_index(\"cts\")\n",
    "prova.head()\n",
    "prova['cts'] = pd.to_timedelta(datetime.strptime(prova['cts'].to_string(), )"
   ]
  },
  {
   "cell_type": "code",
   "execution_count": 45,
   "metadata": {},
   "outputs": [],
   "source": [
    "prova['cts'] = pd.to_timedelta(prova['cts'].map(str))\n",
    "#prova = prova.groupby(prova.cts.dt.floor('2H')).count()\n"
   ]
  },
  {
   "cell_type": "code",
   "execution_count": 8,
   "metadata": {},
   "outputs": [
    {
     "name": "stderr",
     "output_type": "stream",
     "text": [
      "C:\\Users\\Matteo\\AppData\\Local\\Temp\\ipykernel_4448\\796733484.py:2: FutureWarning: The default value of numeric_only in DataFrameGroupBy.sum is deprecated. In a future version, numeric_only will default to False. Either specify numeric_only or select only columns which should be valid for the function.\n",
      "  posts.groupby([times.dt.hour, times.dt.minute]).sum()\n"
     ]
    },
    {
     "data": {
      "text/html": [
       "<div>\n",
       "<style scoped>\n",
       "    .dataframe tbody tr th:only-of-type {\n",
       "        vertical-align: middle;\n",
       "    }\n",
       "\n",
       "    .dataframe tbody tr th {\n",
       "        vertical-align: top;\n",
       "    }\n",
       "\n",
       "    .dataframe thead th {\n",
       "        text-align: right;\n",
       "    }\n",
       "</style>\n",
       "<table border=\"1\" class=\"dataframe\">\n",
       "  <thead>\n",
       "    <tr style=\"text-align: right;\">\n",
       "      <th></th>\n",
       "      <th>post_id</th>\n",
       "      <th>cts</th>\n",
       "      <th>numbr_likes</th>\n",
       "      <th>number_comments</th>\n",
       "    </tr>\n",
       "  </thead>\n",
       "  <tbody>\n",
       "    <tr>\n",
       "      <th>0</th>\n",
       "      <td>BXdjjUlgcgq</td>\n",
       "      <td>2017-08-06 20:06:57</td>\n",
       "      <td>80.0</td>\n",
       "      <td>0.0</td>\n",
       "    </tr>\n",
       "    <tr>\n",
       "      <th>1</th>\n",
       "      <td>BVg0pbolYBC</td>\n",
       "      <td>2017-06-19 09:31:16</td>\n",
       "      <td>25.0</td>\n",
       "      <td>1.0</td>\n",
       "    </tr>\n",
       "    <tr>\n",
       "      <th>2</th>\n",
       "      <td>BRgkjcXFp3Q</td>\n",
       "      <td>2017-03-11 20:05:03</td>\n",
       "      <td>9.0</td>\n",
       "      <td>0.0</td>\n",
       "    </tr>\n",
       "    <tr>\n",
       "      <th>3</th>\n",
       "      <td>BKTKeNhjEA7</td>\n",
       "      <td>2016-09-13 16:27:16</td>\n",
       "      <td>4.0</td>\n",
       "      <td>0.0</td>\n",
       "    </tr>\n",
       "    <tr>\n",
       "      <th>4</th>\n",
       "      <td>8-NQrvoYLX</td>\n",
       "      <td>2015-10-18 10:19:27</td>\n",
       "      <td>8.0</td>\n",
       "      <td>0.0</td>\n",
       "    </tr>\n",
       "    <tr>\n",
       "      <th>...</th>\n",
       "      <td>...</td>\n",
       "      <td>...</td>\n",
       "      <td>...</td>\n",
       "      <td>...</td>\n",
       "    </tr>\n",
       "    <tr>\n",
       "      <th>42710192</th>\n",
       "      <td>BcpWMWGBfxh</td>\n",
       "      <td>2017-12-13 15:38:04</td>\n",
       "      <td>74.0</td>\n",
       "      <td>0.0</td>\n",
       "    </tr>\n",
       "    <tr>\n",
       "      <th>42710193</th>\n",
       "      <td>Ba6LZWwlCl8</td>\n",
       "      <td>2017-10-31 11:28:01</td>\n",
       "      <td>49.0</td>\n",
       "      <td>0.0</td>\n",
       "    </tr>\n",
       "    <tr>\n",
       "      <th>42710194</th>\n",
       "      <td>BPN0kM1hYUw</td>\n",
       "      <td>2017-01-13 20:16:37</td>\n",
       "      <td>18.0</td>\n",
       "      <td>0.0</td>\n",
       "    </tr>\n",
       "    <tr>\n",
       "      <th>42710195</th>\n",
       "      <td>BxsZ8nDBr-L</td>\n",
       "      <td>2019-05-20 20:07:52</td>\n",
       "      <td>27.0</td>\n",
       "      <td>1.0</td>\n",
       "    </tr>\n",
       "    <tr>\n",
       "      <th>42710196</th>\n",
       "      <td>BgNJ4EzHQwQ</td>\n",
       "      <td>2018-03-12 02:57:17</td>\n",
       "      <td>1824.0</td>\n",
       "      <td>49.0</td>\n",
       "    </tr>\n",
       "  </tbody>\n",
       "</table>\n",
       "<p>42710197 rows × 4 columns</p>\n",
       "</div>"
      ],
      "text/plain": [
       "              post_id                 cts  numbr_likes  number_comments\n",
       "0         BXdjjUlgcgq 2017-08-06 20:06:57         80.0              0.0\n",
       "1         BVg0pbolYBC 2017-06-19 09:31:16         25.0              1.0\n",
       "2         BRgkjcXFp3Q 2017-03-11 20:05:03          9.0              0.0\n",
       "3         BKTKeNhjEA7 2016-09-13 16:27:16          4.0              0.0\n",
       "4          8-NQrvoYLX 2015-10-18 10:19:27          8.0              0.0\n",
       "...               ...                 ...          ...              ...\n",
       "42710192  BcpWMWGBfxh 2017-12-13 15:38:04         74.0              0.0\n",
       "42710193  Ba6LZWwlCl8 2017-10-31 11:28:01         49.0              0.0\n",
       "42710194  BPN0kM1hYUw 2017-01-13 20:16:37         18.0              0.0\n",
       "42710195  BxsZ8nDBr-L 2019-05-20 20:07:52         27.0              1.0\n",
       "42710196  BgNJ4EzHQwQ 2018-03-12 02:57:17       1824.0             49.0\n",
       "\n",
       "[42710197 rows x 4 columns]"
      ]
     },
     "execution_count": 8,
     "metadata": {},
     "output_type": "execute_result"
    }
   ],
   "source": [
    "times = pd.to_datetime(posts.cts)\n",
    "posts.groupby([times.dt.hour, times.dt.minute]).sum()\n",
    "posts"
   ]
  },
  {
   "cell_type": "code",
   "execution_count": 10,
   "metadata": {},
   "outputs": [
    {
     "ename": "KeyboardInterrupt",
     "evalue": "",
     "output_type": "error",
     "traceback": [
      "\u001b[1;31m---------------------------------------------------------------------------\u001b[0m",
      "\u001b[1;31mKeyboardInterrupt\u001b[0m                         Traceback (most recent call last)",
      "\u001b[1;32mc:\\Users\\Matteo\\Desktop\\ADM\\HW2\\ADM-HMW2\\Q8.ipynb Cella 23\u001b[0m in \u001b[0;36m<cell line: 2>\u001b[1;34m()\u001b[0m\n\u001b[0;32m      <a href='vscode-notebook-cell:/c%3A/Users/Matteo/Desktop/ADM/HW2/ADM-HMW2/Q8.ipynb#X46sZmlsZQ%3D%3D?line=0'>1</a>\u001b[0m posts \u001b[39m=\u001b[39m posts\u001b[39m.\u001b[39mset_index(\u001b[39m'\u001b[39m\u001b[39mcts\u001b[39m\u001b[39m'\u001b[39m) \n\u001b[1;32m----> <a href='vscode-notebook-cell:/c%3A/Users/Matteo/Desktop/ADM/HW2/ADM-HMW2/Q8.ipynb#X46sZmlsZQ%3D%3D?line=1'>2</a>\u001b[0m posts\u001b[39m.\u001b[39mcts \u001b[39m=\u001b[39m pd\u001b[39m.\u001b[39mto_timedelta(posts\u001b[39m.\u001b[39;49mindex\u001b[39m.\u001b[39;49mastype(\u001b[39mstr\u001b[39;49m))\n\u001b[0;32m      <a href='vscode-notebook-cell:/c%3A/Users/Matteo/Desktop/ADM/HW2/ADM-HMW2/Q8.ipynb#X46sZmlsZQ%3D%3D?line=3'>4</a>\u001b[0m posts \u001b[39m=\u001b[39m posts\u001b[39m.\u001b[39mresample(\u001b[39m'\u001b[39m\u001b[39m4H\u001b[39m\u001b[39m'\u001b[39m)\u001b[39m.\u001b[39msum()\n",
      "File \u001b[1;32mc:\\Users\\Matteo\\anaconda3\\lib\\site-packages\\pandas\\core\\indexes\\base.py:1095\u001b[0m, in \u001b[0;36mIndex.astype\u001b[1;34m(self, dtype, copy)\u001b[0m\n\u001b[0;32m   1092\u001b[0m         \u001b[39mraise\u001b[39;00m \u001b[39mTypeError\u001b[39;00m(\u001b[39mf\u001b[39m\u001b[39m\"\u001b[39m\u001b[39mCannot cast \u001b[39m\u001b[39m{\u001b[39;00m\u001b[39mtype\u001b[39m(\u001b[39mself\u001b[39m)\u001b[39m.\u001b[39m\u001b[39m__name__\u001b[39m\u001b[39m}\u001b[39;00m\u001b[39m to dtype\u001b[39m\u001b[39m\"\u001b[39m)\n\u001b[0;32m   1094\u001b[0m     \u001b[39mwith\u001b[39;00m rewrite_exception(\u001b[39mtype\u001b[39m(values)\u001b[39m.\u001b[39m\u001b[39m__name__\u001b[39m, \u001b[39mtype\u001b[39m(\u001b[39mself\u001b[39m)\u001b[39m.\u001b[39m\u001b[39m__name__\u001b[39m):\n\u001b[1;32m-> 1095\u001b[0m         new_values \u001b[39m=\u001b[39m values\u001b[39m.\u001b[39;49mastype(dtype, copy\u001b[39m=\u001b[39;49mcopy)\n\u001b[0;32m   1097\u001b[0m \u001b[39melif\u001b[39;00m is_float_dtype(\u001b[39mself\u001b[39m\u001b[39m.\u001b[39mdtype) \u001b[39mand\u001b[39;00m needs_i8_conversion(dtype):\n\u001b[0;32m   1098\u001b[0m     \u001b[39m# NB: this must come before the ExtensionDtype check below\u001b[39;00m\n\u001b[0;32m   1099\u001b[0m     \u001b[39m# TODO: this differs from Series behavior; can/should we align them?\u001b[39;00m\n\u001b[0;32m   1100\u001b[0m     \u001b[39mraise\u001b[39;00m \u001b[39mTypeError\u001b[39;00m(\n\u001b[0;32m   1101\u001b[0m         \u001b[39mf\u001b[39m\u001b[39m\"\u001b[39m\u001b[39mCannot convert Float64Index to dtype \u001b[39m\u001b[39m{\u001b[39;00mdtype\u001b[39m}\u001b[39;00m\u001b[39m; integer \u001b[39m\u001b[39m\"\u001b[39m\n\u001b[0;32m   1102\u001b[0m         \u001b[39m\"\u001b[39m\u001b[39mvalues are required for conversion\u001b[39m\u001b[39m\"\u001b[39m\n\u001b[0;32m   1103\u001b[0m     )\n",
      "File \u001b[1;32mc:\\Users\\Matteo\\anaconda3\\lib\\site-packages\\pandas\\core\\arrays\\timedeltas.py:305\u001b[0m, in \u001b[0;36mTimedeltaArray.astype\u001b[1;34m(self, dtype, copy)\u001b[0m\n\u001b[0;32m    302\u001b[0m \u001b[39mif\u001b[39;00m dtype\u001b[39m.\u001b[39mkind \u001b[39m==\u001b[39m \u001b[39m\"\u001b[39m\u001b[39mm\u001b[39m\u001b[39m\"\u001b[39m:\n\u001b[0;32m    303\u001b[0m     \u001b[39mreturn\u001b[39;00m astype_td64_unit_conversion(\u001b[39mself\u001b[39m\u001b[39m.\u001b[39m_ndarray, dtype, copy\u001b[39m=\u001b[39mcopy)\n\u001b[1;32m--> 305\u001b[0m \u001b[39mreturn\u001b[39;00m dtl\u001b[39m.\u001b[39;49mDatetimeLikeArrayMixin\u001b[39m.\u001b[39;49mastype(\u001b[39mself\u001b[39;49m, dtype, copy\u001b[39m=\u001b[39;49mcopy)\n",
      "File \u001b[1;32mc:\\Users\\Matteo\\anaconda3\\lib\\site-packages\\pandas\\core\\arrays\\datetimelike.py:456\u001b[0m, in \u001b[0;36mDatetimeLikeArrayMixin.astype\u001b[1;34m(self, dtype, copy)\u001b[0m\n\u001b[0;32m    454\u001b[0m     \u001b[39mreturn\u001b[39;00m \u001b[39msuper\u001b[39m()\u001b[39m.\u001b[39mastype(dtype, copy\u001b[39m=\u001b[39mcopy)\n\u001b[0;32m    455\u001b[0m \u001b[39melif\u001b[39;00m is_string_dtype(dtype):\n\u001b[1;32m--> 456\u001b[0m     \u001b[39mreturn\u001b[39;00m \u001b[39mself\u001b[39;49m\u001b[39m.\u001b[39;49m_format_native_types()\n\u001b[0;32m    457\u001b[0m \u001b[39melif\u001b[39;00m is_integer_dtype(dtype):\n\u001b[0;32m    458\u001b[0m     \u001b[39m# we deliberately ignore int32 vs. int64 here.\u001b[39;00m\n\u001b[0;32m    459\u001b[0m     \u001b[39m# See https://github.com/pandas-dev/pandas/issues/24381 for more.\u001b[39;00m\n\u001b[0;32m    460\u001b[0m     values \u001b[39m=\u001b[39m \u001b[39mself\u001b[39m\u001b[39m.\u001b[39masi8\n",
      "File \u001b[1;32mc:\\Users\\Matteo\\anaconda3\\lib\\site-packages\\pandas\\core\\arrays\\timedeltas.py:382\u001b[0m, in \u001b[0;36mTimedeltaArray._format_native_types\u001b[1;34m(self, na_rep, date_format, **kwargs)\u001b[0m\n\u001b[0;32m    379\u001b[0m formatter \u001b[39m=\u001b[39m get_format_timedelta64(\u001b[39mself\u001b[39m\u001b[39m.\u001b[39m_ndarray, na_rep)\n\u001b[0;32m    380\u001b[0m \u001b[39m# equiv: np.array([formatter(x) for x in self._ndarray])\u001b[39;00m\n\u001b[0;32m    381\u001b[0m \u001b[39m#  but independent of dimension\u001b[39;00m\n\u001b[1;32m--> 382\u001b[0m \u001b[39mreturn\u001b[39;00m np\u001b[39m.\u001b[39;49mfrompyfunc(formatter, \u001b[39m1\u001b[39;49m, \u001b[39m1\u001b[39;49m)(\u001b[39mself\u001b[39;49m\u001b[39m.\u001b[39;49m_ndarray)\n",
      "File \u001b[1;32mc:\\Users\\Matteo\\anaconda3\\lib\\site-packages\\pandas\\io\\formats\\format.py:1896\u001b[0m, in \u001b[0;36mget_format_timedelta64.<locals>._formatter\u001b[1;34m(x)\u001b[0m\n\u001b[0;32m   1893\u001b[0m     x \u001b[39m=\u001b[39m Timedelta(x)\n\u001b[0;32m   1895\u001b[0m \u001b[39m# Timedelta._repr_base uses string formatting (faster than strftime)\u001b[39;00m\n\u001b[1;32m-> 1896\u001b[0m result \u001b[39m=\u001b[39m x\u001b[39m.\u001b[39;49m_repr_base(\u001b[39mformat\u001b[39m\u001b[39m=\u001b[39m\u001b[39mformat\u001b[39m)\n\u001b[0;32m   1897\u001b[0m \u001b[39mif\u001b[39;00m box:\n\u001b[0;32m   1898\u001b[0m     result \u001b[39m=\u001b[39m \u001b[39mf\u001b[39m\u001b[39m\"\u001b[39m\u001b[39m'\u001b[39m\u001b[39m{\u001b[39;00mresult\u001b[39m}\u001b[39;00m\u001b[39m'\u001b[39m\u001b[39m\"\u001b[39m\n",
      "\u001b[1;31mKeyboardInterrupt\u001b[0m: "
     ]
    }
   ],
   "source": [
    "posts = posts.set_index('cts') \n",
    "posts.cts = pd.to_timedelta(posts.index.astype(str))\n",
    "\n",
    "posts = posts.resample('4H').sum()"
   ]
  },
  {
   "cell_type": "markdown",
   "metadata": {},
   "source": [
    "## Q8.3 What’s the distribution of followers? Plot the empirical distribution of followers amongst all users and extract the mean, mode, and quantiles. Interpret those figures."
   ]
  },
  {
   "cell_type": "code",
   "execution_count": 4,
   "metadata": {},
   "outputs": [
    {
     "name": "stdout",
     "output_type": "stream",
     "text": [
      "CPU times: total: 16.7 s\n",
      "Wall time: 7.77 s\n"
     ]
    }
   ],
   "source": [
    "%%time\n",
    "\n",
    "profiles = dt.fread(\"instagram_profiles.csv\").to_pandas()"
   ]
  },
  {
   "cell_type": "code",
   "execution_count": 18,
   "metadata": {},
   "outputs": [],
   "source": [
    "followers = profiles['followers']\n",
    "#lets drop the Na\n",
    "followers = followers.dropna()"
   ]
  },
  {
   "cell_type": "markdown",
   "metadata": {},
   "source": [
    "\n",
    "\n",
    "Per avere una maggiore interpretabilità della distribuzione usiamo la scala logaritmica, però abbiamo moltissimi valori = 0. Per risolvere questo problema prima aumentiamo tutti i valori di 1, in questa maniera non avremo più valori uguali a zero e allo stesso tempo la distribuzione rimane invariata.\n",
    "\n",
    "Successivamente plottiamo"
   ]
  },
  {
   "cell_type": "code",
   "execution_count": 26,
   "metadata": {},
   "outputs": [],
   "source": [
    "f_plus_1 = followers.apply(lambda x: x+1)\n",
    "followers_log = f_plus_1.apply(np.log)"
   ]
  },
  {
   "cell_type": "code",
   "execution_count": 34,
   "metadata": {},
   "outputs": [
    {
     "data": {
      "image/png": "[encoded data removed]",
      "text/plain": [
       "<Figure size 432x288 with 1 Axes>"
      ]
     },
     "metadata": {
      "needs_background": "light"
     },
     "output_type": "display_data"
    }
   ],
   "source": [
    "plt.hist(followers_log, bins=60)\n",
    "plt.show()"
   ]
  },
  {
   "cell_type": "code",
   "execution_count": 44,
   "metadata": {},
   "outputs": [
    {
     "data": {
      "text/plain": [
       "<AxesSubplot:xlabel='followers', ylabel='Count'>"
      ]
     },
     "execution_count": 44,
     "metadata": {},
     "output_type": "execute_result"
    },
    {
     "data": {
      "image/png": "[encoded data removed]",
      "text/plain": [
       "<Figure size 432x288 with 1 Axes>"
      ]
     },
     "metadata": {
      "needs_background": "light"
     },
     "output_type": "display_data"
    }
   ],
   "source": [
    "#lets plot the density function of the distribution of followers\n",
    "sns.histplot( ciao , kde = True, bins=60)"
   ]
  },
  {
   "cell_type": "code",
   "execution_count": 20,
   "metadata": {},
   "outputs": [
    {
     "data": {
      "image/png": "[encoded data removed]",
      "text/plain": [
       "<Figure size 432x288 with 1 Axes>"
      ]
     },
     "metadata": {
      "needs_background": "light"
     },
     "output_type": "display_data"
    }
   ],
   "source": [
    "plt.hist(followers, log=True, bins=15)\n",
    "plt.show()"
   ]
  },
  {
   "cell_type": "code",
   "execution_count": 17,
   "metadata": {},
   "outputs": [
    {
     "data": {
      "text/plain": [
       "29999.0"
      ]
     },
     "execution_count": 17,
     "metadata": {},
     "output_type": "execute_result"
    }
   ],
   "source": [
    "followers = profiles[profiles.followers < 30000] \n",
    "followers.followers.max()"
   ]
  },
  {
   "cell_type": "code",
   "execution_count": 18,
   "metadata": {},
   "outputs": [
    {
     "data": {
      "image/png": "[encoded data removed]",
      "text/plain": [
       "<Figure size 432x288 with 1 Axes>"
      ]
     },
     "metadata": {
      "needs_background": "light"
     },
     "output_type": "display_data"
    }
   ],
   "source": [
    "plt.hist(followers.followers, log = True, bins=30)\n",
    "plt.show()"
   ]
  },
  {
   "cell_type": "code",
   "execution_count": 33,
   "metadata": {},
   "outputs": [
    {
     "data": {
      "text/plain": [
       "count    3.452771e+06\n",
       "mean     4.739899e+03\n",
       "std      1.939087e+05\n",
       "min      0.000000e+00\n",
       "25%      1.590000e+02\n",
       "50%      4.060000e+02\n",
       "75%      9.740000e+02\n",
       "max      2.854576e+08\n",
       "Name: followers, dtype: float64"
      ]
     },
     "execution_count": 33,
     "metadata": {},
     "output_type": "execute_result"
    }
   ],
   "source": [
    "profiles.followers.describe()"
   ]
  },
  {
   "cell_type": "code",
   "execution_count": 21,
   "metadata": {},
   "outputs": [],
   "source": [
    "profiles.mean()"
   ]
  }
 ],
 "metadata": {
  "kernelspec": {
   "display_name": "Python 3.9.12 ('base')",
   "language": "python",
   "name": "python3"
  },
  "language_info": {
   "codemirror_mode": {
    "name": "ipython",
    "version": 3
   },
   "file_extension": ".py",
   "mimetype": "text/x-python",
   "name": "python",
   "nbconvert_exporter": "python",
   "pygments_lexer": "ipython3",
   "version": "3.9.12"
  },
  "orig_nbformat": 4,
  "vscode": {
   "interpreter": {
    "hash": "cd94c265d0cd8d4c5ed894c320907f0fc1771c221568605f48fbe0110aecbb76"
   }
  }
 },
 "nbformat": 4,
 "nbformat_minor": 2
}
