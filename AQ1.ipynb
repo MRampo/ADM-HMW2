{
 "cells": [
  {
   "cell_type": "markdown",
   "metadata": {},
   "source": [
    "## AQ1"
   ]
  },
  {
   "cell_type": "code",
   "execution_count": 16,
   "metadata": {},
   "outputs": [],
   "source": [
    "#TODO plot the "
   ]
  },
  {
   "cell_type": "code",
   "execution_count": null,
   "metadata": {},
   "outputs": [],
   "source": [
    "# Input: \n",
    "#     N : an integer \n",
    "#     List : array of characters of length N without repetition\n",
    "    \n",
    "# function f1(sequence, end): \n",
    "#     For i=0 To end:\n",
    "#         OUTPUT sequence[i]\n",
    "#     EndFor\n",
    "#     Output \"\\n\"\n",
    "    \n",
    "# function f2(sequence, start, end): \n",
    "#     If start = end: \n",
    "#         f1(sequence, end)\n",
    "#     Else\n",
    "#         For i=start To end: \n",
    "#             temp <-- sequence[start]\n",
    "#             sequence[start] <-- sequence[i]\n",
    "#             sequence[i] <-- temp\n",
    "#             f2(sequence, start+1, end)\n",
    "#             temp <-- sequence[start]\n",
    "#             sequence[start] <-- sequence[i]\n",
    "#             sequence[i] <-- temp\n",
    "# f2(List, 0, N)"
   ]
  },
  {
   "cell_type": "code",
   "execution_count": null,
   "metadata": {},
   "outputs": [],
   "source": [
    "\n",
    "def f1(seq, end):\n",
    "    str = \"\"                            #1\n",
    "    for i in range(end):                #N   \n",
    "        str += seq[i]                   #1              \n",
    "    print(str)                        #1\n",
    "\n",
    "def f2(seq, start, end):\n",
    "    if start == end:                    #1\n",
    "        f1(seq, end)                    #N!\n",
    "    else:           \n",
    "        for i in range(start, end):     #N\n",
    "            temp = seq[start]           #1\n",
    "            seq[start] = seq[i]         #1\n",
    "            seq[i] = temp               #1\n",
    "            f2(seq, start+1, end,)      #N\n",
    "            temp = seq[start]           #1\n",
    "            seq[start] = seq[i]         #1\n",
    "            seq[i] = temp               #1\n",
    "\n",
    "\n"
   ]
  },
  {
   "cell_type": "markdown",
   "metadata": {},
   "source": [
    "## AQ1.1: What is the output of this algorithm? Describe the mechanism of the algorithm in detail . We do not want to know only its final result. (Describe one example on your own)\n",
    "\n",
    "The purpose of the algorithm is to find every possible permutation of the charaters present in the array. \n",
    "The Idea behind this algorithm is to try and generate every possible permutation, starting from the steps right before it.\n",
    "\n",
    "### More Accurate description of the algorithm:\n",
    "The first function f1, is just the one to print out the result of each permutation. It will be called at the end of each recursive call of f2. When the 'start' will be equal to 'and'\n",
    "\n",
    "The second function f2, is the one responsible for the recursive call for each permutation and the way it works is:\n",
    "- For each \"position\" create every possible permutation for the \"start\" of the array by swapping the start with the i-character of the array. Ex: if we have [a,b,c] it will create [a,b,c], [b,a,c], [c,b,a]\n",
    "- For every possibility it will call again the recursive function f2, with the modified array and with a greater starting point of start+1. The same process will be repeated until the end of the recursive function\n",
    "- It is important to understand what the last part of the function f2 does. Once the function swap the seq[start] with the seq[i] and calls the recursive function, at some point the recursive call will come to an end, and it will go back to original first call. The last 3 rows inside the 'for loop' are the one responsible to put the value inside the array in their original position before the next iteration of the foor loop. This process allow the for loop to modify the array starting from the original one on every iteration.\n",
    "\n",
    "Example of the first iteration of for loops on the first call of f2:\n",
    "- Correct possibility of the array: [a,b,c], [b,a,c], [c,b,a]\n",
    "- Incorrect possibility (without the last 3 row of the for loop): [a,b,c], [b,a,c], [c,a,b]\n",
    "\n",
    "\n",
    "\n",
    "\n",
    "Below is an example with the array [\"a\", \"b\", \"c\"] and the output relative to the array."
   ]
  },
  {
   "cell_type": "code",
   "execution_count": 4,
   "metadata": {},
   "outputs": [
    {
     "name": "stdout",
     "output_type": "stream",
     "text": [
      "abc\n",
      "acb\n",
      "bac\n",
      "bca\n",
      "cba\n",
      "cab\n"
     ]
    }
   ],
   "source": [
    "f2([\"a\",\"b\",\"c\"],0,3)"
   ]
  },
  {
   "cell_type": "markdown",
   "metadata": {},
   "source": [
    "## AQ1.2: What is asymptotically (i.e., we are asking for big-O complexity) the algorithm's running time as a function of N?\n",
    "\n",
    "(N)N!"
   ]
  },
  {
   "cell_type": "markdown",
   "metadata": {},
   "source": [
    "## AQ1.3: Is this algorithm the optimal one to produce this output? If not, can you suggest a better algorithm to perform the same task?"
   ]
  },
  {
   "cell_type": "code",
   "execution_count": 3,
   "metadata": {},
   "outputs": [],
   "source": [
    "#Better algorithm\n",
    "\n",
    "from itertools import combinations, permutations\n",
    "\n",
    "\n",
    "def f1_new(seq, start, end):\n",
    "    comb = permutations(seq,3)\n",
    "    for y in comb:\n",
    "        print(*y)"
   ]
  },
  {
   "cell_type": "code",
   "execution_count": 24,
   "metadata": {},
   "outputs": [
    {
     "name": "stdout",
     "output_type": "stream",
     "text": [
      "a b c\n",
      "a c b\n",
      "b a c\n",
      "b c a\n",
      "c a b\n",
      "c b a\n"
     ]
    }
   ],
   "source": [
    "f1_new([\"a\",\"b\",\"c\"],0,3)"
   ]
  },
  {
   "cell_type": "markdown",
   "metadata": {},
   "source": [
    "Yes it is the optimal one, as there is no better algorithm for permutation with less than O(N*N!)"
   ]
  },
  {
   "cell_type": "code",
   "execution_count": null,
   "metadata": {},
   "outputs": [],
   "source": []
  }
 ],
 "metadata": {
  "kernelspec": {
   "display_name": "Python 3.8.10 64-bit (microsoft store)",
   "language": "python",
   "name": "python3"
  },
  "language_info": {
   "codemirror_mode": {
    "name": "ipython",
    "version": 3
   },
   "file_extension": ".py",
   "mimetype": "text/x-python",
   "name": "python",
   "nbconvert_exporter": "python",
   "pygments_lexer": "ipython3",
   "version": "3.8.10"
  },
  "orig_nbformat": 4,
  "vscode": {
   "interpreter": {
    "hash": "dcc122611b72fbf9e0a83924318b8f15cfe2dec8494aaaa2233554c7581e5983"
   }
  }
 },
 "nbformat": 4,
 "nbformat_minor": 2
}
