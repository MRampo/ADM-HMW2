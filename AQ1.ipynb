{
 "cells": [
  {
   "cell_type": "markdown",
   "metadata": {},
   "source": [
    "## AQ1"
   ]
  },
  {
   "cell_type": "code",
   "execution_count": 16,
   "metadata": {},
   "outputs": [],
   "source": [
    "#TODO write demonstration"
   ]
  },
  {
   "cell_type": "code",
   "execution_count": null,
   "metadata": {},
   "outputs": [],
   "source": [
    "# Input: \n",
    "#     N : an integer \n",
    "#     List : array of characters of length N without repetition\n",
    "    \n",
    "# function f1(sequence, end): \n",
    "#     For i=0 To end:\n",
    "#         OUTPUT sequence[i]\n",
    "#     EndFor\n",
    "#     Output \"\\n\"\n",
    "    \n",
    "# function f2(sequence, start, end): \n",
    "#     If start = end: \n",
    "#         f1(sequence, end)\n",
    "#     Else\n",
    "#         For i=start To end: \n",
    "#             temp <-- sequence[start]\n",
    "#             sequence[start] <-- sequence[i]\n",
    "#             sequence[i] <-- temp\n",
    "#             f2(sequence, start+1, end)\n",
    "#             temp <-- sequence[start]\n",
    "#             sequence[start] <-- sequence[i]\n",
    "#             sequence[i] <-- temp\n",
    "# f2(List, 0, N)"
   ]
  },
  {
   "cell_type": "code",
   "execution_count": 2,
   "metadata": {},
   "outputs": [],
   "source": [
    "\n",
    "def f1(seq, end):\n",
    "    str = \"\"                            #1\n",
    "    for i in range(end):                #N   \n",
    "        str += seq[i]                   #1              \n",
    "    print(str)                        #1\n",
    "\n",
    "def f2(seq, start, end):\n",
    "    if start == end:                    #1\n",
    "        f1(seq, end)                    #N!\n",
    "    else:           \n",
    "        for i in range(start, end):     #N\n",
    "            temp = seq[start]           #1\n",
    "            seq[start] = seq[i]         #1\n",
    "            seq[i] = temp               #1\n",
    "            f2(seq, start+1, end,)      #N\n",
    "            temp = seq[start]           #1\n",
    "            seq[start] = seq[i]         #1\n",
    "            seq[i] = temp               #1\n",
    "\n",
    "\n"
   ]
  },
  {
   "cell_type": "markdown",
   "metadata": {},
   "source": [
    "## What is the output of this algorithm?\n",
    "\n",
    "The purpose of the algorithm is to find every possible combination of the charaters present in the array. \n",
    "But it is not efficient as it will provide the list with some repetition inside it.\n",
    "Below is an example with the array [\"a\", \"b\", \"c\"] and the output relative to the array."
   ]
  },
  {
   "cell_type": "code",
   "execution_count": 4,
   "metadata": {},
   "outputs": [
    {
     "name": "stdout",
     "output_type": "stream",
     "text": [
      "abc\n",
      "acb\n",
      "bac\n",
      "bca\n",
      "cba\n",
      "cab\n"
     ]
    }
   ],
   "source": [
    "f2([\"a\",\"b\",\"c\"],0,3)"
   ]
  },
  {
   "cell_type": "markdown",
   "metadata": {},
   "source": [
    "What is asymptotically (i.e we are asking for Big-O complexity)\n",
    "\n",
    "N*N*N!"
   ]
  },
  {
   "cell_type": "markdown",
   "metadata": {},
   "source": [
    "## Is this algorithm the optimal one to produce this output? If not, can you suggest a better algorithm to perform the same task?"
   ]
  },
  {
   "cell_type": "code",
   "execution_count": 3,
   "metadata": {},
   "outputs": [],
   "source": [
    "#Better algorithm\n",
    "\n",
    "from itertools import combinations, permutations\n",
    "\n",
    "\n",
    "def f1_new(seq, start, end):\n",
    "    comb = permutations(seq,3)\n",
    "    for y in comb:\n",
    "        print(*y)"
   ]
  },
  {
   "cell_type": "code",
   "execution_count": 24,
   "metadata": {},
   "outputs": [
    {
     "name": "stdout",
     "output_type": "stream",
     "text": [
      "a b c\n",
      "a c b\n",
      "b a c\n",
      "b c a\n",
      "c a b\n",
      "c b a\n"
     ]
    }
   ],
   "source": [
    "f1_new([\"a\",\"b\",\"c\"],0,3)"
   ]
  },
  {
   "cell_type": "code",
   "execution_count": null,
   "metadata": {},
   "outputs": [],
   "source": []
  },
  {
   "cell_type": "code",
   "execution_count": null,
   "metadata": {},
   "outputs": [],
   "source": []
  }
 ],
 "metadata": {
  "kernelspec": {
   "display_name": "Python 3.9.12 ('base')",
   "language": "python",
   "name": "python3"
  },
  "language_info": {
   "codemirror_mode": {
    "name": "ipython",
    "version": 3
   },
   "file_extension": ".py",
   "mimetype": "text/x-python",
   "name": "python",
   "nbconvert_exporter": "python",
   "pygments_lexer": "ipython3",
   "version": "3.9.12"
  },
  "orig_nbformat": 4,
  "vscode": {
   "interpreter": {
    "hash": "cd94c265d0cd8d4c5ed894c320907f0fc1771c221568605f48fbe0110aecbb76"
   }
  }
 },
 "nbformat": 4,
 "nbformat_minor": 2
}
