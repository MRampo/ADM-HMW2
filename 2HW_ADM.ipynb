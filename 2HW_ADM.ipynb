{
 "cells": [
  {
   "cell_type": "code",
   "execution_count": 1,
   "id": "18fc4bf1-11f9-437c-874e-5b55e2b047de",
   "metadata": {},
   "outputs": [
    {
     "data": {
      "text/html": [
       "<style type='text/css'>\n",
       ".datatable table.frame { margin-bottom: 0; }\n",
       ".datatable table.frame thead { border-bottom: none; }\n",
       ".datatable table.frame tr.coltypes td {  color: #FFFFFF;  line-height: 6px;  padding: 0 0.5em;}\n",
       ".datatable .bool    { background: #DDDD99; }\n",
       ".datatable .object  { background: #565656; }\n",
       ".datatable .int     { background: #5D9E5D; }\n",
       ".datatable .float   { background: #4040CC; }\n",
       ".datatable .str     { background: #CC4040; }\n",
       ".datatable .time    { background: #40CC40; }\n",
       ".datatable .row_index {  background: var(--jp-border-color3);  border-right: 1px solid var(--jp-border-color0);  color: var(--jp-ui-font-color3);  font-size: 9px;}\n",
       ".datatable .frame tbody td { text-align: left; }\n",
       ".datatable .frame tr.coltypes .row_index {  background: var(--jp-border-color0);}\n",
       ".datatable th:nth-child(2) { padding-left: 12px; }\n",
       ".datatable .hellipsis {  color: var(--jp-cell-editor-border-color);}\n",
       ".datatable .vellipsis {  background: var(--jp-layout-color0);  color: var(--jp-cell-editor-border-color);}\n",
       ".datatable .na {  color: var(--jp-cell-editor-border-color);  font-size: 80%;}\n",
       ".datatable .sp {  opacity: 0.25;}\n",
       ".datatable .footer { font-size: 9px; }\n",
       ".datatable .frame_dimensions {  background: var(--jp-border-color3);  border-top: 1px solid var(--jp-border-color0);  color: var(--jp-ui-font-color3);  display: inline-block;  opacity: 0.6;  padding: 1px 10px 1px 5px;}\n",
       "</style>\n"
      ],
      "text/plain": [
       "<IPython.core.display.HTML object>"
      ]
     },
     "metadata": {},
     "output_type": "display_data"
    }
   ],
   "source": [
    "import pandas as pd\n",
    "import numpy as np\n",
    "import matplotlib.pyplot as plt\n",
    "import datatable as dt\n",
    "import datetime\n",
    "from functions import *"
   ]
  },
  {
   "cell_type": "code",
   "execution_count": null,
   "id": "fc7ec911",
   "metadata": {},
   "outputs": [],
   "source": [
    "#TODO: \n",
    "# Merge all ex\n",
    "# 7.2 \n",
    "# 8.2"
   ]
  },
  {
   "cell_type": "markdown",
   "id": "843a39d2-ff67-4003-acbf-3a3bb34ee7d5",
   "metadata": {
    "tags": []
   },
   "source": [
    "# Import dataframes"
   ]
  },
  {
   "cell_type": "markdown",
   "id": "375a32d9-ac49-4eda-8634-424e3dcdbc63",
   "metadata": {
    "jp-MarkdownHeadingCollapsed": true,
    "tags": []
   },
   "source": [
    "### Posts"
   ]
  },
  {
   "cell_type": "code",
   "execution_count": 2,
   "id": "9c499abd-9799-476c-9329-73115db57907",
   "metadata": {},
   "outputs": [
    {
     "name": "stdout",
     "output_type": "stream",
     "text": [
      "CPU times: user 43.6 s, sys: 25 s, total: 1min 8s\n",
      "Wall time: 20.8 s\n"
     ]
    }
   ],
   "source": [
    "%%time\n",
    "\n",
    "posts_datatable = dt.fread(\"instagram_posts.csv\")"
   ]
  },
  {
   "cell_type": "code",
   "execution_count": 3,
   "id": "51bc8454-78f1-4f80-84f4-d2ae203a337d",
   "metadata": {},
   "outputs": [
    {
     "data": {
      "text/html": [
       "<div class='datatable'>\n",
       "  <table class='frame'>\n",
       "  <thead>\n",
       "    <tr class='colnames'><td class='row_index'></td><th>sid</th><th>sid_profile</th><th>post_id</th><th>profile_id</th><th>location_id</th><th>cts</th><th>post_type</th><th>description</th><th>numbr_likes</th><th>number_comments</th></tr>\n",
       "    <tr class='coltypes'><td class='row_index'></td><td class='int' title='int32'>&#x25AA;&#x25AA;&#x25AA;&#x25AA;</td><td class='int' title='int32'>&#x25AA;&#x25AA;&#x25AA;&#x25AA;</td><td class='str' title='str32'>&#x25AA;&#x25AA;&#x25AA;&#x25AA;</td><td class='int' title='int64'>&#x25AA;&#x25AA;&#x25AA;&#x25AA;&#x25AA;&#x25AA;&#x25AA;&#x25AA;</td><td class='int' title='int64'>&#x25AA;&#x25AA;&#x25AA;&#x25AA;&#x25AA;&#x25AA;&#x25AA;&#x25AA;</td><td class='time' title='time64'>&#x25AA;&#x25AA;&#x25AA;&#x25AA;&#x25AA;&#x25AA;&#x25AA;&#x25AA;</td><td class='int' title='int32'>&#x25AA;&#x25AA;&#x25AA;&#x25AA;</td><td class='str' title='str64'>&#x25AA;&#x25AA;&#x25AA;&#x25AA;&#x25AA;&#x25AA;&#x25AA;&#x25AA;</td><td class='int' title='int32'>&#x25AA;&#x25AA;&#x25AA;&#x25AA;</td><td class='int' title='int32'>&#x25AA;&#x25AA;&#x25AA;&#x25AA;</td></tr>\n",
       "  </thead>\n",
       "  <tbody>\n",
       "    <tr><td class='row_index'>0</td><td>28370919</td><td>3496776</td><td>BXdjjUlgcgq</td><td>2237947779</td><td>1022366247837915</td><td>2017-08-06<span class=sp>T</span>20:06:57</td><td>2</td><td>Wreckloose! Deevalley bike park laps on the @intensecycles recluse!\\n@alfjonescycles \\n@saddleback_l&#133;</td><td>80</td><td>0</td></tr>\n",
       "    <tr><td class='row_index'>1</td><td>28370932</td><td>&minus;1</td><td>BVg0pbolYBC</td><td>5579335020</td><td>457426771112991</td><td>2017-06-19<span class=sp>T</span>09:31:16</td><td>1</td><td>🙌🏼 believe in ya dreams 🙌🏼 just like I believe in male lace rompers and boneless watermelon\\n\\nTag u&#133;</td><td>25</td><td>1</td></tr>\n",
       "    <tr><td class='row_index'>2</td><td>28370933</td><td>&minus;1</td><td>BRgkjcXFp3Q</td><td>313429634</td><td>457426771112991</td><td>2017-03-11<span class=sp>T</span>20:05:03</td><td>1</td><td>#meraviglia #incensi #the #candele #profumo #amicizia #primavera #starshine</td><td>9</td><td>0</td></tr>\n",
       "    <tr><td class='row_index'>3</td><td>28370934</td><td>&minus;1</td><td>BKTKeNhjEA7</td><td>1837592700</td><td>457426771112991</td><td>2016-09-13<span class=sp>T</span>16:27:16</td><td>1</td><td>#teatime #scorpion #friends #love #mountains #september</td><td>4</td><td>0</td></tr>\n",
       "    <tr><td class='row_index'>4</td><td>28370935</td><td>&minus;1</td><td>8-NQrvoYLX</td><td>1131527143</td><td>457426771112991</td><td>2015-10-18<span class=sp>T</span>10:19:27</td><td>1</td><td>thE sky gavE mE a #constEllation</td><td>8</td><td>0</td></tr>\n",
       "    <tr><td class='row_index'>5</td><td>28370964</td><td>&minus;1</td><td>BrYDPJeABJQ</td><td>16262389</td><td>282618748</td><td>2018-12-14<span class=sp>T</span>18:16:15</td><td>1</td><td>#beautiful #Christmas #lights</td><td>138</td><td>15</td></tr>\n",
       "    <tr><td class='row_index'>6</td><td>28370957</td><td>&minus;1</td><td>BmQ418mgSnL</td><td>35673872</td><td>282618748</td><td>2018-08-09<span class=sp>T</span>17:53:46</td><td>1</td><td>As per your suggestion. #themerrytriotakeslondon</td><td>389</td><td>10</td></tr>\n",
       "    <tr><td class='row_index'>7</td><td>28370960</td><td>&minus;1</td><td>Bm1YQ3Hn1gJ</td><td>840873396</td><td>282618748</td><td>2018-08-23<span class=sp>T</span>22:00:59</td><td>1</td><td>-Blue-💙</td><td>198</td><td>23</td></tr>\n",
       "    <tr><td class='row_index'>8</td><td>28370961</td><td>&minus;1</td><td>2qBVjbTgzi</td><td>329994</td><td>282618748</td><td>2015-05-14<span class=sp>T</span>11:02:05</td><td>1</td><td>everything still feels so surreal ☁️</td><td>127</td><td>8</td></tr>\n",
       "    <tr><td class='row_index'>9</td><td>28370962</td><td>&minus;1</td><td>BP5ViC6gaEf</td><td>360796468</td><td>282618748</td><td>2017-01-30<span class=sp>T</span>17:52:01</td><td>1</td><td>Guinness O'clock 🍺🍺 #london #pub #guinness #love</td><td>154</td><td>6</td></tr>\n",
       "    <tr><td class='row_index'>10</td><td>28370963</td><td>3303402</td><td>BXoABqGAfra</td><td>11771599</td><td>282618748</td><td>2017-08-10<span class=sp>T</span>21:28:09</td><td>1</td><td>Hip hip hip #TheCrown 👑 saison 2 c est pour le 8 décembre 🎉🎊😻</td><td>114</td><td>11</td></tr>\n",
       "    <tr><td class='row_index'>11</td><td>28370965</td><td>&minus;1</td><td>Bx-ptmpinBs</td><td>42762751</td><td>282618748</td><td>2019-05-27<span class=sp>T</span>22:11:58</td><td>1</td><td>Cheers! Returning to this café after 5 years.\\n*\\n*\\n*\\n#bar #pub #london #thecrown #sevendials #ret&#133;</td><td>16</td><td>0</td></tr>\n",
       "    <tr><td class='row_index'>12</td><td>28370966</td><td>&minus;1</td><td>Bx9uKZAAHDg</td><td>198737807</td><td>282618748</td><td>2019-05-27<span class=sp>T</span>13:31:36</td><td>1</td><td>Gineaus Guinness</td><td>9</td><td>0</td></tr>\n",
       "    <tr><td class='row_index'>13</td><td>28370967</td><td>&minus;1</td><td>Bx5qGE0AlMM</td><td>4319359707</td><td>282618748</td><td>2019-05-25<span class=sp>T</span>23:39:06</td><td>1</td><td>Cheeky beer after the curry #londonlife</td><td>9</td><td>0</td></tr>\n",
       "    <tr><td class='row_index'>14</td><td>28370968</td><td>&minus;1</td><td>Bx2ygKmCC2J</td><td>37827377</td><td>282618748</td><td>2019-05-24<span class=sp>T</span>20:54:51</td><td>1</td><td>👑 🇬🇧</td><td>47</td><td>1</td></tr>\n",
       "    <tr><td class='row_index'>&#x22EE;</td><td class='hellipsis'>&#x22EE;</td><td class='hellipsis'>&#x22EE;</td><td class='hellipsis'>&#x22EE;</td><td class='hellipsis'>&#x22EE;</td><td class='hellipsis'>&#x22EE;</td><td class='hellipsis'>&#x22EE;</td><td class='hellipsis'>&#x22EE;</td><td class='hellipsis'>&#x22EE;</td><td class='hellipsis'>&#x22EE;</td><td class='hellipsis'>&#x22EE;</td></tr>\n",
       "    <tr><td class='row_index'>42,710,192</td><td>28370925</td><td>&minus;1</td><td>BcpWMWGBfxh</td><td>5556457201</td><td>457426771112991</td><td>2017-12-13<span class=sp>T</span>15:38:04</td><td>1</td><td>Mm not bad but not so pretty😕\\n#puthtroop#puthinators#putharmy#lovecharlieputh❤️</td><td>74</td><td>0</td></tr>\n",
       "    <tr><td class='row_index'>42,710,193</td><td>28370926</td><td>&minus;1</td><td>Ba6LZWwlCl8</td><td>337186454</td><td>457426771112991</td><td>2017-10-31<span class=sp>T</span>11:28:01</td><td>1</td><td>🌸🌺</td><td>49</td><td>0</td></tr>\n",
       "    <tr><td class='row_index'>42,710,194</td><td>28370929</td><td>&minus;1</td><td>BPN0kM1hYUw</td><td>3289886053</td><td>457426771112991</td><td>2017-01-13<span class=sp>T</span>20:16:37</td><td>1</td><td>#pasanlosaños #creweedrepresent  #SlgFamily</td><td>18</td><td>0</td></tr>\n",
       "    <tr><td class='row_index'>42,710,195</td><td>28370997</td><td>&minus;1</td><td>BxsZ8nDBr-L</td><td>8536366360</td><td>4267235</td><td>2019-05-20<span class=sp>T</span>20:07:52</td><td>1</td><td>Estão se divertindo?</td><td>27</td><td>1</td></tr>\n",
       "    <tr><td class='row_index'>42,710,196</td><td>28370928</td><td>3972555</td><td>BgNJ4EzHQwQ</td><td>2219099766</td><td>457426771112991</td><td>2018-03-12<span class=sp>T</span>02:57:17</td><td>1</td><td>Para que só aparecer se você pode brilhar?! 🐶✨😍✨\\n______________________________________________\\nSh&#133;</td><td>1824</td><td>49</td></tr>\n",
       "  </tbody>\n",
       "  </table>\n",
       "  <div class='footer'>\n",
       "    <div class='frame_dimensions'>42,710,197 rows &times; 10 columns</div>\n",
       "  </div>\n",
       "</div>\n"
      ],
      "text/plain": [
       "<Frame#7fdf388840c0 42710197x10>"
      ]
     },
     "execution_count": 3,
     "metadata": {},
     "output_type": "execute_result"
    }
   ],
   "source": [
    "posts_datatable"
   ]
  },
  {
   "cell_type": "code",
   "execution_count": 4,
   "id": "ba184061-55fb-475a-aa78-1abc428b0db0",
   "metadata": {},
   "outputs": [
    {
     "name": "stdout",
     "output_type": "stream",
     "text": [
      "CPU times: user 40.4 s, sys: 1min 23s, total: 2min 3s\n",
      "Wall time: 4min 57s\n"
     ]
    },
    {
     "data": {
      "text/html": [
       "<div>\n",
       "<style scoped>\n",
       "    .dataframe tbody tr th:only-of-type {\n",
       "        vertical-align: middle;\n",
       "    }\n",
       "\n",
       "    .dataframe tbody tr th {\n",
       "        vertical-align: top;\n",
       "    }\n",
       "\n",
       "    .dataframe thead th {\n",
       "        text-align: right;\n",
       "    }\n",
       "</style>\n",
       "<table border=\"1\" class=\"dataframe\">\n",
       "  <thead>\n",
       "    <tr style=\"text-align: right;\">\n",
       "      <th></th>\n",
       "      <th>sid</th>\n",
       "      <th>sid_profile</th>\n",
       "      <th>post_id</th>\n",
       "      <th>profile_id</th>\n",
       "      <th>location_id</th>\n",
       "      <th>cts</th>\n",
       "      <th>post_type</th>\n",
       "      <th>description</th>\n",
       "      <th>numbr_likes</th>\n",
       "      <th>number_comments</th>\n",
       "    </tr>\n",
       "  </thead>\n",
       "  <tbody>\n",
       "    <tr>\n",
       "      <th>0</th>\n",
       "      <td>28370919</td>\n",
       "      <td>3496776</td>\n",
       "      <td>BXdjjUlgcgq</td>\n",
       "      <td>2.237948e+09</td>\n",
       "      <td>1.022366e+15</td>\n",
       "      <td>2017-08-06 20:06:57</td>\n",
       "      <td>2</td>\n",
       "      <td>Wreckloose! Deevalley bike park laps on the @i...</td>\n",
       "      <td>80.0</td>\n",
       "      <td>0.0</td>\n",
       "    </tr>\n",
       "    <tr>\n",
       "      <th>1</th>\n",
       "      <td>28370932</td>\n",
       "      <td>-1</td>\n",
       "      <td>BVg0pbolYBC</td>\n",
       "      <td>5.579335e+09</td>\n",
       "      <td>4.574268e+14</td>\n",
       "      <td>2017-06-19 09:31:16</td>\n",
       "      <td>1</td>\n",
       "      <td>🙌🏼 believe in ya dreams 🙌🏼 just like I believe...</td>\n",
       "      <td>25.0</td>\n",
       "      <td>1.0</td>\n",
       "    </tr>\n",
       "    <tr>\n",
       "      <th>2</th>\n",
       "      <td>28370933</td>\n",
       "      <td>-1</td>\n",
       "      <td>BRgkjcXFp3Q</td>\n",
       "      <td>3.134296e+08</td>\n",
       "      <td>4.574268e+14</td>\n",
       "      <td>2017-03-11 20:05:03</td>\n",
       "      <td>1</td>\n",
       "      <td>#meraviglia #incensi #the #candele #profumo #a...</td>\n",
       "      <td>9.0</td>\n",
       "      <td>0.0</td>\n",
       "    </tr>\n",
       "    <tr>\n",
       "      <th>3</th>\n",
       "      <td>28370934</td>\n",
       "      <td>-1</td>\n",
       "      <td>BKTKeNhjEA7</td>\n",
       "      <td>1.837593e+09</td>\n",
       "      <td>4.574268e+14</td>\n",
       "      <td>2016-09-13 16:27:16</td>\n",
       "      <td>1</td>\n",
       "      <td>#teatime #scorpion #friends #love #mountains #...</td>\n",
       "      <td>4.0</td>\n",
       "      <td>0.0</td>\n",
       "    </tr>\n",
       "    <tr>\n",
       "      <th>4</th>\n",
       "      <td>28370935</td>\n",
       "      <td>-1</td>\n",
       "      <td>8-NQrvoYLX</td>\n",
       "      <td>1.131527e+09</td>\n",
       "      <td>4.574268e+14</td>\n",
       "      <td>2015-10-18 10:19:27</td>\n",
       "      <td>1</td>\n",
       "      <td>thE sky gavE mE a #constEllation</td>\n",
       "      <td>8.0</td>\n",
       "      <td>0.0</td>\n",
       "    </tr>\n",
       "    <tr>\n",
       "      <th>...</th>\n",
       "      <td>...</td>\n",
       "      <td>...</td>\n",
       "      <td>...</td>\n",
       "      <td>...</td>\n",
       "      <td>...</td>\n",
       "      <td>...</td>\n",
       "      <td>...</td>\n",
       "      <td>...</td>\n",
       "      <td>...</td>\n",
       "      <td>...</td>\n",
       "    </tr>\n",
       "    <tr>\n",
       "      <th>42710192</th>\n",
       "      <td>28370925</td>\n",
       "      <td>-1</td>\n",
       "      <td>BcpWMWGBfxh</td>\n",
       "      <td>5.556457e+09</td>\n",
       "      <td>4.574268e+14</td>\n",
       "      <td>2017-12-13 15:38:04</td>\n",
       "      <td>1</td>\n",
       "      <td>Mm not bad but not so pretty😕\\n#puthtroop#puth...</td>\n",
       "      <td>74.0</td>\n",
       "      <td>0.0</td>\n",
       "    </tr>\n",
       "    <tr>\n",
       "      <th>42710193</th>\n",
       "      <td>28370926</td>\n",
       "      <td>-1</td>\n",
       "      <td>Ba6LZWwlCl8</td>\n",
       "      <td>3.371865e+08</td>\n",
       "      <td>4.574268e+14</td>\n",
       "      <td>2017-10-31 11:28:01</td>\n",
       "      <td>1</td>\n",
       "      <td>🌸🌺</td>\n",
       "      <td>49.0</td>\n",
       "      <td>0.0</td>\n",
       "    </tr>\n",
       "    <tr>\n",
       "      <th>42710194</th>\n",
       "      <td>28370929</td>\n",
       "      <td>-1</td>\n",
       "      <td>BPN0kM1hYUw</td>\n",
       "      <td>3.289886e+09</td>\n",
       "      <td>4.574268e+14</td>\n",
       "      <td>2017-01-13 20:16:37</td>\n",
       "      <td>1</td>\n",
       "      <td>#pasanlosaños #creweedrepresent  #SlgFamily</td>\n",
       "      <td>18.0</td>\n",
       "      <td>0.0</td>\n",
       "    </tr>\n",
       "    <tr>\n",
       "      <th>42710195</th>\n",
       "      <td>28370997</td>\n",
       "      <td>-1</td>\n",
       "      <td>BxsZ8nDBr-L</td>\n",
       "      <td>8.536366e+09</td>\n",
       "      <td>4.267235e+06</td>\n",
       "      <td>2019-05-20 20:07:52</td>\n",
       "      <td>1</td>\n",
       "      <td>Estão se divertindo?</td>\n",
       "      <td>27.0</td>\n",
       "      <td>1.0</td>\n",
       "    </tr>\n",
       "    <tr>\n",
       "      <th>42710196</th>\n",
       "      <td>28370928</td>\n",
       "      <td>3972555</td>\n",
       "      <td>BgNJ4EzHQwQ</td>\n",
       "      <td>2.219100e+09</td>\n",
       "      <td>4.574268e+14</td>\n",
       "      <td>2018-03-12 02:57:17</td>\n",
       "      <td>1</td>\n",
       "      <td>Para que só aparecer se você pode brilhar?! 🐶✨...</td>\n",
       "      <td>1824.0</td>\n",
       "      <td>49.0</td>\n",
       "    </tr>\n",
       "  </tbody>\n",
       "</table>\n",
       "<p>42710197 rows × 10 columns</p>\n",
       "</div>"
      ],
      "text/plain": [
       "               sid  sid_profile      post_id    profile_id   location_id  \\\n",
       "0         28370919      3496776  BXdjjUlgcgq  2.237948e+09  1.022366e+15   \n",
       "1         28370932           -1  BVg0pbolYBC  5.579335e+09  4.574268e+14   \n",
       "2         28370933           -1  BRgkjcXFp3Q  3.134296e+08  4.574268e+14   \n",
       "3         28370934           -1  BKTKeNhjEA7  1.837593e+09  4.574268e+14   \n",
       "4         28370935           -1   8-NQrvoYLX  1.131527e+09  4.574268e+14   \n",
       "...            ...          ...          ...           ...           ...   \n",
       "42710192  28370925           -1  BcpWMWGBfxh  5.556457e+09  4.574268e+14   \n",
       "42710193  28370926           -1  Ba6LZWwlCl8  3.371865e+08  4.574268e+14   \n",
       "42710194  28370929           -1  BPN0kM1hYUw  3.289886e+09  4.574268e+14   \n",
       "42710195  28370997           -1  BxsZ8nDBr-L  8.536366e+09  4.267235e+06   \n",
       "42710196  28370928      3972555  BgNJ4EzHQwQ  2.219100e+09  4.574268e+14   \n",
       "\n",
       "                         cts  post_type  \\\n",
       "0        2017-08-06 20:06:57          2   \n",
       "1        2017-06-19 09:31:16          1   \n",
       "2        2017-03-11 20:05:03          1   \n",
       "3        2016-09-13 16:27:16          1   \n",
       "4        2015-10-18 10:19:27          1   \n",
       "...                      ...        ...   \n",
       "42710192 2017-12-13 15:38:04          1   \n",
       "42710193 2017-10-31 11:28:01          1   \n",
       "42710194 2017-01-13 20:16:37          1   \n",
       "42710195 2019-05-20 20:07:52          1   \n",
       "42710196 2018-03-12 02:57:17          1   \n",
       "\n",
       "                                                description  numbr_likes  \\\n",
       "0         Wreckloose! Deevalley bike park laps on the @i...         80.0   \n",
       "1         🙌🏼 believe in ya dreams 🙌🏼 just like I believe...         25.0   \n",
       "2         #meraviglia #incensi #the #candele #profumo #a...          9.0   \n",
       "3         #teatime #scorpion #friends #love #mountains #...          4.0   \n",
       "4                          thE sky gavE mE a #constEllation          8.0   \n",
       "...                                                     ...          ...   \n",
       "42710192  Mm not bad but not so pretty😕\\n#puthtroop#puth...         74.0   \n",
       "42710193                                                 🌸🌺         49.0   \n",
       "42710194        #pasanlosaños #creweedrepresent  #SlgFamily         18.0   \n",
       "42710195                               Estão se divertindo?         27.0   \n",
       "42710196  Para que só aparecer se você pode brilhar?! 🐶✨...       1824.0   \n",
       "\n",
       "          number_comments  \n",
       "0                     0.0  \n",
       "1                     1.0  \n",
       "2                     0.0  \n",
       "3                     0.0  \n",
       "4                     0.0  \n",
       "...                   ...  \n",
       "42710192              0.0  \n",
       "42710193              0.0  \n",
       "42710194              0.0  \n",
       "42710195              1.0  \n",
       "42710196             49.0  \n",
       "\n",
       "[42710197 rows x 10 columns]"
      ]
     },
     "execution_count": 4,
     "metadata": {},
     "output_type": "execute_result"
    }
   ],
   "source": [
    "%%time\n",
    "\n",
    "posts = posts_datatable.to_pandas()\n",
    "posts"
   ]
  },
  {
   "cell_type": "markdown",
   "id": "06b5c4a7-1b33-40c2-a81c-a09b807e9a02",
   "metadata": {
    "tags": []
   },
   "source": [
    "### Profiles"
   ]
  },
  {
   "cell_type": "code",
   "execution_count": 9,
   "id": "f8202337",
   "metadata": {
    "tags": []
   },
   "outputs": [
    {
     "data": {
      "text/html": [
       "<div>\n",
       "<style scoped>\n",
       "    .dataframe tbody tr th:only-of-type {\n",
       "        vertical-align: middle;\n",
       "    }\n",
       "\n",
       "    .dataframe tbody tr th {\n",
       "        vertical-align: top;\n",
       "    }\n",
       "\n",
       "    .dataframe thead th {\n",
       "        text-align: right;\n",
       "    }\n",
       "</style>\n",
       "<table border=\"1\" class=\"dataframe\">\n",
       "  <thead>\n",
       "    <tr style=\"text-align: right;\">\n",
       "      <th></th>\n",
       "      <th>sid</th>\n",
       "      <th>profile_id</th>\n",
       "      <th>profile_name</th>\n",
       "      <th>firstname_lastname</th>\n",
       "      <th>description</th>\n",
       "      <th>following</th>\n",
       "      <th>followers</th>\n",
       "      <th>n_posts</th>\n",
       "      <th>url</th>\n",
       "      <th>cts</th>\n",
       "      <th>is_business_account</th>\n",
       "    </tr>\n",
       "  </thead>\n",
       "  <tbody>\n",
       "    <tr>\n",
       "      <th>0</th>\n",
       "      <td>4184446</td>\n",
       "      <td>4.721050e+09</td>\n",
       "      <td>jphillip033</td>\n",
       "      <td>John Pierce</td>\n",
       "      <td>\"Document Everything Always\"</td>\n",
       "      <td>250.0</td>\n",
       "      <td>146.0</td>\n",
       "      <td>170.0</td>\n",
       "      <td>NaN</td>\n",
       "      <td>2019-08-01 14:38:55.394 -0400</td>\n",
       "      <td>False</td>\n",
       "    </tr>\n",
       "    <tr>\n",
       "      <th>1</th>\n",
       "      <td>4184457</td>\n",
       "      <td>5.905830e+08</td>\n",
       "      <td>mama_haas</td>\n",
       "      <td>Deanna</td>\n",
       "      <td>Trying to enjoy the simple things in life. Kni...</td>\n",
       "      <td>534.0</td>\n",
       "      <td>1145.0</td>\n",
       "      <td>2878.0</td>\n",
       "      <td>www.etsy.com/shop/MamaHaas69</td>\n",
       "      <td>2019-08-01 14:39:36.526 -0400</td>\n",
       "      <td>False</td>\n",
       "    </tr>\n",
       "    <tr>\n",
       "      <th>2</th>\n",
       "      <td>4184460</td>\n",
       "      <td>1.074147e+09</td>\n",
       "      <td>yellowlightbreen</td>\n",
       "      <td>Eliza Gray</td>\n",
       "      <td>Maine is for Lovers</td>\n",
       "      <td>469.0</td>\n",
       "      <td>324.0</td>\n",
       "      <td>431.0</td>\n",
       "      <td>elizajanegray.com</td>\n",
       "      <td>2019-08-01 14:39:54.407 -0400</td>\n",
       "      <td>False</td>\n",
       "    </tr>\n",
       "    <tr>\n",
       "      <th>3</th>\n",
       "      <td>4184461</td>\n",
       "      <td>1.472039e+09</td>\n",
       "      <td>tec1025</td>\n",
       "      <td>Thomas Clark</td>\n",
       "      <td>NaN</td>\n",
       "      <td>NaN</td>\n",
       "      <td>NaN</td>\n",
       "      <td>NaN</td>\n",
       "      <td>NaN</td>\n",
       "      <td>2019-08-01 14:40:06.472 -0400</td>\n",
       "      <td>NaN</td>\n",
       "    </tr>\n",
       "    <tr>\n",
       "      <th>4</th>\n",
       "      <td>4184462</td>\n",
       "      <td>3.531421e+09</td>\n",
       "      <td>luckyfluff</td>\n",
       "      <td>NaN</td>\n",
       "      <td>NaN</td>\n",
       "      <td>NaN</td>\n",
       "      <td>NaN</td>\n",
       "      <td>NaN</td>\n",
       "      <td>NaN</td>\n",
       "      <td>2019-08-01 14:40:07.806 -0400</td>\n",
       "      <td>NaN</td>\n",
       "    </tr>\n",
       "  </tbody>\n",
       "</table>\n",
       "</div>"
      ],
      "text/plain": [
       "       sid    profile_id      profile_name firstname_lastname  \\\n",
       "0  4184446  4.721050e+09       jphillip033        John Pierce   \n",
       "1  4184457  5.905830e+08         mama_haas             Deanna   \n",
       "2  4184460  1.074147e+09  yellowlightbreen         Eliza Gray   \n",
       "3  4184461  1.472039e+09           tec1025       Thomas Clark   \n",
       "4  4184462  3.531421e+09        luckyfluff                NaN   \n",
       "\n",
       "                                         description  following  followers  \\\n",
       "0                       \"Document Everything Always\"      250.0      146.0   \n",
       "1  Trying to enjoy the simple things in life. Kni...      534.0     1145.0   \n",
       "2                                Maine is for Lovers      469.0      324.0   \n",
       "3                                                NaN        NaN        NaN   \n",
       "4                                                NaN        NaN        NaN   \n",
       "\n",
       "   n_posts                           url                            cts  \\\n",
       "0    170.0                           NaN  2019-08-01 14:38:55.394 -0400   \n",
       "1   2878.0  www.etsy.com/shop/MamaHaas69  2019-08-01 14:39:36.526 -0400   \n",
       "2    431.0             elizajanegray.com  2019-08-01 14:39:54.407 -0400   \n",
       "3      NaN                           NaN  2019-08-01 14:40:06.472 -0400   \n",
       "4      NaN                           NaN  2019-08-01 14:40:07.806 -0400   \n",
       "\n",
       "  is_business_account  \n",
       "0               False  \n",
       "1               False  \n",
       "2               False  \n",
       "3                 NaN  \n",
       "4                 NaN  "
      ]
     },
     "execution_count": 9,
     "metadata": {},
     "output_type": "execute_result"
    }
   ],
   "source": [
    "profiles = pd.read_csv('instagram_profiles.csv', delimiter='\\t')\n",
    "profiles.head()"
   ]
  },
  {
   "cell_type": "markdown",
   "id": "40dec73b-3892-4733-b0c4-aaba6c8eed10",
   "metadata": {
    "tags": []
   },
   "source": [
    "### Locations"
   ]
  },
  {
   "cell_type": "code",
   "execution_count": 6,
   "id": "36420a2e-c334-46a5-b83b-059dced954ac",
   "metadata": {},
   "outputs": [
    {
     "data": {
      "text/html": [
       "<div>\n",
       "<style scoped>\n",
       "    .dataframe tbody tr th:only-of-type {\n",
       "        vertical-align: middle;\n",
       "    }\n",
       "\n",
       "    .dataframe tbody tr th {\n",
       "        vertical-align: top;\n",
       "    }\n",
       "\n",
       "    .dataframe thead th {\n",
       "        text-align: right;\n",
       "    }\n",
       "</style>\n",
       "<table border=\"1\" class=\"dataframe\">\n",
       "  <thead>\n",
       "    <tr style=\"text-align: right;\">\n",
       "      <th></th>\n",
       "      <th>sid</th>\n",
       "      <th>id</th>\n",
       "      <th>name</th>\n",
       "      <th>street</th>\n",
       "      <th>zip</th>\n",
       "      <th>city</th>\n",
       "      <th>region</th>\n",
       "      <th>cd</th>\n",
       "      <th>phone</th>\n",
       "      <th>aj_exact_city_match</th>\n",
       "      <th>...</th>\n",
       "      <th>dir_city_name</th>\n",
       "      <th>dir_city_slug</th>\n",
       "      <th>dir_country_id</th>\n",
       "      <th>dir_country_name</th>\n",
       "      <th>lat</th>\n",
       "      <th>lng</th>\n",
       "      <th>primary_alias_on_fb</th>\n",
       "      <th>slug</th>\n",
       "      <th>website</th>\n",
       "      <th>cts</th>\n",
       "    </tr>\n",
       "  </thead>\n",
       "  <tbody>\n",
       "    <tr>\n",
       "      <th>0</th>\n",
       "      <td>719981</td>\n",
       "      <td>110296492939207</td>\n",
       "      <td>Playa de Daimuz - Valencia, España</td>\n",
       "      <td>NaN</td>\n",
       "      <td>NaN</td>\n",
       "      <td>NaN</td>\n",
       "      <td>NaN</td>\n",
       "      <td>NaN</td>\n",
       "      <td>NaN</td>\n",
       "      <td>False</td>\n",
       "      <td>...</td>\n",
       "      <td>NaN</td>\n",
       "      <td>NaN</td>\n",
       "      <td>NaN</td>\n",
       "      <td>NaN</td>\n",
       "      <td>-0.139475</td>\n",
       "      <td>38.974391</td>\n",
       "      <td>daimuzplaya</td>\n",
       "      <td>playa-de-daimuz-valencia-espana</td>\n",
       "      <td>https://es.wikipedia.org/wiki/Daimuz</td>\n",
       "      <td>2019-05-29 01:21:29.987</td>\n",
       "    </tr>\n",
       "    <tr>\n",
       "      <th>1</th>\n",
       "      <td>719983</td>\n",
       "      <td>274391278</td>\n",
       "      <td>Nová Vieska</td>\n",
       "      <td>NaN</td>\n",
       "      <td>NaN</td>\n",
       "      <td>Nová Vieska</td>\n",
       "      <td>NaN</td>\n",
       "      <td>SK</td>\n",
       "      <td>NaN</td>\n",
       "      <td>True</td>\n",
       "      <td>...</td>\n",
       "      <td>Kis-Újfalu</td>\n",
       "      <td>kis-ujfalu</td>\n",
       "      <td>SK</td>\n",
       "      <td>Slovakia</td>\n",
       "      <td>18.466667</td>\n",
       "      <td>47.866667</td>\n",
       "      <td>NaN</td>\n",
       "      <td>nova-vieska</td>\n",
       "      <td>NaN</td>\n",
       "      <td>2019-05-29 01:21:38.037</td>\n",
       "    </tr>\n",
       "    <tr>\n",
       "      <th>2</th>\n",
       "      <td>719985</td>\n",
       "      <td>148885595789195</td>\n",
       "      <td>Everest Today</td>\n",
       "      <td>Himalayas</td>\n",
       "      <td>+977</td>\n",
       "      <td>Kathmandu, Nepal</td>\n",
       "      <td>NaN</td>\n",
       "      <td>NP</td>\n",
       "      <td>NaN</td>\n",
       "      <td>False</td>\n",
       "      <td>...</td>\n",
       "      <td>Pasupati</td>\n",
       "      <td>pasupati</td>\n",
       "      <td>NP</td>\n",
       "      <td>Nepal</td>\n",
       "      <td>85.330150</td>\n",
       "      <td>27.701960</td>\n",
       "      <td>EverestToday</td>\n",
       "      <td>everest-today</td>\n",
       "      <td>NaN</td>\n",
       "      <td>2019-05-29 01:21:46.295</td>\n",
       "    </tr>\n",
       "    <tr>\n",
       "      <th>3</th>\n",
       "      <td>719987</td>\n",
       "      <td>263258277</td>\n",
       "      <td>BULAC - Bibliothèque universitaire des langues...</td>\n",
       "      <td>65, rue des Grands-Moulins</td>\n",
       "      <td>75013</td>\n",
       "      <td>Paris, France</td>\n",
       "      <td>NaN</td>\n",
       "      <td>FR</td>\n",
       "      <td>01 81 69 18 00</td>\n",
       "      <td>False</td>\n",
       "      <td>...</td>\n",
       "      <td>13ème Arrondissement Paris</td>\n",
       "      <td>13eme-arrondissement-paris</td>\n",
       "      <td>FR</td>\n",
       "      <td>France</td>\n",
       "      <td>2.375995</td>\n",
       "      <td>48.827240</td>\n",
       "      <td>BULAC.Paris</td>\n",
       "      <td>bulac-bibliotheque-universitaire-des-langues-e...</td>\n",
       "      <td>www.bulac.fr</td>\n",
       "      <td>2019-05-29 01:21:54.355</td>\n",
       "    </tr>\n",
       "    <tr>\n",
       "      <th>4</th>\n",
       "      <td>326443</td>\n",
       "      <td>406147529857708</td>\n",
       "      <td>ABC Cable Networks Group</td>\n",
       "      <td>3800 W Alameda Ave</td>\n",
       "      <td>91505</td>\n",
       "      <td>Burbank, California</td>\n",
       "      <td>NaN</td>\n",
       "      <td>US</td>\n",
       "      <td>(818) 569-7500</td>\n",
       "      <td>False</td>\n",
       "      <td>...</td>\n",
       "      <td>NaN</td>\n",
       "      <td>NaN</td>\n",
       "      <td>NaN</td>\n",
       "      <td>NaN</td>\n",
       "      <td>-118.341864</td>\n",
       "      <td>34.153265</td>\n",
       "      <td>NaN</td>\n",
       "      <td>abc-cable-networks-group</td>\n",
       "      <td>NaN</td>\n",
       "      <td>2019-04-02 15:22:55.703</td>\n",
       "    </tr>\n",
       "  </tbody>\n",
       "</table>\n",
       "<p>5 rows × 23 columns</p>\n",
       "</div>"
      ],
      "text/plain": [
       "      sid               id                                               name  \\\n",
       "0  719981  110296492939207                 Playa de Daimuz - Valencia, España   \n",
       "1  719983        274391278                                        Nová Vieska   \n",
       "2  719985  148885595789195                                      Everest Today   \n",
       "3  719987        263258277  BULAC - Bibliothèque universitaire des langues...   \n",
       "4  326443  406147529857708                           ABC Cable Networks Group   \n",
       "\n",
       "                       street    zip                 city region   cd  \\\n",
       "0                         NaN    NaN                  NaN    NaN  NaN   \n",
       "1                         NaN    NaN          Nová Vieska    NaN   SK   \n",
       "2                   Himalayas   +977     Kathmandu, Nepal    NaN   NP   \n",
       "3  65, rue des Grands-Moulins  75013        Paris, France    NaN   FR   \n",
       "4          3800 W Alameda Ave  91505  Burbank, California    NaN   US   \n",
       "\n",
       "            phone aj_exact_city_match  ...               dir_city_name  \\\n",
       "0             NaN               False  ...                         NaN   \n",
       "1             NaN                True  ...                  Kis-Újfalu   \n",
       "2             NaN               False  ...                    Pasupati   \n",
       "3  01 81 69 18 00               False  ...  13ème Arrondissement Paris   \n",
       "4  (818) 569-7500               False  ...                         NaN   \n",
       "\n",
       "                dir_city_slug dir_country_id dir_country_name         lat  \\\n",
       "0                         NaN            NaN              NaN   -0.139475   \n",
       "1                  kis-ujfalu             SK         Slovakia   18.466667   \n",
       "2                    pasupati             NP            Nepal   85.330150   \n",
       "3  13eme-arrondissement-paris             FR           France    2.375995   \n",
       "4                         NaN            NaN              NaN -118.341864   \n",
       "\n",
       "         lng primary_alias_on_fb  \\\n",
       "0  38.974391         daimuzplaya   \n",
       "1  47.866667                 NaN   \n",
       "2  27.701960        EverestToday   \n",
       "3  48.827240         BULAC.Paris   \n",
       "4  34.153265                 NaN   \n",
       "\n",
       "                                                slug  \\\n",
       "0                    playa-de-daimuz-valencia-espana   \n",
       "1                                        nova-vieska   \n",
       "2                                      everest-today   \n",
       "3  bulac-bibliotheque-universitaire-des-langues-e...   \n",
       "4                           abc-cable-networks-group   \n",
       "\n",
       "                                website                      cts  \n",
       "0  https://es.wikipedia.org/wiki/Daimuz  2019-05-29 01:21:29.987  \n",
       "1                                   NaN  2019-05-29 01:21:38.037  \n",
       "2                                   NaN  2019-05-29 01:21:46.295  \n",
       "3                          www.bulac.fr  2019-05-29 01:21:54.355  \n",
       "4                                   NaN  2019-04-02 15:22:55.703  \n",
       "\n",
       "[5 rows x 23 columns]"
      ]
     },
     "execution_count": 6,
     "metadata": {},
     "output_type": "execute_result"
    }
   ],
   "source": [
    "locations = pd.read_csv('instagram_locations.csv', delimiter='\\t')\n",
    "locations.head()"
   ]
  },
  {
   "cell_type": "markdown",
   "id": "e3e55121-ec62-4d04-8108-650ffb01afa1",
   "metadata": {
    "jp-MarkdownHeadingCollapsed": true,
    "tags": []
   },
   "source": [
    "# [RQ1] After collecting information, the Data Scientists have to know what dataset they are dealing with, so let's start with an Exploratory Data Analysis (EDA). What can you say about our datasets? Please summarise its main characteristics with visual and tabular methods."
   ]
  },
  {
   "cell_type": "code",
   "execution_count": null,
   "id": "3e431bf2-aaad-4e6a-93eb-cd8ab26be308",
   "metadata": {},
   "outputs": [],
   "source": []
  },
  {
   "cell_type": "markdown",
   "id": "85b57963-65ce-4f04-997b-a473b1ce59d5",
   "metadata": {
    "jp-MarkdownHeadingCollapsed": true,
    "tags": []
   },
   "source": [
    "# [RQ2] Let's explore the dataset by finding simple insights regarding the profile and posts."
   ]
  },
  {
   "cell_type": "markdown",
   "id": "a8eca3ba-aa84-488d-99bb-9a0c2455474a",
   "metadata": {
    "jp-MarkdownHeadingCollapsed": true,
    "tags": []
   },
   "source": [
    "## RQ2.1: Plot the number of posts for each profile in descending order.\n"
   ]
  },
  {
   "cell_type": "code",
   "execution_count": null,
   "id": "78401fe7-ece8-468d-8177-a09cf4495893",
   "metadata": {},
   "outputs": [],
   "source": [
    "profiles2 = profiles[['profile_name','n_posts']]"
   ]
  },
  {
   "cell_type": "code",
   "execution_count": null,
   "id": "3308183e-ccdf-448b-acee-bea98234d26b",
   "metadata": {},
   "outputs": [],
   "source": [
    "profiles2"
   ]
  },
  {
   "cell_type": "code",
   "execution_count": null,
   "id": "f9a49235-f5f8-4711-8576-307f6a185f20",
   "metadata": {},
   "outputs": [],
   "source": [
    "#Let's check for NA values\n",
    "profiles2['n_posts'].isnull().values.any()"
   ]
  },
  {
   "cell_type": "markdown",
   "id": "065183ff-48e9-4928-88f7-3f2ac908e1ab",
   "metadata": {},
   "source": [
    "A lot, we must manage them"
   ]
  },
  {
   "cell_type": "code",
   "execution_count": null,
   "id": "3e0dedc1-d149-4ce1-a793-666c986707c8",
   "metadata": {},
   "outputs": [],
   "source": [
    "#Let's drop all na values\n",
    "profiles2.dropna(inplace=True)"
   ]
  },
  {
   "cell_type": "code",
   "execution_count": null,
   "id": "f947e7f3",
   "metadata": {},
   "outputs": [],
   "source": [
    "# Let's check NAs again\n",
    "profiles2['n_posts'].isnull().values.any()"
   ]
  },
  {
   "cell_type": "code",
   "execution_count": null,
   "id": "7075e9a2",
   "metadata": {},
   "outputs": [],
   "source": [
    "profiles2"
   ]
  },
  {
   "cell_type": "markdown",
   "id": "770c2a1d-15e1-43ae-a064-9ccfaf594e4f",
   "metadata": {},
   "source": [
    "Good, we can continue now"
   ]
  },
  {
   "cell_type": "code",
   "execution_count": null,
   "id": "65a46f96",
   "metadata": {},
   "outputs": [],
   "source": [
    "profiles2=profiles2.sort_values('n_posts', ascending=False)"
   ]
  },
  {
   "cell_type": "code",
   "execution_count": null,
   "id": "2e82415a",
   "metadata": {},
   "outputs": [],
   "source": [
    "profiles2"
   ]
  },
  {
   "cell_type": "code",
   "execution_count": null,
   "id": "39b7e956",
   "metadata": {},
   "outputs": [],
   "source": [
    "count_post=profiles2.groupby('n_posts').count()\n",
    "count_post"
   ]
  },
  {
   "cell_type": "code",
   "execution_count": null,
   "id": "1e3e07e3",
   "metadata": {},
   "outputs": [],
   "source": [
    "count_post.iloc[1:].sum()"
   ]
  },
  {
   "cell_type": "code",
   "execution_count": null,
   "id": "f59dc79d",
   "metadata": {},
   "outputs": [],
   "source": [
    "h=profiles2['n_posts']\n",
    "plt.hist(h,log=True)\n",
    "plt.show()"
   ]
  },
  {
   "cell_type": "markdown",
   "id": "151aced1-0160-42e7-b479-d554d60f770e",
   "metadata": {},
   "source": [
    "##### What can we say about this result?\n",
    "\n",
    "As we can see, the majority of the instagram profiles have no posts, meanwhile only a small proportion have posted more than 125.000 posts."
   ]
  },
  {
   "cell_type": "markdown",
   "id": "93a812a4-beef-4c2b-b413-7e3e5eafe654",
   "metadata": {
    "jp-MarkdownHeadingCollapsed": true,
    "tags": []
   },
   "source": [
    "## RQ2.2 What posts have the highest number of \"likes\"?"
   ]
  },
  {
   "cell_type": "markdown",
   "id": "91f13825-c83a-459d-9b9d-886a09d77cff",
   "metadata": {},
   "source": [
    "This is the top 10 of most liked posts"
   ]
  },
  {
   "cell_type": "code",
   "execution_count": null,
   "id": "ee15398a-cb50-4af2-a2ef-aeae1d958d55",
   "metadata": {},
   "outputs": [],
   "source": [
    "%%time\n",
    "\n",
    "df=posts[['post_id','numbr_likes']].sort_values(by='numbr_likes', ascending=False).head(10)\n",
    "\n",
    "df.index=['Post '+str(i+1) for i in range(10)]\n",
    "\n",
    "df.head(10)"
   ]
  },
  {
   "cell_type": "markdown",
   "id": "abf96b87-396d-4831-9781-a84606728383",
   "metadata": {
    "jp-MarkdownHeadingCollapsed": true,
    "tags": []
   },
   "source": [
    "## RQ2.3 What posts have the most and the least number of comments?"
   ]
  },
  {
   "cell_type": "code",
   "execution_count": null,
   "id": "e9e03fd8-5725-4aa5-a702-6ae0e931f0a3",
   "metadata": {},
   "outputs": [],
   "source": [
    "%%time\n",
    "\n",
    "comments=posts[['post_id','number_comments']]\n",
    "\n",
    "top_comm=comments.sort_values(by='number_comments', ascending=False)\n",
    "least_comm=comments.sort_values(by='number_comments', ascending=True)"
   ]
  },
  {
   "cell_type": "code",
   "execution_count": null,
   "id": "f13bc551",
   "metadata": {},
   "outputs": [],
   "source": [
    "#This is the top 10 of posts which have the most number of comments\n",
    "top_comm.head(10)"
   ]
  },
  {
   "cell_type": "code",
   "execution_count": null,
   "id": "78a2c506",
   "metadata": {},
   "outputs": [],
   "source": [
    "#These are the 10 posts which have the least number of comments\n",
    "least_comm.head(10)\n",
    "\n",
    "\n",
    "#There are many posts with zero comment, these are only ten of them, randomly"
   ]
  },
  {
   "cell_type": "markdown",
   "id": "55baf247-8272-4418-b08a-7ad7a40a0003",
   "metadata": {
    "jp-MarkdownHeadingCollapsed": true,
    "tags": []
   },
   "source": [
    "## RQ2.4 How many posts include tagged locations, and how many do not? Show it using an appropriate chart and comment your results."
   ]
  },
  {
   "cell_type": "code",
   "execution_count": null,
   "id": "f3dbd58b-9c8b-4fa8-b189-d93cafaa175d",
   "metadata": {},
   "outputs": [],
   "source": [
    "posts2=posts[['location_id','post_id']]\n",
    "\n",
    "yes_location=len(posts2[np.isnan(posts2['location_id']) == False])\n",
    "yes_location"
   ]
  },
  {
   "cell_type": "code",
   "execution_count": null,
   "id": "2b8a7be9-fa31-4789-9c85-4fd23fc71dfa",
   "metadata": {},
   "outputs": [],
   "source": [
    "no_location=len(posts2[np.isnan(posts2['location_id']) == True])\n",
    "no_location"
   ]
  },
  {
   "cell_type": "code",
   "execution_count": null,
   "id": "0df04499",
   "metadata": {},
   "outputs": [],
   "source": [
    "#Showing the result using a pie chart, which is very usefull to catch the difference between the \n",
    "total_posts=yes_location+no_location\n",
    "yes_perc='{:.1%}'.format(yes_location/total_posts)\n",
    "no_perc='{:.1%}'.format(no_location/total_posts)\n",
    "myexplode=[0.0,0.1]\n",
    "\n",
    "#The plots\n",
    "fig, axs = plt.subplots(1,2)\n",
    "axs[0].pie([yes_location,no_location], labels=[yes_perc,no_perc], \n",
    "        labeldistance=1.15, colors=['steelblue','chocolate'], \n",
    "           explode=myexplode)\n",
    "axs[1].pie([yes_location,no_location], labels=['{:,}'.format(yes_location),'{:,}'.format(no_location)], \n",
    "        labeldistance=1.15, colors=['steelblue','chocolate'], explode=myexplode)\n",
    "plt.legend(['yes_location','no_location'], bbox_to_anchor=(0.85,1.025), loc=\"upper left\")\n",
    "\n",
    "# Some cool features\n",
    "fig.tight_layout(pad=2.0)\n",
    "fig.set_figheight(15)\n",
    "fig.set_figwidth(15)\n",
    "plt.show() #remove the annoying text"
   ]
  },
  {
   "cell_type": "markdown",
   "id": "24bb464e-28f9-41f7-8972-c0df78f2ab43",
   "metadata": {},
   "source": [
    "#### What did we get?"
   ]
  },
  {
   "cell_type": "markdown",
   "id": "08536feb-2eb3-4aa8-82f5-068ae85ef87a",
   "metadata": {},
   "source": [
    "As we can see, the pie chart hightlights how small is the percentage of posts that do not include a tagged position. On the other side, the majority of the analyzed posts include tagged location."
   ]
  },
  {
   "cell_type": "markdown",
   "id": "f1620b75-1304-412a-a070-1b1e5f00ece1",
   "metadata": {
    "jp-MarkdownHeadingCollapsed": true,
    "tags": []
   },
   "source": [
    "## RQ2.5 How many posts include only photos? How many also have videos?"
   ]
  },
  {
   "cell_type": "code",
   "execution_count": null,
   "id": "f963b2d1-035c-4aea-b32b-9588a9c91fae",
   "metadata": {},
   "outputs": [],
   "source": [
    "%%time \n",
    "#first we groupBy and count by \"post_type\"\n",
    "total=posts[['post_type','post_id']].groupby('post_type').count()\n",
    "\n",
    "#number of post that incluse photos\n",
    "photos=int(total.values[0])\n",
    "\n",
    "#number of video that include videos\n",
    "photos_and_videos=int(total.values[2])\n",
    "\n",
    "total"
   ]
  },
  {
   "cell_type": "code",
   "execution_count": null,
   "id": "9f35c3b8-da89-4023-ac47-dd4fe317467e",
   "metadata": {},
   "outputs": [],
   "source": [
    "print('The posts that include only photos are: ','{:,}'.format(photos))"
   ]
  },
  {
   "cell_type": "code",
   "execution_count": null,
   "id": "abf55822-af16-47e4-9218-54a65c397526",
   "metadata": {},
   "outputs": [],
   "source": [
    "print('The posts that include both photos and videos are: ','{:,}'.format(photos_and_videos))"
   ]
  },
  {
   "cell_type": "markdown",
   "id": "1bb7a2b3-8b9e-4c74-91ed-9e5ccada545a",
   "metadata": {
    "jp-MarkdownHeadingCollapsed": true,
    "tags": []
   },
   "source": [
    "## RQ2.6 What's the percentage of business accounts vs non-business? What can you interpret regarding that percentage?"
   ]
  },
  {
   "cell_type": "code",
   "execution_count": null,
   "id": "73a14936",
   "metadata": {},
   "outputs": [],
   "source": [
    "#Let's select the variables we are interested in \n",
    "profiles2 = profiles[['is_business_account','profile_name']]"
   ]
  },
  {
   "cell_type": "code",
   "execution_count": null,
   "id": "af140d4d",
   "metadata": {},
   "outputs": [],
   "source": [
    "# Let's give a look to the dataset\n",
    "profiles2"
   ]
  },
  {
   "cell_type": "code",
   "execution_count": null,
   "id": "7916c7bd",
   "metadata": {},
   "outputs": [],
   "source": [
    "#We can already see some NaN, let's do a proper check \n",
    "profiles['is_business_account'].isnull().values.any()"
   ]
  },
  {
   "cell_type": "markdown",
   "id": "15d9b1d1-5e54-437e-916b-cb9507238a8b",
   "metadata": {},
   "source": [
    "In order to find a meaningfull percentage of business accounts vs non-business, we drop all the NaN values"
   ]
  },
  {
   "cell_type": "code",
   "execution_count": null,
   "id": "922b295d",
   "metadata": {},
   "outputs": [],
   "source": [
    "profiles2.dropna(inplace=True)"
   ]
  },
  {
   "cell_type": "code",
   "execution_count": null,
   "id": "d7dba9ea",
   "metadata": {},
   "outputs": [],
   "source": [
    "#Now let's check again if it worked\n",
    "profiles2['is_business_account'].isnull().values.any()"
   ]
  },
  {
   "cell_type": "code",
   "execution_count": null,
   "id": "f498d62c",
   "metadata": {},
   "outputs": [],
   "source": [
    "# Cool, now let's count how many business account\n",
    "Business_account=len(profiles2[profiles2['is_business_account'] == True])\n",
    "Business_account"
   ]
  },
  {
   "cell_type": "code",
   "execution_count": null,
   "id": "9ab95948",
   "metadata": {},
   "outputs": [],
   "source": [
    "# Now let's count how many NOT business account\n",
    "Not_business_account= len(profiles[profiles['is_business_account'] == False])\n",
    "Not_business_account"
   ]
  },
  {
   "cell_type": "code",
   "execution_count": null,
   "id": "671af3db",
   "metadata": {},
   "outputs": [],
   "source": [
    "#Now let's give a look at the percentage of Business Account on the total amount of accounts\n",
    "'{:.1%}'.format(Business_account/(Business_account+Not_business_account))"
   ]
  },
  {
   "cell_type": "code",
   "execution_count": null,
   "id": "0d1e7055",
   "metadata": {},
   "outputs": [],
   "source": [
    "#Showing the result using a pie chart, which is very usefull to catch the difference between the \n",
    "total_account=Business_account+Not_business_account\n",
    "yes_perc='{:.1%}'.format(Business_account/total_account)\n",
    "no_perc='{:.1%}'.format(Not_business_account/total_account)\n",
    "myexplode=[0.0,0.1]\n",
    "\n",
    "#The plots\n",
    "fig, axs = plt.subplots(1,2, figsize=(8,8))\n",
    "axs[0].pie([Business_account,Not_business_account], labels=[yes_perc,no_perc], \n",
    "        labeldistance=1.15, colors=['steelblue','chocolate'], \n",
    "           explode=myexplode)\n",
    "axs[1].pie([Business_account,Not_business_account], labels=['{:,}'.format(Business_account),'{:,}'.format(Not_business_account)], \n",
    "        labeldistance=1.15, colors=['steelblue','chocolate'], explode=myexplode)\n",
    "plt.legend(['Business_account','Not_business_account'], bbox_to_anchor=(1.25,1.125), loc=\"upper left\")\n",
    "\n",
    "# Some cool features\n",
    "fig.tight_layout(pad=2.0)\n",
    "fig.set_figheight(15)\n",
    "fig.set_figwidth(15)\n",
    "plt.show() #remove the annoying text"
   ]
  },
  {
   "cell_type": "markdown",
   "id": "ed0d6213-fca5-440b-a44f-d869c1e9fe37",
   "metadata": {},
   "source": [
    "Since the percentage of business account on the total account is 24.8%, it means that for 3 non-business account there is a business account on our dataset. "
   ]
  },
  {
   "cell_type": "markdown",
   "id": "3b23dab9-be87-4296-b2b9-3acc0ab75027",
   "metadata": {
    "jp-MarkdownHeadingCollapsed": true,
    "tags": []
   },
   "source": [
    "# [RQ3] Now it's important to understand the most common times in which users publish their posts"
   ]
  },
  {
   "cell_type": "markdown",
   "id": "e21dec3a-d4da-4949-9a4e-2866186b2af4",
   "metadata": {
    "jp-MarkdownHeadingCollapsed": true,
    "tags": []
   },
   "source": [
    "## RQ3.1 What is the most common time in which users publish their posts?"
   ]
  },
  {
   "cell_type": "code",
   "execution_count": null,
   "id": "10bc4a6a",
   "metadata": {},
   "outputs": [],
   "source": [
    "#Let's select the variables we are interested in \n",
    "posts2=posts[['cts','post_id']]\n",
    "posts2['cts'] = pd.to_datetime(posts2['cts']).dt.time"
   ]
  },
  {
   "cell_type": "code",
   "execution_count": null,
   "id": "9d212c02",
   "metadata": {},
   "outputs": [],
   "source": [
    "#Now let's count how many posts there are for each time\n",
    "total_time=posts2.groupby('cts').count()\n",
    "total_time.reset_index(inplace=True)\n",
    "total_time\n",
    "#Then sort it and select the 5 most common time\n",
    "top_5_times= total_time.sort_values('post_id',ascending=False).head(5)\n",
    "top_5_times['cts']"
   ]
  },
  {
   "cell_type": "code",
   "execution_count": null,
   "id": "b98ab170",
   "metadata": {},
   "outputs": [],
   "source": [
    "# Then the most common time\n",
    "most_common_time=top_5_times[['cts']].head(1)\n",
    "for i in most_common_time.cts:\n",
    "    print('The most common time in which users publish their posts is '+ str(i)+'.')\n"
   ]
  },
  {
   "cell_type": "markdown",
   "id": "f417a4d7-c7e5-40f2-b872-89b842b003b6",
   "metadata": {
    "jp-MarkdownHeadingCollapsed": true,
    "tags": []
   },
   "source": [
    "## RQ3.2 Create a function that receives a time intervals list as a parameter and returns a plot with the number of posts for each given interval."
   ]
  },
  {
   "cell_type": "markdown",
   "id": "36059d23",
   "metadata": {},
   "source": [
    "The function created for this Task can be seen in the \"functions.py\" files in the main repository, it is called **time_intervals**."
   ]
  },
  {
   "cell_type": "markdown",
   "id": "a6e48370-b61f-4261-bab8-f31d425752eb",
   "metadata": {},
   "source": [
    "## RQ3.3 Use the function that you created in the previous literal to plot the number of posts between the following time intervals:\n",
    "| Initial time | Final time   |\n",
    "|--------------|--------------|\n",
    "|   06:00:00   |    10:59:59  |\n",
    "|   11:00:00   |    13:59:59  |\n",
    "|   14:00:00   |    16:59:59  |\n",
    "|   17:00:00   |    19:59:59  |\n",
    "|   20:00:00   |    23:59:59  |\n",
    "|   00:00:00   |    02:59:59  |\n",
    "|   03:00:00   |    05:59:59  |\n",
    "\n"
   ]
  },
  {
   "cell_type": "code",
   "execution_count": 7,
   "id": "2035ae5e",
   "metadata": {},
   "outputs": [
    {
     "name": "stderr",
     "output_type": "stream",
     "text": [
      "/Users/the_redd_/Desktop/ADM/ADM-HMW2/functions.py:9: SettingWithCopyWarning: \n",
      "A value is trying to be set on a copy of a slice from a DataFrame.\n",
      "Try using .loc[row_indexer,col_indexer] = value instead\n",
      "\n",
      "See the caveats in the documentation: https://pandas.pydata.org/pandas-docs/stable/user_guide/indexing.html#returning-a-view-versus-a-copy\n",
      "  posts2['cts'] = pd.to_datetime(posts2['cts']).dt.time\n"
     ]
    },
    {
     "data": {
      "image/png": "[encoded data removed]",
      "text/plain": [
       "<Figure size 1080x360 with 1 Axes>"
      ]
     },
     "metadata": {
      "needs_background": "light"
     },
     "output_type": "display_data"
    }
   ],
   "source": [
    "first_interval=[['06:00:00'],['10:59:59']]\n",
    "second_interval=[['11:00:00'],['13:59:59']]\n",
    "third_interval=[['14:00:00'],['16:59:59']]\n",
    "fourth_interval=[['17:00:00'],['19:59:59']]\n",
    "fifth_interval=[['20:00:00'],['23:59:59']]\n",
    "sixth_interval=[['00:00:00'],['02:59:59']]\n",
    "seventh_interval=[['03:00:00'],['05:59:59']]\n",
    "\n",
    "intervals=[first_interval,second_interval,third_interval,fourth_interval,fifth_interval,sixth_interval,seventh_interval]\n",
    "\n",
    "time_intervals(posts,intervals,'post_id')"
   ]
  },
  {
   "cell_type": "markdown",
   "id": "a2e7dd5c",
   "metadata": {},
   "source": [
    "As we can see, the users mainly prefer to post between 20:00:00 and 23:59:59, while from 03:00:00 to 05:59:59 is the most uncommon time to post."
   ]
  },
  {
   "cell_type": "markdown",
   "id": "ab11d06e-b8bf-4bde-bbe8-0cfe086c290c",
   "metadata": {
    "jp-MarkdownHeadingCollapsed": true,
    "tags": []
   },
   "source": [
    "# [RQ4] In most cases, we will not have a consistent dataset, and the one we are dealing with is not an exception (ex. in the given datasets, you may not find the information of the profiles for some of the posts). So let’s enhance our analysis."
   ]
  },
  {
   "cell_type": "markdown",
   "id": "8dbffee7-1632-410d-8a30-a0b9fb4b07a7",
   "metadata": {
    "jp-MarkdownHeadingCollapsed": true,
    "tags": []
   },
   "source": [
    "## RQ4.1 Write a function that, given a profile_id, will be able to return the posts that belong to the given profile_id."
   ]
  },
  {
   "cell_type": "markdown",
   "id": "dbe04d48",
   "metadata": {},
   "source": [
    "The function created for this Task can be seen in the \"functions.py\" files in the main repository, it is called **searchpost**."
   ]
  },
  {
   "cell_type": "code",
   "execution_count": 11,
   "id": "0817ff04-4cae-4820-99f8-eb7627a5c3e4",
   "metadata": {},
   "outputs": [
    {
     "data": {
      "text/html": [
       "<div>\n",
       "<style scoped>\n",
       "    .dataframe tbody tr th:only-of-type {\n",
       "        vertical-align: middle;\n",
       "    }\n",
       "\n",
       "    .dataframe tbody tr th {\n",
       "        vertical-align: top;\n",
       "    }\n",
       "\n",
       "    .dataframe thead th {\n",
       "        text-align: right;\n",
       "    }\n",
       "</style>\n",
       "<table border=\"1\" class=\"dataframe\">\n",
       "  <thead>\n",
       "    <tr style=\"text-align: right;\">\n",
       "      <th></th>\n",
       "      <th>post_id</th>\n",
       "      <th>profile_id</th>\n",
       "      <th>numbr_likes</th>\n",
       "      <th>number_comments</th>\n",
       "      <th>location_id</th>\n",
       "      <th>post_type</th>\n",
       "      <th>cts</th>\n",
       "    </tr>\n",
       "  </thead>\n",
       "  <tbody>\n",
       "    <tr>\n",
       "      <th>1781533</th>\n",
       "      <td>EQltd</td>\n",
       "      <td>3.0</td>\n",
       "      <td>390.0</td>\n",
       "      <td>27.0</td>\n",
       "      <td>1.444006e+06</td>\n",
       "      <td>1</td>\n",
       "      <td>2011-05-15 04:33:23</td>\n",
       "    </tr>\n",
       "    <tr>\n",
       "      <th>1939650</th>\n",
       "      <td>vY</td>\n",
       "      <td>3.0</td>\n",
       "      <td>92.0</td>\n",
       "      <td>5.0</td>\n",
       "      <td>2.166905e+08</td>\n",
       "      <td>1</td>\n",
       "      <td>2010-09-05 21:48:24</td>\n",
       "    </tr>\n",
       "    <tr>\n",
       "      <th>2665638</th>\n",
       "      <td>QK72l</td>\n",
       "      <td>3.0</td>\n",
       "      <td>1295.0</td>\n",
       "      <td>23.0</td>\n",
       "      <td>2.435929e+08</td>\n",
       "      <td>1</td>\n",
       "      <td>2011-10-15 05:12:17</td>\n",
       "    </tr>\n",
       "    <tr>\n",
       "      <th>3111012</th>\n",
       "      <td>SYx-3pABAy</td>\n",
       "      <td>3.0</td>\n",
       "      <td>7477.0</td>\n",
       "      <td>132.0</td>\n",
       "      <td>1.029824e+09</td>\n",
       "      <td>1</td>\n",
       "      <td>2012-11-23 22:30:38</td>\n",
       "    </tr>\n",
       "    <tr>\n",
       "      <th>4225968</th>\n",
       "      <td>cz</td>\n",
       "      <td>3.0</td>\n",
       "      <td>115.0</td>\n",
       "      <td>8.0</td>\n",
       "      <td>8.030000e+02</td>\n",
       "      <td>1</td>\n",
       "      <td>2010-08-21 06:40:27</td>\n",
       "    </tr>\n",
       "    <tr>\n",
       "      <th>7017554</th>\n",
       "      <td>TxM22</td>\n",
       "      <td>3.0</td>\n",
       "      <td>3343.0</td>\n",
       "      <td>87.0</td>\n",
       "      <td>5.400000e+01</td>\n",
       "      <td>1</td>\n",
       "      <td>2011-11-12 07:12:24</td>\n",
       "    </tr>\n",
       "    <tr>\n",
       "      <th>7042626</th>\n",
       "      <td>NQD4KAABKF</td>\n",
       "      <td>3.0</td>\n",
       "      <td>6417.0</td>\n",
       "      <td>148.0</td>\n",
       "      <td>2.705200e+04</td>\n",
       "      <td>1</td>\n",
       "      <td>2012-07-19 07:36:52</td>\n",
       "    </tr>\n",
       "    <tr>\n",
       "      <th>30920283</th>\n",
       "      <td>L-RzGwgBFZ</td>\n",
       "      <td>3.0</td>\n",
       "      <td>7020.0</td>\n",
       "      <td>226.0</td>\n",
       "      <td>2.151232e+08</td>\n",
       "      <td>1</td>\n",
       "      <td>2012-06-17 13:20:48</td>\n",
       "    </tr>\n",
       "    <tr>\n",
       "      <th>32570511</th>\n",
       "      <td>J5pNU</td>\n",
       "      <td>3.0</td>\n",
       "      <td>1392.0</td>\n",
       "      <td>56.0</td>\n",
       "      <td>3.399500e+04</td>\n",
       "      <td>1</td>\n",
       "      <td>2011-08-11 03:13:56</td>\n",
       "    </tr>\n",
       "    <tr>\n",
       "      <th>33906912</th>\n",
       "      <td>NLGU6</td>\n",
       "      <td>3.0</td>\n",
       "      <td>1501.0</td>\n",
       "      <td>43.0</td>\n",
       "      <td>2.191180e+05</td>\n",
       "      <td>1</td>\n",
       "      <td>2011-09-16 01:24:41</td>\n",
       "    </tr>\n",
       "    <tr>\n",
       "      <th>35149671</th>\n",
       "      <td>m</td>\n",
       "      <td>3.0</td>\n",
       "      <td>85223.0</td>\n",
       "      <td>656.0</td>\n",
       "      <td>1.000000e+01</td>\n",
       "      <td>1</td>\n",
       "      <td>2010-07-19 01:12:23</td>\n",
       "    </tr>\n",
       "    <tr>\n",
       "      <th>38385252</th>\n",
       "      <td>VPjQeqgBBy</td>\n",
       "      <td>3.0</td>\n",
       "      <td>6918.0</td>\n",
       "      <td>108.0</td>\n",
       "      <td>2.476701e+08</td>\n",
       "      <td>1</td>\n",
       "      <td>2013-02-02 22:02:59</td>\n",
       "    </tr>\n",
       "    <tr>\n",
       "      <th>39158080</th>\n",
       "      <td>0vQf</td>\n",
       "      <td>3.0</td>\n",
       "      <td>127.0</td>\n",
       "      <td>7.0</td>\n",
       "      <td>1.526200e+04</td>\n",
       "      <td>1</td>\n",
       "      <td>2011-01-01 23:56:12</td>\n",
       "    </tr>\n",
       "    <tr>\n",
       "      <th>39517938</th>\n",
       "      <td>xI</td>\n",
       "      <td>3.0</td>\n",
       "      <td>90.0</td>\n",
       "      <td>5.0</td>\n",
       "      <td>7.374005e+08</td>\n",
       "      <td>1</td>\n",
       "      <td>2010-09-06 18:36:05</td>\n",
       "    </tr>\n",
       "  </tbody>\n",
       "</table>\n",
       "</div>"
      ],
      "text/plain": [
       "             post_id  profile_id  numbr_likes  number_comments   location_id  \\\n",
       "1781533        EQltd         3.0        390.0             27.0  1.444006e+06   \n",
       "1939650           vY         3.0         92.0              5.0  2.166905e+08   \n",
       "2665638        QK72l         3.0       1295.0             23.0  2.435929e+08   \n",
       "3111012   SYx-3pABAy         3.0       7477.0            132.0  1.029824e+09   \n",
       "4225968           cz         3.0        115.0              8.0  8.030000e+02   \n",
       "7017554        TxM22         3.0       3343.0             87.0  5.400000e+01   \n",
       "7042626   NQD4KAABKF         3.0       6417.0            148.0  2.705200e+04   \n",
       "30920283  L-RzGwgBFZ         3.0       7020.0            226.0  2.151232e+08   \n",
       "32570511       J5pNU         3.0       1392.0             56.0  3.399500e+04   \n",
       "33906912       NLGU6         3.0       1501.0             43.0  2.191180e+05   \n",
       "35149671           m         3.0      85223.0            656.0  1.000000e+01   \n",
       "38385252  VPjQeqgBBy         3.0       6918.0            108.0  2.476701e+08   \n",
       "39158080        0vQf         3.0        127.0              7.0  1.526200e+04   \n",
       "39517938          xI         3.0         90.0              5.0  7.374005e+08   \n",
       "\n",
       "          post_type                 cts  \n",
       "1781533           1 2011-05-15 04:33:23  \n",
       "1939650           1 2010-09-05 21:48:24  \n",
       "2665638           1 2011-10-15 05:12:17  \n",
       "3111012           1 2012-11-23 22:30:38  \n",
       "4225968           1 2010-08-21 06:40:27  \n",
       "7017554           1 2011-11-12 07:12:24  \n",
       "7042626           1 2012-07-19 07:36:52  \n",
       "30920283          1 2012-06-17 13:20:48  \n",
       "32570511          1 2011-08-11 03:13:56  \n",
       "33906912          1 2011-09-16 01:24:41  \n",
       "35149671          1 2010-07-19 01:12:23  \n",
       "38385252          1 2013-02-02 22:02:59  \n",
       "39158080          1 2011-01-01 23:56:12  \n",
       "39517938          1 2010-09-06 18:36:05  "
      ]
     },
     "execution_count": 11,
     "metadata": {},
     "output_type": "execute_result"
    }
   ],
   "source": [
    "searchpost(posts,profile_id=3.0)"
   ]
  },
  {
   "cell_type": "markdown",
   "id": "5ae9958e-e09f-41f4-8450-2dbcea10203a",
   "metadata": {
    "jp-MarkdownHeadingCollapsed": true,
    "tags": []
   },
   "source": [
    "## RQ4.2 Write another function that, given an input n (an integer), will return the posts that belong to the n top posted profiles (top n profiles that have posted the highest number of posts) that their data is available in the profile.csv using the previously written function."
   ]
  },
  {
   "cell_type": "markdown",
   "id": "f0017b42",
   "metadata": {},
   "source": [
    "The function created for this Task can be seen in the \"functions.py\" files in the main repository, it is called **top_posts**."
   ]
  },
  {
   "cell_type": "code",
   "execution_count": 10,
   "id": "29005b20-5811-4437-b010-1334a7d08de0",
   "metadata": {},
   "outputs": [
    {
     "ename": "NameError",
     "evalue": "name 'profiles' is not defined",
     "output_type": "error",
     "traceback": [
      "\u001b[0;31m---------------------------------------------------------------------------\u001b[0m",
      "\u001b[0;31mNameError\u001b[0m                                 Traceback (most recent call last)",
      "\u001b[0;32m/var/folders/f8/5qj1kgpj0jv663dcg8r4dqwr0000gn/T/ipykernel_64112/672235715.py\u001b[0m in \u001b[0;36m<module>\u001b[0;34m\u001b[0m\n\u001b[0;32m----> 1\u001b[0;31m \u001b[0mtop_profiles\u001b[0m\u001b[0;34m=\u001b[0m\u001b[0mtop_posts\u001b[0m\u001b[0;34m(\u001b[0m\u001b[0mposts\u001b[0m\u001b[0;34m,\u001b[0m\u001b[0;36m10\u001b[0m\u001b[0;34m)\u001b[0m\u001b[0;34m\u001b[0m\u001b[0;34m\u001b[0m\u001b[0m\n\u001b[0m\u001b[1;32m      2\u001b[0m \u001b[0mtop_profiles\u001b[0m\u001b[0;34m\u001b[0m\u001b[0;34m\u001b[0m\u001b[0m\n",
      "\u001b[0;32m~/Desktop/ADM/ADM-HMW2/functions.py\u001b[0m in \u001b[0;36mtop_posts\u001b[0;34m(posts, n)\u001b[0m\n\u001b[1;32m     49\u001b[0m \u001b[0;34m\u001b[0m\u001b[0m\n\u001b[1;32m     50\u001b[0m     \u001b[0mdf\u001b[0m\u001b[0;34m=\u001b[0m\u001b[0mpd\u001b[0m\u001b[0;34m.\u001b[0m\u001b[0mDataFrame\u001b[0m\u001b[0;34m(\u001b[0m\u001b[0mcolumns\u001b[0m\u001b[0;34m=\u001b[0m\u001b[0;34m[\u001b[0m\u001b[0;34m'profile_id'\u001b[0m\u001b[0;34m,\u001b[0m\u001b[0;34m'post_id'\u001b[0m\u001b[0;34m]\u001b[0m\u001b[0;34m)\u001b[0m\u001b[0;34m\u001b[0m\u001b[0;34m\u001b[0m\u001b[0m\n\u001b[0;32m---> 51\u001b[0;31m     \u001b[0mtop\u001b[0m\u001b[0;34m=\u001b[0m\u001b[0mprofiles\u001b[0m\u001b[0;34m.\u001b[0m\u001b[0msort_values\u001b[0m\u001b[0;34m(\u001b[0m\u001b[0mby\u001b[0m\u001b[0;34m=\u001b[0m\u001b[0;34m'n_posts'\u001b[0m\u001b[0;34m,\u001b[0m \u001b[0mascending\u001b[0m\u001b[0;34m=\u001b[0m\u001b[0;32mFalse\u001b[0m\u001b[0;34m)\u001b[0m\u001b[0;34m.\u001b[0m\u001b[0mhead\u001b[0m\u001b[0;34m(\u001b[0m\u001b[0mn\u001b[0m\u001b[0;34m)\u001b[0m\u001b[0;34m\u001b[0m\u001b[0;34m\u001b[0m\u001b[0m\n\u001b[0m\u001b[1;32m     52\u001b[0m     \u001b[0;32mfor\u001b[0m \u001b[0mprofile_id\u001b[0m \u001b[0;32min\u001b[0m \u001b[0mtop\u001b[0m\u001b[0;34m.\u001b[0m\u001b[0mprofile_id\u001b[0m\u001b[0;34m.\u001b[0m\u001b[0mvalues\u001b[0m\u001b[0;34m:\u001b[0m\u001b[0;34m\u001b[0m\u001b[0;34m\u001b[0m\u001b[0m\n\u001b[1;32m     53\u001b[0m         \u001b[0mdf\u001b[0m\u001b[0;34m=\u001b[0m\u001b[0mpd\u001b[0m\u001b[0;34m.\u001b[0m\u001b[0mconcat\u001b[0m\u001b[0;34m(\u001b[0m\u001b[0;34m[\u001b[0m\u001b[0mdf\u001b[0m\u001b[0;34m,\u001b[0m\u001b[0msearchpost\u001b[0m\u001b[0;34m(\u001b[0m\u001b[0mposts\u001b[0m\u001b[0;34m,\u001b[0m\u001b[0mprofile_id\u001b[0m\u001b[0;34m)\u001b[0m\u001b[0;34m]\u001b[0m\u001b[0;34m)\u001b[0m\u001b[0;34m\u001b[0m\u001b[0;34m\u001b[0m\u001b[0m\n",
      "\u001b[0;31mNameError\u001b[0m: name 'profiles' is not defined"
     ]
    }
   ],
   "source": [
    "top_profiles=top_posts(profiles=profiles,posts=posts,10)\n",
    "top_profiles"
   ]
  },
  {
   "cell_type": "markdown",
   "id": "b104e882-bef2-4d16-beda-608867a64053",
   "metadata": {
    "jp-MarkdownHeadingCollapsed": true,
    "tags": []
   },
   "source": [
    "## RQ4.3 What is the average number of \"likes\" and comments of the top 10 profiles with the highest number of posts which their information is available in profile.csv?"
   ]
  },
  {
   "cell_type": "code",
   "execution_count": null,
   "id": "7fc3a8e4-b796-4205-9f0b-c2c0de06005d",
   "metadata": {},
   "outputs": [],
   "source": [
    "top_ten=top_posts(posts,10)\n",
    "top_ten"
   ]
  },
  {
   "cell_type": "code",
   "execution_count": null,
   "id": "96b3036a-aae8-4c9d-aa97-91a1bf3e2107",
   "metadata": {},
   "outputs": [],
   "source": [
    "#Let's see the distribution of likes \n",
    "plt.hist(top_ten['numbr_likes'])\n",
    "plt.show()"
   ]
  },
  {
   "cell_type": "code",
   "execution_count": null,
   "id": "511e4520-3d5f-4817-bf0e-0e12f3680361",
   "metadata": {},
   "outputs": [],
   "source": [
    "#The average of \"likes\" of the top 10 profiles with the highest number of posts\n",
    "top_ten['numbr_likes'].mean()"
   ]
  },
  {
   "cell_type": "code",
   "execution_count": null,
   "id": "b9cdc667-b4ee-44f1-96cc-b66f8c59a14d",
   "metadata": {},
   "outputs": [],
   "source": [
    "#Let's check the median in order to know moe about our distribution\n",
    "top_ten['numbr_likes'].median()"
   ]
  },
  {
   "cell_type": "markdown",
   "id": "375b7338-80ba-4e37-8077-321fbcd67e7b",
   "metadata": {},
   "source": [
    "Since the median (2.0) is smaller than the average (3.17), it means that our distribution is asymmetric due to some posts which have a huge amount of likes, as matter of fact, the mean is a statistic influenced by exteme observations. On the other hand, the median is a **robust statistic** because it is not affected by outliers. In our case, we can see that half of the posts have less than 2 likes, while the other half have more than 2 likes."
   ]
  },
  {
   "cell_type": "code",
   "execution_count": null,
   "id": "b4be80c2-76b4-468a-8cd7-a364e45665fc",
   "metadata": {},
   "outputs": [],
   "source": [
    "#Let's see the distribution of likes \n",
    "plt.hist(top_ten['number_comments'])\n",
    "plt.show()"
   ]
  },
  {
   "cell_type": "code",
   "execution_count": null,
   "id": "193e1050-aaeb-4b24-9189-1d0ab9c53760",
   "metadata": {},
   "outputs": [],
   "source": [
    "#The average of \"comments\" of the top 10 profiles with the highest number of posts\n",
    "top_ten['number_comments'].mean()"
   ]
  },
  {
   "cell_type": "code",
   "execution_count": null,
   "id": "b73eaccb",
   "metadata": {},
   "outputs": [],
   "source": [
    "top_ten['number_comments'].median()"
   ]
  },
  {
   "cell_type": "markdown",
   "id": "3736a78b-e051-4e82-b2e8-aa8b962af18a",
   "metadata": {},
   "source": [
    "Taking into account the comments of the top 10 profiles with the highest number of posts, we can see how, on average, the posts show no comments, except for some posts which have less than 3. "
   ]
  },
  {
   "cell_type": "markdown",
   "id": "01acc600-6f2e-4dda-a69b-df00fa8456bd",
   "metadata": {
    "jp-MarkdownHeadingCollapsed": true,
    "tags": []
   },
   "source": [
    "## RQ4.4 Plot the number of posts that these top 10 profiles have sent on Instagram in the given interval in question RQ3. Interpret the resulting chart."
   ]
  },
  {
   "cell_type": "code",
   "execution_count": null,
   "id": "c6a0ee71-b9b6-438f-a1da-80800cb6ce6e",
   "metadata": {},
   "outputs": [],
   "source": [
    "first_interval=[['06:00:00'],['10:59:59']]\n",
    "second_interval=[['11:00:00'],['13:59:59']]\n",
    "third_interval=[['14:00:00'],['16:59:59']]\n",
    "fourth_interval=[['17:00:00'],['19:59:59']]\n",
    "fifth_interval=[['20:00:00'],['23:59:59']]\n",
    "sixth_interval=[['00:00:00'],['02:59:59']]\n",
    "seventh_interval=[['03:00:00'],['05:59:59']]\n",
    "intervals=[seventh_interval,first_interval,second_interval,third_interval,fourth_interval,fifth_interval,sixth_interval]\n",
    "\n",
    "\n",
    "time_intervals(top_profiles,intervals,'post_id')"
   ]
  },
  {
   "cell_type": "markdown",
   "id": "aae98cf8",
   "metadata": {},
   "source": [
    "As we can see, considering only the top 10 profiles, the scenario changes completely. As a matter of fact, we see how the top ten profiles post mainly during the night and the early morning. On the other hand, considering all the profiles, the night is the less common time to post. More specifically, the most common interval considering all the profiles is between 20:00:00 and 23:59:59, while considering the top 10 profiles this is the most uncommon interval. "
   ]
  },
  {
   "cell_type": "markdown",
   "id": "f1972678-eabe-4c05-9e04-df3cb1ef7211",
   "metadata": {
    "tags": []
   },
   "source": [
    "# [RQ5] The most influential users are the ones with the highest number of “followers\", you can now look more into their activity."
   ]
  },
  {
   "cell_type": "markdown",
   "id": "cdc523d8-755c-47f4-bb8b-07b4e2b3e83d",
   "metadata": {
    "tags": []
   },
   "source": [
    "## RQ5.1 Plot the top 10 most popular users in terms of followers and their number of posts."
   ]
  },
  {
   "cell_type": "code",
   "execution_count": null,
   "id": "cf0f74de",
   "metadata": {},
   "outputs": [],
   "source": [
    "profiles2 = profiles[['profile_name','n_posts', 'followers','profile_id']]"
   ]
  },
  {
   "cell_type": "code",
   "execution_count": null,
   "id": "3ea2c6ad-2da8-4fdf-9e56-b5254127ae03",
   "metadata": {},
   "outputs": [],
   "source": [
    "#Let's check for NaN values in 'n_posts'\n",
    "profiles2['n_posts'].isnull().sum()"
   ]
  },
  {
   "cell_type": "code",
   "execution_count": null,
   "id": "49c63342-cf3c-4d29-b8b0-833c6a007fc0",
   "metadata": {},
   "outputs": [],
   "source": [
    "#Let's check for NaN values in 'follower'\n",
    "profiles2['followers'].isnull().sum()"
   ]
  },
  {
   "cell_type": "code",
   "execution_count": null,
   "id": "20b5c5f2-7e80-4cc4-9ab2-adebe7cbadde",
   "metadata": {},
   "outputs": [],
   "source": [
    "#Let's drop them\n",
    "profiles2.dropna(inplace=True)"
   ]
  },
  {
   "cell_type": "code",
   "execution_count": null,
   "id": "da70b194-9638-4077-a331-a200395f5006",
   "metadata": {},
   "outputs": [],
   "source": [
    "#Verify it\n",
    "profiles2['n_posts'].isnull().sum() == profiles2['followers'].isnull().sum() == 0"
   ]
  },
  {
   "cell_type": "code",
   "execution_count": null,
   "id": "8f4e942b-e2f2-4c5e-a321-a624513be4c0",
   "metadata": {},
   "outputs": [],
   "source": [
    "#Let's sort profiles in ascending order by followers and n_posts\n",
    "top_profiles=profiles2.sort_values(by=['followers','n_posts'], ascending=False).head(10)\n",
    "top_profiles"
   ]
  },
  {
   "cell_type": "code",
   "execution_count": null,
   "id": "b9b82c2e-ca3e-4690-82a8-ebded2dc3767",
   "metadata": {},
   "outputs": [],
   "source": [
    "#Now let's plot it\n",
    "#I'm using white labels because my theme on VS is dark\n",
    "fig, ax1 = plt.subplots(figsize=(15, 9))\n",
    "ax1.set_xlabel('Profile name',size=20)\n",
    "ax1.xaxis.label.set_color('black')\n",
    "ax1.yaxis.label.set_color('black')\n",
    "ax1.tick_params(axis='x', colors='black')\n",
    "ax1.tick_params(axis='y', colors='black')\n",
    "# plot line chart on axis #1\n",
    "ax1.bar(top_profiles['profile_name'], top_profiles['followers'], width=0.5, alpha=0.5, color='Blue')\n",
    "ax1.set_ylabel('Number of followers')\n",
    "plt.xticks(top_profiles['profile_name'], top_profiles['profile_name'], rotation='vertical')\n",
    "#ax1.set_ylim(0, 25)\n",
    "# set up the 2nd axis\n",
    "ax2 = ax1.twinx()\n",
    "ax2.yaxis.label.set_color('black')\n",
    "ax2.tick_params(axis='y', colors='black')\n",
    "\n",
    "\n",
    "# plot bar chart on axis #2\n",
    "ax2.bar(top_profiles['profile_name'], top_profiles['n_posts'], width=0.5, alpha=0.5, color='darkgreen', align='edge')\n",
    "ax2.grid(False) # turn off grid #2\n",
    "ax2.set_ylabel('Number of posts')\n",
    "#ax2.set_ylim(0, 90)\n",
    "fig.legend(['Followers','Posts'], loc=\"upper center\",bbox_to_anchor=(0.5, 0.3, 0.65, 0.5),fontsize='large')\n",
    "plt.show()"
   ]
  },
  {
   "cell_type": "markdown",
   "id": "0886c37c-9767-43ec-a6ef-d73420bc8ca9",
   "metadata": {
    "tags": []
   },
   "source": [
    "## RQ5.2 Who is the most influential user?"
   ]
  },
  {
   "cell_type": "code",
   "execution_count": null,
   "id": "76846afc",
   "metadata": {},
   "outputs": [],
   "source": [
    "profiles2 = profiles[['profile_name', 'followers', 'profile_id']]"
   ]
  },
  {
   "cell_type": "code",
   "execution_count": null,
   "id": "fb03bb18-f161-4d71-a996-b94e1d4d23d6",
   "metadata": {},
   "outputs": [],
   "source": [
    "#Let's check for NaN values in 'n_posts'\n",
    "profiles2['followers'].isnull().sum()"
   ]
  },
  {
   "cell_type": "code",
   "execution_count": null,
   "id": "842df3fe-7b31-4e72-aa18-076fa41b5a1c",
   "metadata": {},
   "outputs": [],
   "source": [
    "#Let's drop them\n",
    "profiles2.dropna(inplace=True)"
   ]
  },
  {
   "cell_type": "code",
   "execution_count": null,
   "id": "acc09bdf-62a4-44c1-8fc2-6cb35ba88c3e",
   "metadata": {},
   "outputs": [],
   "source": [
    "#Let's check for NaN values in 'follower' again\n",
    "profiles2['followers'].isnull().sum()"
   ]
  },
  {
   "cell_type": "code",
   "execution_count": null,
   "id": "6553ec75-9a26-4469-b970-8fd69d772c53",
   "metadata": {},
   "outputs": [],
   "source": [
    "#Verify it\n",
    "profiles2['followers'].isnull().sum() == 0"
   ]
  },
  {
   "cell_type": "code",
   "execution_count": null,
   "id": "8d0cc32e-dbe7-4b52-9fff-9e129a777b06",
   "metadata": {},
   "outputs": [],
   "source": [
    "#Let's sort\n",
    "sorted_profile=profiles2.sort_values(by='followers', ascending=False)"
   ]
  },
  {
   "cell_type": "code",
   "execution_count": null,
   "id": "c07f18b5-25f0-4a71-ad5b-f2052ad252f0",
   "metadata": {},
   "outputs": [],
   "source": [
    "# Let's see the result\n",
    "print('The most influential user is \"',sorted_profile.head(1)['profile_name'].values[0], \n",
    "      '\" with ','{:,}'.format(int(sorted_profile.head(1)['followers'])), ' followers')"
   ]
  },
  {
   "cell_type": "markdown",
   "id": "61bd66bf-f736-44e4-a85e-aa30e2af97e8",
   "metadata": {
    "tags": []
   },
   "source": [
    "## RQ5.3 Have they posted anything with tagged locations? Extract the most frequent areas on their posts and plot the number of times each city has been visited."
   ]
  },
  {
   "cell_type": "code",
   "execution_count": null,
   "id": "3435d0d0-f42c-4d61-b863-ad0bffdb96b1",
   "metadata": {},
   "outputs": [],
   "source": [
    "locations.head()"
   ]
  },
  {
   "cell_type": "code",
   "execution_count": null,
   "id": "21e8f0e6",
   "metadata": {},
   "outputs": [],
   "source": [
    "top_profiles"
   ]
  },
  {
   "cell_type": "code",
   "execution_count": null,
   "id": "3e62eab8",
   "metadata": {},
   "outputs": [],
   "source": [
    "df=pd.merge(posts,top_profiles, on='profile_id')\n",
    "df=df[['location_id','post_id','profile_id']]\n",
    "df"
   ]
  },
  {
   "cell_type": "code",
   "execution_count": null,
   "id": "0a90483b",
   "metadata": {},
   "outputs": [],
   "source": [
    "df.rename(columns={'location_id':'id'},inplace=True)\n",
    "last_df=pd.merge(df,locations,on='id')\n",
    "last_df\n"
   ]
  },
  {
   "cell_type": "code",
   "execution_count": null,
   "id": "236405ab",
   "metadata": {},
   "outputs": [],
   "source": [
    "df_locations=last_df[['post_id','city']].groupby('city').count()\n",
    "new_df_locations=df_locations.sort_values(by='post_id',ascending=False)\n",
    "new_df_locations"
   ]
  },
  {
   "cell_type": "code",
   "execution_count": null,
   "id": "697ea01e",
   "metadata": {},
   "outputs": [],
   "source": [
    "plt.figure(figsize=(20, 20))\n",
    "ax1=plt.bar(new_df_locations.index,new_df_locations.post_id,width=0.5, alpha=0.5, color='blue')\n",
    "\n",
    "plt.xticks(new_df_locations.index, new_df_locations.index, rotation='vertical')\n",
    "\n",
    "plt.show()"
   ]
  },
  {
   "cell_type": "markdown",
   "id": "75aea24c-1f3b-47d7-bb08-b88d7f7f6b6b",
   "metadata": {
    "jp-MarkdownHeadingCollapsed": true,
    "tags": []
   },
   "source": [
    "## RQ5.4 How many pictures-only posts have they published? How many reels? (only videos) and how many with both contents? Provide the number as percentages and interpret those figures."
   ]
  },
  {
   "cell_type": "code",
   "execution_count": null,
   "id": "44d4bb19",
   "metadata": {},
   "outputs": [],
   "source": [
    "top_profiles"
   ]
  },
  {
   "cell_type": "code",
   "execution_count": null,
   "id": "a7003e78",
   "metadata": {},
   "outputs": [],
   "source": [
    "df=pd.merge(posts,top_profiles, on='profile_id')\n",
    "df=df[['post_id','post_type']]\n",
    "df"
   ]
  },
  {
   "cell_type": "code",
   "execution_count": null,
   "id": "089d406c",
   "metadata": {},
   "outputs": [],
   "source": [
    "pictures_only=len(df[df.post_type==1])\n",
    "reel_only=len(df[df.post_type==2])\n",
    "reel_and_pictures=len(df[df.post_type==3])\n",
    "print('pictures_only: ',pictures_only)\n",
    "print('reel_only: ',reel_only)\n",
    "print('reel_and_pictures: ',reel_and_pictures)"
   ]
  },
  {
   "cell_type": "code",
   "execution_count": null,
   "id": "d3da0249",
   "metadata": {},
   "outputs": [],
   "source": [
    "#Let's see how many posts we are daling with\n",
    "total_posts=len(df)\n",
    "total_posts"
   ]
  },
  {
   "cell_type": "code",
   "execution_count": null,
   "id": "2e460a10-6468-45ac-9e9f-c4329aa66faf",
   "metadata": {},
   "outputs": [],
   "source": [
    "#Showing the result using a pie chart, which is very usefull to catch the difference between the \n",
    "pictures_perc='{:.1%}'.format(pictures_only/total_posts)\n",
    "reel_perc='{:.1%}'.format(reel_only/total_posts)\n",
    "both_perc='{:.1%}'.format(reel_and_pictures/total_posts)\n",
    "myexplode=[0.0,0.1,0.0]\n",
    "\n",
    "#The plots\n",
    "fig, axs = plt.subplots(1,2)\n",
    "axs[0].pie([pictures_only,reel_only,reel_and_pictures], labels=[pictures_only,reel_only,reel_and_pictures], \n",
    "        labeldistance=1.15, colors=['steelblue','chocolate','darkgreen'], \n",
    "           explode=myexplode)\n",
    "axs[1].pie([pictures_only,reel_only,reel_and_pictures], labels=[pictures_perc,reel_perc,both_perc], \n",
    "        labeldistance=1.15, colors=['steelblue','chocolate','darkgreen'], explode=myexplode)\n",
    "plt.legend(['Only pictures','Only reel','Both pictures and video'], bbox_to_anchor=(0.85,1.025), loc=\"upper left\")\n",
    "\n",
    "# Some cool features\n",
    "fig.tight_layout(pad=2.0)\n",
    "fig.set_figheight(25)\n",
    "fig.set_figwidth(25)\n",
    "plt.show() #remove the annoying text"
   ]
  },
  {
   "cell_type": "markdown",
   "id": "115a738c",
   "metadata": {},
   "source": [
    "#### Comment of the results"
   ]
  },
  {
   "cell_type": "markdown",
   "id": "81d47bf5",
   "metadata": {},
   "source": [
    "As we can see, there is no top user's post with both pictures and reels. The majority (91.2%) of posts include only pictures, which means that the top user prefers to post mainly pictures, with some exceptions for reels, but never both."
   ]
  },
  {
   "cell_type": "markdown",
   "id": "019962ce-1872-495b-a2c7-49a9c137544e",
   "metadata": {
    "jp-MarkdownHeadingCollapsed": true,
    "tags": []
   },
   "source": [
    "## RQ5.5 How many \"likes\" and comments did posts with only pictures receive? How about videos and mixed posts? Try to provide the average numbers and confront them with their followers amount, explaining what you can say from that comparison."
   ]
  },
  {
   "cell_type": "code",
   "execution_count": null,
   "id": "3383806a-873d-414e-92ca-8ceda5a9d336",
   "metadata": {},
   "outputs": [],
   "source": [
    "#Let's create three datasets, for each post type\n",
    "\n",
    "df=pd.merge(posts,top_profiles, on='profile_id')\n",
    "df=df[['post_id','post_type','numbr_likes','number_comments']]\n",
    "df_only_pictures=df[df.post_type == 1]\n",
    "df_only_reel=df[df.post_type == 2]\n",
    "df_mixed=df[df.post_type == 3]"
   ]
  },
  {
   "cell_type": "code",
   "execution_count": null,
   "id": "2cc27a1d",
   "metadata": {},
   "outputs": [],
   "source": [
    "#As for the posts including pictures only, let's count how many likes and comments they have \n",
    "only_pic_number_of_likes='{:,}'.format(int(df_only_pictures.numbr_likes.sum()))\n",
    "only_pic_number_of_comments='{:,}'.format(int(df_only_pictures.number_comments.sum()))\n",
    "\n",
    "#As for the posts including reel only, let's count how many likes and comments they have\n",
    "only_reel_number_of_likes='{:,}'.format(int(df_only_reel.numbr_likes.sum()))\n",
    "only_reel_number_of_comments='{:,}'.format(int(df_only_reel.number_comments.sum()))\n",
    "\n",
    "#As for the posts including both pictures and reels, let's count how many likes and comments they have\n",
    "mixed_number_of_likes='{:,}'.format(int(df_mixed.numbr_likes.sum()))\n",
    "mixed_number_of_comments='{:,}'.format(int(df_mixed.number_comments.sum()))"
   ]
  },
  {
   "cell_type": "code",
   "execution_count": null,
   "id": "16b8e521",
   "metadata": {},
   "outputs": [],
   "source": [
    "print('The posts with only pictures received',only_pic_number_of_likes,'likes.')\n",
    "print('The posts with only pictures received',only_pic_number_of_comments,'comments.')\n",
    "print('The posts with only reels received',only_reel_number_of_likes,'likes.')\n",
    "print('The posts with only reels received',only_reel_number_of_comments,'comments.')\n",
    "print('The mixed posts received',mixed_number_of_likes,'likes.')\n",
    "print('The mixed posts received',mixed_number_of_comments,'comments.')"
   ]
  },
  {
   "cell_type": "code",
   "execution_count": null,
   "id": "f240686f",
   "metadata": {},
   "outputs": [],
   "source": [
    "#Now let's compare the average of likes and comments with the number of followers\n",
    "\n",
    "#Compute the amount of followers\n",
    "followers_sum='{:,}'.format(int(top_profiles.followers.sum()))\n",
    "\n",
    "#Now the average of likes and comments left under only pictures posts\n",
    "only_pic_mean_number_of_likes='{:,}'.format(int(df_only_pictures.numbr_likes.mean()))\n",
    "only_pic_mean_number_of_comments='{:,}'.format(int(df_only_pictures.number_comments.mean()))\n",
    "\n",
    "\n",
    "#Now the average of likes and comments left under only reels posts\n",
    "only_reel_mean_number_of_likes='{:,}'.format(int(df_only_reel.numbr_likes.mean()))\n",
    "only_reel_mean_number_of_comments='{:,}'.format(int(df_only_reel.number_comments.mean()))\n",
    "\n",
    "\n",
    "#Now the average of likes and comments left under mixed posts\n",
    "mixed_mean_number_of_likes= 0 #since the sum is 0\n",
    "mixed_mean_number_of_comments=0 #since the sum is 0\n",
    "\n",
    "perc_only_pic_likes='{:.2%}'.format(int(df_only_pictures.numbr_likes.mean())/int(top_profiles.followers.sum()))\n",
    "perc_only_pic_comments='{:.3%}'.format(int(df_only_pictures.number_comments.mean())/int(top_profiles.followers.sum()))\n",
    "perc_only_reel_likes='{:.2%}'.format(int(df_only_reel.numbr_likes.mean())/int(top_profiles.followers.sum()))\n",
    "perc_only_reel_comments='{:.1%}'.format(int(df_only_reel.number_comments.mean())/int(top_profiles.followers.sum()))\n",
    "perc_mixed_likes='{:.1%}'.format(0) #since the mean is 0\n",
    "perc_mixed_comments='{:.1%}'.format(0) #since the mean is 0\n"
   ]
  },
  {
   "cell_type": "code",
   "execution_count": null,
   "id": "641c525e",
   "metadata": {},
   "outputs": [],
   "source": [
    "print('The total amount of follower is '+str(followers_sum)+'.')\n",
    "print('                       ')\n",
    "print('The posts with only pictures received, on average, ',only_pic_mean_number_of_likes,'likes. This means that, on average, the',perc_only_pic_likes,'of the followers have left a like under a post of the top 10 users.')\n",
    "print('The posts with only pictures received, on average',only_pic_mean_number_of_comments,'comments. This means that, on average, the',perc_only_pic_comments,'of the followers have left a comment under a post of the top 10 users.')\n",
    "print('                       ')\n",
    "print('The posts with only reels received, on average',only_reel_mean_number_of_likes,'likes. This means that, on average, the',perc_only_reel_likes,'of the followers have left a like under a post of the top 10 users.')\n",
    "print('The posts with only reels received, on average',only_reel_mean_number_of_comments,'comments. This means that, on average, the',perc_only_reel_comments,'of the followers have left a comment under a post of the top 10 users.')\n",
    "print('                       ')\n",
    "print('The mixed posts received, on average',mixed_mean_number_of_likes,'likes. This means that, on average, the',perc_mixed_likes,'of the followers have left a like under a post of the top 10 users.')\n",
    "print('The mixed posts received, on average',mixed_mean_number_of_comments,'comments. This means that, on average, the',perc_mixed_comments,'of the followers have left a comment under a post of the top 10 users.')"
   ]
  },
  {
   "cell_type": "markdown",
   "id": "a2166408-b32e-4f28-aa46-2260d48a5e40",
   "metadata": {
    "jp-MarkdownHeadingCollapsed": true,
    "tags": []
   },
   "source": [
    "# [RQ6] It's time to get information from the user posting effectiveness."
   ]
  },
  {
   "cell_type": "markdown",
   "id": "c2ae003e-08d2-4e2a-9eaf-d2f4260d292b",
   "metadata": {
    "jp-MarkdownHeadingCollapsed": true,
    "tags": []
   },
   "source": [
    "## RQ6.1 What is the average time (days and minutes) a user lets pass before publishing another post? Plot the top 3 users that publish posts more frequently (calculate the average time that passes between posts), including their amount of followers and following. Provide insights from that chart.\n"
   ]
  },
  {
   "cell_type": "code",
   "execution_count": null,
   "id": "b500100e",
   "metadata": {},
   "outputs": [],
   "source": [
    "#Goal: pick only profile_id shared between posts and profiels"
   ]
  },
  {
   "cell_type": "code",
   "execution_count": null,
   "id": "efc0d814-c5fb-40ff-9f11-73ce4e10db04",
   "metadata": {},
   "outputs": [],
   "source": [
    "#Let's define the columns/variables we are interested in\n",
    "posts2=posts[['profile_id','cts','post_id']]\n",
    "posts2"
   ]
  },
  {
   "cell_type": "code",
   "execution_count": null,
   "id": "c88b3cb4",
   "metadata": {},
   "outputs": [],
   "source": [
    "# Then we sort and rop all NaN values\n",
    "\n",
    "posts2=posts2.sort_values(by=['profile_id','cts'],ascending=True)\n",
    "posts2.dropna(inplace=True)\n",
    "posts2"
   ]
  },
  {
   "cell_type": "code",
   "execution_count": null,
   "id": "286037df",
   "metadata": {},
   "outputs": [],
   "source": [
    "new_merge2=pd.merge(posts2,profiles[['profile_id','followers','following']],on='profile_id')\n",
    "new_merge2"
   ]
  },
  {
   "cell_type": "code",
   "execution_count": null,
   "id": "e5063ed6",
   "metadata": {},
   "outputs": [],
   "source": [
    "#new_merge2[new_merge2.profile_id == 14407647.0]"
   ]
  },
  {
   "cell_type": "code",
   "execution_count": null,
   "id": "4e01c7bb",
   "metadata": {},
   "outputs": [],
   "source": [
    "#Let's look for NaN\n",
    "new_merge2.isnull().any()"
   ]
  },
  {
   "cell_type": "code",
   "execution_count": null,
   "id": "b5cefcc9",
   "metadata": {},
   "outputs": [],
   "source": [
    "#Let's drop them\n",
    "new_merge2.dropna(subset=['followers','following'],inplace=True)\n",
    "new_merge2[['followers','following']].isnull().any()\n"
   ]
  },
  {
   "cell_type": "code",
   "execution_count": null,
   "id": "5b4670ae",
   "metadata": {},
   "outputs": [],
   "source": [
    "#Let's ignore profiles with no posts or ony 1 post in order to get meaningful sight. If a profile posted only one post, we are not able to compute the time between one post and another.\n",
    "some=new_merge2.groupby('profile_id').count()\n",
    "new_some=some[some.cts > 1]\n",
    "new_some=new_some.sort_values('cts', ascending=True)\n",
    "new_some"
   ]
  },
  {
   "cell_type": "code",
   "execution_count": null,
   "id": "8d8f8884",
   "metadata": {},
   "outputs": [],
   "source": [
    "#new_some[new_some.profile_id == 14407647.0]"
   ]
  },
  {
   "cell_type": "code",
   "execution_count": null,
   "id": "2cb26918",
   "metadata": {},
   "outputs": [],
   "source": [
    "new_some=new_some.reset_index()\n",
    "new_some[['profile_id']]"
   ]
  },
  {
   "cell_type": "code",
   "execution_count": null,
   "id": "aa202c53",
   "metadata": {},
   "outputs": [],
   "source": [
    "new_merge=pd.merge(posts2,new_some,on='profile_id')\n",
    "new_merge=new_merge[['profile_id','cts_x']]\n",
    "new_merge.rename(columns={'cts_x':'cts'},inplace=True)\n",
    "new_merge"
   ]
  },
  {
   "cell_type": "code",
   "execution_count": null,
   "id": "c26a6778",
   "metadata": {},
   "outputs": [],
   "source": [
    "#new_merge[new_merge.profile_id == 14407647.0]"
   ]
  },
  {
   "cell_type": "code",
   "execution_count": null,
   "id": "eaec71aa",
   "metadata": {},
   "outputs": [],
   "source": [
    "### QUI IL PROBLEMA, quando fai reset index prende differenze di un secondo\n",
    "diff2=new_merge.set_index('profile_id').diff()\n",
    "diff2.dropna(inplace=True)\n",
    "diff2.reset_index(inplace=True)\n",
    "diff2.drop_duplicates(inplace=True)\n",
    "diff2=diff2[diff2.cts > np.timedelta64(000000)]\n",
    "diff2.reset_index(inplace=True)\n",
    "#diff2[diff2.profile_id == 14407647.0]\n",
    "diff2=diff2[['profile_id','cts']]\n",
    "AA=diff2.groupby('profile_id').mean().sort_values('cts',ascending=True)\n",
    "AA.reset_index(inplace=True)\n",
    "AA=AA.head(3)\n",
    "these_profiles=AA[['profile_id']]\n",
    "these_profiles\n",
    "#something=diff2.groupby('profile_id').mean().sort_values('cts',ascending=True).head(5)\n",
    "#something.reset_index(inplace=True)\n",
    "#these_profiles=something[['profile_id']]\n",
    "#something\n",
    "\n",
    "#AA[AA.profile_id == 14407647.0]\n",
    "#A[['cts']].sort_values('cts',ascending=True).diff().mean()"
   ]
  },
  {
   "cell_type": "code",
   "execution_count": null,
   "id": "9e51e90c",
   "metadata": {},
   "outputs": [],
   "source": [
    "diff2=new_merge.set_index('profile_id').diff()\n",
    "diff2.dropna(inplace=True)\n",
    "diff2.drop_duplicates(inplace=True)\n",
    "diff2=diff2[diff2.cts > np.timedelta64(000000)]\n",
    "diff2=diff2.sort_values(['profile_id','cts'],ascending=True)\n",
    "diff2\n",
    "#diff2.sort_values(['cts','profile_id'],ascending=False)"
   ]
  },
  {
   "cell_type": "code",
   "execution_count": null,
   "id": "0a6970c3",
   "metadata": {},
   "outputs": [],
   "source": [
    "diff3=diff2\n",
    "diff3.reset_index(inplace=True)\n",
    "diff3[diff3.profile_id == 14407647.0]"
   ]
  },
  {
   "cell_type": "code",
   "execution_count": null,
   "id": "2d8276a6",
   "metadata": {},
   "outputs": [],
   "source": [
    "something=diff3.groupby('profile_id').mean().sort_values('cts',ascending=True).head(10)\n",
    "something.reset_index(inplace=True)\n",
    "#these_profiles=something[['profile_id']]\n",
    "something"
   ]
  },
  {
   "cell_type": "code",
   "execution_count": null,
   "id": "71fa1e95",
   "metadata": {},
   "outputs": [],
   "source": [
    "mean_time=diff2['cts'].mean()\n",
    "time_to_minutes=mean_time.seconds/60\n",
    "print('The average time (days and minutes) a user lets pass before publishing another post is: '+str(mean_time.days)+' days and '+str(int(time_to_minutes))+ ' minutes.')\n"
   ]
  },
  {
   "cell_type": "code",
   "execution_count": null,
   "id": "a0620187",
   "metadata": {},
   "outputs": [],
   "source": [
    "something=diff2.groupby('profile_id').count()\n",
    "#.mean().sort_values('cts',ascending=True).head(10)\n",
    "something.reset_index(inplace=True)\n",
    "#these_profiles=something[['profile_id']]\n",
    "something"
   ]
  },
  {
   "cell_type": "code",
   "execution_count": null,
   "id": "f4e04690",
   "metadata": {},
   "outputs": [],
   "source": [
    "#Non combaciano le medie perchè in posts ci sono molti posts, ma in profiles solo uno e quindi possiamo prendere i followers e following da li\n",
    "A=posts[posts.profile_id == 14407647.0]\n",
    "A[['cts']].sort_values('cts',ascending=True).diff().mean()"
   ]
  },
  {
   "cell_type": "code",
   "execution_count": null,
   "id": "15481da5",
   "metadata": {},
   "outputs": [],
   "source": [
    "profiles[profiles.profile_id == 14407647]"
   ]
  },
  {
   "cell_type": "code",
   "execution_count": null,
   "id": "4e8802d6",
   "metadata": {},
   "outputs": [],
   "source": [
    "something[something.profile_id == 14407647]"
   ]
  },
  {
   "cell_type": "code",
   "execution_count": null,
   "id": "405f4677",
   "metadata": {},
   "outputs": [],
   "source": [
    "#QUA SOTTO OK"
   ]
  },
  {
   "cell_type": "code",
   "execution_count": null,
   "id": "f3490e5e",
   "metadata": {},
   "outputs": [],
   "source": [
    "\n",
    "first=profiles[profiles.profile_id == these_profiles.profile_id[0]][['followers','following','profile_name']]\n",
    "second=profiles[profiles.profile_id == these_profiles.profile_id[1]][['followers','following','profile_name']]\n",
    "third=profiles[profiles.profile_id == these_profiles.profile_id[2]][['followers','following','profile_name']]\n",
    "\n"
   ]
  },
  {
   "cell_type": "code",
   "execution_count": null,
   "id": "46c4efda",
   "metadata": {},
   "outputs": [],
   "source": [
    "top3=pd.concat([first,second,third])\n",
    "top3"
   ]
  },
  {
   "cell_type": "code",
   "execution_count": null,
   "id": "53640f59",
   "metadata": {},
   "outputs": [],
   "source": [
    "top3_2=pd.concat([profiles[profiles.profile_name == 'lama_anbar'],profiles[profiles.profile_name == 'nachithogudino'],profiles[profiles.profile_name == 'inafasya77']])\n",
    "top3_2\n",
    "\n",
    "#They post less than my granmother fuck off you are screwing my analysis up"
   ]
  },
  {
   "cell_type": "code",
   "execution_count": null,
   "id": "87c14432",
   "metadata": {},
   "outputs": [],
   "source": [
    "#Now let's plot it\n",
    "\n",
    "# I'm using white labels because my theme on VS is dark\n",
    "fig, ax1 = plt.subplots(figsize=(15, 9))\n",
    "ax1.set_xlabel('Profile name',size=20)\n",
    "ax1.xaxis.label.set_color('black')\n",
    "ax1.yaxis.label.set_color('black')\n",
    "ax1.tick_params(axis='x', colors='black')\n",
    "ax1.tick_params(axis='y', colors='black')\n",
    "\n",
    "# plot line chart on axis #1\n",
    "ax1.bar(top3['profile_name'], top3['followers'], width=0.5, alpha=0.4, color='Blue')\n",
    "ax1.set_ylabel('Number of followers')\n",
    "plt.xticks(top3['profile_name'], top3['profile_name'])\n",
    "\n",
    "# ax1.set_ylim(0, 25)\n",
    "# set up the 2nd axis\n",
    "\n",
    "ax2 = ax1.twinx()\n",
    "ax2.yaxis.label.set_color('black')\n",
    "ax2.tick_params(axis='y', colors='black')\n",
    "\n",
    "# plot bar chart on axis #2\n",
    "ax2.bar(top3['profile_name'], top3['following'], width=0.5, alpha=0.5, color='darkgreen', align='edge')\n",
    "ax2.grid(False) # turn off grid #2\n",
    "ax2.set_ylabel('Number of following')\n",
    "#ax2.set_ylim(0, 90)\n",
    "fig.legend(['Followers','Following'], loc=\"upper center\",bbox_to_anchor=(0.5, 0.3, 0.65, 0.5),fontsize='large')\n",
    "plt.show()"
   ]
  },
  {
   "cell_type": "code",
   "execution_count": null,
   "id": "19c36060",
   "metadata": {},
   "outputs": [],
   "source": [
    "###\n",
    "\n",
    "# first is a zoccola\n",
    "# second is a boomer\n",
    "# third is an online store"
   ]
  },
  {
   "cell_type": "markdown",
   "id": "097dddb2-6744-4767-a1d8-bb3c08549e83",
   "metadata": {},
   "source": [
    "## RQ6.2 Using the function you previously coded, plot the time intervals with the highest average number of “likes” and the ones with the highest average number of comments on posts."
   ]
  },
  {
   "cell_type": "code",
   "execution_count": null,
   "id": "acf1f7fd-a9c3-46eb-a05d-3c69a0d0e4b7",
   "metadata": {},
   "outputs": [],
   "source": [
    "first_interval=[['06:00:00'],['10:59:59']]\n",
    "second_interval=[['11:00:00'],['13:59:59']]\n",
    "third_interval=[['14:00:00'],['16:59:59']]\n",
    "fourth_interval=[['17:00:00'],['19:59:59']]\n",
    "fifth_interval=[['20:00:00'],['23:59:59']]\n",
    "sixth_interval=[['00:00:00'],['02:59:59']]\n",
    "seventh_interval=[['03:00:00'],['05:59:59']]\n",
    "intervals=[first_interval,second_interval,third_interval,fourth_interval,fifth_interval,sixth_interval,seventh_interval]"
   ]
  },
  {
   "cell_type": "code",
   "execution_count": null,
   "id": "e920e416",
   "metadata": {},
   "outputs": [],
   "source": [
    "time_intervals(posts,intervals,variable='numbr_likes',mean=True)"
   ]
  },
  {
   "cell_type": "code",
   "execution_count": null,
   "id": "1d642c8e",
   "metadata": {},
   "outputs": [],
   "source": [
    "time_intervals(posts,intervals,variable='number_comments',mean=True)"
   ]
  },
  {
   "cell_type": "markdown",
   "id": "33c90096-a45d-41a9-a9ef-c03dc92d6052",
   "metadata": {
    "jp-MarkdownHeadingCollapsed": true,
    "tags": []
   },
   "source": [
    "# [RQ7] Of course, calculating probabilities is a job that any Data Scientist must know. So let's compute some engaging figures"
   ]
  },
  {
   "cell_type": "markdown",
   "id": "7498c9f3-9206-44a5-a2e9-b1c22f0efe9e",
   "metadata": {},
   "source": [
    "## RQ7.1 What's the probability that a post receives more than 20% \"likes\" of the number of followers a user has?"
   ]
  },
  {
   "cell_type": "code",
   "execution_count": null,
   "id": "14a40413-858a-4e9a-9c91-0c2a9bdd870f",
   "metadata": {},
   "outputs": [],
   "source": [
    "#Creating two different datasets picking only the columns we are interested in\n",
    "posts2=posts[['numbr_likes','post_id','profile_id']]\n",
    "profiles2=profiles[['profile_id','followers']]"
   ]
  },
  {
   "cell_type": "code",
   "execution_count": null,
   "id": "430c1087",
   "metadata": {},
   "outputs": [],
   "source": [
    "#Cleaning them dropping all NaN values\n",
    "posts2.dropna(inplace=True)\n",
    "profiles2.dropna(inplace=True)"
   ]
  },
  {
   "cell_type": "code",
   "execution_count": null,
   "id": "a5487d58",
   "metadata": {},
   "outputs": [],
   "source": [
    "# Merging the datasets on the shared column 'profile_id'\n",
    "df=pd.merge(posts2,profiles2, on='profile_id')"
   ]
  },
  {
   "cell_type": "code",
   "execution_count": null,
   "id": "ef838680",
   "metadata": {},
   "outputs": [],
   "source": [
    "#Considering only profiles with more than 0 followers in order to get meaningful sight\n",
    "df=df[df.followers != 0]"
   ]
  },
  {
   "cell_type": "code",
   "execution_count": null,
   "id": "4d6e71ad",
   "metadata": {},
   "outputs": [],
   "source": [
    "# We want to compute the number of favourable cases on total cases, so let's get the favourable one\n",
    "yes_df=df[df.numbr_likes > (df.followers/5)]\n",
    "yes=len(yes_df)\n",
    "yes_df"
   ]
  },
  {
   "cell_type": "code",
   "execution_count": null,
   "id": "1b3c0c93",
   "metadata": {},
   "outputs": [],
   "source": [
    "#Now let's compute\n",
    "prob=yes/(len(df))\n",
    "\n",
    "\n",
    "print('The probability that a post receives more than 20% \"likes\" of the number of followers a user has is equal to: ',\"{0:.2%}\".format(prob) )"
   ]
  },
  {
   "cell_type": "markdown",
   "id": "ba197f62-5e0d-486b-8307-608e72aff962",
   "metadata": {},
   "source": [
    "## RQ7.2 Do users usually return to locations? Extract the probability that a user returns to a site after having posted it in the past. Does that probability make sense to you? Explain why or why not."
   ]
  },
  {
   "cell_type": "code",
   "execution_count": null,
   "id": "0e26ad52",
   "metadata": {},
   "outputs": [],
   "source": [
    "locations"
   ]
  },
  {
   "cell_type": "code",
   "execution_count": null,
   "id": "538f02fd",
   "metadata": {},
   "outputs": [],
   "source": [
    "posts2=posts[['location_id','profile_id','post_id']]\n",
    "posts2.rename(columns={'location_id':'id'},inplace=True)\n",
    "\n",
    "df=pd.merge(posts2,locations[['city','id','cts']], on='id')\n",
    "df"
   ]
  },
  {
   "cell_type": "code",
   "execution_count": null,
   "id": "41d9c296-de1d-41c1-8c08-6f22474df26b",
   "metadata": {},
   "outputs": [],
   "source": [
    "locations2=df[['city','id','cts','profile_id']]\n",
    "locations2"
   ]
  },
  {
   "cell_type": "code",
   "execution_count": null,
   "id": "4f9a357c",
   "metadata": {},
   "outputs": [],
   "source": [
    "locations2.dropna(inplace=True)\n",
    "locations2"
   ]
  },
  {
   "cell_type": "code",
   "execution_count": null,
   "id": "d8b31600",
   "metadata": {},
   "outputs": [],
   "source": [
    "#Count how many time a location has been visited\n",
    "df_returned=df.groupby('city').count().sort_values('id', ascending=True)"
   ]
  },
  {
   "cell_type": "code",
   "execution_count": null,
   "id": "e889272c",
   "metadata": {},
   "outputs": [],
   "source": [
    "df_returned"
   ]
  },
  {
   "cell_type": "code",
   "execution_count": null,
   "id": "e54f5771",
   "metadata": {},
   "outputs": [],
   "source": [
    "df_returned=df_returned[df_returned.id != 1]\n",
    "df_returned"
   ]
  },
  {
   "cell_type": "code",
   "execution_count": null,
   "id": "7ec1c433",
   "metadata": {},
   "outputs": [],
   "source": []
  },
  {
   "cell_type": "code",
   "execution_count": null,
   "id": "afe2a6ac",
   "metadata": {},
   "outputs": [],
   "source": []
  },
  {
   "cell_type": "code",
   "execution_count": null,
   "id": "b58641a0",
   "metadata": {},
   "outputs": [],
   "source": [
    "df_group=df.groupby(by='profile_id',group_keys=True).apply(lambda x: x)\n",
    "df_group"
   ]
  },
  {
   "cell_type": "code",
   "execution_count": null,
   "id": "fd15b17a",
   "metadata": {},
   "outputs": [],
   "source": []
  },
  {
   "cell_type": "markdown",
   "id": "4941fa3f-c4cd-4c75-a377-d560be162526",
   "metadata": {
    "jp-MarkdownHeadingCollapsed": true,
    "tags": []
   },
   "source": [
    "# [RQ8] Every decision you take in a data-based environment should be reinforced with charts, statistical tests and analysis methods to check whether a hypothesis is correct or not."
   ]
  },
  {
   "cell_type": "markdown",
   "id": "640e94ab-4854-44f2-ada0-d648dddc2ade",
   "metadata": {},
   "source": [
    "## RQ8.1 Does more “likes” also mean more comments? Plot a scatter plot of “likes” vs comments for posts?"
   ]
  },
  {
   "cell_type": "code",
   "execution_count": null,
   "id": "bb9de521-1789-4a67-8984-d90e096a447f",
   "metadata": {},
   "outputs": [],
   "source": [
    "plt.scatter(posts['numbr_likes'], posts['number_comments'],s=3, alpha=0.5)\n",
    "plt.show()"
   ]
  },
  {
   "cell_type": "markdown",
   "id": "317fa613",
   "metadata": {},
   "source": [
    "To have a better understanding of what we are trying to find (the correlation) we are gonna calculate the pearson correlation coefficient"
   ]
  },
  {
   "cell_type": "code",
   "execution_count": null,
   "id": "3c8af041",
   "metadata": {},
   "outputs": [],
   "source": [
    "#Pearsonn Correlation\n",
    "posts.number_comments.corr(posts.numbr_likes)"
   ]
  },
  {
   "cell_type": "markdown",
   "id": "d54a13b3",
   "metadata": {},
   "source": [
    "As we can see from the scatterplot above and the result value from the pearson correlation coefficient. If the number of likes were related to the number of comments then we would be seeing a proportional increase of both value, while from the scatterplot we see that at the increase of the number of likes, the number of comments doesnt increase."
   ]
  },
  {
   "cell_type": "markdown",
   "id": "44bf3e97-815e-44ec-b2f7-ed59d4b5cc4a",
   "metadata": {},
   "source": [
    "## RQ8.2 Can you find any significant relationship between the time a user publishes a post and the number of comments and “likes”? Use an appropriate statistical test or technique and support your choice."
   ]
  },
  {
   "cell_type": "code",
   "execution_count": null,
   "id": "32531663-cfad-462a-ad15-835014e22ef1",
   "metadata": {},
   "outputs": [],
   "source": []
  },
  {
   "cell_type": "markdown",
   "id": "6e88c8cb-427a-42c5-b7e5-688690313335",
   "metadata": {},
   "source": [
    "## RQ8.3 What’s the distribution of followers? Plot the empirical distribution of followers amongst all users and extract the mean, mode, and quantiles. Interpret those figures."
   ]
  },
  {
   "cell_type": "code",
   "execution_count": null,
   "id": "dc128548",
   "metadata": {},
   "outputs": [],
   "source": [
    "plt.hist(followers, log=True, bins=15)\n",
    "plt.show()"
   ]
  },
  {
   "cell_type": "markdown",
   "id": "471b1e8b",
   "metadata": {},
   "source": [
    "As we can see from the plot above, it is not very clear"
   ]
  },
  {
   "cell_type": "markdown",
   "id": "0c7af069",
   "metadata": {},
   "source": [
    "For a greater possibility of interpreting the distribution we use the logarithmic scale, but we have many values ​​= 0. To solve this problem we will first increase all the values ​​by 1, in this way we will no longer have values ​​equal to zero and at the same time the distribution remains unchanged .\n",
    "\n"
   ]
  },
  {
   "cell_type": "code",
   "execution_count": null,
   "id": "a74a5433-b13a-4336-80a7-a0ba26a25d29",
   "metadata": {},
   "outputs": [],
   "source": [
    "f_plus_1 = followers.apply(lambda x: x+1)\n",
    "followers_log = f_plus_1.apply(np.log)"
   ]
  },
  {
   "cell_type": "markdown",
   "id": "7bf9950a",
   "metadata": {},
   "source": [
    "After applying the logarithmic scale, we plot."
   ]
  },
  {
   "cell_type": "code",
   "execution_count": null,
   "id": "40fa92e9",
   "metadata": {},
   "outputs": [],
   "source": [
    "#lets plot the density function of the distribution of followers\n",
    "sns.histplot( ciao , kde = True, bins=60)"
   ]
  },
  {
   "cell_type": "markdown",
   "id": "90bf3ad4",
   "metadata": {},
   "source": [
    "We extract the mean, mode and quantiles"
   ]
  },
  {
   "cell_type": "code",
   "execution_count": null,
   "id": "94af8887",
   "metadata": {},
   "outputs": [],
   "source": [
    "profiles.followers.describe()"
   ]
  },
  {
   "cell_type": "markdown",
   "id": "c2c561e0-ae03-47b2-9ca6-70c3727ba7e8",
   "metadata": {},
   "source": [
    "## RQ8.4 What are histograms, bar plots, scatterplots and pie charts used for?"
   ]
  },
  {
   "cell_type": "markdown",
   "id": "b063e5f8-b3b5-4505-a724-d9c2b3d23b11",
   "metadata": {},
   "source": [
    "Histograms are useful for seeing the center, distribution, and shape of a data set. They can also be used as a visual tool for verifying normality.\n",
    "The horizontal axis represents the data values ​​and each bar includes a range of values. The vertical axis indicates how many points in the data have values ​​within the specified range of the bar."
   ]
  },
  {
   "cell_type": "markdown",
   "id": "204946ff",
   "metadata": {},
   "source": [
    "Bar charts are suitable for representing one or more categorical variables. In this type of graph, each mode of the variable (category) is represented by a bar, whose height (or length) is proportional to the frequency or percentage of the mode itself."
   ]
  },
  {
   "cell_type": "markdown",
   "id": "c4da1cb1",
   "metadata": {},
   "source": [
    "A scatter plot shows the relationship between two continuous variables. Scatter plots are used to show relationships between data. For correlation, they help show the strength of the linear relationship between two variables, while for regression they often add an estimated line."
   ]
  },
  {
   "cell_type": "markdown",
   "id": "3ad9bc9c-3575-48a2-aaa4-7c7b011a33c9",
   "metadata": {},
   "source": [
    "## RQ8.5 What insights can you extract from a Box Plot?"
   ]
  },
  {
   "cell_type": "markdown",
   "id": "4e2238c5-6fb7-44b2-86c3-97366a42d640",
   "metadata": {},
   "source": [
    "A box plot allows you to visualize the center and distribution of the data. In addition, it can be used as a visual tool for checking for normality or for identifying possible outliers."
   ]
  },
  {
   "cell_type": "markdown",
   "id": "bc07baaf",
   "metadata": {},
   "source": []
  }
 ],
 "metadata": {
  "kernelspec": {
   "display_name": "Python 3.9.7 ('base')",
   "language": "python",
   "name": "python3"
  },
  "language_info": {
   "codemirror_mode": {
    "name": "ipython",
    "version": 3
   },
   "file_extension": ".py",
   "mimetype": "text/x-python",
   "name": "python",
   "nbconvert_exporter": "python",
   "pygments_lexer": "ipython3",
   "version": "3.9.7"
  },
  "vscode": {
   "interpreter": {
    "hash": "5071a932ead62224df6138ac394d09406c08ee010e319db992f1b533ae3cedfd"
   }
  }
 },
 "nbformat": 4,
 "nbformat_minor": 5
}
