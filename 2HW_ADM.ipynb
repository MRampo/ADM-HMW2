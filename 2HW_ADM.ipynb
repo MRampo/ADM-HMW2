{
 "cells": [
  {
   "cell_type": "code",
   "execution_count": 2,
   "id": "18fc4bf1-11f9-437c-874e-5b55e2b047de",
   "metadata": {},
   "outputs": [
    {
     "data": {
      "text/html": [
       "<style type='text/css'>\n",
       ".datatable table.frame { margin-bottom: 0; }\n",
       ".datatable table.frame thead { border-bottom: none; }\n",
       ".datatable table.frame tr.coltypes td {  color: #FFFFFF;  line-height: 6px;  padding: 0 0.5em;}\n",
       ".datatable .bool    { background: #DDDD99; }\n",
       ".datatable .object  { background: #565656; }\n",
       ".datatable .int     { background: #5D9E5D; }\n",
       ".datatable .float   { background: #4040CC; }\n",
       ".datatable .str     { background: #CC4040; }\n",
       ".datatable .time    { background: #40CC40; }\n",
       ".datatable .row_index {  background: var(--jp-border-color3);  border-right: 1px solid var(--jp-border-color0);  color: var(--jp-ui-font-color3);  font-size: 9px;}\n",
       ".datatable .frame tbody td { text-align: left; }\n",
       ".datatable .frame tr.coltypes .row_index {  background: var(--jp-border-color0);}\n",
       ".datatable th:nth-child(2) { padding-left: 12px; }\n",
       ".datatable .hellipsis {  color: var(--jp-cell-editor-border-color);}\n",
       ".datatable .vellipsis {  background: var(--jp-layout-color0);  color: var(--jp-cell-editor-border-color);}\n",
       ".datatable .na {  color: var(--jp-cell-editor-border-color);  font-size: 80%;}\n",
       ".datatable .sp {  opacity: 0.25;}\n",
       ".datatable .footer { font-size: 9px; }\n",
       ".datatable .frame_dimensions {  background: var(--jp-border-color3);  border-top: 1px solid var(--jp-border-color0);  color: var(--jp-ui-font-color3);  display: inline-block;  opacity: 0.6;  padding: 1px 10px 1px 5px;}\n",
       "</style>\n"
      ],
      "text/plain": [
       "<IPython.core.display.HTML object>"
      ]
     },
     "metadata": {},
     "output_type": "display_data"
    }
   ],
   "source": [
    "import pandas as pd\n",
    "import numpy as np\n",
    "import matplotlib.pyplot as plt\n",
    "import datatable as dt\n",
    "import datetime\n",
    "import enchant\n",
    "from functions import *"
   ]
  },
  {
   "cell_type": "code",
   "execution_count": null,
   "id": "fc7ec911",
   "metadata": {},
   "outputs": [],
   "source": [
    "#TODO: \n",
    "# Merge all ex\n",
    "# 7.2 \n",
    "# 8.2"
   ]
  },
  {
   "cell_type": "markdown",
   "id": "843a39d2-ff67-4003-acbf-3a3bb34ee7d5",
   "metadata": {
    "tags": []
   },
   "source": [
    "# Import dataframes"
   ]
  },
  {
   "cell_type": "markdown",
   "id": "375a32d9-ac49-4eda-8634-424e3dcdbc63",
   "metadata": {
    "jp-MarkdownHeadingCollapsed": true,
    "tags": []
   },
   "source": [
    "### Posts"
   ]
  },
  {
   "cell_type": "markdown",
   "id": "e3e55121-ec62-4d04-8108-650ffb01afa1",
   "metadata": {
    "jp-MarkdownHeadingCollapsed": true,
    "tags": []
   },
   "source": [
    "# [RQ1] After collecting information, the Data Scientists have to know what dataset they are dealing with, so let's start with an Exploratory Data Analysis (EDA). What can you say about our datasets? Please summarise its main characteristics with visual and tabular methods."
   ]
  },
  {
   "cell_type": "markdown",
   "id": "cc3453ac",
   "metadata": {},
   "source": [
    "## Preprocessing\n",
    "\n",
    "Before loading the whole dataset of posts, let's have a look at it's structure and how the variable are stored to see if there is a bettere way to read and store the information"
   ]
  },
  {
   "cell_type": "code",
   "execution_count": 4,
   "id": "63be257e",
   "metadata": {},
   "outputs": [],
   "source": [
    "post = pd.read_csv(\"instagram_posts.csv\", delimiter=\"\\t\", chunksize=2000000)\n",
    "posts = post.get_chunk(2000000)\n",
    "profiles = pd.read_csv(\"instagram_profiles.csv\", delimiter=\"\\t\")\n",
    "locations = pd.read_csv(\"instagram_locations.csv\", delimiter = \"\\t\")"
   ]
  },
  {
   "cell_type": "code",
   "execution_count": 5,
   "id": "3e431bf2-aaad-4e6a-93eb-cd8ab26be308",
   "metadata": {},
   "outputs": [
    {
     "name": "stdout",
     "output_type": "stream",
     "text": [
      "<class 'pandas.core.frame.DataFrame'>\n",
      "RangeIndex: 2000000 entries, 0 to 1999999\n",
      "Data columns (total 10 columns):\n",
      " #   Column           Dtype  \n",
      "---  ------           -----  \n",
      " 0   sid              int64  \n",
      " 1   sid_profile      int64  \n",
      " 2   post_id          object \n",
      " 3   profile_id       float64\n",
      " 4   location_id      float64\n",
      " 5   cts              object \n",
      " 6   post_type        int64  \n",
      " 7   description      object \n",
      " 8   numbr_likes      int64  \n",
      " 9   number_comments  int64  \n",
      "dtypes: float64(2), int64(5), object(3)\n",
      "memory usage: 152.6+ MB\n"
     ]
    }
   ],
   "source": [
    "posts.info()"
   ]
  },
  {
   "cell_type": "code",
   "execution_count": 6,
   "id": "3579667c",
   "metadata": {},
   "outputs": [
    {
     "name": "stdout",
     "output_type": "stream",
     "text": [
      "<class 'pandas.core.frame.DataFrame'>\n",
      "RangeIndex: 4509586 entries, 0 to 4509585\n",
      "Data columns (total 11 columns):\n",
      " #   Column               Dtype  \n",
      "---  ------               -----  \n",
      " 0   sid                  int64  \n",
      " 1   profile_id           float64\n",
      " 2   profile_name         object \n",
      " 3   firstname_lastname   object \n",
      " 4   description          object \n",
      " 5   following            float64\n",
      " 6   followers            float64\n",
      " 7   n_posts              float64\n",
      " 8   url                  object \n",
      " 9   cts                  object \n",
      " 10  is_business_account  object \n",
      "dtypes: float64(4), int64(1), object(6)\n",
      "memory usage: 378.5+ MB\n"
     ]
    }
   ],
   "source": [
    "profiles.info()"
   ]
  },
  {
   "cell_type": "code",
   "execution_count": 7,
   "id": "493834df",
   "metadata": {},
   "outputs": [
    {
     "name": "stdout",
     "output_type": "stream",
     "text": [
      "<class 'pandas.core.frame.DataFrame'>\n",
      "RangeIndex: 1022658 entries, 0 to 1022657\n",
      "Data columns (total 23 columns):\n",
      " #   Column                  Non-Null Count    Dtype  \n",
      "---  ------                  --------------    -----  \n",
      " 0   sid                     1022658 non-null  int64  \n",
      " 1   id                      1022658 non-null  int64  \n",
      " 2   name                    1022658 non-null  object \n",
      " 3   street                  715704 non-null   object \n",
      " 4   zip                     715579 non-null   object \n",
      " 5   city                    937166 non-null   object \n",
      " 6   region                  1760 non-null     object \n",
      " 7   cd                      939010 non-null   object \n",
      " 8   phone                   601688 non-null   object \n",
      " 9   aj_exact_city_match     1000510 non-null  object \n",
      " 10  aj_exact_country_match  1000510 non-null  object \n",
      " 11  blurb                   406705 non-null   object \n",
      " 12  dir_city_id             495698 non-null   object \n",
      " 13  dir_city_name           495698 non-null   object \n",
      " 14  dir_city_slug           495221 non-null   object \n",
      " 15  dir_country_id          495628 non-null   object \n",
      " 16  dir_country_name        495698 non-null   object \n",
      " 17  lat                     1016495 non-null  float64\n",
      " 18  lng                     1016495 non-null  float64\n",
      " 19  primary_alias_on_fb     425531 non-null   object \n",
      " 20  slug                    941668 non-null   object \n",
      " 21  website                 623262 non-null   object \n",
      " 22  cts                     1022658 non-null  object \n",
      "dtypes: float64(2), int64(2), object(19)\n",
      "memory usage: 179.5+ MB\n"
     ]
    }
   ],
   "source": [
    "locations.info()"
   ]
  },
  {
   "cell_type": "markdown",
   "id": "5d44c38c",
   "metadata": {},
   "source": [
    "### Handle Na values\n",
    "\n",
    "As we can see we have a lot of Na values in multiple columns. We are gonna drop all the rows that contains an Na value in it\n"
   ]
  },
  {
   "cell_type": "code",
   "execution_count": 9,
   "id": "cd9f9a96",
   "metadata": {},
   "outputs": [],
   "source": [
    "posts = posts.dropna()\n",
    "profiles = profiles.dropna()\n",
    "location = locations.dropna()"
   ]
  },
  {
   "cell_type": "markdown",
   "id": "2fce0323",
   "metadata": {},
   "source": [
    "As we can see from the info() function, all the attributes are not efficiently stored as they use a data types, that is most of the times unneccessary, so right now we will convert the data type of each dataframe to the appropriate one"
   ]
  },
  {
   "cell_type": "code",
   "execution_count": 14,
   "id": "90583efa",
   "metadata": {},
   "outputs": [
    {
     "data": {
      "text/html": [
       "<div>\n",
       "<style scoped>\n",
       "    .dataframe tbody tr th:only-of-type {\n",
       "        vertical-align: middle;\n",
       "    }\n",
       "\n",
       "    .dataframe tbody tr th {\n",
       "        vertical-align: top;\n",
       "    }\n",
       "\n",
       "    .dataframe thead th {\n",
       "        text-align: right;\n",
       "    }\n",
       "</style>\n",
       "<table border=\"1\" class=\"dataframe\">\n",
       "  <thead>\n",
       "    <tr style=\"text-align: right;\">\n",
       "      <th></th>\n",
       "      <th>count</th>\n",
       "      <th>mean</th>\n",
       "      <th>std</th>\n",
       "      <th>min</th>\n",
       "      <th>25%</th>\n",
       "      <th>50%</th>\n",
       "      <th>75%</th>\n",
       "      <th>max</th>\n",
       "    </tr>\n",
       "  </thead>\n",
       "  <tbody>\n",
       "    <tr>\n",
       "      <th>sid</th>\n",
       "      <td>1829661.0</td>\n",
       "      <td>2.889080e+07</td>\n",
       "      <td>2.592478e+06</td>\n",
       "      <td>6025.0</td>\n",
       "      <td>28799208.0</td>\n",
       "      <td>2.933446e+07</td>\n",
       "      <td>2.986832e+07</td>\n",
       "      <td>3.041944e+07</td>\n",
       "    </tr>\n",
       "    <tr>\n",
       "      <th>sid_profile</th>\n",
       "      <td>1829661.0</td>\n",
       "      <td>2.455931e+05</td>\n",
       "      <td>8.391523e+05</td>\n",
       "      <td>-1.0</td>\n",
       "      <td>-1.0</td>\n",
       "      <td>-1.000000e+00</td>\n",
       "      <td>-1.000000e+00</td>\n",
       "      <td>4.510554e+06</td>\n",
       "    </tr>\n",
       "    <tr>\n",
       "      <th>profile_id</th>\n",
       "      <td>1829661.0</td>\n",
       "      <td>3.050861e+09</td>\n",
       "      <td>3.484867e+09</td>\n",
       "      <td>4.0</td>\n",
       "      <td>284850346.0</td>\n",
       "      <td>1.548651e+09</td>\n",
       "      <td>5.227030e+09</td>\n",
       "      <td>1.443827e+10</td>\n",
       "    </tr>\n",
       "    <tr>\n",
       "      <th>location_id</th>\n",
       "      <td>1829661.0</td>\n",
       "      <td>3.196241e+14</td>\n",
       "      <td>5.806375e+14</td>\n",
       "      <td>982.0</td>\n",
       "      <td>287312639.0</td>\n",
       "      <td>9.524707e+08</td>\n",
       "      <td>3.340913e+14</td>\n",
       "      <td>1.015010e+16</td>\n",
       "    </tr>\n",
       "    <tr>\n",
       "      <th>post_type</th>\n",
       "      <td>1829661.0</td>\n",
       "      <td>1.061260e+00</td>\n",
       "      <td>2.398203e-01</td>\n",
       "      <td>1.0</td>\n",
       "      <td>1.0</td>\n",
       "      <td>1.000000e+00</td>\n",
       "      <td>1.000000e+00</td>\n",
       "      <td>3.000000e+00</td>\n",
       "    </tr>\n",
       "    <tr>\n",
       "      <th>numbr_likes</th>\n",
       "      <td>1829661.0</td>\n",
       "      <td>3.118932e+02</td>\n",
       "      <td>6.145873e+03</td>\n",
       "      <td>0.0</td>\n",
       "      <td>21.0</td>\n",
       "      <td>4.900000e+01</td>\n",
       "      <td>1.280000e+02</td>\n",
       "      <td>2.212264e+06</td>\n",
       "    </tr>\n",
       "    <tr>\n",
       "      <th>number_comments</th>\n",
       "      <td>1829661.0</td>\n",
       "      <td>7.677924e+00</td>\n",
       "      <td>1.818650e+02</td>\n",
       "      <td>0.0</td>\n",
       "      <td>0.0</td>\n",
       "      <td>2.000000e+00</td>\n",
       "      <td>6.000000e+00</td>\n",
       "      <td>1.352210e+05</td>\n",
       "    </tr>\n",
       "  </tbody>\n",
       "</table>\n",
       "</div>"
      ],
      "text/plain": [
       "                     count          mean           std     min          25%  \\\n",
       "sid              1829661.0  2.889080e+07  2.592478e+06  6025.0   28799208.0   \n",
       "sid_profile      1829661.0  2.455931e+05  8.391523e+05    -1.0         -1.0   \n",
       "profile_id       1829661.0  3.050861e+09  3.484867e+09     4.0  284850346.0   \n",
       "location_id      1829661.0  3.196241e+14  5.806375e+14   982.0  287312639.0   \n",
       "post_type        1829661.0  1.061260e+00  2.398203e-01     1.0          1.0   \n",
       "numbr_likes      1829661.0  3.118932e+02  6.145873e+03     0.0         21.0   \n",
       "number_comments  1829661.0  7.677924e+00  1.818650e+02     0.0          0.0   \n",
       "\n",
       "                          50%           75%           max  \n",
       "sid              2.933446e+07  2.986832e+07  3.041944e+07  \n",
       "sid_profile     -1.000000e+00 -1.000000e+00  4.510554e+06  \n",
       "profile_id       1.548651e+09  5.227030e+09  1.443827e+10  \n",
       "location_id      9.524707e+08  3.340913e+14  1.015010e+16  \n",
       "post_type        1.000000e+00  1.000000e+00  3.000000e+00  \n",
       "numbr_likes      4.900000e+01  1.280000e+02  2.212264e+06  \n",
       "number_comments  2.000000e+00  6.000000e+00  1.352210e+05  "
      ]
     },
     "execution_count": 14,
     "metadata": {},
     "output_type": "execute_result"
    }
   ],
   "source": [
    "posts.describe().T"
   ]
  },
  {
   "cell_type": "markdown",
   "id": "bad91136",
   "metadata": {},
   "source": [
    "Convert posts Dtype:\n",
    "\n",
    "As we can see, we can modify the memory of a few columns, in particular:\n",
    "- number_comments has a range going from 0 to 135221 so we can use the int32\n",
    "- numbr_likes has a range going from 0 to 135221 so we can use the int32\n",
    "- post_likes rappresents only 3 possibility, so a categorical feature should be good enough\n",
    "- sid_profile has a range going from -1 to 4510554 so we can use the int32\n",
    "- sid has a range going from 6025 to 30419436 so we can use the int 32"
   ]
  },
  {
   "cell_type": "markdown",
   "id": "d053d49d",
   "metadata": {},
   "source": [
    "Let's change the dtype for the posts dataset"
   ]
  },
  {
   "cell_type": "code",
   "execution_count": 19,
   "id": "c1b244fd",
   "metadata": {},
   "outputs": [],
   "source": [
    "dtypes = {\n",
    "    'sid': 'int32',\n",
    "    'sid_profile': 'int32',\n",
    "    'post_id':'object',\n",
    "    'profile_id': 'float64',\n",
    "    'location_id': 'float64',\n",
    "    'cts' : 'object',\n",
    "    'post_type' : 'category',\n",
    "    'numbr_likes': 'int32',\n",
    "    'number_comments':'int32'\n",
    "}"
   ]
  },
  {
   "cell_type": "code",
   "execution_count": 20,
   "id": "f69fc416",
   "metadata": {},
   "outputs": [
    {
     "name": "stdout",
     "output_type": "stream",
     "text": [
      "<class 'pandas.core.frame.DataFrame'>\n",
      "RangeIndex: 2000000 entries, 0 to 1999999\n",
      "Data columns (total 10 columns):\n",
      " #   Column           Dtype   \n",
      "---  ------           -----   \n",
      " 0   sid              int32   \n",
      " 1   sid_profile      int32   \n",
      " 2   post_id          object  \n",
      " 3   profile_id       float64 \n",
      " 4   location_id      float64 \n",
      " 5   cts              object  \n",
      " 6   post_type        category\n",
      " 7   description      object  \n",
      " 8   numbr_likes      int32   \n",
      " 9   number_comments  int32   \n",
      "dtypes: category(1), float64(2), int32(4), object(3)\n",
      "memory usage: 108.7+ MB\n"
     ]
    }
   ],
   "source": [
    "posts = pd.read_csv(\"instagram_posts.csv\", delimiter=\"\\t\", chunksize=2000000, dtype=dtypes)\n",
    "p_clean = posts.get_chunk(2000000)\n",
    "p_clean.info()"
   ]
  },
  {
   "cell_type": "markdown",
   "id": "aed87e24",
   "metadata": {},
   "source": [
    "We went from 152MB to 109 MB for the same chunk. But we can do better by managing the Na Values!\n"
   ]
  },
  {
   "cell_type": "markdown",
   "id": "bc5c8a9d",
   "metadata": {},
   "source": [
    "The same process can be applied to all 3 datasets, but to make things easier for us we are gonna use the library \"datatable\" which will do the optimization of the attributes when reading the dataset"
   ]
  },
  {
   "cell_type": "markdown",
   "id": "9c3766b2",
   "metadata": {},
   "source": [
    "## Opening the Datasets with datatable"
   ]
  },
  {
   "cell_type": "code",
   "execution_count": 25,
   "id": "2f68a0d9",
   "metadata": {},
   "outputs": [],
   "source": [
    "posts = dt.fread(\"instagram_posts.csv\").to_pandas()\n",
    "profiles = dt.fread(\"instagram_profiles.csv\").to_pandas()\n",
    "locations = dt.fread(\"instagram_locations.csv\").to_pandas()"
   ]
  },
  {
   "cell_type": "code",
   "execution_count": 1,
   "id": "a1142cc7",
   "metadata": {},
   "outputs": [
    {
     "ename": "NameError",
     "evalue": "name 'posts' is not defined",
     "output_type": "error",
     "traceback": [
      "\u001b[1;31m---------------------------------------------------------------------------\u001b[0m",
      "\u001b[1;31mNameError\u001b[0m                                 Traceback (most recent call last)",
      "\u001b[1;32m<ipython-input-1-8049005e336c>\u001b[0m in \u001b[0;36m<module>\u001b[1;34m\u001b[0m\n\u001b[1;32m----> 1\u001b[1;33m \u001b[0mposts\u001b[0m \u001b[1;33m=\u001b[0m \u001b[0mposts\u001b[0m\u001b[1;33m.\u001b[0m\u001b[0mdropna\u001b[0m\u001b[1;33m(\u001b[0m\u001b[1;33m)\u001b[0m\u001b[1;33m\u001b[0m\u001b[1;33m\u001b[0m\u001b[0m\n\u001b[0m\u001b[0;32m      2\u001b[0m \u001b[0mprofiles\u001b[0m \u001b[1;33m=\u001b[0m \u001b[0mprofiles\u001b[0m\u001b[1;33m.\u001b[0m\u001b[0mdropna\u001b[0m\u001b[1;33m(\u001b[0m\u001b[1;33m)\u001b[0m\u001b[1;33m\u001b[0m\u001b[1;33m\u001b[0m\u001b[0m\n\u001b[0;32m      3\u001b[0m \u001b[0mlocation\u001b[0m \u001b[1;33m=\u001b[0m \u001b[0mlocations\u001b[0m\u001b[1;33m.\u001b[0m\u001b[0mdropna\u001b[0m\u001b[1;33m(\u001b[0m\u001b[1;33m)\u001b[0m\u001b[1;33m\u001b[0m\u001b[1;33m\u001b[0m\u001b[0m\n",
      "\u001b[1;31mNameError\u001b[0m: name 'posts' is not defined"
     ]
    }
   ],
   "source": [
    "posts.dropna(inplace=True)\n",
    "profiles.dropna(inplace=True)\n",
    "locations.dropna(inplace=True)"
   ]
  },
  {
   "cell_type": "markdown",
   "id": "a4e5adf8",
   "metadata": {},
   "source": [
    "## Data Visualizzation"
   ]
  },
  {
   "cell_type": "markdown",
   "id": "52a499e5",
   "metadata": {},
   "source": [
    "As a lot of the further exercises require us to plot the correlation between a lot of variables we are gonna exclude those plots here and focus on something that wasn't asked in a later exercises"
   ]
  },
  {
   "cell_type": "code",
   "execution_count": null,
   "id": "3c058ea0",
   "metadata": {},
   "outputs": [],
   "source": [
    "c = posts['post_type'].value_counts()\n",
    "\n",
    "fig = plt.figure(figsize =(10, 7))\n",
    "plt.title(\"Number of different type of posts\")\n",
    "plt.pie(c, labels=['Photo', 'Video', ' '])"
   ]
  },
  {
   "cell_type": "code",
   "execution_count": null,
   "id": "f106d6ca",
   "metadata": {},
   "outputs": [],
   "source": [
    "same_likes = posts['numbr_likes'].value_counts()\n",
    "\n",
    "fig = plt.figure(figsize =(10, 7))\n",
    "plt.title(\"Number of post with same number of likes\")\n",
    "plt.xlabel(\"Number of likes\")\n",
    "plt.ylabel(\"Number of post with the same number of likes\")\n",
    "plt.hist(same_likes, bins = 50)"
   ]
  },
  {
   "cell_type": "code",
   "execution_count": null,
   "id": "92d57a88",
   "metadata": {},
   "outputs": [],
   "source": [
    "fig = plt.figure(figsize =(20, 14))\n",
    "plt.scatter(posts['numbr_likes'], posts['number_comments'],s=30, alpha=0.5)\n",
    "plt.xlabel(\"Number of likes\")\n",
    "plt.ylabel(\"Number of Comments\")\n",
    "plt.title(\"Correlation Between Number of Likes and Number of Comments\")\n",
    "plt.show()"
   ]
  },
  {
   "cell_type": "code",
   "execution_count": null,
   "id": "0d94a887",
   "metadata": {},
   "outputs": [],
   "source": [
    "fig = plt.figure(figsize =(20, 14))\n",
    "plt.scatter(profiles['n_posts'], profiles['followers'],s=30, alpha=0.5)\n",
    "plt.xlabel(\"Number of posts\")\n",
    "plt.ylabel(\"Number of followers\")\n",
    "plt.title(\"Correlation Between Number of posts and Number of number of followers\")\n",
    "plt.show()"
   ]
  },
  {
   "cell_type": "code",
   "execution_count": null,
   "id": "debb37ea",
   "metadata": {},
   "outputs": [],
   "source": [
    "is_business = profiles['is_business_account'].value_counts()\n",
    "\n",
    "fig = plt.figure(figsize =(10, 7))\n",
    "plt.title(\"Business and non business account\")\n",
    "plt.pie(is_business, labels=['Non Business', 'Business'])\n",
    "plt.show()"
   ]
  },
  {
   "cell_type": "code",
   "execution_count": null,
   "id": "f9256c5c",
   "metadata": {},
   "outputs": [],
   "source": [
    "#count how many don't have an url in their profiles\n",
    "not_url = profiles['url'].isna().sum()\n",
    "\n",
    "#count how many have an url in their profile\n",
    "have_url = profiles['url'].shape[0] - not_url\n",
    "\n",
    "fig = plt.figure(figsize =(10, 7))\n",
    "plt.title(\"Account that have url\")\n",
    "plt.pie([not_url, have_url], labels=['Account who dont have URL', 'Account who does have URL'])\n",
    "plt.show()"
   ]
  },
  {
   "cell_type": "markdown",
   "id": "85b57963-65ce-4f04-997b-a473b1ce59d5",
   "metadata": {
    "jp-MarkdownHeadingCollapsed": true,
    "tags": []
   },
   "source": [
    "# [RQ2] Let's explore the dataset by finding simple insights regarding the profile and posts."
   ]
  },
  {
   "cell_type": "markdown",
   "id": "a8eca3ba-aa84-488d-99bb-9a0c2455474a",
   "metadata": {
    "jp-MarkdownHeadingCollapsed": true,
    "tags": []
   },
   "source": [
    "## RQ2.1: Plot the number of posts for each profile in descending order.\n"
   ]
  },
  {
   "cell_type": "code",
   "execution_count": null,
   "id": "78401fe7-ece8-468d-8177-a09cf4495893",
   "metadata": {},
   "outputs": [],
   "source": [
    "#Let's select the column that we need\n",
    "profiles2 = profiles[['profile_name','n_posts']]\n",
    "\n",
    "#Order by \"n_posts\", ascending = False\n",
    "profiles2=profiles2.sort_values('n_posts', ascending=False)\n",
    "\n",
    "#Count the number of posts for each profiles\n",
    "count_post=profiles2.groupby('n_posts').count()\n",
    "\n",
    "#Remove the 0, and sum\n",
    "count_post.iloc[1:].sum()"
   ]
  },
  {
   "cell_type": "code",
   "execution_count": null,
   "id": "f59dc79d",
   "metadata": {},
   "outputs": [],
   "source": [
    "#Plot the histogram\n",
    "h=profiles2['n_posts']\n",
    "plt.hist(h,log=True)\n",
    "plt.show()"
   ]
  },
  {
   "cell_type": "markdown",
   "id": "151aced1-0160-42e7-b479-d554d60f770e",
   "metadata": {},
   "source": [
    "What can we say about this result?\n",
    "\n",
    "As we can see, the majority of the instagram profiles have no posts, meanwhile only a small proportion have posted more than 125.000 posts."
   ]
  },
  {
   "cell_type": "markdown",
   "id": "93a812a4-beef-4c2b-b413-7e3e5eafe654",
   "metadata": {
    "jp-MarkdownHeadingCollapsed": true,
    "tags": []
   },
   "source": [
    "## RQ2.2 What posts have the highest number of \"likes\"?"
   ]
  },
  {
   "cell_type": "markdown",
   "id": "91f13825-c83a-459d-9b9d-886a09d77cff",
   "metadata": {},
   "source": [
    "This is the top 10 of most liked posts"
   ]
  },
  {
   "cell_type": "code",
   "execution_count": null,
   "id": "ee15398a-cb50-4af2-a2ef-aeae1d958d55",
   "metadata": {},
   "outputs": [],
   "source": [
    "#Sort the values of by the column \"numbr_likes\" and select the top 10\n",
    "df=posts[['post_id','numbr_likes']].sort_values(by='numbr_likes', ascending=False).head(10)\n",
    "\n",
    "#Reset the index\n",
    "df.index=['Post '+str(i+1) for i in range(10)]\n",
    "\n",
    "#Show the top 10\n",
    "df.head(10)"
   ]
  },
  {
   "cell_type": "markdown",
   "id": "abf96b87-396d-4831-9781-a84606728383",
   "metadata": {
    "jp-MarkdownHeadingCollapsed": true,
    "tags": []
   },
   "source": [
    "## RQ2.3 What posts have the most and the least number of comments?"
   ]
  },
  {
   "cell_type": "code",
   "execution_count": null,
   "id": "e9e03fd8-5725-4aa5-a702-6ae0e931f0a3",
   "metadata": {},
   "outputs": [],
   "source": [
    "#Select the columns that we are interested in \n",
    "comments=posts[['post_id','number_comments']]\n",
    "\n",
    "#Sort the df by the columns \"number_comments\", ascending = False, to find the top\n",
    "top_comm=comments.sort_values(by='number_comments', ascending=False)\n",
    "\n",
    "#Sort the df by the columns \"number_comments\", ascending = True, to find the bottom\n",
    "least_comm=comments.sort_values(by='number_comments', ascending=True)"
   ]
  },
  {
   "cell_type": "code",
   "execution_count": null,
   "id": "f13bc551",
   "metadata": {},
   "outputs": [],
   "source": [
    "#This is the top 10 of posts which have the most number of comments\n",
    "top_comm.head(10)"
   ]
  },
  {
   "cell_type": "code",
   "execution_count": null,
   "id": "78a2c506",
   "metadata": {},
   "outputs": [],
   "source": [
    "#These are the 10 posts which have the least number of comments\n",
    "least_comm.head(10)\n",
    "\n",
    "\n",
    "#There are many posts with zero comment, these are only ten of them, randomly"
   ]
  },
  {
   "cell_type": "markdown",
   "id": "55baf247-8272-4418-b08a-7ad7a40a0003",
   "metadata": {
    "jp-MarkdownHeadingCollapsed": true,
    "tags": []
   },
   "source": [
    "## RQ2.4 How many posts include tagged locations, and how many do not? Show it using an appropriate chart and comment your results."
   ]
  },
  {
   "cell_type": "code",
   "execution_count": null,
   "id": "f3dbd58b-9c8b-4fa8-b189-d93cafaa175d",
   "metadata": {},
   "outputs": [],
   "source": [
    "#Since we dropped all the rows containing Na values we are gonna read again the post file only with the selected columns\n",
    "\n",
    "posts2= dt.fread(\"instagram_posts.csv\", columns= [['location_id','post_id']])\n",
    "\n",
    "#Select all the rows without Na values in it\n",
    "yes_location=len(pos\n",
    "\n",
    "#Select all the rows with Na values in it\n",
    "no_location = len(posts2[np.isnan(posts2['location_id']) == True])"
   ]
  },
  {
   "cell_type": "code",
   "execution_count": null,
   "id": "0df04499",
   "metadata": {},
   "outputs": [],
   "source": [
    "#Showing the result using a pie chart, which is very usefull to catch the difference between the \n",
    "total_posts=yes_location+no_location\n",
    "yes_perc='{:.1%}'.format(yes_location/total_posts)\n",
    "no_perc='{:.1%}'.format(no_location/total_posts)\n",
    "myexplode=[0.0,0.1]\n",
    "\n",
    "#The plots\n",
    "fig, axs = plt.subplots(1,2)\n",
    "axs[0].pie([yes_location,no_location], labels=[yes_perc,no_perc], \n",
    "        labeldistance=1.15, colors=['steelblue','chocolate'], \n",
    "           explode=myexplode)\n",
    "axs[1].pie([yes_location,no_location], labels=['{:,}'.format(yes_location),'{:,}'.format(no_location)], \n",
    "        labeldistance=1.15, colors=['steelblue','chocolate'], explode=myexplode)\n",
    "plt.legend(['yes_location','no_location'], bbox_to_anchor=(0.85,1.025), loc=\"upper left\")\n",
    "\n",
    "# Some cool features\n",
    "fig.tight_layout(pad=2.0)\n",
    "fig.set_figheight(15)\n",
    "fig.set_figwidth(15)\n",
    "plt.show() #remove the annoying text"
   ]
  },
  {
   "cell_type": "markdown",
   "id": "24bb464e-28f9-41f7-8972-c0df78f2ab43",
   "metadata": {},
   "source": [
    "#### What did we get?"
   ]
  },
  {
   "cell_type": "markdown",
   "id": "08536feb-2eb3-4aa8-82f5-068ae85ef87a",
   "metadata": {},
   "source": [
    "As we can see, the pie chart hightlights how small is the percentage of posts that do not include a tagged position. On the other side, the majority of the analyzed posts include tagged location."
   ]
  },
  {
   "cell_type": "markdown",
   "id": "f1620b75-1304-412a-a070-1b1e5f00ece1",
   "metadata": {
    "jp-MarkdownHeadingCollapsed": true,
    "tags": []
   },
   "source": [
    "## RQ2.5 How many posts include only photos? How many also have videos?"
   ]
  },
  {
   "cell_type": "code",
   "execution_count": null,
   "id": "f963b2d1-035c-4aea-b32b-9588a9c91fae",
   "metadata": {},
   "outputs": [],
   "source": [
    "#first we groupBy and count by \"post_type\"\n",
    "total=posts[['post_type','post_id']].groupby('post_type').count()\n",
    "\n",
    "#number of post that incluse photos\n",
    "photos=int(total.values[0])\n",
    "\n",
    "#number of video that include videos\n",
    "photos_and_videos=int(total.values[2])"
   ]
  },
  {
   "cell_type": "code",
   "execution_count": null,
   "id": "9f35c3b8-da89-4023-ac47-dd4fe317467e",
   "metadata": {},
   "outputs": [],
   "source": [
    "print('The posts that include only photos are: ','{:,}'.format(photos))\n",
    "\n",
    "print('The posts that include both photos and videos are: ','{:,}'.format(photos_and_videos))"
   ]
  },
  {
   "cell_type": "markdown",
   "id": "1bb7a2b3-8b9e-4c74-91ed-9e5ccada545a",
   "metadata": {
    "jp-MarkdownHeadingCollapsed": true,
    "tags": []
   },
   "source": [
    "## RQ2.6 What's the percentage of business accounts vs non-business? What can you interpret regarding that percentage?"
   ]
  },
  {
   "cell_type": "code",
   "execution_count": null,
   "id": "73a14936",
   "metadata": {},
   "outputs": [],
   "source": [
    "#Let's select the variables we are interested in \n",
    "profiles2 = profiles[['is_business_account','profile_name']]\n",
    "\n",
    "# Cool, now let's count how many business account\n",
    "Business_account=len(profiles2[profiles2['is_business_account'] == True])\n",
    "\n",
    "# Now let's count how many NOT business account\n",
    "Not_business_account= len(profiles[profiles['is_business_account'] == False])"
   ]
  },
  {
   "cell_type": "code",
   "execution_count": null,
   "id": "671af3db",
   "metadata": {},
   "outputs": [],
   "source": [
    "#Now let's give a look at the percentage of Business Account on the total amount of accounts\n",
    "'{:.1%}'.format(Business_account/(Business_account+Not_business_account))"
   ]
  },
  {
   "cell_type": "code",
   "execution_count": null,
   "id": "0d1e7055",
   "metadata": {},
   "outputs": [],
   "source": [
    "#Showing the result using a pie chart, which is very usefull to catch the difference between the \n",
    "total_account=Business_account+Not_business_account\n",
    "yes_perc='{:.1%}'.format(Business_account/total_account)\n",
    "no_perc='{:.1%}'.format(Not_business_account/total_account)\n",
    "myexplode=[0.0,0.1]\n",
    "\n",
    "#The plots\n",
    "fig, axs = plt.subplots(1,2, figsize=(8,8))\n",
    "axs[0].pie([Business_account,Not_business_account], labels=[yes_perc,no_perc], \n",
    "        labeldistance=1.15, colors=['steelblue','chocolate'], \n",
    "           explode=myexplode)\n",
    "axs[1].pie([Business_account,Not_business_account], labels=['{:,}'.format(Business_account),'{:,}'.format(Not_business_account)], \n",
    "        labeldistance=1.15, colors=['steelblue','chocolate'], explode=myexplode)\n",
    "plt.legend(['Business_account','Not_business_account'], bbox_to_anchor=(1.25,1.125), loc=\"upper left\")\n",
    "\n",
    "# Some cool features\n",
    "fig.tight_layout(pad=2.0)\n",
    "fig.set_figheight(15)\n",
    "fig.set_figwidth(15)\n",
    "plt.show() #remove the annoying text"
   ]
  },
  {
   "cell_type": "markdown",
   "id": "ed0d6213-fca5-440b-a44f-d869c1e9fe37",
   "metadata": {},
   "source": [
    "Since the percentage of business account on the total account is 24.8%, it means that for 3 non-business account there is a business account on our dataset. "
   ]
  },
  {
   "cell_type": "markdown",
   "id": "3b23dab9-be87-4296-b2b9-3acc0ab75027",
   "metadata": {
    "jp-MarkdownHeadingCollapsed": true,
    "tags": []
   },
   "source": [
    "# [RQ3] Now it's important to understand the most common times in which users publish their posts"
   ]
  },
  {
   "cell_type": "markdown",
   "id": "e21dec3a-d4da-4949-9a4e-2866186b2af4",
   "metadata": {
    "jp-MarkdownHeadingCollapsed": true,
    "tags": []
   },
   "source": [
    "## RQ3.1 What is the most common time in which users publish their posts?"
   ]
  },
  {
   "cell_type": "code",
   "execution_count": null,
   "id": "10bc4a6a",
   "metadata": {},
   "outputs": [],
   "source": [
    "#Let's select the variables we are interested in \n",
    "posts2=posts[['cts','post_id']]\n",
    "posts2['cts'] = pd.to_datetime(posts2['cts']).dt.time\n",
    "\n",
    "#Now let's count how many posts there are for each time\n",
    "total_time=posts2.groupby('cts').count()\n",
    "\n",
    "#reset the index\n",
    "total_time.reset_index(inplace=True)\n",
    "\n",
    "#Then sort it and select the 5 most common time\n",
    "top_5_times= total_time.sort_values('post_id',ascending=False).head(5)\n",
    "\n",
    "top_5_times['cts'].head()"
   ]
  },
  {
   "cell_type": "code",
   "execution_count": null,
   "id": "b98ab170",
   "metadata": {},
   "outputs": [],
   "source": [
    "# Then the most common time\n",
    "most_common_time=top_5_times[['cts']].head(1)\n",
    "for i in most_common_time.cts:\n",
    "    print('The most common time in which users publish their posts is '+ str(i)+'.')\n"
   ]
  },
  {
   "cell_type": "markdown",
   "id": "f417a4d7-c7e5-40f2-b872-89b842b003b6",
   "metadata": {
    "jp-MarkdownHeadingCollapsed": true,
    "tags": []
   },
   "source": [
    "## RQ3.2 Create a function that receives a time intervals list as a parameter and returns a plot with the number of posts for each given interval."
   ]
  },
  {
   "cell_type": "markdown",
   "id": "36059d23",
   "metadata": {},
   "source": [
    "The function created for this Task can be seen in the \"functions.py\" files in the main repository, it is called **time_intervals**."
   ]
  },
  {
   "cell_type": "markdown",
   "id": "a6e48370-b61f-4261-bab8-f31d425752eb",
   "metadata": {},
   "source": [
    "## RQ3.3 Use the function that you created in the previous literal to plot the number of posts between the following time intervals:\n",
    "| Initial time | Final time   |\n",
    "|--------------|--------------|\n",
    "|   06:00:00   |    10:59:59  |\n",
    "|   11:00:00   |    13:59:59  |\n",
    "|   14:00:00   |    16:59:59  |\n",
    "|   17:00:00   |    19:59:59  |\n",
    "|   20:00:00   |    23:59:59  |\n",
    "|   00:00:00   |    02:59:59  |\n",
    "|   03:00:00   |    05:59:59  |\n",
    "\n"
   ]
  },
  {
   "cell_type": "code",
   "execution_count": 7,
   "id": "2035ae5e",
   "metadata": {},
   "outputs": [
    {
     "name": "stderr",
     "output_type": "stream",
     "text": [
      "/Users/the_redd_/Desktop/ADM/ADM-HMW2/functions.py:9: SettingWithCopyWarning: \n",
      "A value is trying to be set on a copy of a slice from a DataFrame.\n",
      "Try using .loc[row_indexer,col_indexer] = value instead\n",
      "\n",
      "See the caveats in the documentation: https://pandas.pydata.org/pandas-docs/stable/user_guide/indexing.html#returning-a-view-versus-a-copy\n",
      "  posts2['cts'] = pd.to_datetime(posts2['cts']).dt.time\n"
     ]
    },
    {
     "data": {
      "image/png": "[encoded data removed]",
      "text/plain": [
       "<Figure size 1080x360 with 1 Axes>"
      ]
     },
     "metadata": {
      "needs_background": "light"
     },
     "output_type": "display_data"
    }
   ],
   "source": [
    "first_interval=[['06:00:00'],['10:59:59']]\n",
    "second_interval=[['11:00:00'],['13:59:59']]\n",
    "third_interval=[['14:00:00'],['16:59:59']]\n",
    "fourth_interval=[['17:00:00'],['19:59:59']]\n",
    "fifth_interval=[['20:00:00'],['23:59:59']]\n",
    "sixth_interval=[['00:00:00'],['02:59:59']]\n",
    "seventh_interval=[['03:00:00'],['05:59:59']]\n",
    "\n",
    "intervals=[first_interval,second_interval,third_interval,fourth_interval,fifth_interval,sixth_interval,seventh_interval]\n",
    "\n",
    "time_intervals(posts,intervals,'post_id')"
   ]
  },
  {
   "cell_type": "markdown",
   "id": "a2e7dd5c",
   "metadata": {},
   "source": [
    "As we can see, the users mainly prefer to post between 20:00:00 and 23:59:59, while from 03:00:00 to 05:59:59 is the most uncommon time to post."
   ]
  },
  {
   "cell_type": "markdown",
   "id": "ab11d06e-b8bf-4bde-bbe8-0cfe086c290c",
   "metadata": {
    "jp-MarkdownHeadingCollapsed": true,
    "tags": []
   },
   "source": [
    "# [RQ4] In most cases, we will not have a consistent dataset, and the one we are dealing with is not an exception (ex. in the given datasets, you may not find the information of the profiles for some of the posts). So let’s enhance our analysis."
   ]
  },
  {
   "cell_type": "markdown",
   "id": "8dbffee7-1632-410d-8a30-a0b9fb4b07a7",
   "metadata": {
    "jp-MarkdownHeadingCollapsed": true,
    "tags": []
   },
   "source": [
    "## RQ4.1 Write a function that, given a profile_id, will be able to return the posts that belong to the given profile_id."
   ]
  },
  {
   "cell_type": "markdown",
   "id": "dbe04d48",
   "metadata": {},
   "source": [
    "The function created for this Task can be seen in the \"functions.py\" files in the main repository, it is called **searchpost**."
   ]
  },
  {
   "cell_type": "code",
   "execution_count": 11,
   "id": "0817ff04-4cae-4820-99f8-eb7627a5c3e4",
   "metadata": {},
   "outputs": [
    {
     "data": {
      "text/html": [
       "<div>\n",
       "<style scoped>\n",
       "    .dataframe tbody tr th:only-of-type {\n",
       "        vertical-align: middle;\n",
       "    }\n",
       "\n",
       "    .dataframe tbody tr th {\n",
       "        vertical-align: top;\n",
       "    }\n",
       "\n",
       "    .dataframe thead th {\n",
       "        text-align: right;\n",
       "    }\n",
       "</style>\n",
       "<table border=\"1\" class=\"dataframe\">\n",
       "  <thead>\n",
       "    <tr style=\"text-align: right;\">\n",
       "      <th></th>\n",
       "      <th>post_id</th>\n",
       "      <th>profile_id</th>\n",
       "      <th>numbr_likes</th>\n",
       "      <th>number_comments</th>\n",
       "      <th>location_id</th>\n",
       "      <th>post_type</th>\n",
       "      <th>cts</th>\n",
       "    </tr>\n",
       "  </thead>\n",
       "  <tbody>\n",
       "    <tr>\n",
       "      <th>1781533</th>\n",
       "      <td>EQltd</td>\n",
       "      <td>3.0</td>\n",
       "      <td>390.0</td>\n",
       "      <td>27.0</td>\n",
       "      <td>1.444006e+06</td>\n",
       "      <td>1</td>\n",
       "      <td>2011-05-15 04:33:23</td>\n",
       "    </tr>\n",
       "    <tr>\n",
       "      <th>1939650</th>\n",
       "      <td>vY</td>\n",
       "      <td>3.0</td>\n",
       "      <td>92.0</td>\n",
       "      <td>5.0</td>\n",
       "      <td>2.166905e+08</td>\n",
       "      <td>1</td>\n",
       "      <td>2010-09-05 21:48:24</td>\n",
       "    </tr>\n",
       "    <tr>\n",
       "      <th>2665638</th>\n",
       "      <td>QK72l</td>\n",
       "      <td>3.0</td>\n",
       "      <td>1295.0</td>\n",
       "      <td>23.0</td>\n",
       "      <td>2.435929e+08</td>\n",
       "      <td>1</td>\n",
       "      <td>2011-10-15 05:12:17</td>\n",
       "    </tr>\n",
       "    <tr>\n",
       "      <th>3111012</th>\n",
       "      <td>SYx-3pABAy</td>\n",
       "      <td>3.0</td>\n",
       "      <td>7477.0</td>\n",
       "      <td>132.0</td>\n",
       "      <td>1.029824e+09</td>\n",
       "      <td>1</td>\n",
       "      <td>2012-11-23 22:30:38</td>\n",
       "    </tr>\n",
       "    <tr>\n",
       "      <th>4225968</th>\n",
       "      <td>cz</td>\n",
       "      <td>3.0</td>\n",
       "      <td>115.0</td>\n",
       "      <td>8.0</td>\n",
       "      <td>8.030000e+02</td>\n",
       "      <td>1</td>\n",
       "      <td>2010-08-21 06:40:27</td>\n",
       "    </tr>\n",
       "    <tr>\n",
       "      <th>7017554</th>\n",
       "      <td>TxM22</td>\n",
       "      <td>3.0</td>\n",
       "      <td>3343.0</td>\n",
       "      <td>87.0</td>\n",
       "      <td>5.400000e+01</td>\n",
       "      <td>1</td>\n",
       "      <td>2011-11-12 07:12:24</td>\n",
       "    </tr>\n",
       "    <tr>\n",
       "      <th>7042626</th>\n",
       "      <td>NQD4KAABKF</td>\n",
       "      <td>3.0</td>\n",
       "      <td>6417.0</td>\n",
       "      <td>148.0</td>\n",
       "      <td>2.705200e+04</td>\n",
       "      <td>1</td>\n",
       "      <td>2012-07-19 07:36:52</td>\n",
       "    </tr>\n",
       "    <tr>\n",
       "      <th>30920283</th>\n",
       "      <td>L-RzGwgBFZ</td>\n",
       "      <td>3.0</td>\n",
       "      <td>7020.0</td>\n",
       "      <td>226.0</td>\n",
       "      <td>2.151232e+08</td>\n",
       "      <td>1</td>\n",
       "      <td>2012-06-17 13:20:48</td>\n",
       "    </tr>\n",
       "    <tr>\n",
       "      <th>32570511</th>\n",
       "      <td>J5pNU</td>\n",
       "      <td>3.0</td>\n",
       "      <td>1392.0</td>\n",
       "      <td>56.0</td>\n",
       "      <td>3.399500e+04</td>\n",
       "      <td>1</td>\n",
       "      <td>2011-08-11 03:13:56</td>\n",
       "    </tr>\n",
       "    <tr>\n",
       "      <th>33906912</th>\n",
       "      <td>NLGU6</td>\n",
       "      <td>3.0</td>\n",
       "      <td>1501.0</td>\n",
       "      <td>43.0</td>\n",
       "      <td>2.191180e+05</td>\n",
       "      <td>1</td>\n",
       "      <td>2011-09-16 01:24:41</td>\n",
       "    </tr>\n",
       "    <tr>\n",
       "      <th>35149671</th>\n",
       "      <td>m</td>\n",
       "      <td>3.0</td>\n",
       "      <td>85223.0</td>\n",
       "      <td>656.0</td>\n",
       "      <td>1.000000e+01</td>\n",
       "      <td>1</td>\n",
       "      <td>2010-07-19 01:12:23</td>\n",
       "    </tr>\n",
       "    <tr>\n",
       "      <th>38385252</th>\n",
       "      <td>VPjQeqgBBy</td>\n",
       "      <td>3.0</td>\n",
       "      <td>6918.0</td>\n",
       "      <td>108.0</td>\n",
       "      <td>2.476701e+08</td>\n",
       "      <td>1</td>\n",
       "      <td>2013-02-02 22:02:59</td>\n",
       "    </tr>\n",
       "    <tr>\n",
       "      <th>39158080</th>\n",
       "      <td>0vQf</td>\n",
       "      <td>3.0</td>\n",
       "      <td>127.0</td>\n",
       "      <td>7.0</td>\n",
       "      <td>1.526200e+04</td>\n",
       "      <td>1</td>\n",
       "      <td>2011-01-01 23:56:12</td>\n",
       "    </tr>\n",
       "    <tr>\n",
       "      <th>39517938</th>\n",
       "      <td>xI</td>\n",
       "      <td>3.0</td>\n",
       "      <td>90.0</td>\n",
       "      <td>5.0</td>\n",
       "      <td>7.374005e+08</td>\n",
       "      <td>1</td>\n",
       "      <td>2010-09-06 18:36:05</td>\n",
       "    </tr>\n",
       "  </tbody>\n",
       "</table>\n",
       "</div>"
      ],
      "text/plain": [
       "             post_id  profile_id  numbr_likes  number_comments   location_id  \\\n",
       "1781533        EQltd         3.0        390.0             27.0  1.444006e+06   \n",
       "1939650           vY         3.0         92.0              5.0  2.166905e+08   \n",
       "2665638        QK72l         3.0       1295.0             23.0  2.435929e+08   \n",
       "3111012   SYx-3pABAy         3.0       7477.0            132.0  1.029824e+09   \n",
       "4225968           cz         3.0        115.0              8.0  8.030000e+02   \n",
       "7017554        TxM22         3.0       3343.0             87.0  5.400000e+01   \n",
       "7042626   NQD4KAABKF         3.0       6417.0            148.0  2.705200e+04   \n",
       "30920283  L-RzGwgBFZ         3.0       7020.0            226.0  2.151232e+08   \n",
       "32570511       J5pNU         3.0       1392.0             56.0  3.399500e+04   \n",
       "33906912       NLGU6         3.0       1501.0             43.0  2.191180e+05   \n",
       "35149671           m         3.0      85223.0            656.0  1.000000e+01   \n",
       "38385252  VPjQeqgBBy         3.0       6918.0            108.0  2.476701e+08   \n",
       "39158080        0vQf         3.0        127.0              7.0  1.526200e+04   \n",
       "39517938          xI         3.0         90.0              5.0  7.374005e+08   \n",
       "\n",
       "          post_type                 cts  \n",
       "1781533           1 2011-05-15 04:33:23  \n",
       "1939650           1 2010-09-05 21:48:24  \n",
       "2665638           1 2011-10-15 05:12:17  \n",
       "3111012           1 2012-11-23 22:30:38  \n",
       "4225968           1 2010-08-21 06:40:27  \n",
       "7017554           1 2011-11-12 07:12:24  \n",
       "7042626           1 2012-07-19 07:36:52  \n",
       "30920283          1 2012-06-17 13:20:48  \n",
       "32570511          1 2011-08-11 03:13:56  \n",
       "33906912          1 2011-09-16 01:24:41  \n",
       "35149671          1 2010-07-19 01:12:23  \n",
       "38385252          1 2013-02-02 22:02:59  \n",
       "39158080          1 2011-01-01 23:56:12  \n",
       "39517938          1 2010-09-06 18:36:05  "
      ]
     },
     "execution_count": 11,
     "metadata": {},
     "output_type": "execute_result"
    }
   ],
   "source": [
    "searchpost(posts,profile_id=3.0)"
   ]
  },
  {
   "cell_type": "markdown",
   "id": "5ae9958e-e09f-41f4-8450-2dbcea10203a",
   "metadata": {
    "jp-MarkdownHeadingCollapsed": true,
    "tags": []
   },
   "source": [
    "## RQ4.2 Write another function that, given an input n (an integer), will return the posts that belong to the n top posted profiles (top n profiles that have posted the highest number of posts) that their data is available in the profile.csv using the previously written function."
   ]
  },
  {
   "cell_type": "markdown",
   "id": "f0017b42",
   "metadata": {},
   "source": [
    "The function created for this Task can be seen in the \"functions.py\" files in the main repository, it is called **top_posts**."
   ]
  },
  {
   "cell_type": "code",
   "execution_count": 10,
   "id": "29005b20-5811-4437-b010-1334a7d08de0",
   "metadata": {},
   "outputs": [
    {
     "ename": "NameError",
     "evalue": "name 'profiles' is not defined",
     "output_type": "error",
     "traceback": [
      "\u001b[0;31m---------------------------------------------------------------------------\u001b[0m",
      "\u001b[0;31mNameError\u001b[0m                                 Traceback (most recent call last)",
      "\u001b[0;32m/var/folders/f8/5qj1kgpj0jv663dcg8r4dqwr0000gn/T/ipykernel_64112/672235715.py\u001b[0m in \u001b[0;36m<module>\u001b[0;34m\u001b[0m\n\u001b[0;32m----> 1\u001b[0;31m \u001b[0mtop_profiles\u001b[0m\u001b[0;34m=\u001b[0m\u001b[0mtop_posts\u001b[0m\u001b[0;34m(\u001b[0m\u001b[0mposts\u001b[0m\u001b[0;34m,\u001b[0m\u001b[0;36m10\u001b[0m\u001b[0;34m)\u001b[0m\u001b[0;34m\u001b[0m\u001b[0;34m\u001b[0m\u001b[0m\n\u001b[0m\u001b[1;32m      2\u001b[0m \u001b[0mtop_profiles\u001b[0m\u001b[0;34m\u001b[0m\u001b[0;34m\u001b[0m\u001b[0m\n",
      "\u001b[0;32m~/Desktop/ADM/ADM-HMW2/functions.py\u001b[0m in \u001b[0;36mtop_posts\u001b[0;34m(posts, n)\u001b[0m\n\u001b[1;32m     49\u001b[0m \u001b[0;34m\u001b[0m\u001b[0m\n\u001b[1;32m     50\u001b[0m     \u001b[0mdf\u001b[0m\u001b[0;34m=\u001b[0m\u001b[0mpd\u001b[0m\u001b[0;34m.\u001b[0m\u001b[0mDataFrame\u001b[0m\u001b[0;34m(\u001b[0m\u001b[0mcolumns\u001b[0m\u001b[0;34m=\u001b[0m\u001b[0;34m[\u001b[0m\u001b[0;34m'profile_id'\u001b[0m\u001b[0;34m,\u001b[0m\u001b[0;34m'post_id'\u001b[0m\u001b[0;34m]\u001b[0m\u001b[0;34m)\u001b[0m\u001b[0;34m\u001b[0m\u001b[0;34m\u001b[0m\u001b[0m\n\u001b[0;32m---> 51\u001b[0;31m     \u001b[0mtop\u001b[0m\u001b[0;34m=\u001b[0m\u001b[0mprofiles\u001b[0m\u001b[0;34m.\u001b[0m\u001b[0msort_values\u001b[0m\u001b[0;34m(\u001b[0m\u001b[0mby\u001b[0m\u001b[0;34m=\u001b[0m\u001b[0;34m'n_posts'\u001b[0m\u001b[0;34m,\u001b[0m \u001b[0mascending\u001b[0m\u001b[0;34m=\u001b[0m\u001b[0;32mFalse\u001b[0m\u001b[0;34m)\u001b[0m\u001b[0;34m.\u001b[0m\u001b[0mhead\u001b[0m\u001b[0;34m(\u001b[0m\u001b[0mn\u001b[0m\u001b[0;34m)\u001b[0m\u001b[0;34m\u001b[0m\u001b[0;34m\u001b[0m\u001b[0m\n\u001b[0m\u001b[1;32m     52\u001b[0m     \u001b[0;32mfor\u001b[0m \u001b[0mprofile_id\u001b[0m \u001b[0;32min\u001b[0m \u001b[0mtop\u001b[0m\u001b[0;34m.\u001b[0m\u001b[0mprofile_id\u001b[0m\u001b[0;34m.\u001b[0m\u001b[0mvalues\u001b[0m\u001b[0;34m:\u001b[0m\u001b[0;34m\u001b[0m\u001b[0;34m\u001b[0m\u001b[0m\n\u001b[1;32m     53\u001b[0m         \u001b[0mdf\u001b[0m\u001b[0;34m=\u001b[0m\u001b[0mpd\u001b[0m\u001b[0;34m.\u001b[0m\u001b[0mconcat\u001b[0m\u001b[0;34m(\u001b[0m\u001b[0;34m[\u001b[0m\u001b[0mdf\u001b[0m\u001b[0;34m,\u001b[0m\u001b[0msearchpost\u001b[0m\u001b[0;34m(\u001b[0m\u001b[0mposts\u001b[0m\u001b[0;34m,\u001b[0m\u001b[0mprofile_id\u001b[0m\u001b[0;34m)\u001b[0m\u001b[0;34m]\u001b[0m\u001b[0;34m)\u001b[0m\u001b[0;34m\u001b[0m\u001b[0;34m\u001b[0m\u001b[0m\n",
      "\u001b[0;31mNameError\u001b[0m: name 'profiles' is not defined"
     ]
    }
   ],
   "source": [
    "top_profiles=top_posts(profiles=profiles,posts=posts,10)\n",
    "top_profiles.head()"
   ]
  },
  {
   "cell_type": "markdown",
   "id": "b104e882-bef2-4d16-beda-608867a64053",
   "metadata": {
    "jp-MarkdownHeadingCollapsed": true,
    "tags": []
   },
   "source": [
    "## RQ4.3 What is the average number of \"likes\" and comments of the top 10 profiles with the highest number of posts which their information is available in profile.csv?"
   ]
  },
  {
   "cell_type": "code",
   "execution_count": null,
   "id": "7fc3a8e4-b796-4205-9f0b-c2c0de06005d",
   "metadata": {},
   "outputs": [],
   "source": [
    "top_ten=top_posts(posts,10)\n",
    "\n",
    "#Let's see the distribution of likes \n",
    "plt.hist(top_ten['numbr_likes'])\n",
    "plt.show()\n",
    "\n",
    "#The average of \"likes\" of the top 10 profiles with the highest number of posts\n",
    "top_ten['numbr_likes'].mean()\n",
    "\n",
    "#Let's check the median in order to know moe about our distribution\n",
    "top_ten['numbr_likes'].median()"
   ]
  },
  {
   "cell_type": "markdown",
   "id": "375b7338-80ba-4e37-8077-321fbcd67e7b",
   "metadata": {},
   "source": [
    "Since the median (2.0) is smaller than the average (3.17), it means that our distribution is asymmetric due to some posts which have a huge amount of likes, as matter of fact, the mean is a statistic influenced by exteme observations. On the other hand, the median is a **robust statistic** because it is not affected by outliers. In our case, we can see that half of the posts have less than 2 likes, while the other half have more than 2 likes."
   ]
  },
  {
   "cell_type": "code",
   "execution_count": null,
   "id": "b4be80c2-76b4-468a-8cd7-a364e45665fc",
   "metadata": {},
   "outputs": [],
   "source": [
    "#Let's see the distribution of likes \n",
    "plt.hist(top_ten['number_comments'])\n",
    "plt.show()"
   ]
  },
  {
   "cell_type": "code",
   "execution_count": null,
   "id": "193e1050-aaeb-4b24-9189-1d0ab9c53760",
   "metadata": {},
   "outputs": [],
   "source": [
    "#The average of \"comments\" of the top 10 profiles with the highest number of posts\n",
    "mean = top_ten['number_comments'].mean()\n",
    "\n",
    "#The median of \"comments\" of the top 10 profiles with the highest number of posts\n",
    "median = top_ten['number_comments'].median()"
   ]
  },
  {
   "cell_type": "code",
   "execution_count": null,
   "id": "b73eaccb",
   "metadata": {},
   "outputs": [],
   "source": [
    "print(\"The mean: \", mean)\n",
    "print(\"The median: \", median)"
   ]
  },
  {
   "cell_type": "markdown",
   "id": "3736a78b-e051-4e82-b2e8-aa8b962af18a",
   "metadata": {},
   "source": [
    "Taking into account the comments of the top 10 profiles with the highest number of posts, we can see how, on average, the posts show no comments, except for some posts which have less than 3. "
   ]
  },
  {
   "cell_type": "markdown",
   "id": "01acc600-6f2e-4dda-a69b-df00fa8456bd",
   "metadata": {
    "jp-MarkdownHeadingCollapsed": true,
    "tags": []
   },
   "source": [
    "## RQ4.4 Plot the number of posts that these top 10 profiles have sent on Instagram in the given interval in question RQ3. Interpret the resulting chart."
   ]
  },
  {
   "cell_type": "code",
   "execution_count": null,
   "id": "c6a0ee71-b9b6-438f-a1da-80800cb6ce6e",
   "metadata": {},
   "outputs": [],
   "source": [
    "first_interval=[['06:00:00'],['10:59:59']]\n",
    "second_interval=[['11:00:00'],['13:59:59']]\n",
    "third_interval=[['14:00:00'],['16:59:59']]\n",
    "fourth_interval=[['17:00:00'],['19:59:59']]\n",
    "fifth_interval=[['20:00:00'],['23:59:59']]\n",
    "sixth_interval=[['00:00:00'],['02:59:59']]\n",
    "seventh_interval=[['03:00:00'],['05:59:59']]\n",
    "intervals=[seventh_interval,first_interval,second_interval,third_interval,fourth_interval,fifth_interval,sixth_interval]\n",
    "\n",
    "\n",
    "time_intervals(top_profiles,intervals,'post_id')"
   ]
  },
  {
   "cell_type": "markdown",
   "id": "aae98cf8",
   "metadata": {},
   "source": [
    "As we can see, considering only the top 10 profiles, the scenario changes completely. As a matter of fact, we see how the top ten profiles post mainly during the night and the early morning. On the other hand, considering all the profiles, the night is the less common time to post. More specifically, the most common interval considering all the profiles is between 20:00:00 and 23:59:59, while considering the top 10 profiles this is the most uncommon interval. "
   ]
  },
  {
   "cell_type": "markdown",
   "id": "f1972678-eabe-4c05-9e04-df3cb1ef7211",
   "metadata": {
    "tags": []
   },
   "source": [
    "# [RQ5] The most influential users are the ones with the highest number of “followers\", you can now look more into their activity."
   ]
  },
  {
   "cell_type": "markdown",
   "id": "cdc523d8-755c-47f4-bb8b-07b4e2b3e83d",
   "metadata": {
    "tags": []
   },
   "source": [
    "## RQ5.1 Plot the top 10 most popular users in terms of followers and their number of posts."
   ]
  },
  {
   "cell_type": "code",
   "execution_count": null,
   "id": "cf0f74de",
   "metadata": {},
   "outputs": [],
   "source": [
    "#Let's select the columns that we are interested in\n",
    "profiles2 = profiles[['profile_name','n_posts', 'followers','profile_id']]\n",
    "\n",
    "#Let's check for NaN values in 'n_posts'\n",
    "profiles2['n_posts'].isnull().sum()\n",
    "\n",
    "#Let's check for NaN values in 'follower'\n",
    "profiles2['followers'].isnull().sum()\n",
    "\n",
    "#Let's drop them\n",
    "profiles2.dropna(inplace=True)\n",
    "\n",
    "#Verify it\n",
    "profiles2['n_posts'].isnull().sum() == profiles2['followers'].isnull().sum() == 0\n",
    "\n",
    "#Let's sort profiles in ascending order by followers and n_posts\n",
    "top_profiles=profiles2.sort_values(by=['followers','n_posts'], ascending=False).head(10)\n"
   ]
  },
  {
   "cell_type": "code",
   "execution_count": null,
   "id": "b9b82c2e-ca3e-4690-82a8-ebded2dc3767",
   "metadata": {},
   "outputs": [],
   "source": [
    "#Now let's plot it\n",
    "#I'm using white labels because my theme on VS is dark\n",
    "fig, ax1 = plt.subplots(figsize=(15, 9))\n",
    "ax1.set_xlabel('Profile name',size=20)\n",
    "ax1.xaxis.label.set_color('black')\n",
    "ax1.yaxis.label.set_color('black')\n",
    "ax1.tick_params(axis='x', colors='black')\n",
    "ax1.tick_params(axis='y', colors='black')\n",
    "# plot line chart on axis #1\n",
    "ax1.bar(top_profiles['profile_name'], top_profiles['followers'], width=0.5, alpha=0.5, color='Blue')\n",
    "ax1.set_ylabel('Number of followers')\n",
    "plt.xticks(top_profiles['profile_name'], top_profiles['profile_name'], rotation='vertical')\n",
    "#ax1.set_ylim(0, 25)\n",
    "# set up the 2nd axis\n",
    "ax2 = ax1.twinx()\n",
    "ax2.yaxis.label.set_color('black')\n",
    "ax2.tick_params(axis='y', colors='black')\n",
    "\n",
    "\n",
    "# plot bar chart on axis #2\n",
    "ax2.bar(top_profiles['profile_name'], top_profiles['n_posts'], width=0.5, alpha=0.5, color='darkgreen', align='edge')\n",
    "ax2.grid(False) # turn off grid #2\n",
    "ax2.set_ylabel('Number of posts')\n",
    "#ax2.set_ylim(0, 90)\n",
    "fig.legend(['Followers','Posts'], loc=\"upper center\",bbox_to_anchor=(0.5, 0.3, 0.65, 0.5),fontsize='large')\n",
    "plt.show()"
   ]
  },
  {
   "cell_type": "markdown",
   "id": "0886c37c-9767-43ec-a6ef-d73420bc8ca9",
   "metadata": {
    "tags": []
   },
   "source": [
    "## RQ5.2 Who is the most influential user?"
   ]
  },
  {
   "cell_type": "code",
   "execution_count": null,
   "id": "76846afc",
   "metadata": {},
   "outputs": [],
   "source": [
    "profiles2 = profiles[['profile_name', 'followers', 'profile_id']]\n",
    "\n",
    "#Let's check for NaN values in 'n_posts'\n",
    "profiles2['followers'].isnull().sum()\n",
    "\n",
    "#Let's drop them\n",
    "profiles2.dropna(inplace=True)\n",
    "\n",
    "#Let's check for NaN values in 'follower' again\n",
    "profiles2['followers'].isnull().sum()\n",
    "\n",
    "#Verify it\n",
    "profiles2['followers'].isnull().sum() == 0\n",
    "\n",
    "#Let's sort\n",
    "sorted_profile=profiles2.sort_values(by='followers', ascending=False)"
   ]
  },
  {
   "cell_type": "code",
   "execution_count": null,
   "id": "c07f18b5-25f0-4a71-ad5b-f2052ad252f0",
   "metadata": {},
   "outputs": [],
   "source": [
    "# Let's see the result\n",
    "print('The most influential user is \"',sorted_profile.head(1)['profile_name'].values[0], \n",
    "      '\" with ','{:,}'.format(int(sorted_profile.head(1)['followers'])), ' followers')"
   ]
  },
  {
   "cell_type": "markdown",
   "id": "61bd66bf-f736-44e4-a85e-aa30e2af97e8",
   "metadata": {
    "tags": []
   },
   "source": [
    "## RQ5.3 Have they posted anything with tagged locations? Extract the most frequent areas on their posts and plot the number of times each city has been visited."
   ]
  },
  {
   "cell_type": "code",
   "execution_count": null,
   "id": "3e62eab8",
   "metadata": {},
   "outputs": [],
   "source": [
    "#Merge the 2 datasets on profile_id\n",
    "df=pd.merge(posts,top_profiles, on='profile_id')\n",
    "df=df[['location_id','post_id','profile_id']]\n",
    "\n",
    "#Rename the columns from \"location_id\" to \"id\"\n",
    "df.rename(columns={'location_id':'id'},inplace=True)\n",
    "\n",
    "#Merge df and locations on the key: \"id\"\n",
    "last_df=pd.merge(df,locations,on='id')\n",
    "\n",
    "#Let's do a group by \"city\" and count every occurence\n",
    "df_locations=last_df[['post_id','city']].groupby('city').count()\n",
    "\n",
    "#Sort values by \"post_id\" \n",
    "new_df_locations=df_locations.sort_values(by='post_id',ascending=False)\n"
   ]
  },
  {
   "cell_type": "code",
   "execution_count": null,
   "id": "697ea01e",
   "metadata": {},
   "outputs": [],
   "source": [
    "plt.figure(figsize=(20, 20))\n",
    "\n",
    "ax1=plt.bar(new_df_locations.index,new_df_locations.post_id,width=0.5, alpha=0.5, color='blue')\n",
    "\n",
    "plt.xticks(new_df_locations.index, new_df_locations.index, rotation='vertical')\n",
    "\n",
    "plt.show()"
   ]
  },
  {
   "cell_type": "markdown",
   "id": "75aea24c-1f3b-47d7-bb08-b88d7f7f6b6b",
   "metadata": {
    "jp-MarkdownHeadingCollapsed": true,
    "tags": []
   },
   "source": [
    "## RQ5.4 How many pictures-only posts have they published? How many reels? (only videos) and how many with both contents? Provide the number as percentages and interpret those figures."
   ]
  },
  {
   "cell_type": "code",
   "execution_count": null,
   "id": "a7003e78",
   "metadata": {},
   "outputs": [],
   "source": [
    "#Merge posts and top_profiles on the profile_id\n",
    "df=pd.merge(posts,top_profiles, on='profile_id')\n",
    "\n",
    "#select the columns that we are interested in\n",
    "df=df[['post_id','post_type']]\n",
    "\n",
    "# Select all the posts that are only pictures\n",
    "pictures_only=len(df[df.post_type==1])\n",
    "\n",
    "#Select all the posts that are only reel\n",
    "reel_only=len(df[df.post_type==2])\n",
    "\n",
    "#Select all the posts that are both\n",
    "reel_and_pictures=len(df[df.post_type==3])\n",
    "\n",
    "#Print out the result\n",
    "print('pictures_only: ',pictures_only)\n",
    "print('reel_only: ',reel_only)\n",
    "print('reel_and_pictures: ',reel_and_pictures)"
   ]
  },
  {
   "cell_type": "code",
   "execution_count": null,
   "id": "d3da0249",
   "metadata": {},
   "outputs": [],
   "source": [
    "#Let's see how many posts we are dealing with\n",
    "total_posts=len(df)"
   ]
  },
  {
   "cell_type": "code",
   "execution_count": null,
   "id": "2e460a10-6468-45ac-9e9f-c4329aa66faf",
   "metadata": {},
   "outputs": [],
   "source": [
    "#Showing the result using a pie chart, which is very usefull to catch the difference between the \n",
    "pictures_perc='{:.1%}'.format(pictures_only/total_posts)\n",
    "reel_perc='{:.1%}'.format(reel_only/total_posts)\n",
    "both_perc='{:.1%}'.format(reel_and_pictures/total_posts)\n",
    "myexplode=[0.0,0.1,0.0]\n",
    "\n",
    "#The plots\n",
    "fig, axs = plt.subplots(1,2)\n",
    "axs[0].pie([pictures_only,reel_only,reel_and_pictures], labels=[pictures_only,reel_only,reel_and_pictures], \n",
    "        labeldistance=1.15, colors=['steelblue','chocolate','darkgreen'], \n",
    "           explode=myexplode)\n",
    "axs[1].pie([pictures_only,reel_only,reel_and_pictures], labels=[pictures_perc,reel_perc,both_perc], \n",
    "        labeldistance=1.15, colors=['steelblue','chocolate','darkgreen'], explode=myexplode)\n",
    "plt.legend(['Only pictures','Only reel','Both pictures and video'], bbox_to_anchor=(0.85,1.025), loc=\"upper left\")\n",
    "\n",
    "# Some cool features\n",
    "fig.tight_layout(pad=2.0)\n",
    "fig.set_figheight(25)\n",
    "fig.set_figwidth(25)\n",
    "plt.show() #remove the annoying text"
   ]
  },
  {
   "cell_type": "markdown",
   "id": "115a738c",
   "metadata": {},
   "source": [
    "#### Comment of the results"
   ]
  },
  {
   "cell_type": "markdown",
   "id": "81d47bf5",
   "metadata": {},
   "source": [
    "As we can see, there is no top user's post with both pictures and reels. The majority (91.2%) of posts include only pictures, which means that the top user prefers to post mainly pictures, with some exceptions for reels, but never both."
   ]
  },
  {
   "cell_type": "markdown",
   "id": "019962ce-1872-495b-a2c7-49a9c137544e",
   "metadata": {
    "jp-MarkdownHeadingCollapsed": true,
    "tags": []
   },
   "source": [
    "## RQ5.5 How many \"likes\" and comments did posts with only pictures receive? How about videos and mixed posts? Try to provide the average numbers and confront them with their followers amount, explaining what you can say from that comparison."
   ]
  },
  {
   "cell_type": "code",
   "execution_count": null,
   "id": "3383806a-873d-414e-92ca-8ceda5a9d336",
   "metadata": {},
   "outputs": [],
   "source": [
    "#Let's create three datasets, for each post type\n",
    "\n",
    "df=pd.merge(posts,top_profiles, on='profile_id')\n",
    "df=df[['post_id','post_type','numbr_likes','number_comments']]\n",
    "\n",
    "#df with only pictures\n",
    "df_only_pictures=df[df.post_type == 1]\n",
    "\n",
    "#df with only reel\n",
    "df_only_reel=df[df.post_type == 2]\n",
    "\n",
    "#df with both\n",
    "df_mixed=df[df.post_type == 3]"
   ]
  },
  {
   "cell_type": "code",
   "execution_count": null,
   "id": "2cc27a1d",
   "metadata": {},
   "outputs": [],
   "source": [
    "#As for the posts including pictures only, let's count how many likes and comments they have \n",
    "only_pic_number_of_likes='{:,}'.format(int(df_only_pictures.numbr_likes.sum()))\n",
    "only_pic_number_of_comments='{:,}'.format(int(df_only_pictures.number_comments.sum()))\n",
    "\n",
    "#As for the posts including reel only, let's count how many likes and comments they have\n",
    "only_reel_number_of_likes='{:,}'.format(int(df_only_reel.numbr_likes.sum()))\n",
    "only_reel_number_of_comments='{:,}'.format(int(df_only_reel.number_comments.sum()))\n",
    "\n",
    "#As for the posts including both pictures and reels, let's count how many likes and comments they have\n",
    "mixed_number_of_likes='{:,}'.format(int(df_mixed.numbr_likes.sum()))\n",
    "mixed_number_of_comments='{:,}'.format(int(df_mixed.number_comments.sum()))"
   ]
  },
  {
   "cell_type": "code",
   "execution_count": null,
   "id": "16b8e521",
   "metadata": {},
   "outputs": [],
   "source": [
    "print('The posts with only pictures received',only_pic_number_of_likes,'likes.')\n",
    "print('The posts with only pictures received',only_pic_number_of_comments,'comments.')\n",
    "print('The posts with only reels received',only_reel_number_of_likes,'likes.')\n",
    "print('The posts with only reels received',only_reel_number_of_comments,'comments.')\n",
    "print('The mixed posts received',mixed_number_of_likes,'likes.')\n",
    "print('The mixed posts received',mixed_number_of_comments,'comments.')"
   ]
  },
  {
   "cell_type": "code",
   "execution_count": null,
   "id": "f240686f",
   "metadata": {},
   "outputs": [],
   "source": [
    "#Now let's compare the average of likes and comments with the number of followers\n",
    "\n",
    "#Compute the amount of followers\n",
    "followers_sum='{:,}'.format(int(top_profiles.followers.sum()))\n",
    "\n",
    "#Now the average of likes and comments left under only pictures posts\n",
    "only_pic_mean_number_of_likes='{:,}'.format(int(df_only_pictures.numbr_likes.mean()))\n",
    "only_pic_mean_number_of_comments='{:,}'.format(int(df_only_pictures.number_comments.mean()))\n",
    "\n",
    "\n",
    "#Now the average of likes and comments left under only reels posts\n",
    "only_reel_mean_number_of_likes='{:,}'.format(int(df_only_reel.numbr_likes.mean()))\n",
    "only_reel_mean_number_of_comments='{:,}'.format(int(df_only_reel.number_comments.mean()))\n",
    "\n",
    "\n",
    "#Now the average of likes and comments left under mixed posts\n",
    "mixed_mean_number_of_likes= 0 #since the sum is 0\n",
    "mixed_mean_number_of_comments=0 #since the sum is 0\n",
    "\n",
    "perc_only_pic_likes='{:.2%}'.format(int(df_only_pictures.numbr_likes.mean())/int(top_profiles.followers.sum()))\n",
    "perc_only_pic_comments='{:.3%}'.format(int(df_only_pictures.number_comments.mean())/int(top_profiles.followers.sum()))\n",
    "perc_only_reel_likes='{:.2%}'.format(int(df_only_reel.numbr_likes.mean())/int(top_profiles.followers.sum()))\n",
    "perc_only_reel_comments='{:.1%}'.format(int(df_only_reel.number_comments.mean())/int(top_profiles.followers.sum()))\n",
    "perc_mixed_likes='{:.1%}'.format(0) #since the mean is 0\n",
    "perc_mixed_comments='{:.1%}'.format(0) #since the mean is 0\n"
   ]
  },
  {
   "cell_type": "code",
   "execution_count": null,
   "id": "641c525e",
   "metadata": {},
   "outputs": [],
   "source": [
    "print('The total amount of follower is '+str(followers_sum)+'.')\n",
    "print('')\n",
    "print('The posts with only pictures received, on average, ',only_pic_mean_number_of_likes,'likes. This means that, on average, the',perc_only_pic_likes,'of the followers have left a like under a post of the top 10 users.')\n",
    "print('The posts with only pictures received, on average',only_pic_mean_number_of_comments,'comments. This means that, on average, the',perc_only_pic_comments,'of the followers have left a comment under a post of the top 10 users.')\n",
    "print('')\n",
    "print('The posts with only reels received, on average',only_reel_mean_number_of_likes,'likes. This means that, on average, the',perc_only_reel_likes,'of the followers have left a like under a post of the top 10 users.')\n",
    "print('The posts with only reels received, on average',only_reel_mean_number_of_comments,'comments. This means that, on average, the',perc_only_reel_comments,'of the followers have left a comment under a post of the top 10 users.')\n",
    "print('')\n",
    "print('The mixed posts received, on average',mixed_mean_number_of_likes,'likes. This means that, on average, the',perc_mixed_likes,'of the followers have left a like under a post of the top 10 users.')\n",
    "print('The mixed posts received, on average',mixed_mean_number_of_comments,'comments. This means that, on average, the',perc_mixed_comments,'of the followers have left a comment under a post of the top 10 users.')"
   ]
  },
  {
   "cell_type": "markdown",
   "id": "a2166408-b32e-4f28-aa46-2260d48a5e40",
   "metadata": {
    "jp-MarkdownHeadingCollapsed": true,
    "tags": []
   },
   "source": [
    "# [RQ6] It's time to get information from the user posting effectiveness."
   ]
  },
  {
   "cell_type": "markdown",
   "id": "c2ae003e-08d2-4e2a-9eaf-d2f4260d292b",
   "metadata": {
    "jp-MarkdownHeadingCollapsed": true,
    "tags": []
   },
   "source": [
    "## RQ6.1 What is the average time (days and minutes) a user lets pass before publishing another post? Plot the top 3 users that publish posts more frequently (calculate the average time that passes between posts), including their amount of followers and following. Provide insights from that chart.\n"
   ]
  },
  {
   "cell_type": "code",
   "execution_count": null,
   "id": "b500100e",
   "metadata": {},
   "outputs": [],
   "source": [
    "#Goal: pick only profile_id shared between posts and profiels"
   ]
  },
  {
   "cell_type": "code",
   "execution_count": null,
   "id": "efc0d814-c5fb-40ff-9f11-73ce4e10db04",
   "metadata": {},
   "outputs": [],
   "source": [
    "#Let's define the columns/variables we are interested in\n",
    "posts2=posts[['profile_id','cts','post_id']]\n",
    "\n",
    "# Then we sort and rop all NaN values\n",
    "posts2=posts2.sort_values(by=['profile_id','cts'],ascending=True)\n",
    "posts2.dropna(inplace=True)"
   ]
  },
  {
   "cell_type": "code",
   "execution_count": null,
   "id": "c88b3cb4",
   "metadata": {},
   "outputs": [],
   "source": [
    "# Then we sort and rop all NaN values\n",
    "posts2=posts2.sort_values(by=['profile_id','cts'],ascending=True)\n",
    "posts2.dropna(inplace=True)\n",
    "\n",
    "#Merge the posts and the profile on the key: \"profile_id\"\n",
    "new_merge2=pd.merge(posts2,profiles[['profile_id','followers','following']],on='profile_id')\n",
    "\n",
    "#Let's ignore profiles with no posts or ony 1 post in order to get meaningful sight. If a profile posted only one post, we are not able to compute the time between one post and another.\n",
    "some=new_merge2.groupby('profile_id').count()\n",
    "new_some=some[some.cts > 1]\n",
    "new_some=new_some.sort_values('cts', ascending=True)\n",
    "\n",
    "#Reset index\n",
    "new_some=new_some.reset_index()\n",
    "new_some[['profile_id']]\n",
    "\n",
    "#Merge the posts and the new_some to get the right \"cts\"\n",
    "new_merge=pd.merge(posts2,new_some,on='profile_id')\n",
    "new_merge=new_merge[['profile_id','cts_x']]\n",
    "new_merge.rename(columns={'cts_x':'cts'},inplace=True)"
   ]
  },
  {
   "cell_type": "code",
   "execution_count": null,
   "id": "eaec71aa",
   "metadata": {},
   "outputs": [],
   "source": [
    "\n",
    "diff2=new_merge.set_index('profile_id').diff()\n",
    "\n",
    "diff2.reset_index(inplace=True)\n",
    "diff2.drop_duplicates(inplace=True)\n",
    "\n",
    "diff2=diff2[diff2.cts > np.timedelta64(000000)]\n",
    "\n",
    "#Reset index\n",
    "diff2.reset_index(inplace=True)\n",
    "\n",
    "#Select only the columns i'm interested in\n",
    "diff2=diff2[['profile_id','cts']]\n",
    "\n",
    "#group by \"profile_id\" and do the mean, after that let's sort it in ascending order\n",
    "AA=diff2.groupby('profile_id').mean().sort_values('cts',ascending=True)\n",
    "AA.reset_index(inplace=True).head(3)\n",
    "\n",
    "these_profiles=AA[['profile_id']]"
   ]
  },
  {
   "cell_type": "code",
   "execution_count": null,
   "id": "9e51e90c",
   "metadata": {},
   "outputs": [],
   "source": [
    "diff2=new_merge.set_index('profile_id').diff()\n",
    "diff2.dropna(inplace=True)\n",
    "diff2.drop_duplicates(inplace=True)\n",
    "diff2=diff2[diff2.cts > np.timedelta64(000000)]\n",
    "diff2=diff2.sort_values(['profile_id','cts'],ascending=True)\n",
    "diff2\n",
    "#diff2.sort_values(['cts','profile_id'],ascending=False)"
   ]
  },
  {
   "cell_type": "code",
   "execution_count": null,
   "id": "0a6970c3",
   "metadata": {},
   "outputs": [],
   "source": [
    "#Create a copy of diff2\n",
    "diff3=diff2\n",
    "diff3.reset_index(inplace=True)\n",
    "diff3[diff3.profile_id == 14407647.0]\n",
    "\n",
    "something=diff3.groupby('profile_id').mean().sort_values('cts',ascending=True).head(10)\n",
    "something.reset_index(inplace=True)\n",
    "\n",
    "mean_time=diff2['cts'].mean()\n",
    "time_to_minutes=mean_time.seconds/60\n",
    "print('The average time (days and minutes) a user lets pass before publishing another post is: '+str(mean_time.days)+' days and '+str(int(time_to_minutes))+ ' minutes.')\n",
    "\n",
    "#Group By \"profile_id\" and count\n",
    "something=diff2.groupby('profile_id').count()\n",
    "\n",
    "#Reset index\n",
    "something.reset_index(inplace=True)"
   ]
  },
  {
   "cell_type": "code",
   "execution_count": null,
   "id": "f4e04690",
   "metadata": {},
   "outputs": [],
   "source": [
    "\n",
    "A[['cts']].sort_values('cts',ascending=True).diff().mean()"
   ]
  },
  {
   "cell_type": "code",
   "execution_count": null,
   "id": "f3490e5e",
   "metadata": {},
   "outputs": [],
   "source": [
    "first=profiles[profiles.profile_id == these_profiles.profile_id[0]][['followers','following','profile_name']]\n",
    "second=profiles[profiles.profile_id == these_profiles.profile_id[1]][['followers','following','profile_name']]\n",
    "third=profiles[profiles.profile_id == these_profiles.profile_id[2]][['followers','following','profile_name']]\n",
    "\n",
    "top3=pd.concat([first,second,third])\n",
    "\n",
    "top3_2=pd.concat([profiles[profiles.profile_name == 'lama_anbar'],profiles[profiles.profile_name == 'nachithogudino'],profiles[profiles.profile_name == 'inafasya77']])"
   ]
  },
  {
   "cell_type": "code",
   "execution_count": null,
   "id": "87c14432",
   "metadata": {},
   "outputs": [],
   "source": [
    "#Now let's plot it\n",
    "\n",
    "# I'm using white labels because my theme on VS is dark\n",
    "fig, ax1 = plt.subplots(figsize=(15, 9))\n",
    "ax1.set_xlabel('Profile name',size=20)\n",
    "ax1.xaxis.label.set_color('black')\n",
    "ax1.yaxis.label.set_color('black')\n",
    "ax1.tick_params(axis='x', colors='black')\n",
    "ax1.tick_params(axis='y', colors='black')\n",
    "\n",
    "# plot line chart on axis #1\n",
    "ax1.bar(top3['profile_name'], top3['followers'], width=0.5, alpha=0.4, color='Blue')\n",
    "ax1.set_ylabel('Number of followers')\n",
    "plt.xticks(top3['profile_name'], top3['profile_name'])\n",
    "\n",
    "# ax1.set_ylim(0, 25)\n",
    "# set up the 2nd axis\n",
    "\n",
    "ax2 = ax1.twinx()\n",
    "ax2.yaxis.label.set_color('black')\n",
    "ax2.tick_params(axis='y', colors='black')\n",
    "\n",
    "# plot bar chart on axis #2\n",
    "ax2.bar(top3['profile_name'], top3['following'], width=0.5, alpha=0.5, color='darkgreen', align='edge')\n",
    "ax2.grid(False) # turn off grid #2\n",
    "ax2.set_ylabel('Number of following')\n",
    "#ax2.set_ylim(0, 90)\n",
    "fig.legend(['Followers','Following'], loc=\"upper center\",bbox_to_anchor=(0.5, 0.3, 0.65, 0.5),fontsize='large')\n",
    "plt.show()"
   ]
  },
  {
   "cell_type": "markdown",
   "id": "097dddb2-6744-4767-a1d8-bb3c08549e83",
   "metadata": {},
   "source": [
    "## RQ6.2 Using the function you previously coded, plot the time intervals with the highest average number of “likes” and the ones with the highest average number of comments on posts."
   ]
  },
  {
   "cell_type": "code",
   "execution_count": null,
   "id": "acf1f7fd-a9c3-46eb-a05d-3c69a0d0e4b7",
   "metadata": {},
   "outputs": [],
   "source": [
    "first_interval=[['06:00:00'],['10:59:59']]\n",
    "second_interval=[['11:00:00'],['13:59:59']]\n",
    "third_interval=[['14:00:00'],['16:59:59']]\n",
    "fourth_interval=[['17:00:00'],['19:59:59']]\n",
    "fifth_interval=[['20:00:00'],['23:59:59']]\n",
    "sixth_interval=[['00:00:00'],['02:59:59']]\n",
    "seventh_interval=[['03:00:00'],['05:59:59']]\n",
    "intervals=[first_interval,second_interval,third_interval,fourth_interval,fifth_interval,sixth_interval,seventh_interval]"
   ]
  },
  {
   "cell_type": "code",
   "execution_count": null,
   "id": "e920e416",
   "metadata": {},
   "outputs": [],
   "source": [
    "time_intervals(posts,intervals,variable='numbr_likes',mean=True)"
   ]
  },
  {
   "cell_type": "code",
   "execution_count": null,
   "id": "1d642c8e",
   "metadata": {},
   "outputs": [],
   "source": [
    "time_intervals(posts,intervals,variable='number_comments',mean=True)"
   ]
  },
  {
   "cell_type": "markdown",
   "id": "33c90096-a45d-41a9-a9ef-c03dc92d6052",
   "metadata": {
    "jp-MarkdownHeadingCollapsed": true,
    "tags": []
   },
   "source": [
    "# [RQ7] Of course, calculating probabilities is a job that any Data Scientist must know. So let's compute some engaging figures"
   ]
  },
  {
   "cell_type": "markdown",
   "id": "7498c9f3-9206-44a5-a2e9-b1c22f0efe9e",
   "metadata": {},
   "source": [
    "## RQ7.1 What's the probability that a post receives more than 20% \"likes\" of the number of followers a user has?"
   ]
  },
  {
   "cell_type": "code",
   "execution_count": null,
   "id": "14a40413-858a-4e9a-9c91-0c2a9bdd870f",
   "metadata": {},
   "outputs": [],
   "source": [
    "#Creating two different datasets picking only the columns we are interested in\n",
    "posts2=posts[['numbr_likes','post_id','profile_id']]\n",
    "profiles2=profiles[['profile_id','followers']]\n",
    "\n",
    "# Merging the datasets on the shared column 'profile_id'\n",
    "df=pd.merge(posts2,profiles2, on='profile_id')\n",
    "\n",
    "#Considering only profiles with more than 0 followers in order to get meaningful sight\n",
    "df=df[df.followers != 0]\n",
    "\n",
    "# We want to compute the number of favourable cases on total cases, so let's get the favourable one\n",
    "yes_df=df[df.numbr_likes > (df.followers/5)]\n",
    "yes=len(yes_df)\n",
    "\n",
    "#Now let's compute\n",
    "prob=yes/(len(df))\n",
    "\n",
    "\n",
    "print('The probability that a post receives more than 20% \"likes\" of the number of followers a user has is equal to: ',\"{0:.2%}\".format(prob) )"
   ]
  },
  {
   "cell_type": "markdown",
   "id": "ba197f62-5e0d-486b-8307-608e72aff962",
   "metadata": {},
   "source": [
    "## RQ7.2 Do users usually return to locations? Extract the probability that a user returns to a site after having posted it in the past. Does that probability make sense to you? Explain why or why not."
   ]
  },
  {
   "cell_type": "code",
   "execution_count": null,
   "id": "fd15b17a",
   "metadata": {},
   "outputs": [],
   "source": []
  },
  {
   "cell_type": "markdown",
   "id": "4941fa3f-c4cd-4c75-a377-d560be162526",
   "metadata": {
    "jp-MarkdownHeadingCollapsed": true,
    "tags": []
   },
   "source": [
    "# [RQ8] Every decision you take in a data-based environment should be reinforced with charts, statistical tests and analysis methods to check whether a hypothesis is correct or not."
   ]
  },
  {
   "cell_type": "markdown",
   "id": "640e94ab-4854-44f2-ada0-d648dddc2ade",
   "metadata": {},
   "source": [
    "## RQ8.1 Does more “likes” also mean more comments? Plot a scatter plot of “likes” vs comments for posts?"
   ]
  },
  {
   "cell_type": "code",
   "execution_count": null,
   "id": "bb9de521-1789-4a67-8984-d90e096a447f",
   "metadata": {},
   "outputs": [],
   "source": [
    "plt.scatter(posts['numbr_likes'], posts['number_comments'],s=3, alpha=0.5)\n",
    "plt.show()"
   ]
  },
  {
   "cell_type": "markdown",
   "id": "317fa613",
   "metadata": {},
   "source": [
    "To have a better understanding of what we are trying to find (the correlation) we are gonna calculate the pearson correlation coefficient"
   ]
  },
  {
   "cell_type": "code",
   "execution_count": null,
   "id": "3c8af041",
   "metadata": {},
   "outputs": [],
   "source": [
    "#Pearsonn Correlation\n",
    "posts.number_comments.corr(posts.numbr_likes)"
   ]
  },
  {
   "cell_type": "markdown",
   "id": "d54a13b3",
   "metadata": {},
   "source": [
    "As we can see from the scatterplot above and the result value from the pearson correlation coefficient. If the number of likes were related to the number of comments then we would be seeing a proportional increase of both value, while from the scatterplot we see that at the increase of the number of likes, the number of comments doesnt increase."
   ]
  },
  {
   "cell_type": "markdown",
   "id": "44bf3e97-815e-44ec-b2f7-ed59d4b5cc4a",
   "metadata": {},
   "source": [
    "## RQ8.2 Can you find any significant relationship between the time a user publishes a post and the number of comments and “likes”? Use an appropriate statistical test or technique and support your choice."
   ]
  },
  {
   "cell_type": "code",
   "execution_count": null,
   "id": "32531663-cfad-462a-ad15-835014e22ef1",
   "metadata": {},
   "outputs": [],
   "source": [
    "#lets convert to datetime\n",
    "posts['cts']=pd.to_datetime(posts['cts'])\n",
    "\n",
    "#We want to work only on the hours of the publication, not the dates\n",
    "posts['h'] = posts['cts'].dt.time\n",
    "\n",
    "# Let's find the pearson correlation between the feature in our df\n",
    "posts.corr() "
   ]
  },
  {
   "cell_type": "markdown",
   "id": "21958d1d",
   "metadata": {},
   "source": [
    "As We can see there is almost zero correlation between number of likes and the hour, same goes for the number of comments.\n",
    "The values are respectivly 0.001154 for the number of likes, and 0.000506 for the number of comments. So there is almost zero correlation."
   ]
  },
  {
   "cell_type": "code",
   "execution_count": null,
   "id": "1731631b",
   "metadata": {},
   "outputs": [],
   "source": [
    "#Let's plot the number of likes\n",
    "x=posts['h']\n",
    "y=posts['numbr_likes']\n",
    "\n",
    "fig = plt.figure(figsize =(20, 14))\n",
    "plt.scatter(x,y)\n",
    "\n",
    "plt.xlim=([0,24])\n",
    "plt.xlabel('Hours of the day')\n",
    "plt.ylabel('#Likes by hour')\n",
    "plt.show()"
   ]
  },
  {
   "cell_type": "code",
   "execution_count": null,
   "id": "3a717415",
   "metadata": {},
   "outputs": [],
   "source": [
    "#Let's plot the number of comments\n",
    "x=posts['h']\n",
    "y=posts['number_comments']\n",
    "\n",
    "fig = plt.figure(figsize =(20, 14))\n",
    "plt.scatter(x,y, color=\"orange\")\n",
    "\n",
    "plt.xlim=([0,24])\n",
    "plt.xlabel('Hour of the day')\n",
    "plt.ylabel('#Comments for each hour')\n",
    "plt.show()"
   ]
  },
  {
   "cell_type": "markdown",
   "id": "6e88c8cb-427a-42c5-b7e5-688690313335",
   "metadata": {},
   "source": [
    "## RQ8.3 What’s the distribution of followers? Plot the empirical distribution of followers amongst all users and extract the mean, mode, and quantiles. Interpret those figures."
   ]
  },
  {
   "cell_type": "code",
   "execution_count": null,
   "id": "dc128548",
   "metadata": {},
   "outputs": [],
   "source": [
    "plt.hist(followers, log=True, bins=15)\n",
    "plt.show()"
   ]
  },
  {
   "cell_type": "markdown",
   "id": "471b1e8b",
   "metadata": {},
   "source": [
    "As we can see from the plot above, it is not very clear"
   ]
  },
  {
   "cell_type": "markdown",
   "id": "0c7af069",
   "metadata": {},
   "source": [
    "For a greater possibility of interpreting the distribution we use the logarithmic scale, but we have many values ​​= 0. To solve this problem we will first increase all the values ​​by 1, in this way we will no longer have values ​​equal to zero and at the same time the distribution remains unchanged .\n",
    "\n"
   ]
  },
  {
   "cell_type": "code",
   "execution_count": null,
   "id": "a74a5433-b13a-4336-80a7-a0ba26a25d29",
   "metadata": {},
   "outputs": [],
   "source": [
    "f_plus_1 = followers.apply(lambda x: x+1)\n",
    "followers_log = f_plus_1.apply(np.log)"
   ]
  },
  {
   "cell_type": "markdown",
   "id": "7bf9950a",
   "metadata": {},
   "source": [
    "After applying the logarithmic scale, we plot."
   ]
  },
  {
   "cell_type": "code",
   "execution_count": null,
   "id": "40fa92e9",
   "metadata": {},
   "outputs": [],
   "source": [
    "#lets plot the density function of the distribution of followers\n",
    "sns.histplot( ciao , kde = True, bins=60)"
   ]
  },
  {
   "cell_type": "markdown",
   "id": "90bf3ad4",
   "metadata": {},
   "source": [
    "We extract the mean, mode and quantiles"
   ]
  },
  {
   "cell_type": "code",
   "execution_count": null,
   "id": "94af8887",
   "metadata": {},
   "outputs": [],
   "source": [
    "profiles.followers.describe()"
   ]
  },
  {
   "cell_type": "markdown",
   "id": "c2c561e0-ae03-47b2-9ca6-70c3727ba7e8",
   "metadata": {},
   "source": [
    "## RQ8.4 What are histograms, bar plots, scatterplots and pie charts used for?"
   ]
  },
  {
   "cell_type": "markdown",
   "id": "b063e5f8-b3b5-4505-a724-d9c2b3d23b11",
   "metadata": {},
   "source": [
    "Histograms are useful for seeing the center, distribution, and shape of a data set. They can also be used as a visual tool for support the normality hypotesis.\n",
    "The horizontal axis represents the data values ​​and each bar includes a range of values. The vertical axis indicates how many points in the data have values ​​within the specified range of the bar."
   ]
  },
  {
   "cell_type": "markdown",
   "id": "204946ff",
   "metadata": {},
   "source": [
    "Bar charts are suitable for representing one or more categorical variables. In this type of graph, each mode of the variable (category) is represented by a bar, whose height (or length) is proportional to the frequency or percentage of the mode itself."
   ]
  },
  {
   "cell_type": "markdown",
   "id": "c4da1cb1",
   "metadata": {},
   "source": [
    "A scatter plot shows the relationship between two continuous variables. Scatter plots are used to show relationships between data. For correlation, they help show visually the strength of the linear relationship between two variables, while for regression they often add an estimated line."
   ]
  },
  {
   "cell_type": "markdown",
   "id": "3ad9bc9c-3575-48a2-aaa4-7c7b011a33c9",
   "metadata": {},
   "source": [
    "## RQ8.5 What insights can you extract from a Box Plot?"
   ]
  },
  {
   "cell_type": "markdown",
   "id": "4e2238c5-6fb7-44b2-86c3-97366a42d640",
   "metadata": {},
   "source": [
    "A Box and Whisker Plot (or Box Plot) is a convenient way of visually displaying the data distribution through their quartiles. It is a graphical rendition of statistical data based on the minimum, first quartile, median, third quartile, and maximum. \n",
    "\n",
    "The Boxplot allows us to see graphically:\n",
    "- Median Value\n",
    "- Lower Quartile\n",
    "- Upper Quartile\n",
    "- Interquartile Range\n",
    "- Highest value and Lowest Value\n"
   ]
  },
  {
   "cell_type": "markdown",
   "id": "bc07baaf",
   "metadata": {},
   "source": [
    "## AQ1"
   ]
  },
  {
   "cell_type": "code",
   "execution_count": 2,
   "id": "328530ea",
   "metadata": {},
   "outputs": [],
   "source": [
    "\n",
    "def f1(seq, end):\n",
    "    str = \"\"                            #1\n",
    "    for i in range(end):                #N   \n",
    "        str += seq[i]                   #1              \n",
    "    print(str)                        #1\n",
    "\n",
    "def f2(seq, start, end):\n",
    "    if start == end:                    #1\n",
    "        f1(seq, end)                    #N!\n",
    "    else:           \n",
    "        for i in range(start, end):     #N\n",
    "            temp = seq[start]           #1\n",
    "            seq[start] = seq[i]         #1\n",
    "            seq[i] = temp               #1\n",
    "            f2(seq, start+1, end,)      #N\n",
    "            temp = seq[start]           #1\n",
    "            seq[start] = seq[i]         #1\n",
    "            seq[i] = temp               #1\n"
   ]
  },
  {
   "cell_type": "markdown",
   "id": "5e147854",
   "metadata": {},
   "source": [
    "## AQ1.1: What is the output of this algorithm? Describe the mechanism of the algorithm in detail . We do not want to know only its final result. (Describe one example on your own)\n",
    "\n",
    "The purpose of the algorithm is to find every possible permutation of the charaters present in the array. \n",
    "The Idea behind this algorithm is to try and generate every possible permutation, starting from the steps right before it: Backtracking.\n",
    "\n",
    "### More Accurate description of the algorithm:\n",
    "The first function f1, is just the one to print out the result of each permutation. It will be called at the end of each recursive call of f2. When the attribute 'start' will be equal to the attribute 'end'\n",
    "\n",
    "The second function f2, is the one responsible for the recursive call for each permutation and the way it works is:\n",
    "- For each \"position\" create every possible permutation for the \"start\" of the array by swapping the start with the i-character of the array. Ex: if we have [a,b,c] it will create [a,b,c], [b,a,c], [c,b,a]\n",
    "- For every possibility it will call again the recursive function f2, with the modified array and with a greater starting point of start+1. The same process will be repeated until the end of the recursive function\n",
    "- It is important to understand what the last part of the function f2 does. Once the function swaps the seq[start] with the seq[i] and calls the recursive function, at some point the recursive call will come to an end, and it will go back to the original first call. The last 3 rows inside the 'for loop' are the one responsible to put the value inside the array in their original position before the next iteration of the for loop. This process allow the 'for loop' to modify the array starting from the original one on every iteration.\n",
    "\n",
    "Example of the first iteration of for loops on the first call of f2:\n",
    "- Correct possibility of the array: [a,b,c], [b,a,c], [c,b,a]\n",
    "- Incorrect possibility (without the last 3 row of the for loop): [a,b,c], [b,a,c], [c,a,b]\n",
    "\n",
    "\n",
    "\n",
    "\n",
    "Below is an example with the array [\"a\", \"b\", \"c\"] and the output relative to the array."
   ]
  },
  {
   "cell_type": "code",
   "execution_count": null,
   "id": "c2be25d9",
   "metadata": {},
   "outputs": [],
   "source": [
    "f2([\"a\",\"b\",\"c\"],0,3)"
   ]
  },
  {
   "cell_type": "markdown",
   "id": "34243712",
   "metadata": {},
   "source": [
    "## AQ1.2: What is asymptotically (i.e., we are asking for big-O complexity) the algorithm's running time as a function of N?\n",
    "\n",
    "O(N*N!)\n",
    "\n",
    "The \"N\" part of the asymptotically time of the algorithm is related to the \"for loop\" which has at maximum N iteration. While the N! is the time related to the recursive calls of the function f2."
   ]
  },
  {
   "cell_type": "markdown",
   "id": "c0ff8c0a",
   "metadata": {},
   "source": [
    "## AQ1.3: Is this algorithm the optimal one to produce this output? If not, can you suggest a better algorithm to perform the same task?\n",
    "\n",
    "Yes it is the optimal one, as there is no better algorithm for permutation with less than O(N*N!)"
   ]
  },
  {
   "cell_type": "markdown",
   "id": "a8f88408",
   "metadata": {},
   "source": [
    "## AQ2 : Alex has a ribbon of length N. He wants to cut the ribbon in a way that fulfils the following three conditions:\n",
    "\n",
    "- Each piece of the cut should have an integer length\n",
    "- He should at least cut the ribbon once\n",
    "- The multiplication of the length of all the pieces be the maximum possible"
   ]
  },
  {
   "cell_type": "markdown",
   "id": "33ab9f1d",
   "metadata": {},
   "source": [
    "## AQ2.1: Implement a recursive algorithm to help Alex find the maximum possible value after multiplying the length of the pieces. Explain your algorithm in detail.\n"
   ]
  },
  {
   "cell_type": "markdown",
   "id": "3053ba64",
   "metadata": {},
   "source": [
    "This algorithm follows the same principle as the algorithm in the exercise AQ1. For every possible permutation of numbers in a range from i to n+1 i append it in an array and then i call the recursive function. \n",
    "In this way i will obtain every possible combination of subset that sum up to n. For every iteration of the recursive call i also compute the product of the value inside the array, and if it's greater than what i already have in the\n",
    "global variable MAX, then i change the value of max to the new greater product."
   ]
  },
  {
   "cell_type": "code",
   "execution_count": null,
   "id": "aa50f701",
   "metadata": {},
   "outputs": [],
   "source": [
    "import math\n",
    "\n",
    "def findmax(n):              \n",
    "    max = c([], 1, n)                       #1\n",
    "    return max                              #1\n",
    "\n",
    "def c(arr,i,n):\n",
    "    global counter\n",
    "    global m\n",
    "    counter+=1\n",
    "    if (n==0) and len(arr)>1:               #1\n",
    "        product = math.prod(arr)            #len(arr) ---> (at most N)\n",
    "        if product > m:                     #1\n",
    "            m = product                     #1\n",
    "    for j in range(i, n+1):                 #N\n",
    "        counter+=1\n",
    "        arr.append(j)                       #1\n",
    "        c(arr, j, n-j)                      #1\n",
    "        counter+=1\n",
    "        arr.pop()                           #1\n",
    "    return m                                #1\n",
    "    "
   ]
  },
  {
   "cell_type": "code",
   "execution_count": null,
   "id": "7eeea75d",
   "metadata": {},
   "outputs": [],
   "source": [
    "counter = 0\n",
    "m = 0\n",
    "findmax(7)"
   ]
  },
  {
   "cell_type": "markdown",
   "id": "ee4cb35e",
   "metadata": {},
   "source": [
    "## AQ2.2: Show that the algorithm has exponential running time\n",
    "\n",
    "To show that the algorithm above has an exponential running time, we will do a demonstration but first we will plot the counters for the recursive part of the algorithm related to the value of n.\n",
    "\n",
    "We did an example with n going from 2 to 25 "
   ]
  },
  {
   "cell_type": "code",
   "execution_count": null,
   "id": "8101f088",
   "metadata": {},
   "outputs": [],
   "source": [
    " arrRecursive = []\n",
    " for n in range(2, 25):\n",
    "     counter = 0\n",
    "     m = 0\n",
    "     arrRecursive.append(findmax(n))\n",
    "     print(n, \":\", m)\n",
    "     #print(\"counter for \", n, \": \", counter)"
   ]
  },
  {
   "cell_type": "code",
   "execution_count": null,
   "id": "42344bd5",
   "metadata": {},
   "outputs": [],
   "source": [
    "exponential = []\n",
    "def expo(n):\n",
    "    return 2**n\n",
    "\n",
    "for x in range(2,25):\n",
    "    exponential.append(expo(x))"
   ]
  },
  {
   "cell_type": "code",
   "execution_count": null,
   "id": "7e1387d0",
   "metadata": {},
   "outputs": [],
   "source": [
    "import matplotlib.pyplot as plt\n",
    "plt.plot(arrRecursive)\n",
    "plt.xlabel(\"The value of n\")\n",
    "plt.ylabel(\"Counter used for the recursive calls\")\n",
    "plt.show()"
   ]
  },
  {
   "cell_type": "markdown",
   "id": "c76e8f18",
   "metadata": {},
   "source": [
    "The recursive function gets called at 2**N times, so the fucntion is O(2^N) )\n"
   ]
  },
  {
   "cell_type": "markdown",
   "id": "6394047f",
   "metadata": {},
   "source": [
    "## AQ2.3: Now provide a polynomial solution, based on dynamic programming, and compute its running-time complexity.\n"
   ]
  },
  {
   "cell_type": "code",
   "execution_count": 3,
   "id": "25cc67f3",
   "metadata": {},
   "outputs": [],
   "source": [
    "def dynProg(n):\n",
    "    #base case\n",
    "    arr = [-1,-1]\n",
    "    arr.append(1)\n",
    "    counter = 1\n",
    "    for x in range(3, n+1):\n",
    "        counter += 1\n",
    "        arr.append(x//2 * (x//2+ x%2))\n",
    "        for y in range(x-1, 2, -1):\n",
    "            counter += 1\n",
    "            if arr[x] < (arr[y])*(x-y):\n",
    "                arr[x] = arr[y]*(x-y)\n",
    "    return arr[n], counter\n"
   ]
  },
  {
   "cell_type": "markdown",
   "id": "c59f1a9c",
   "metadata": {},
   "source": [
    "The Polynomial solution has a double foor loop with max n repetition, so the it's running time complexity shoud be O(N**2)b"
   ]
  },
  {
   "cell_type": "code",
   "execution_count": 4,
   "id": "fbbf21e2",
   "metadata": {},
   "outputs": [
    {
     "data": {
      "text/plain": [
       "(18, 22)"
      ]
     },
     "execution_count": 4,
     "metadata": {},
     "output_type": "execute_result"
    }
   ],
   "source": [
    "dynProg(8)"
   ]
  },
  {
   "cell_type": "markdown",
   "id": "423172d8",
   "metadata": {},
   "source": [
    "## AQ2.4 Evaluate the running time of your algorithm for the sizes (Ns) in the range of [2, 25], plot the results, and interpret it (if you have implemented two algorithms, please include both in the plot and compare them)."
   ]
  },
  {
   "cell_type": "code",
   "execution_count": null,
   "id": "1011ced6",
   "metadata": {},
   "outputs": [],
   "source": [
    "arrDynProg = []\n",
    "for n in range(2, 25):\n",
    "    arrDynProg.append(dynProg(n)[1])"
   ]
  },
  {
   "cell_type": "code",
   "execution_count": null,
   "id": "bc169eb5",
   "metadata": {},
   "outputs": [],
   "source": [
    "import matplotlib.pyplot as plt\n",
    "plt.plot(arrDynProg)\n",
    "plt.plot(arrRecursive)\n",
    "#plt.plot(range(1,50))\n",
    "plt.xlabel(\"The value of n\")\n",
    "plt.ylabel(\"Counter used for the recursive calls\")\n",
    "plt.show()"
   ]
  },
  {
   "cell_type": "markdown",
   "id": "25d04b77",
   "metadata": {},
   "source": [
    "## AQ2.5 (Optional, mini bonus) Is the algorithm of question 3 optimal? If you belive it, can you prove it? If not, can you find a faster algorithm? In case you found a faster algorithm implement it and explain your algorithm in detail.\n",
    "\n",
    "The dynamic programming algorithm is not the optimal one, as this problem can be solved only by solving an equation.\n",
    "\n",
    "The idea behind the following algorithm is that the max product of subpart of n is the product obtain with pieces of lenght 3 and 2. \n",
    "So the only check that we need to do, is to see if the number is divided by 3 and if not we need to do small fixes to the original formula"
   ]
  },
  {
   "cell_type": "code",
   "execution_count": null,
   "id": "a8be6029",
   "metadata": {},
   "outputs": [],
   "source": [
    "def optimal(n):\n",
    "    r = n%3\n",
    "    #original formula\n",
    "    if r == 0:\n",
    "        return 3**(n//3)\n",
    "    #if the rest of the division is 1, then we need to remove one \"3\" from the final product and sum 3 with the rest of the divison, in this way we will have 3+1=4, that becomes 2 x 2 x 3^((n%3)-1)\n",
    "    elif r == 1:\n",
    "        return 3**((n//3)-1)*4\n",
    "    #if the rest is 2, then we only need to add *2 at the end of the formula\n",
    "    elif r == 2:\n",
    "        return 3**((n//3))*2"
   ]
  },
  {
   "cell_type": "code",
   "execution_count": null,
   "id": "1950e0d3",
   "metadata": {},
   "outputs": [],
   "source": [
    "for x in range(2,25):\n",
    "     print(x, \" :\", optimal(x))"
   ]
  },
  {
   "cell_type": "markdown",
   "id": "8caa0777",
   "metadata": {},
   "source": [
    "## C - Implement a text data analysis (also known as text mining) of the field \"description\" from instagram_posts.csv for descriptions written in English. Use appropriate visualizations and statistics to highlight the words (and probably the topics) provided for the users in that field."
   ]
  },
  {
   "cell_type": "code",
   "execution_count": null,
   "id": "f89a6b03",
   "metadata": {},
   "outputs": [],
   "source": [
    "descriptions = pd.read_csv(\"instagram_posts.csv\", delimiter='\\t', dtype = {'description': 'string'}, usecols=['description'], chunksize=100000)\n",
    "p = descriptions.get_chunk(100000)"
   ]
  },
  {
   "cell_type": "code",
   "execution_count": null,
   "id": "857ad0d2",
   "metadata": {},
   "outputs": [],
   "source": [
    "\n",
    "\n",
    "def count_word(arr):\n",
    "    d = enchant.Dict(\"en_US\")\n",
    "    counts = dict()\n",
    "    for description in arr.iterrows():\n",
    "        for word in description[1].to_string().split():\n",
    "            #check if the word is in english\n",
    "            if d.check(word) and len(word) > 2:\n",
    "                if word in counts:\n",
    "                    counts[word] += 1\n",
    "                else:\n",
    "                    counts[word] = 1\n",
    "    return counts\n"
   ]
  },
  {
   "cell_type": "code",
   "execution_count": null,
   "id": "bddef1d3",
   "metadata": {},
   "outputs": [],
   "source": [
    "dic = count_word(p)"
   ]
  },
  {
   "cell_type": "code",
   "execution_count": null,
   "id": "9ab2846c",
   "metadata": {},
   "outputs": [],
   "source": [
    "dic.pop('description')"
   ]
  },
  {
   "cell_type": "code",
   "execution_count": null,
   "id": "bc18328e",
   "metadata": {},
   "outputs": [],
   "source": [
    "arr = []\n",
    "for x in dic.keys():\n",
    "    if len(x) < 3:\n",
    "        arr.append(x)\n",
    "\n",
    "for x in arr:\n",
    "    dic.pop(x)"
   ]
  },
  {
   "cell_type": "code",
   "execution_count": null,
   "id": "ed8e41d7",
   "metadata": {},
   "outputs": [],
   "source": [
    "from os import path\n",
    "from wordcloud import WordCloud\n",
    "import matplotlib.pyplot as plt\n",
    "from matplotlib.pyplot import figure"
   ]
  },
  {
   "cell_type": "code",
   "execution_count": null,
   "id": "5638f0c6",
   "metadata": {},
   "outputs": [],
   "source": [
    "\n",
    "figure(figsize=(16, 12), dpi=80)\n",
    "text = \" \".join([(k + \" \") for k,v in dic.items() if len(k) > 2])\n",
    "\n",
    "text = text.replace('\\'', \"\")\n",
    "text = text.replace(\".\", \"\")\n",
    "text = text.replace(\"-\", \"\")\n",
    "\n",
    "text = text.split()\n",
    "\n",
    "text = \" \".join([(k + \" \") for k in text if len(k) > 2])\n",
    "\n",
    "\n",
    "\n",
    "\n",
    "# Generate a word cloud image\n",
    "wordcloud = WordCloud(colormap=\"Blues\").generate(text)\n",
    "\n",
    "\n",
    "# Display the generated image:\n",
    "# the matplotlib way\n",
    "plt.imshow(wordcloud, interpolation='bilinear')\n",
    "plt.axis(\"off\")\n",
    "plt.show()"
   ]
  }
 ],
 "metadata": {
  "kernelspec": {
   "display_name": "Python 3.8.3 ('base')",
   "language": "python",
   "name": "python3"
  },
  "language_info": {
   "codemirror_mode": {
    "name": "ipython",
    "version": 3
   },
   "file_extension": ".py",
   "mimetype": "text/x-python",
   "name": "python",
   "nbconvert_exporter": "python",
   "pygments_lexer": "ipython3",
   "version": "3.8.3"
  },
  "vscode": {
   "interpreter": {
    "hash": "673b3a28213e3c597c6fa49b945d6bcb4c24a69618c6cbd1a3b12a5f14d6b7d7"
   }
  }
 },
 "nbformat": 4,
 "nbformat_minor": 5
}
