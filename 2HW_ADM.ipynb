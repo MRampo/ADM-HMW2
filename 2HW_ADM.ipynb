{
 "cells": [
  {
   "cell_type": "code",
   "execution_count": null,
   "id": "18fc4bf1-11f9-437c-874e-5b55e2b047de",
   "metadata": {},
   "outputs": [],
   "source": [
    "import pandas as pd\n",
    "import numpy as np\n",
    "import matplotlib.pyplot as plt\n",
    "import seaborn as sns\n",
    "from tqdm import tqdm\n",
    "from pandas_profiling import ProfileReport\n",
    "import seaborn as sns\n",
    "import math\n",
    "import datatable as dt\n",
    "from datatable import sort, f, rowall"
   ]
  },
  {
   "cell_type": "markdown",
   "id": "843a39d2-ff67-4003-acbf-3a3bb34ee7d5",
   "metadata": {
    "jp-MarkdownHeadingCollapsed": true,
    "tags": []
   },
   "source": [
    "# Import dataframes"
   ]
  },
  {
   "cell_type": "markdown",
   "id": "375a32d9-ac49-4eda-8634-424e3dcdbc63",
   "metadata": {
    "jp-MarkdownHeadingCollapsed": true,
    "tags": []
   },
   "source": [
    "### Posts"
   ]
  },
  {
   "cell_type": "code",
   "execution_count": null,
   "id": "9c499abd-9799-476c-9329-73115db57907",
   "metadata": {},
   "outputs": [],
   "source": [
    "%%time\n",
    "\n",
    "posts_datatable = dt.fread(\"instagram_posts.csv\")"
   ]
  },
  {
   "cell_type": "code",
   "execution_count": null,
   "id": "51bc8454-78f1-4f80-84f4-d2ae203a337d",
   "metadata": {},
   "outputs": [],
   "source": [
    "posts_datatable"
   ]
  },
  {
   "cell_type": "code",
   "execution_count": null,
   "id": "ba184061-55fb-475a-aa78-1abc428b0db0",
   "metadata": {},
   "outputs": [],
   "source": [
    "%%time\n",
    "\n",
    "posts=posts_datatable.to_pandas()\n",
    "posts"
   ]
  },
  {
   "cell_type": "markdown",
   "id": "06b5c4a7-1b33-40c2-a81c-a09b807e9a02",
   "metadata": {
    "jp-MarkdownHeadingCollapsed": true,
    "tags": []
   },
   "source": [
    "### Profiles"
   ]
  },
  {
   "cell_type": "code",
   "execution_count": null,
   "id": "f8202337",
   "metadata": {
    "tags": []
   },
   "outputs": [],
   "source": [
    "profiles = pd.read_csv('instagram_profiles.csv', delimiter='\\t')\n",
    "profiles.head()"
   ]
  },
  {
   "cell_type": "markdown",
   "id": "40dec73b-3892-4733-b0c4-aaba6c8eed10",
   "metadata": {
    "jp-MarkdownHeadingCollapsed": true,
    "tags": []
   },
   "source": [
    "### Locations"
   ]
  },
  {
   "cell_type": "code",
   "execution_count": null,
   "id": "36420a2e-c334-46a5-b83b-059dced954ac",
   "metadata": {},
   "outputs": [],
   "source": [
    "locations= profiles = pd.read_csv('instagram_locations.csv', delimiter='\\t')\n",
    "locations.head()"
   ]
  },
  {
   "cell_type": "markdown",
   "id": "e3e55121-ec62-4d04-8108-650ffb01afa1",
   "metadata": {
    "jp-MarkdownHeadingCollapsed": true,
    "tags": []
   },
   "source": [
    "# [RQ1] After collecting information, the Data Scientists have to know what dataset they are dealing with, so let's start with an Exploratory Data Analysis (EDA). What can you say about our datasets? Please summarise its main characteristics with visual and tabular methods."
   ]
  },
  {
   "cell_type": "code",
   "execution_count": null,
   "id": "3e431bf2-aaad-4e6a-93eb-cd8ab26be308",
   "metadata": {},
   "outputs": [],
   "source": []
  },
  {
   "cell_type": "markdown",
   "id": "85b57963-65ce-4f04-997b-a473b1ce59d5",
   "metadata": {
    "tags": []
   },
   "source": [
    "# [RQ2] Let's explore the dataset by finding simple insights regarding the profile and posts."
   ]
  },
  {
   "cell_type": "markdown",
   "id": "a8eca3ba-aa84-488d-99bb-9a0c2455474a",
   "metadata": {
    "tags": []
   },
   "source": [
    "### Plot the number of posts for each profile in descending order.\n"
   ]
  },
  {
   "cell_type": "code",
   "execution_count": null,
   "id": "78401fe7-ece8-468d-8177-a09cf4495893",
   "metadata": {},
   "outputs": [],
   "source": [
    "profiles2 = profiles[['profile_name','n_posts']]"
   ]
  },
  {
   "cell_type": "code",
   "execution_count": null,
   "id": "3308183e-ccdf-448b-acee-bea98234d26b",
   "metadata": {},
   "outputs": [],
   "source": [
    "profiles2"
   ]
  },
  {
   "cell_type": "code",
   "execution_count": null,
   "id": "f9a49235-f5f8-4711-8576-307f6a185f20",
   "metadata": {},
   "outputs": [],
   "source": [
    "#Let's check for NA values\n",
    "profiles2['n_posts'].isnull().values.any()"
   ]
  },
  {
   "cell_type": "markdown",
   "id": "065183ff-48e9-4928-88f7-3f2ac908e1ab",
   "metadata": {},
   "source": [
    "A lot, we must manage them"
   ]
  },
  {
   "cell_type": "code",
   "execution_count": null,
   "id": "3e0dedc1-d149-4ce1-a793-666c986707c8",
   "metadata": {},
   "outputs": [],
   "source": [
    "#Let's drop all na values\n",
    "profiles2.dropna(inplace=True)"
   ]
  },
  {
   "cell_type": "code",
   "execution_count": null,
   "id": "f947e7f3",
   "metadata": {},
   "outputs": [],
   "source": [
    "# Let's check NAs again\n",
    "profiles2['n_posts'].isnull().values.any()"
   ]
  },
  {
   "cell_type": "code",
   "execution_count": null,
   "id": "7075e9a2",
   "metadata": {},
   "outputs": [],
   "source": [
    "profiles2"
   ]
  },
  {
   "cell_type": "markdown",
   "id": "770c2a1d-15e1-43ae-a064-9ccfaf594e4f",
   "metadata": {},
   "source": [
    "Good, we can continue now"
   ]
  },
  {
   "cell_type": "code",
   "execution_count": null,
   "id": "65a46f96",
   "metadata": {},
   "outputs": [],
   "source": [
    "profiles2=profiles2.sort_values('n_posts', ascending=False)"
   ]
  },
  {
   "cell_type": "code",
   "execution_count": null,
   "id": "2e82415a",
   "metadata": {},
   "outputs": [],
   "source": [
    "profiles2"
   ]
  },
  {
   "cell_type": "code",
   "execution_count": null,
   "id": "39b7e956",
   "metadata": {},
   "outputs": [],
   "source": [
    "count_post=profiles2.groupby('n_posts').count()\n",
    "count_post"
   ]
  },
  {
   "cell_type": "code",
   "execution_count": null,
   "id": "1e3e07e3",
   "metadata": {},
   "outputs": [],
   "source": [
    "count_post.iloc[1:].sum()"
   ]
  },
  {
   "cell_type": "code",
   "execution_count": null,
   "id": "f59dc79d",
   "metadata": {},
   "outputs": [],
   "source": [
    "h=profiles2['n_posts']\n",
    "plt.hist(h,log=True)\n",
    "plt.show()"
   ]
  },
  {
   "cell_type": "markdown",
   "id": "151aced1-0160-42e7-b479-d554d60f770e",
   "metadata": {},
   "source": [
    "##### What can we say about this result?\n",
    "\n",
    "As we can see, the majority of the instagram profiles have no posts, meanwhile only a small proportion have posted more than 125.000 posts."
   ]
  },
  {
   "cell_type": "markdown",
   "id": "93a812a4-beef-4c2b-b413-7e3e5eafe654",
   "metadata": {
    "jp-MarkdownHeadingCollapsed": true,
    "tags": []
   },
   "source": [
    "### What posts have the highest number of \"likes\"?"
   ]
  },
  {
   "cell_type": "markdown",
   "id": "91f13825-c83a-459d-9b9d-886a09d77cff",
   "metadata": {},
   "source": [
    "This is the top 10 of most liked posts"
   ]
  },
  {
   "cell_type": "code",
   "execution_count": null,
   "id": "ee15398a-cb50-4af2-a2ef-aeae1d958d55",
   "metadata": {},
   "outputs": [],
   "source": [
    "%%time\n",
    "\n",
    "df=posts[['post_id','numbr_likes']].sort_values(by='numbr_likes', ascending=False).head(10)\n",
    "\n",
    "df.index=['Post '+str(i+1) for i in range(10)]\n",
    "\n",
    "df"
   ]
  },
  {
   "cell_type": "markdown",
   "id": "abf96b87-396d-4831-9781-a84606728383",
   "metadata": {
    "jp-MarkdownHeadingCollapsed": true,
    "tags": []
   },
   "source": [
    "### What posts have the most and the least number of comments?"
   ]
  },
  {
   "cell_type": "code",
   "execution_count": null,
   "id": "e9e03fd8-5725-4aa5-a702-6ae0e931f0a3",
   "metadata": {},
   "outputs": [],
   "source": [
    "%%time\n",
    "\n",
    "comments=posts[['post_id','number_comments']]\n",
    "\n",
    "top_comm=comments.sort_values(by='number_comments', ascending=False)\n",
    "least_comm=comments.sort_values(by='number_comments', ascending=True)"
   ]
  },
  {
   "cell_type": "code",
   "execution_count": null,
   "id": "f13bc551",
   "metadata": {},
   "outputs": [],
   "source": [
    "#This is the top 10 of posts which have the most number of comments\n",
    "top_comm.head(10)"
   ]
  },
  {
   "cell_type": "code",
   "execution_count": null,
   "id": "78a2c506",
   "metadata": {},
   "outputs": [],
   "source": [
    "#These are the 10 posts which have the least number of comments\n",
    "least_comm.head(10)\n",
    "\n",
    "\n",
    "#There are many posts with zero comment, these are only ten of them, randomly"
   ]
  },
  {
   "cell_type": "markdown",
   "id": "55baf247-8272-4418-b08a-7ad7a40a0003",
   "metadata": {
    "jp-MarkdownHeadingCollapsed": true,
    "tags": []
   },
   "source": [
    "### How many posts include tagged locations, and how many do not? Show it using an appropriate chart and comment your results."
   ]
  },
  {
   "cell_type": "code",
   "execution_count": null,
   "id": "f3dbd58b-9c8b-4fa8-b189-d93cafaa175d",
   "metadata": {},
   "outputs": [],
   "source": [
    "posts2=posts[['location_id','post_id']]\n",
    "\n",
    "yes_location=len(posts2[np.isnan(posts2['location_id']) == False])\n",
    "yes_location"
   ]
  },
  {
   "cell_type": "code",
   "execution_count": null,
   "id": "2b8a7be9-fa31-4789-9c85-4fd23fc71dfa",
   "metadata": {},
   "outputs": [],
   "source": [
    "no_location=len(posts2[np.isnan(posts2['location_id']) == True])\n",
    "no_location"
   ]
  },
  {
   "cell_type": "code",
   "execution_count": null,
   "id": "0df04499",
   "metadata": {},
   "outputs": [],
   "source": [
    "#Showing the result using a pie chart, which is very usefull to catch the difference between the \n",
    "total_posts=yes_location+no_location\n",
    "yes_perc='{:.1%}'.format(yes_location/total_posts)\n",
    "no_perc='{:.1%}'.format(no_location/total_posts)\n",
    "myexplode=[0.0,0.1]\n",
    "\n",
    "#The plots\n",
    "fig, axs = plt.subplots(1,2)\n",
    "axs[0].pie([yes_location,no_location], labels=[yes_perc,no_perc], \n",
    "        labeldistance=1.15, colors=['steelblue','chocolate'], \n",
    "           explode=myexplode)\n",
    "axs[1].pie([yes_location,no_location], labels=['{:,}'.format(yes_location),'{:,}'.format(no_location)], \n",
    "        labeldistance=1.15, colors=['steelblue','chocolate'], explode=myexplode)\n",
    "plt.legend(['yes_location','no_location'], bbox_to_anchor=(0.85,1.025), loc=\"upper left\")\n",
    "\n",
    "# Some cool features\n",
    "fig.tight_layout(pad=2.0)\n",
    "fig.set_figheight(15)\n",
    "fig.set_figwidth(15)\n",
    "plt.show() #remove the annoying text"
   ]
  },
  {
   "cell_type": "markdown",
   "id": "24bb464e-28f9-41f7-8972-c0df78f2ab43",
   "metadata": {},
   "source": [
    "#### What did we get?"
   ]
  },
  {
   "cell_type": "markdown",
   "id": "08536feb-2eb3-4aa8-82f5-068ae85ef87a",
   "metadata": {},
   "source": [
    "As we can see, the pie chart hightlights how small is the percentage of posts that do not include a tagged position. On the other side, the majority of the analyzed posts include tagged location."
   ]
  },
  {
   "cell_type": "markdown",
   "id": "f1620b75-1304-412a-a070-1b1e5f00ece1",
   "metadata": {
    "jp-MarkdownHeadingCollapsed": true,
    "tags": []
   },
   "source": [
    "### How many posts include only photos? How many also have videos?"
   ]
  },
  {
   "cell_type": "code",
   "execution_count": null,
   "id": "f963b2d1-035c-4aea-b32b-9588a9c91fae",
   "metadata": {},
   "outputs": [],
   "source": [
    "%%time \n",
    "\n",
    "total=posts[['post_type','post_id']].groupby('post_type').count()\n",
    "\n",
    "photos=int(total.values[0])\n",
    "\n",
    "photos_and_videos=int(total.values[2])\n",
    "\n",
    "total"
   ]
  },
  {
   "cell_type": "code",
   "execution_count": null,
   "id": "9f35c3b8-da89-4023-ac47-dd4fe317467e",
   "metadata": {},
   "outputs": [],
   "source": [
    "print('The posts that include only photos are: ','{:,}'.format(photos))"
   ]
  },
  {
   "cell_type": "code",
   "execution_count": null,
   "id": "abf55822-af16-47e4-9218-54a65c397526",
   "metadata": {},
   "outputs": [],
   "source": [
    "print('The posts that include both photos and videos are: ','{:,}'.format(photos_and_videos))"
   ]
  },
  {
   "cell_type": "markdown",
   "id": "1bb7a2b3-8b9e-4c74-91ed-9e5ccada545a",
   "metadata": {
    "jp-MarkdownHeadingCollapsed": true,
    "tags": []
   },
   "source": [
    "### What's the percentage of business accounts vs non-business? What can you interpret regarding that percentage?"
   ]
  },
  {
   "cell_type": "code",
   "execution_count": null,
   "id": "73a14936",
   "metadata": {},
   "outputs": [],
   "source": [
    "profiles2 = profiles[['is_business_account','profile_name']]"
   ]
  },
  {
   "cell_type": "code",
   "execution_count": null,
   "id": "af140d4d",
   "metadata": {},
   "outputs": [],
   "source": [
    "# Let's give a look to the dataset\n",
    "profiles2"
   ]
  },
  {
   "cell_type": "code",
   "execution_count": null,
   "id": "7916c7bd",
   "metadata": {},
   "outputs": [],
   "source": [
    "#We can already see some NaN, let's do a proper check \n",
    "profiles['is_business_account'].isnull().values.any()"
   ]
  },
  {
   "cell_type": "markdown",
   "id": "15d9b1d1-5e54-437e-916b-cb9507238a8b",
   "metadata": {},
   "source": [
    "In order to find a meaningfull percentage of business accounts vs non-business, we drop all the NaN values"
   ]
  },
  {
   "cell_type": "code",
   "execution_count": null,
   "id": "922b295d",
   "metadata": {},
   "outputs": [],
   "source": [
    "profiles2.dropna(inplace=True)"
   ]
  },
  {
   "cell_type": "code",
   "execution_count": null,
   "id": "d7dba9ea",
   "metadata": {},
   "outputs": [],
   "source": [
    "#Now let's check again if it worked\n",
    "profiles2['is_business_account'].isnull().values.any()"
   ]
  },
  {
   "cell_type": "code",
   "execution_count": null,
   "id": "f498d62c",
   "metadata": {},
   "outputs": [],
   "source": [
    "# Cool, now let's count how many business account\n",
    "Business_account=len(profiles2[profiles2['is_business_account'] == True])\n",
    "Business_account"
   ]
  },
  {
   "cell_type": "code",
   "execution_count": null,
   "id": "9ab95948",
   "metadata": {},
   "outputs": [],
   "source": [
    "# Now let's count how many NOT business account\n",
    "Not_business_account= len(profiles[profiles['is_business_account'] == False])\n",
    "Not_business_account"
   ]
  },
  {
   "cell_type": "code",
   "execution_count": null,
   "id": "671af3db",
   "metadata": {},
   "outputs": [],
   "source": [
    "#Now let's give a look at the percentage of Business Account on the total amount of accounts\n",
    "'{:.1%}'.format(Business_account/(Business_account+Not_business_account))"
   ]
  },
  {
   "cell_type": "code",
   "execution_count": null,
   "id": "0d1e7055",
   "metadata": {},
   "outputs": [],
   "source": [
    "#Showing the result using a pie chart, which is very usefull to catch the difference between the \n",
    "total_account=Business_account+Not_business_account\n",
    "yes_perc='{:.1%}'.format(Business_account/total_account)\n",
    "no_perc='{:.1%}'.format(Not_business_account/total_account)\n",
    "myexplode=[0.0,0.1]\n",
    "\n",
    "#The plots\n",
    "fig, axs = plt.subplots(1,2, figsize=(8,8))\n",
    "axs[0].pie([Business_account,Not_business_account], labels=[yes_perc,no_perc], \n",
    "        labeldistance=1.15, colors=['steelblue','chocolate'], \n",
    "           explode=myexplode)\n",
    "axs[1].pie([Business_account,Not_business_account], labels=['{:,}'.format(Business_account),'{:,}'.format(Not_business_account)], \n",
    "        labeldistance=1.15, colors=['steelblue','chocolate'], explode=myexplode)\n",
    "plt.legend(['Business_account','Not_business_account'], bbox_to_anchor=(1.25,1.125), loc=\"upper left\")\n",
    "\n",
    "# Some cool features\n",
    "fig.tight_layout(pad=2.0)\n",
    "fig.set_figheight(15)\n",
    "fig.set_figwidth(15)\n",
    "plt.show() #remove the annoying text"
   ]
  },
  {
   "cell_type": "markdown",
   "id": "ed0d6213-fca5-440b-a44f-d869c1e9fe37",
   "metadata": {},
   "source": [
    "Since the percentage of business account on the total account is 24.8%, it means that for 3 non-business account there is a business account on our dataset. "
   ]
  },
  {
   "cell_type": "markdown",
   "id": "3b23dab9-be87-4296-b2b9-3acc0ab75027",
   "metadata": {
    "jp-MarkdownHeadingCollapsed": true,
    "tags": []
   },
   "source": [
    "# [RQ3] Now it's important to understand the most common times in which users publish their posts"
   ]
  },
  {
   "cell_type": "markdown",
   "id": "e21dec3a-d4da-4949-9a4e-2866186b2af4",
   "metadata": {
    "tags": []
   },
   "source": [
    "### What is the most common time in which users publish their posts?"
   ]
  },
  {
   "cell_type": "code",
   "execution_count": null,
   "id": "10bc4a6a",
   "metadata": {},
   "outputs": [],
   "source": []
  },
  {
   "cell_type": "markdown",
   "id": "f417a4d7-c7e5-40f2-b872-89b842b003b6",
   "metadata": {},
   "source": [
    "### Create a function that receives a time intervals list as a parameter and returns a plot with the number of posts for each given interval."
   ]
  },
  {
   "cell_type": "code",
   "execution_count": null,
   "id": "ef819a2e",
   "metadata": {},
   "outputs": [],
   "source": []
  },
  {
   "cell_type": "markdown",
   "id": "a6e48370-b61f-4261-bab8-f31d425752eb",
   "metadata": {},
   "source": [
    "### Use the function that you created in the previous literal to plot the number of posts between the following time intervals:\n",
    "| Initial time | Final time   |\n",
    "|--------------|--------------|\n",
    "|   06:00:00   |    10:59:59  |\n",
    "|   11:00:00   |    13:59:59  |\n",
    "|   14:00:00   |    16:59:59  |\n",
    "|   17:00:00   |    19:59:59  |\n",
    "|   20:00:00   |    23:59:59  |\n",
    "|   00:00:00   |    02:59:59  |\n",
    "|   03:00:00   |    05:59:59  |\n",
    "\n"
   ]
  },
  {
   "cell_type": "markdown",
   "id": "ab11d06e-b8bf-4bde-bbe8-0cfe086c290c",
   "metadata": {
    "jp-MarkdownHeadingCollapsed": true,
    "tags": []
   },
   "source": [
    "# [RQ4] In most cases, we will not have a consistent dataset, and the one we are dealing with is not an exception (ex. in the given datasets, you may not find the information of the profiles for some of the posts). So let’s enhance our analysis."
   ]
  },
  {
   "cell_type": "markdown",
   "id": "8dbffee7-1632-410d-8a30-a0b9fb4b07a7",
   "metadata": {
    "tags": []
   },
   "source": [
    "### Write a function that, given a profile_id, will be able to return the posts that belong to the given profile_id."
   ]
  },
  {
   "cell_type": "code",
   "execution_count": null,
   "id": "b4b6824d-98a1-42f7-a563-62a79a2ce3f3",
   "metadata": {},
   "outputs": [],
   "source": [
    "def searchpost(profile_id):\n",
    "    df=posts[posts.profile_id == profile_id]\n",
    "    return df[['post_id','profile_id','numbr_likes','number_comments']]"
   ]
  },
  {
   "cell_type": "code",
   "execution_count": null,
   "id": "0817ff04-4cae-4820-99f8-eb7627a5c3e4",
   "metadata": {},
   "outputs": [],
   "source": [
    "searchpost(profile_id=3.0)"
   ]
  },
  {
   "cell_type": "markdown",
   "id": "5ae9958e-e09f-41f4-8450-2dbcea10203a",
   "metadata": {
    "tags": []
   },
   "source": [
    "### Write another function that, given an input n (an integer), will return the posts that belong to the n top posted profiles (top n profiles that have posted the highest number of posts) that their data is available in the profile.csv using the previously written function."
   ]
  },
  {
   "cell_type": "code",
   "execution_count": null,
   "id": "de706f3f-0a78-4963-8d73-602240258678",
   "metadata": {},
   "outputs": [],
   "source": [
    "def top_posts(n):\n",
    "    df=pd.DataFrame(columns=['profile_id','post_id'])\n",
    "    top=profiles.sort_values(by='n_posts', ascending=False).head(n)\n",
    "    for profile_id in top.profile_id.values:\n",
    "        df=pd.concat([df,searchpost(profile_id)])\n",
    "    return df"
   ]
  },
  {
   "cell_type": "code",
   "execution_count": null,
   "id": "29005b20-5811-4437-b010-1334a7d08de0",
   "metadata": {},
   "outputs": [],
   "source": [
    "top_posts(2)"
   ]
  },
  {
   "cell_type": "markdown",
   "id": "b104e882-bef2-4d16-beda-608867a64053",
   "metadata": {
    "tags": []
   },
   "source": [
    "### What is the average number of \"likes\" and comments of the top 10 profiles with the highest number of posts which their information is available in profile.csv?"
   ]
  },
  {
   "cell_type": "code",
   "execution_count": null,
   "id": "7fc3a8e4-b796-4205-9f0b-c2c0de06005d",
   "metadata": {},
   "outputs": [],
   "source": [
    "top_ten=top_posts(10)\n",
    "top_ten"
   ]
  },
  {
   "cell_type": "code",
   "execution_count": null,
   "id": "96b3036a-aae8-4c9d-aa97-91a1bf3e2107",
   "metadata": {},
   "outputs": [],
   "source": [
    "#Let's see the distribution of likes \n",
    "plt.hist(top_ten['numbr_likes'])\n",
    "plt.show()"
   ]
  },
  {
   "cell_type": "code",
   "execution_count": null,
   "id": "511e4520-3d5f-4817-bf0e-0e12f3680361",
   "metadata": {},
   "outputs": [],
   "source": [
    "#The average of \"likes\" of the top 10 profiles with the highest number of posts\n",
    "top_ten['numbr_likes'].mean()"
   ]
  },
  {
   "cell_type": "code",
   "execution_count": null,
   "id": "b9cdc667-b4ee-44f1-96cc-b66f8c59a14d",
   "metadata": {},
   "outputs": [],
   "source": [
    "#Let's check the median in order to know moe about our distribution\n",
    "top_ten['numbr_likes'].median()"
   ]
  },
  {
   "cell_type": "markdown",
   "id": "375b7338-80ba-4e37-8077-321fbcd67e7b",
   "metadata": {},
   "source": [
    "Since the median (2.0) is smaller than the average (3.17), it means that our distribution is asymmetric due to some posts which have a huge amount of likes, as matter of fact, the mean is a statistic influenced by exteme observations. On the other hand, the median is a **robust statistic** because it is not affected by outliers. In our case, we can see that half of the posts have less than 2 likes, while the other half have more than 2 likes."
   ]
  },
  {
   "cell_type": "code",
   "execution_count": null,
   "id": "b4be80c2-76b4-468a-8cd7-a364e45665fc",
   "metadata": {},
   "outputs": [],
   "source": [
    "#Let's see the distribution of likes \n",
    "plt.hist(top_ten['number_comments'])\n",
    "plt.show()"
   ]
  },
  {
   "cell_type": "code",
   "execution_count": null,
   "id": "193e1050-aaeb-4b24-9189-1d0ab9c53760",
   "metadata": {},
   "outputs": [],
   "source": [
    "#The average of \"comments\" of the top 10 profiles with the highest number of posts\n",
    "top_ten['number_comments'].mean()"
   ]
  },
  {
   "cell_type": "code",
   "execution_count": null,
   "id": "b73eaccb",
   "metadata": {},
   "outputs": [],
   "source": [
    "top_ten['number_comments'].median()"
   ]
  },
  {
   "cell_type": "markdown",
   "id": "3736a78b-e051-4e82-b2e8-aa8b962af18a",
   "metadata": {},
   "source": [
    "Taking into account the comments of the top 10 profiles with the highest number of posts, we can see how, on average, the posts show no comments, except for some posts which have less than 3. "
   ]
  },
  {
   "cell_type": "markdown",
   "id": "01acc600-6f2e-4dda-a69b-df00fa8456bd",
   "metadata": {
    "tags": []
   },
   "source": [
    "### Plot the number of posts that these top 10 profiles have sent on Instagram in the given interval in question RQ3. Interpret the resulting chart."
   ]
  },
  {
   "cell_type": "code",
   "execution_count": null,
   "id": "c6a0ee71-b9b6-438f-a1da-80800cb6ce6e",
   "metadata": {},
   "outputs": [],
   "source": []
  },
  {
   "cell_type": "markdown",
   "id": "f1972678-eabe-4c05-9e04-df3cb1ef7211",
   "metadata": {
    "jp-MarkdownHeadingCollapsed": true,
    "tags": []
   },
   "source": [
    "# [RQ5] The most influential users are the ones with the highest number of “followers\", you can now look more into their activity."
   ]
  },
  {
   "cell_type": "markdown",
   "id": "cdc523d8-755c-47f4-bb8b-07b4e2b3e83d",
   "metadata": {
    "tags": []
   },
   "source": [
    "### Plot the top 10 most popular users in terms of followers and their number of posts."
   ]
  },
  {
   "cell_type": "code",
   "execution_count": null,
   "id": "cf0f74de",
   "metadata": {},
   "outputs": [],
   "source": [
    "profiles2 = profiles[['profile_name','n_posts', 'followers']]"
   ]
  },
  {
   "cell_type": "code",
   "execution_count": null,
   "id": "3ea2c6ad-2da8-4fdf-9e56-b5254127ae03",
   "metadata": {},
   "outputs": [],
   "source": [
    "#Let's check for NaN values in 'n_posts'\n",
    "profiles2['n_posts'].isnull().sum()"
   ]
  },
  {
   "cell_type": "code",
   "execution_count": null,
   "id": "49c63342-cf3c-4d29-b8b0-833c6a007fc0",
   "metadata": {},
   "outputs": [],
   "source": [
    "#Let's check for NaN values in 'follower'\n",
    "profiles2['followers'].isnull().sum()"
   ]
  },
  {
   "cell_type": "code",
   "execution_count": null,
   "id": "20b5c5f2-7e80-4cc4-9ab2-adebe7cbadde",
   "metadata": {},
   "outputs": [],
   "source": [
    "#Let's drop them\n",
    "profiles2.dropna(inplace=True)"
   ]
  },
  {
   "cell_type": "code",
   "execution_count": null,
   "id": "da70b194-9638-4077-a331-a200395f5006",
   "metadata": {},
   "outputs": [],
   "source": [
    "#Verify it\n",
    "profiles2['n_posts'].isnull().sum() == profiles2['followers'].isnull().sum() == 0"
   ]
  },
  {
   "cell_type": "code",
   "execution_count": null,
   "id": "8f4e942b-e2f2-4c5e-a321-a624513be4c0",
   "metadata": {},
   "outputs": [],
   "source": [
    "#Let's sort profiles in ascending order by followers and n_posts\n",
    "top_profiles=profiles2.sort_values(by=['followers','n_posts'], ascending=False).head(10)\n",
    "top_profiles"
   ]
  },
  {
   "cell_type": "code",
   "execution_count": null,
   "id": "b9b82c2e-ca3e-4690-82a8-ebded2dc3767",
   "metadata": {},
   "outputs": [],
   "source": [
    "#Now let's plot it\n",
    "fig, ax1 = plt.subplots(figsize=(15, 5))\n",
    "ax1.set_xlabel('Profile name')\n",
    "# plot line chart on axis #1\n",
    "ax1.bar(top_profiles['profile_name'], top_profiles['followers'], width=0.5, alpha=0.5, color='Blue')\n",
    "ax1.set_ylabel('Number of followers')\n",
    "plt.xticks(top_profiles['profile_name'], top_profiles['profile_name'], rotation='vertical')\n",
    "#ax1.set_ylim(0, 25)\n",
    "# set up the 2nd axis\n",
    "ax2 = ax1.twinx()\n",
    "\n",
    "# plot bar chart on axis #2\n",
    "ax2.bar(top_profiles['profile_name'], top_profiles['n_posts'], width=0.5, alpha=0.5, color='darkgreen', align='edge')\n",
    "ax2.grid(False) # turn off grid #2\n",
    "ax2.set_ylabel('Number of posts')\n",
    "#ax2.set_ylim(0, 90)\n",
    "fig.legend(['Followers','Posts'], loc=\"upper center\",bbox_to_anchor=(0.5, 0.3, 0.65, 0.5),fontsize='large')\n",
    "plt.show()"
   ]
  },
  {
   "cell_type": "markdown",
   "id": "0886c37c-9767-43ec-a6ef-d73420bc8ca9",
   "metadata": {
    "tags": []
   },
   "source": [
    "### Who is the most influential user?"
   ]
  },
  {
   "cell_type": "code",
   "execution_count": null,
   "id": "76846afc",
   "metadata": {},
   "outputs": [],
   "source": [
    "profiles2 = profiles[['profile_name', 'followers', 'profile_id']]"
   ]
  },
  {
   "cell_type": "code",
   "execution_count": null,
   "id": "fb03bb18-f161-4d71-a996-b94e1d4d23d6",
   "metadata": {},
   "outputs": [],
   "source": [
    "#Let's check for NaN values in 'n_posts'\n",
    "profiles2['followers'].isnull().sum()"
   ]
  },
  {
   "cell_type": "code",
   "execution_count": null,
   "id": "842df3fe-7b31-4e72-aa18-076fa41b5a1c",
   "metadata": {},
   "outputs": [],
   "source": [
    "#Let's drop them\n",
    "profiles2.dropna(inplace=True)"
   ]
  },
  {
   "cell_type": "code",
   "execution_count": null,
   "id": "acc09bdf-62a4-44c1-8fc2-6cb35ba88c3e",
   "metadata": {},
   "outputs": [],
   "source": [
    "#Let's check for NaN values in 'follower' again\n",
    "profiles2['followers'].isnull().sum()"
   ]
  },
  {
   "cell_type": "code",
   "execution_count": null,
   "id": "6553ec75-9a26-4469-b970-8fd69d772c53",
   "metadata": {},
   "outputs": [],
   "source": [
    "#Verify it\n",
    "profiles2['followers'].isnull().sum() == 0"
   ]
  },
  {
   "cell_type": "code",
   "execution_count": null,
   "id": "8d0cc32e-dbe7-4b52-9fff-9e129a777b06",
   "metadata": {},
   "outputs": [],
   "source": [
    "#Let's sort\n",
    "sorted_profile=profiles2.sort_values(by='followers', ascending=False)"
   ]
  },
  {
   "cell_type": "code",
   "execution_count": null,
   "id": "c07f18b5-25f0-4a71-ad5b-f2052ad252f0",
   "metadata": {},
   "outputs": [],
   "source": [
    "# Let's see the result\n",
    "print('The most influential user is \"',sorted_profile.head(1)['profile_name'].values[0], \n",
    "      '\" with ','{:,}'.format(int(sorted_profile.head(1)['followers'])), ' followers')"
   ]
  },
  {
   "cell_type": "markdown",
   "id": "61bd66bf-f736-44e4-a85e-aa30e2af97e8",
   "metadata": {
    "tags": []
   },
   "source": [
    "### Have they posted anything with tagged locations? Extract the most frequent areas on their posts and plot the number of times each city has been visited."
   ]
  },
  {
   "cell_type": "code",
   "execution_count": null,
   "id": "3435d0d0-f42c-4d61-b863-ad0bffdb96b1",
   "metadata": {},
   "outputs": [],
   "source": [
    "locations.head()"
   ]
  },
  {
   "cell_type": "code",
   "execution_count": null,
   "id": "b89a5251",
   "metadata": {},
   "outputs": [],
   "source": [
    "#Saving the most influential user's ID\n",
    "top_user_id=float(sorted_profile.head(1)['profile_id'])\n",
    "top_user_id"
   ]
  },
  {
   "cell_type": "code",
   "execution_count": null,
   "id": "169e6b1b-b5da-4925-9148-411d1b640973",
   "metadata": {},
   "outputs": [],
   "source": [
    "#Applying the function we already created to find all the posts of such ID\n",
    "posts_of_top_id=searchpost(top_user_id)"
   ]
  },
  {
   "cell_type": "code",
   "execution_count": null,
   "id": "653a0273-26e8-4dea-a617-95bb43e3405a",
   "metadata": {},
   "outputs": [],
   "source": [
    "posts_of_top_id.head()"
   ]
  },
  {
   "cell_type": "code",
   "execution_count": null,
   "id": "f2dc3206-6aa1-4fe9-924f-0c5febc972c3",
   "metadata": {},
   "outputs": [],
   "source": [
    "list_of_locations=[]\n",
    "df_posts_of_most_influential=pd.DataFrame(columns=['post_id','location_id'])\n",
    "for id_top in tqdm(posts_of_top_id['post_id']):\n",
    "    df_posts_of_most_influential=pd.concat([df,posts[posts.post_id == id_top]])"
   ]
  },
  {
   "cell_type": "code",
   "execution_count": null,
   "id": "95156644-c8f9-430e-b1f7-75fee290aa58",
   "metadata": {},
   "outputs": [],
   "source": [
    "df_posts_of_most_influential.head(10)"
   ]
  },
  {
   "cell_type": "code",
   "execution_count": null,
   "id": "323021fe-8b93-4f71-bc1d-626c9ab91d6e",
   "metadata": {},
   "outputs": [],
   "source": [
    "#Find locations and plot it\n"
   ]
  },
  {
   "cell_type": "code",
   "execution_count": null,
   "id": "565a1401-c7f4-499f-aa93-cd12e68c13d2",
   "metadata": {},
   "outputs": [],
   "source": []
  },
  {
   "cell_type": "markdown",
   "id": "75aea24c-1f3b-47d7-bb08-b88d7f7f6b6b",
   "metadata": {
    "tags": []
   },
   "source": [
    "### How many pictures-only posts have they published? How many reels? (only videos) and how many with both contents? Provide the number as percentages and interpret those figures."
   ]
  },
  {
   "cell_type": "code",
   "execution_count": null,
   "id": "1ef133fb-0c13-4985-b582-bf9d986086d3",
   "metadata": {},
   "outputs": [],
   "source": [
    "#We already have:\n",
    "posts_of_top_id"
   ]
  },
  {
   "cell_type": "code",
   "execution_count": null,
   "id": "7596df9f",
   "metadata": {},
   "outputs": [],
   "source": [
    "df=pd.DataFrame(columns=['post_id','post_type'])\n",
    "for id_top in posts_of_top_id['post_id'][:5]:\n",
    "    for chunk in tqdm(pd.read_csv('/Users/the_redd_/Desktop/ADM/instagram_posts.csv', \n",
    "                                    usecols=['post_id','location_id'], delimiter='\\t', chunksize=1000000)):\n",
    "        df=pd.concat([df,chunk[chunk.post_id == id_top]])\n",
    "        "
   ]
  },
  {
   "cell_type": "code",
   "execution_count": null,
   "id": "2e460a10-6468-45ac-9e9f-c4329aa66faf",
   "metadata": {},
   "outputs": [],
   "source": [
    "df"
   ]
  },
  {
   "cell_type": "markdown",
   "id": "019962ce-1872-495b-a2c7-49a9c137544e",
   "metadata": {},
   "source": [
    "### How many \"likes\" and comments did posts with only pictures receive? How about videos and mixed posts? Try to provide the average numbers and confront them with their followers amount, explaining what you can say from that comparison."
   ]
  },
  {
   "cell_type": "code",
   "execution_count": null,
   "id": "3383806a-873d-414e-92ca-8ceda5a9d336",
   "metadata": {},
   "outputs": [],
   "source": []
  },
  {
   "cell_type": "markdown",
   "id": "a2166408-b32e-4f28-aa46-2260d48a5e40",
   "metadata": {
    "jp-MarkdownHeadingCollapsed": true,
    "tags": []
   },
   "source": [
    "# [RQ6] It's time to get information from the user posting effectiveness."
   ]
  },
  {
   "cell_type": "markdown",
   "id": "c2ae003e-08d2-4e2a-9eaf-d2f4260d292b",
   "metadata": {
    "tags": []
   },
   "source": [
    "### What is the average time (days and minutes) a user lets pass before publishing another post? Plot the top 3 users that publish posts more frequently (calculate the average time that passes between posts), including their amount of followers and following. Provide insights from that chart.\n"
   ]
  },
  {
   "cell_type": "code",
   "execution_count": null,
   "id": "efc0d814-c5fb-40ff-9f11-73ce4e10db04",
   "metadata": {},
   "outputs": [],
   "source": []
  },
  {
   "cell_type": "markdown",
   "id": "097dddb2-6744-4767-a1d8-bb3c08549e83",
   "metadata": {},
   "source": [
    "### Using the function you previously coded, plot the time intervals with the highest average number of “likes” and the ones with the highest average number of comments on posts."
   ]
  },
  {
   "cell_type": "code",
   "execution_count": null,
   "id": "acf1f7fd-a9c3-46eb-a05d-3c69a0d0e4b7",
   "metadata": {},
   "outputs": [],
   "source": []
  },
  {
   "cell_type": "markdown",
   "id": "33c90096-a45d-41a9-a9ef-c03dc92d6052",
   "metadata": {
    "jp-MarkdownHeadingCollapsed": true,
    "tags": []
   },
   "source": [
    "# [RQ7] Of course, calculating probabilities is a job that any Data Scientist must know. So let's compute some engaging figures"
   ]
  },
  {
   "cell_type": "code",
   "execution_count": null,
   "id": "c9d78655-1e2f-42bb-b08c-39e4ceffdbef",
   "metadata": {},
   "outputs": [],
   "source": []
  },
  {
   "cell_type": "markdown",
   "id": "7498c9f3-9206-44a5-a2e9-b1c22f0efe9e",
   "metadata": {},
   "source": [
    "### What's the probability that a post receives more than 20% \"likes\" of the number of followers a user has?"
   ]
  },
  {
   "cell_type": "code",
   "execution_count": null,
   "id": "14a40413-858a-4e9a-9c91-0c2a9bdd870f",
   "metadata": {},
   "outputs": [],
   "source": []
  },
  {
   "cell_type": "markdown",
   "id": "ba197f62-5e0d-486b-8307-608e72aff962",
   "metadata": {},
   "source": [
    "### Do users usually return to locations? Extract the probability that a user returns to a site after having posted it in the past. Does that probability make sense to you? Explain why or why not."
   ]
  },
  {
   "cell_type": "code",
   "execution_count": null,
   "id": "41d9c296-de1d-41c1-8c08-6f22474df26b",
   "metadata": {},
   "outputs": [],
   "source": []
  },
  {
   "cell_type": "markdown",
   "id": "4941fa3f-c4cd-4c75-a377-d560be162526",
   "metadata": {
    "jp-MarkdownHeadingCollapsed": true,
    "tags": []
   },
   "source": [
    "# [RQ8] Every decision you take in a data-based environment should be reinforced with charts, statistical tests and analysis methods to check whether a hypothesis is correct or not."
   ]
  },
  {
   "cell_type": "markdown",
   "id": "640e94ab-4854-44f2-ada0-d648dddc2ade",
   "metadata": {},
   "source": [
    "### Does more “likes” also mean more comments? Plot a scatter plot of “likes” vs comments for posts?"
   ]
  },
  {
   "cell_type": "code",
   "execution_count": null,
   "id": "bb9de521-1789-4a67-8984-d90e096a447f",
   "metadata": {},
   "outputs": [],
   "source": []
  },
  {
   "cell_type": "markdown",
   "id": "44bf3e97-815e-44ec-b2f7-ed59d4b5cc4a",
   "metadata": {},
   "source": [
    "### Can you find any significant relationship between the time a user publishes a post and the number of comments and “likes”? Use an appropriate statistical test or technique and support your choice."
   ]
  },
  {
   "cell_type": "code",
   "execution_count": null,
   "id": "32531663-cfad-462a-ad15-835014e22ef1",
   "metadata": {},
   "outputs": [],
   "source": []
  },
  {
   "cell_type": "markdown",
   "id": "6e88c8cb-427a-42c5-b7e5-688690313335",
   "metadata": {},
   "source": [
    "### What’s the distribution of followers? Plot the empirical distribution of followers amongst all users and extract the mean, mode, and quantiles. Interpret those figures."
   ]
  },
  {
   "cell_type": "code",
   "execution_count": null,
   "id": "a74a5433-b13a-4336-80a7-a0ba26a25d29",
   "metadata": {},
   "outputs": [],
   "source": []
  },
  {
   "cell_type": "markdown",
   "id": "c2c561e0-ae03-47b2-9ca6-70c3727ba7e8",
   "metadata": {},
   "source": [
    "### What are histograms, bar plots, scatterplots and pie charts used for?"
   ]
  },
  {
   "cell_type": "code",
   "execution_count": null,
   "id": "b063e5f8-b3b5-4505-a724-d9c2b3d23b11",
   "metadata": {},
   "outputs": [],
   "source": []
  },
  {
   "cell_type": "markdown",
   "id": "3ad9bc9c-3575-48a2-aaa4-7c7b011a33c9",
   "metadata": {},
   "source": [
    "### What insights can you extract from a Box Plot?"
   ]
  },
  {
   "cell_type": "code",
   "execution_count": null,
   "id": "4e2238c5-6fb7-44b2-86c3-97366a42d640",
   "metadata": {},
   "outputs": [],
   "source": []
  }
 ],
 "metadata": {
  "kernelspec": {
   "display_name": "Python 3 (ipykernel)",
   "language": "python",
   "name": "python3"
  },
  "language_info": {
   "codemirror_mode": {
    "name": "ipython",
    "version": 3
   },
   "file_extension": ".py",
   "mimetype": "text/x-python",
   "name": "python",
   "nbconvert_exporter": "python",
   "pygments_lexer": "ipython3",
   "version": "3.9.7"
  }
 },
 "nbformat": 4,
 "nbformat_minor": 5
}
